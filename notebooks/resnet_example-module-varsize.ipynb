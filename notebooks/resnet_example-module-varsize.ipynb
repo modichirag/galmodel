{
 "cells": [
  {
   "cell_type": "code",
   "execution_count": 1,
   "metadata": {},
   "outputs": [
    {
     "name": "stdout",
     "output_type": "stream",
     "text": [
      "Populating the interactive namespace from numpy and matplotlib\n"
     ]
    }
   ],
   "source": [
    "import os\n",
    "os.environ[\"CUDA_VISIBLE_DEVICES\"] = \"0\"\n",
    "%pylab inline\n",
    "%load_ext autoreload\n",
    "%autoreload 2"
   ]
  },
  {
   "cell_type": "code",
   "execution_count": 15,
   "metadata": {},
   "outputs": [],
   "source": [
    "import numpy as np\n",
    "import matplotlib.pyplot as plt\n",
    "#\n",
    "import sys\n",
    "sys.path.append('../code/utils/')\n",
    "sys.path.append('../code')\n",
    "import tools\n",
    "from layers import wide_resnet\n",
    "import datalib as dlib\n",
    "import datatools as dtools\n",
    "from time import time\n",
    "#\n",
    "import tensorflow as tf\n",
    "import tensorflow.contrib.slim as slim\n",
    "from tensorflow.contrib.slim import add_arg_scope\n",
    "import tensorflow_hub as hub\n",
    "import tensorflow_probability\n",
    "import tensorflow_probability as tfp\n",
    "tfd = tensorflow_probability.distributions\n",
    "tfd = tfp.distributions\n",
    "tfb = tfp.bijectors\n",
    "\n"
   ]
  },
  {
   "cell_type": "code",
   "execution_count": 3,
   "metadata": {},
   "outputs": [],
   "source": [
    "#############################\n",
    "seed_in = 3\n",
    "from numpy.random import seed\n",
    "seed(seed_in)\n",
    "from tensorflow import set_random_seed\n",
    "set_random_seed(seed_in)\n",
    "\n",
    "bs = 400\n",
    "nc, ncf = 128, 512\n",
    "ncp = 128\n",
    "step, stepf = 5, 40\n",
    "# path = '/data2/cosmo4d/'\n",
    "path = '../data/z00/'\n",
    "ftype = 'L%04d_N%04d_S%04d_%02dstep/'\n",
    "numd = 1e-3\n",
    "num = int(numd*bs**3)\n",
    "R1 = 3\n",
    "R2 = 3*1.2\n",
    "kny = np.pi*ncp/bs\n",
    "kk = tools.fftk((ncp, ncp, ncp), bs)\n",
    "seeds = [100, 200, 300, 400]"
   ]
  },
  {
   "cell_type": "markdown",
   "metadata": {},
   "source": [
    "# Loop mehtod"
   ]
  },
  {
   "cell_type": "markdown",
   "metadata": {},
   "source": [
    "# Estimator"
   ]
  },
  {
   "cell_type": "code",
   "execution_count": 50,
   "metadata": {},
   "outputs": [
    {
     "name": "stdout",
     "output_type": "stream",
     "text": [
      "All the mesh have been generated for seed = 100\n",
      "For size =  8\n",
      "Length of targets =  1\n",
      "Supplemented by rotation :  0\n",
      "For size =  16\n",
      "Length of targets =  1\n",
      "Supplemented by rotation :  0\n",
      "For size =  32\n",
      "Length of targets =  1\n",
      "Supplemented by rotation :  0\n",
      "For size =  64\n",
      "Length of targets =  1\n",
      "Supplemented by rotation :  0\n",
      "For size =  128\n",
      "All the mesh have been generated for seed = 200\n",
      "For size =  8\n",
      "Length of targets =  1\n",
      "Supplemented by rotation :  0\n",
      "For size =  16\n",
      "Length of targets =  1\n",
      "Supplemented by rotation :  0\n",
      "For size =  32\n",
      "Length of targets =  1\n",
      "Supplemented by rotation :  0\n",
      "For size =  64\n",
      "Length of targets =  1\n",
      "Supplemented by rotation :  0\n",
      "For size =  128\n",
      "All the mesh have been generated for seed = 300\n",
      "For size =  8\n",
      "Length of targets =  1\n",
      "Supplemented by rotation :  0\n",
      "For size =  16\n",
      "Length of targets =  1\n",
      "Supplemented by rotation :  0\n",
      "For size =  32\n",
      "Length of targets =  1\n",
      "Supplemented by rotation :  0\n",
      "For size =  64\n",
      "Length of targets =  1\n",
      "Supplemented by rotation :  0\n",
      "For size =  128\n",
      "All the mesh have been generated for seed = 400\n",
      "For size =  8\n",
      "Length of targets =  1\n",
      "Supplemented by rotation :  0\n",
      "For size =  16\n",
      "Length of targets =  1\n",
      "Supplemented by rotation :  0\n",
      "For size =  32\n",
      "Length of targets =  1\n",
      "Supplemented by rotation :  0\n",
      "For size =  64\n",
      "Length of targets =  1\n",
      "Supplemented by rotation :  0\n",
      "For size =  128\n",
      "(1000, 12, 12, 12, 1) (1000, 8, 8, 8, 1)\n",
      "(500, 20, 20, 20, 1) (500, 16, 16, 16, 1)\n",
      "(248, 36, 36, 36, 1) (248, 32, 32, 32, 1)\n",
      "(124, 68, 68, 68, 1) (124, 64, 64, 64, 1)\n",
      "(4, 132, 132, 132, 1) (4, 128, 128, 128, 1)\n"
     ]
    }
   ],
   "source": [
    "cube_sizes = np.array([8, 16, 32, 64, 128])\n",
    "num_cubes= 500#(500*8/cube_sizes).astype('int')\n",
    "pad = 2\n",
    "cube_sizesft = cube_sizes + 2*pad\n",
    "max_offset = ncp - cube_sizes\n",
    "ftname = ['cic']\n",
    "nchannels = len(ftname)\n",
    "rprob = 0.5\n",
    "\n",
    "    \n",
    "    \n",
    "#############################\n",
    "##Read data and generate meshes\n",
    "meshes = {}\n",
    "cube_features, cube_target = [[] for i in range(len(cube_sizes))], [[] for i in range(len(cube_sizes))]\n",
    "\n",
    "for seed in seeds:\n",
    "    mesh = {}\n",
    "    partp = tools.readbigfile(path + ftype%(bs, nc, seed, step) + 'dynamic/1/Position/')\n",
    "    mesh['cic'] = tools.paintcic(partp, bs, ncp)\n",
    "\n",
    "    hmesh = {}\n",
    "    ##Uncomment for galaxies\n",
    "#     hpath = path + ftype%(bs, ncf, seed, stepf) + 'galaxies_n05/galcat/'\n",
    "#     hposd = tools.readbigfile(hpath + 'Position/')\n",
    "#     massd = tools.readbigfile(hpath + 'Mass/').reshape(-1)*1e10\n",
    "#     galtype = tools.readbigfile(hpath + 'gal_type/').reshape(-1).astype(bool)\n",
    "#     hmesh['pnnsat'] = tools.paintnn(hposd[galtype], bs, ncp)\n",
    "#     hmesh['pnncen'] = tools.paintnn(hposd[~galtype], bs, ncp)\n",
    "#     hmesh['pnn'] = tools.paintnn(hposd, bs, ncp)\n",
    "#     targetmesh = [hmesh['pnncen'], hmesh['pnnsat']]\n",
    "    \n",
    "    hposall = tools.readbigfile(path + ftype%(bs, ncf, seed, stepf) + 'FOF/PeakPosition/')[1:]    \n",
    "    hposd = hposall[:num].copy()\n",
    "#     massd = massall[:num].copy()\n",
    "    hmesh['pnn'] = tools.paintnn(hposd, bs, ncp)\n",
    "    targetmesh = [hmesh['pnn']]\n",
    "#     #hmesh['pcic'] = tools.paintcic(hposd, bs, nc)\n",
    "#     #hmesh['mnn'] = tools.paintnn(hposd, bs, ncp, massd)\n",
    "\n",
    "    meshes[seed] = [mesh, hmesh]\n",
    "\n",
    "    print('All the mesh have been generated for seed = %d'%seed)\n",
    "\n",
    "    #Create training voxels\n",
    "    ftlist = [mesh[i].copy() for i in ftname]\n",
    "    ftlistpad = [np.pad(i, pad, 'wrap') for i in ftlist]\n",
    "    ntarget = len(targetmesh)\n",
    "\n",
    "    for i, size in enumerate(cube_sizes):\n",
    "        print('For size = ', size)\n",
    "        if size==nc:\n",
    "            features = [np.stack(ftlistpad, axis=-1)]\n",
    "            target = [np.stack(targetmesh, axis=-1)]\n",
    "        else:\n",
    "            numcubes = int(num_cubes/size*4)\n",
    "            features, target = dtools.randomvoxels(ftlistpad, targetmesh, numcubes, max_offset[i],\n",
    "                                            size, cube_sizesft[i], seed=seed, rprob=0)\n",
    "        cube_features[i] = cube_features[i] + features\n",
    "        cube_target[i] = cube_target[i] + target\n",
    "\n",
    "# #\n",
    "for i in range(cube_sizes.size):\n",
    "    cube_target[i] = np.stack(cube_target[i],axis=0)\n",
    "    cube_features[i] = np.stack(cube_features[i],axis=0)\n",
    "    print(cube_features[i].shape, cube_target[i].shape)\n",
    "\n",
    "    \n"
   ]
  },
  {
   "cell_type": "code",
   "execution_count": 51,
   "metadata": {},
   "outputs": [],
   "source": [
    "\n",
    "def _mdn_model_fn(features, labels, n_y, n_mixture, dropout, optimizer, mode):\n",
    "\n",
    "    # Check for training mode\n",
    "    is_training = mode == tf.estimator.ModeKeys.TRAIN\n",
    "        \n",
    "    def _module_fn():\n",
    "        \"\"\"\n",
    "        Function building the module\n",
    "        \"\"\"\n",
    "    \n",
    "        feature_layer = tf.placeholder(tf.float32, shape=[None, None, None, None, nchannels], name='input')\n",
    "        obs_layer = tf.placeholder(tf.float32, shape=[None, None, None, None, n_y], name='observations')\n",
    "\n",
    "        # Builds the neural network\n",
    "        net = slim.conv3d(feature_layer, 16, 5, activation_fn=tf.nn.leaky_relu, padding='valid')\n",
    "#         net = wide_resnet(feature_layer, 8, activation_fn=tf.nn.leaky_relu, is_training=is_training)\n",
    "        net = wide_resnet(net, 16, activation_fn=tf.nn.leaky_relu, keep_prob=dropout, is_training=is_training)\n",
    "        net = wide_resnet(net, 32, activation_fn=tf.nn.leaky_relu, keep_prob=dropout, is_training=is_training)\n",
    "        net = wide_resnet(net, 32, activation_fn=tf.nn.leaky_relu, keep_prob=dropout, is_training=is_training)\n",
    "        net = slim.conv3d(net, 32, 3, activation_fn=tf.nn.tanh)\n",
    "\n",
    "        # Define the probabilistic layer \n",
    "        net = slim.conv3d(net, n_mixture*3*n_y, 1, activation_fn=None)\n",
    "        cube_size = tf.shape(obs_layer)[1]\n",
    "        net = tf.reshape(net, [-1, cube_size, cube_size, cube_size, n_y, n_mixture*3])\n",
    "#         net = tf.reshape(net, [None, None, None, None, n_y, n_mixture*3])\n",
    "        loc, unconstrained_scale, logits = tf.split(net,\n",
    "                                                    num_or_size_splits=3,\n",
    "                                                    axis=-1)\n",
    "        scale = tf.nn.softplus(unconstrained_scale)\n",
    "\n",
    "        # Form mixture of discretized logistic distributions. Note we shift the\n",
    "        # logistic distribution by -0.5. This lets the quantization capture \"rounding\"\n",
    "        # intervals, `(x-0.5, x+0.5]`, and not \"ceiling\" intervals, `(x-1, x]`.\n",
    "        discretized_logistic_dist = tfd.QuantizedDistribution(\n",
    "            distribution=tfd.TransformedDistribution(\n",
    "                distribution=tfd.Logistic(loc=loc, scale=scale),\n",
    "                bijector=tfb.AffineScalar(shift=-0.5)),\n",
    "            low=0.,\n",
    "            high=2**4 - 1.)\n",
    "\n",
    "        mixture_dist = tfd.MixtureSameFamily(\n",
    "            mixture_distribution=tfd.Categorical(logits=logits),\n",
    "            components_distribution=discretized_logistic_dist)\n",
    "\n",
    "        # Define a function for sampling, and a function for estimating the log likelihood\n",
    "        sample = tf.squeeze(mixture_dist.sample())\n",
    "        loglik = mixture_dist.log_prob(obs_layer)\n",
    "        hub.add_signature(inputs={'features':feature_layer, 'labels':obs_layer}, \n",
    "                          outputs={'sample':sample, 'loglikelihood':loglik})\n",
    "    \n",
    "\n",
    "    # Create model and register module if necessary\n",
    "    spec = hub.create_module_spec(_module_fn)\n",
    "    module = hub.Module(spec, trainable=True)\n",
    "    if isinstance(features,dict):\n",
    "        predictions = module(features, as_dict=True)\n",
    "    else:\n",
    "        predictions = module({'features':features, 'labels':labels}, as_dict=True)\n",
    "    \n",
    "    if mode == tf.estimator.ModeKeys.PREDICT:    \n",
    "        hub.register_module_for_export(module, \"likelihood\")\n",
    "        return tf.estimator.EstimatorSpec(mode=mode, predictions=predictions)\n",
    "    \n",
    "    loglik = predictions['loglikelihood']\n",
    "    # Compute and register loss function\n",
    "    neg_log_likelihood = -tf.reduce_sum(loglik, axis=-1)\n",
    "    neg_log_likelihood = tf.reduce_mean(neg_log_likelihood)\n",
    "    \n",
    "    tf.losses.add_loss(neg_log_likelihood)\n",
    "    total_loss = tf.losses.get_total_loss(add_regularization_losses=True)\n",
    "\n",
    "    train_op = None\n",
    "    eval_metric_ops = None\n",
    "\n",
    "    # Define optimizer\n",
    "    if mode == tf.estimator.ModeKeys.TRAIN:\n",
    "        update_ops = tf.get_collection(tf.GraphKeys.UPDATE_OPS)\n",
    "        with tf.control_dependencies(update_ops):\n",
    "            global_step=tf.train.get_global_step()\n",
    "            boundaries = [15000, 30000, 45000, 60000]\n",
    "            values = [0.00001, 0.000001, 0.0000001, 0.00000001, 0.00000001]\n",
    "            learning_rate = tf.train.piecewise_constant(global_step, boundaries, values)\n",
    "            train_op = optimizer(learning_rate=learning_rate).minimize(loss=total_loss, global_step=global_step)\n",
    "                                        \n",
    "        tf.summary.scalar('loss', neg_log_likelihood)\n",
    "    elif mode == tf.estimator.ModeKeys.EVAL:\n",
    "        \n",
    "        eval_metric_ops = { \"log_p\": neg_log_likelihood}\n",
    "\n",
    "    return tf.estimator.EstimatorSpec(mode=mode,\n",
    "                                      predictions=predictions,\n",
    "                                      loss=total_loss,\n",
    "                                      train_op=train_op,\n",
    "                                      eval_metric_ops=eval_metric_ops)\n",
    "\n",
    "class MDNEstimator(tf.estimator.Estimator):\n",
    "    \"\"\"An estimator for distribution estimation using Mixture Density Networks.\n",
    "    \"\"\"\n",
    "\n",
    "    def __init__(self,\n",
    "                 n_y,\n",
    "                 n_mixture,\n",
    "                 optimizer=tf.train.AdamOptimizer,\n",
    "                 dropout=None,\n",
    "                 model_dir=None,\n",
    "                 config=None):\n",
    "        \"\"\"Initializes a `MDNEstimator` instance.\n",
    "        \"\"\"\n",
    "\n",
    "        def _model_fn(features, labels, mode):\n",
    "            return _mdn_model_fn(features, labels, \n",
    "                 n_y, n_mixture, dropout,\n",
    "                                 optimizer, mode)\n",
    "\n",
    "        super(self.__class__, self).__init__(model_fn=_model_fn,\n",
    "                                             model_dir=model_dir,\n",
    "                                             config=config)"
   ]
  },
  {
   "cell_type": "code",
   "execution_count": 52,
   "metadata": {},
   "outputs": [
    {
     "name": "stdout",
     "output_type": "stream",
     "text": [
      "(1000, 12, 12, 12, 1)\n",
      "(500, 20, 20, 20, 1)\n",
      "(248, 36, 36, 36, 1)\n",
      "(124, 68, 68, 68, 1)\n",
      "(4, 132, 132, 132, 1)\n"
     ]
    }
   ],
   "source": [
    "for i in range(len(cube_features)):\n",
    "    print(cube_features[i].shape)"
   ]
  },
  {
   "cell_type": "code",
   "execution_count": 65,
   "metadata": {},
   "outputs": [],
   "source": [
    "batch_size=64\n",
    "rprob = 0.5\n",
    "\n",
    "\n",
    "def mapping_function(inds):\n",
    "    def extract_batch(inds):\n",
    "\n",
    "        isize = np.random.choice(len(cube_sizes), 1, replace=True)[0]\n",
    "        batch = int(batch_size*8/cube_sizes[isize])\n",
    "        if cube_sizes[isize]==nc : batch = 1\n",
    "        inds = inds[:batch]\n",
    "        trainingsize = cube_features[isize].shape[0]\n",
    "        inds[inds >= trainingsize] =  (inds[inds >= trainingsize])%trainingsize\n",
    "\n",
    "        features = cube_features[isize][inds].astype('float32')\n",
    "        targets = cube_target[isize][inds].astype('float32')\n",
    "\n",
    "        for i in range(batch):\n",
    "            nrotations=0\n",
    "            while (np.random.random() < rprob) & (nrotations < 3):\n",
    "                nrot, ax0, ax1 = np.random.randint(0, 3), *np.random.permutation((0, 1, 2))[:2]\n",
    "                features[i] = np.rot90(features[i], nrot, (ax0, ax1))\n",
    "                targets[i] = np.rot90(targets[i], nrot, (ax0, ax1))\n",
    "                nrotations +=1\n",
    "#             print(batch, isize, i, nrotations, targets[i].shape, targets.shape)                                                                                                                   \n",
    "# #         print(inds)                                                                                                                                                         \n",
    "        return features, targets\n",
    "\n",
    "    ft, tg = tf.py_func(extract_batch, [inds],\n",
    "                        [tf.float32, tf.float32])\n",
    "#     sft = cube_features[isize].shape                                                                                                                                          \n",
    "#     stg = cube_target[isize].shape                                                                                                                                            \n",
    "#     ft.set_shape((None,)+sft[1:])                                                                                                                                             \n",
    "#     tg.set_shape((None,)+stg[1:])                                                                                                                                             \n",
    "    return ft, tg\n",
    "\n",
    "\n",
    "def training_input_fn():\n",
    "    \"\"\"Serving input fn for training data\"\"\"\n",
    "\n",
    "    dataset = tf.data.Dataset.range(len(np.array(cube_features)[0]))\n",
    "    dataset = dataset.repeat().shuffle(1000).batch(batch_size)\n",
    "    dataset = dataset.map(mapping_function)\n",
    "    dataset = dataset.prefetch(16)\n",
    "    return dataset\n",
    "\n",
    "\n",
    "def testing_input_fn():\n",
    "    \"\"\"Serving input fn for testing data\"\"\"\n",
    "    dataset = tf.data.Dataset.range(len(cube_features))\n",
    "    dataset = dataset.batch(16)\n",
    "    dataset = dataset.map(mapping_function)\n",
    "    return dataset"
   ]
  },
  {
   "cell_type": "markdown",
   "metadata": {},
   "source": [
    "## Train"
   ]
  },
  {
   "cell_type": "code",
   "execution_count": 66,
   "metadata": {},
   "outputs": [],
   "source": [
    "# %%bash \n",
    "# rm -r savepath\n",
    "# ls ./models/galmodel"
   ]
  },
  {
   "cell_type": "code",
   "execution_count": 67,
   "metadata": {},
   "outputs": [
    {
     "name": "stdout",
     "output_type": "stream",
     "text": [
      "INFO:tensorflow:Using config: {'_model_dir': './models/galmodel/tmp/model/', '_tf_random_seed': None, '_save_summary_steps': 100, '_save_checkpoints_steps': 1000, '_save_checkpoints_secs': None, '_session_config': allow_soft_placement: true\n",
      "graph_options {\n",
      "  rewrite_options {\n",
      "    meta_optimizer_iterations: ONE\n",
      "  }\n",
      "}\n",
      ", '_keep_checkpoint_max': 5, '_keep_checkpoint_every_n_hours': 10000, '_log_step_count_steps': 100, '_train_distribute': None, '_device_fn': None, '_protocol': None, '_eval_distribute': None, '_experimental_distribute': None, '_service': None, '_cluster_spec': <tensorflow.python.training.server_lib.ClusterSpec object at 0x7f2807068a20>, '_task_type': 'worker', '_task_id': 0, '_global_id_in_cluster': 0, '_master': '', '_evaluation_master': '', '_is_chief': True, '_num_ps_replicas': 0, '_num_worker_replicas': 1}\n"
     ]
    }
   ],
   "source": [
    "savepath = './models/galmodel/tmp'\n",
    "\n",
    "run_config = tf.estimator.RunConfig(save_checkpoints_steps = 1000)\n",
    "\n",
    "model =  MDNEstimator(n_y=ntarget, n_mixture=8, dropout=0.95,\n",
    "                      model_dir=savepath + '/model/', config = run_config)\n",
    "#                       model_dir='./tmp/galmodel/model0', config = run_config)"
   ]
  },
  {
   "cell_type": "code",
   "execution_count": 68,
   "metadata": {},
   "outputs": [
    {
     "name": "stdout",
     "output_type": "stream",
     "text": [
      "INFO:tensorflow:Calling model_fn.\n"
     ]
    },
    {
     "name": "stderr",
     "output_type": "stream",
     "text": [
      "/usr/local/lib/python3.6/dist-packages/tensorflow/python/util/tf_inspect.py:75: DeprecationWarning: inspect.getargspec() is deprecated, use inspect.signature() or inspect.getfullargspec()\n",
      "  return _inspect.getargspec(target)\n"
     ]
    },
    {
     "name": "stdout",
     "output_type": "stream",
     "text": [
      "INFO:tensorflow:Saver not created because there are no variables in the graph to restore\n",
      "INFO:tensorflow:Done calling model_fn.\n",
      "INFO:tensorflow:Create CheckpointSaverHook.\n",
      "INFO:tensorflow:Graph was finalized.\n",
      "INFO:tensorflow:Restoring parameters from ./models/galmodel/tmp/model/model.ckpt-0\n",
      "INFO:tensorflow:Running local_init_op.\n",
      "INFO:tensorflow:Done running local_init_op.\n",
      "INFO:tensorflow:Saving checkpoints for 0 into ./models/galmodel/tmp/model/model.ckpt.\n",
      "INFO:tensorflow:loss = 0.43484855, step = 0\n",
      "INFO:tensorflow:Saving checkpoints for 10 into ./models/galmodel/tmp/model/model.ckpt.\n",
      "INFO:tensorflow:Loss for final step: 0.40738326.\n"
     ]
    },
    {
     "data": {
      "text/plain": [
       "<__main__.MDNEstimator at 0x7f280706a320>"
      ]
     },
     "execution_count": 68,
     "metadata": {},
     "output_type": "execute_result"
    }
   ],
   "source": [
    "model.train(training_input_fn, max_steps=10)"
   ]
  },
  {
   "cell_type": "code",
   "execution_count": 70,
   "metadata": {},
   "outputs": [
    {
     "name": "stdout",
     "output_type": "stream",
     "text": [
      "INFO:tensorflow:Calling model_fn.\n",
      "INFO:tensorflow:Saver not created because there are no variables in the graph to restore\n",
      "INFO:tensorflow:Done calling model_fn.\n",
      "INFO:tensorflow:Restoring parameters from ./models/galmodel/tmp/model/model.ckpt-10\n",
      "INFO:tensorflow:Exported TF-Hub module to: b\"./models/galmodel/tmp/module/temp-b'1546883751'/likelihood\"\n"
     ]
    }
   ],
   "source": [
    "# Trying to export\n",
    "features = tf.placeholder(tf.float32, shape=[None, None, None, None, nchannels], name='input')\n",
    "labels = tf.placeholder(tf.float32, shape=[None, None, None, None, ntarget], name='observations')\n",
    "    \n",
    "exporter = hub.LatestModuleExporter(\"tf_hub\", tf.estimator.export.build_raw_serving_input_receiver_fn({'features':features, 'labels':labels},\n",
    "                                                                   default_batch_size=None))\n",
    "\n",
    "modulepath = exporter.export(model, savepath + '/module/', model.latest_checkpoint())\n",
    "modulepath = modulepath.decode(\"utf-8\")\n"
   ]
  },
  {
   "cell_type": "markdown",
   "metadata": {},
   "source": [
    "# Testing"
   ]
  },
  {
   "cell_type": "code",
   "execution_count": 79,
   "metadata": {},
   "outputs": [
    {
     "name": "stdout",
     "output_type": "stream",
     "text": [
      "INFO:tensorflow:Saver not created because there are no variables in the graph to restore\n",
      "INFO:tensorflow:Saver not created because there are no variables in the graph to restore\n",
      "(8, 68, 68, 68, 1) (8, 64, 64, 64, 1)\n"
     ]
    }
   ],
   "source": [
    "tf.reset_default_graph()\n",
    "module = hub.Module(modulepath + '/likelihood/')\n",
    "# module = hub.Module('../code/models/galmodel/pad2/module/1546484684/likelihood/')\n",
    "xx = tf.placeholder(tf.float32, shape=[None, None, None, None, nchannels], name='input')\n",
    "yy = tf.placeholder(tf.float32, shape=[None, None, None, None, ntarget], name='labels')\n",
    "samples = module(dict(features=xx, labels=yy), as_dict=True)['sample']\n",
    "loglik = module(dict(features=xx, labels=yy), as_dict=True)['loglikelihood']\n",
    "\n",
    "with tf.Session() as sess:\n",
    "    sess.run(tf.initializers.global_variables())\n",
    "        \n",
    "    features = cube_features[3][0:8].astype('float32')\n",
    "    targets = cube_target[3][0:8].astype('float32')\n",
    "    xxm = features\n",
    "    yym = targets\n",
    "    print(xxm.shape, yym.shape)\n",
    "    preds = sess.run(samples, feed_dict={xx:xxm, yy:yym})\n",
    "        \n"
   ]
  },
  {
   "cell_type": "code",
   "execution_count": 76,
   "metadata": {},
   "outputs": [
    {
     "data": {
      "text/plain": [
       "<matplotlib.image.AxesImage at 0x7f280e885f60>"
      ]
     },
     "execution_count": 76,
     "metadata": {},
     "output_type": "execute_result"
    },
    {
     "data": {
      "image/png": "[encoded data removed]",
      "text/plain": [
       "<Figure size 432x288 with 1 Axes>"
      ]
     },
     "metadata": {
      "needs_background": "light"
     },
     "output_type": "display_data"
    }
   ],
   "source": [
    "imshow(preds[1,:,:,:].sum(axis=-1))"
   ]
  },
  {
   "cell_type": "code",
   "execution_count": 78,
   "metadata": {},
   "outputs": [
    {
     "data": {
      "text/plain": [
       "<matplotlib.image.AxesImage at 0x7f28142d2cc0>"
      ]
     },
     "execution_count": 78,
     "metadata": {},
     "output_type": "execute_result"
    },
    {
     "data": {
      "image/png": "[encoded data removed]",
      "text/plain": [
       "<Figure size 432x288 with 1 Axes>"
      ]
     },
     "metadata": {
      "needs_background": "light"
     },
     "output_type": "display_data"
    }
   ],
   "source": [
    "imshow(targets[1,:,:,:,0].sum(axis=-1))"
   ]
  },
  {
   "cell_type": "code",
   "execution_count": 82,
   "metadata": {},
   "outputs": [
    {
     "name": "stdout",
     "output_type": "stream",
     "text": [
      "INFO:tensorflow:Saver not created because there are no variables in the graph to restore\n",
      "INFO:tensorflow:Saver not created because there are no variables in the graph to restore\n"
     ]
    }
   ],
   "source": [
    "tf.reset_default_graph()\n",
    "\n",
    "module = hub.Module(modulepath + '/likelihood/')\n",
    "# module = hub.Module('../code/models/galmodel/pad2/module/1546484684/likelihood/')\n",
    "\n",
    "xx = tf.placeholder(tf.float32, shape=[None, None, None, None, nchannels], name='input')\n",
    "yy = tf.placeholder(tf.float32, shape=[None, None, None, None, ntarget], name='labels')\n",
    "samples = module(dict(features=xx, labels=yy), as_dict=True)['sample']\n",
    "loglik = module(dict(features=xx, labels=yy), as_dict=True)['loglikelihood']\n",
    "\n",
    "preds = {}\n",
    "with tf.Session() as sess:\n",
    "    sess.run(tf.initializers.global_variables())\n",
    "\n",
    "    for seed in seeds:\n",
    "        xxm = np.pad(meshes[seed][0]['cic'], pad, 'wrap')\n",
    "        xxm = np.expand_dims(np.expand_dims(xxm,  -1), 0)\n",
    "\n",
    "        yym = np.stack([meshes[seed][1]['pnn']], axis=-1)\n",
    "        yym = np.expand_dims(yym, 0)\n",
    "        preds[seed] = sess.run(samples, feed_dict={xx:xxm, yy:yym})\n",
    "        meshes[seed][0]['predict'] = preds[seed][:, :, :]\n",
    "        \n",
    "#         yym = np.stack([meshes[seed][1]['pnncen'], meshes[seed][1]['pnnsat']], axis=-1)\n",
    "#         yym = np.expand_dims(yym, 0)\n",
    "#         preds[seed] = sess.run(samples, feed_dict={xx:xxm, yy:yym})\n",
    "#         meshes[seed][0]['predictcen'] = preds[seed][:, :, :, 0]\n",
    "#         meshes[seed][0]['predictsat'] = preds[seed][:, :, :, 1]\n",
    "        \n"
   ]
  },
  {
   "cell_type": "code",
   "execution_count": 89,
   "metadata": {},
   "outputs": [
    {
     "name": "stderr",
     "output_type": "stream",
     "text": [
      "/home/chmodi/.local/lib/python3.6/site-packages/ipykernel_launcher.py:5: DeprecationWarning: Calling np.sum(generator) is deprecated, and in the future will give a different result. Use np.sum(np.from_iter(generator)) or the python sum builtin instead.\n",
      "  \"\"\"\n",
      "No handles with labels found to put in legend.\n"
     ]
    },
    {
     "data": {
      "image/png": "[encoded data removed]",
      "text/plain": [
       "<Figure size 720x360 with 2 Axes>"
      ]
     },
     "metadata": {
      "needs_background": "light"
     },
     "output_type": "display_data"
    },
    {
     "data": {
      "image/png": "[encoded data removed]",
      "text/plain": [
       "<Figure size 720x360 with 2 Axes>"
      ]
     },
     "metadata": {
      "needs_background": "light"
     },
     "output_type": "display_data"
    }
   ],
   "source": [
    "##############################\n",
    "##Power spectrum\n",
    "shape = [nc,nc,nc]\n",
    "kk = tools.fftk(shape, bs)\n",
    "kmesh = sum(i**2 for i in kk)**0.5\n",
    "\n",
    "fig, ax = plt.subplots(1, 2, figsize = (10, 5))\n",
    "for seed in seeds:\n",
    "    key = ''\n",
    "    predict, hpmeshd = meshes[seed][0]['predict%s'%key] , meshes[seed][1]['pnn%s'%key], \n",
    "    k, pkpred = tools.power(predict/predict.mean(), boxsize=bs, k=kmesh)\n",
    "    k, pkhd = tools.power(hpmeshd/hpmeshd.mean(), boxsize=bs, k=kmesh)\n",
    "    k, pkhx = tools.power(hpmeshd/hpmeshd.mean(), predict/predict.mean(), boxsize=bs, k=kmesh)    \n",
    "##\n",
    "    ax[0].semilogx(k[1:], pkpred[1:]/pkhd[1:], label=seed)\n",
    "    ax[1].semilogx(k[1:], pkhx[1:]/(pkpred[1:]*pkhd[1:])**0.5)\n",
    "    \n",
    "for axis in ax.flatten():\n",
    "    axis.legend(fontsize=14)\n",
    "    axis.set_yticks(np.arange(0, 1.1, 0.1))\n",
    "    axis.grid(which='both')\n",
    "    axis.set_ylim(0.,1.1)\n",
    "ax[0].set_ylabel('Transfer function', fontsize=14)\n",
    "ax[1].set_ylabel('Cross correlation', fontsize=14)\n",
    "plt.show()\n",
    "\n",
    "# ##################################################\n",
    "fig, ax = plt.subplots(1, 2, figsize=(10,5))\n",
    "\n",
    "key = ''\n",
    "predict, hpmeshd = meshes[seed][0]['predict%s'%key] , meshes[seed][1]['pnn%s'%key], \n",
    "vmin, vmax = 0, (hpmeshd[:, :, :].sum(axis=0)).max()\n",
    "im = ax[0].imshow(predict[:, :, :].sum(axis=0), vmin=vmin, vmax=vmax)\n",
    "im = ax[1].imshow(hpmeshd[:, :, :].sum(axis=0), vmin=vmin, vmax=vmax)\n",
    "ax[0].set_ylabel('Prediction', fontsize=15)\n",
    "ax[1].set_ylabel('Truth', fontsize=15)\n",
    "plt.show()\n"
   ]
  },
  {
   "cell_type": "code",
   "execution_count": null,
   "metadata": {},
   "outputs": [],
   "source": [
    "# ##############################\n",
    "# ##Power spectrum\n",
    "# shape = [nc,nc,nc]\n",
    "# kk = tools.fftk(shape, bs)\n",
    "# kmesh = sum(i**2 for i in kk)**0.5\n",
    "\n",
    "# fig, ax = plt.subplots(2, 3, figsize = (12, 8))\n",
    "# for seed in seeds:\n",
    "#     for i, key in enumerate(['cen', 'sat']):\n",
    "#         predict, hpmeshd = meshes[seed][0]['predict%s'%key] , meshes[seed][1]['pnn%s'%key], \n",
    "#         k, pkpred = tools.power(predict/predict.mean(), boxsize=bs, k=kmesh)\n",
    "#         k, pkhd = tools.power(hpmeshd/hpmeshd.mean(), boxsize=bs, k=kmesh)\n",
    "#         k, pkhx = tools.power(hpmeshd/hpmeshd.mean(), predict/predict.mean(), boxsize=bs, k=kmesh)    \n",
    "#     ##\n",
    "#         ax[0, i].semilogx(k[1:], pkpred[1:]/pkhd[1:], label=seed)\n",
    "#         ax[1, i].semilogx(k[1:], pkhx[1:]/(pkpred[1:]*pkhd[1:])**0.5)\n",
    "#         ax[0, i].set_title(key, fontsize=12)\n",
    "\n",
    "#     i=2\n",
    "#     predict, hpmeshd = meshes[seed][0]['predictcen']+meshes[seed][0]['predictsat'] ,\\\n",
    "#         meshes[seed][1]['pnncen']+meshes[seed][1]['pnnsat']\n",
    "#     k, pkpred = tools.power(predict/predict.mean(), boxsize=bs, k=kmesh)\n",
    "#     k, pkhd = tools.power(hpmeshd/hpmeshd.mean(), boxsize=bs, k=kmesh)\n",
    "#     k, pkhx = tools.power(hpmeshd/hpmeshd.mean(), predict/predict.mean(), boxsize=bs, k=kmesh)    \n",
    "# ##\n",
    "#     ax[0, i].semilogx(k[1:], pkpred[1:]/pkhd[1:], label=seed, ls='--')\n",
    "#     ax[1, i].semilogx(k[1:], pkhx[1:]/(pkpred[1:]*pkhd[1:])**0.5, ls='--')\n",
    "    \n",
    "# for axis in ax.flatten():\n",
    "#     axis.legend(fontsize=14)\n",
    "#     axis.set_yticks(np.arange(0, 1.1, 0.1))\n",
    "#     axis.grid(which='both')\n",
    "#     axis.set_ylim(0.,1.1)\n",
    "# ax[0, 0].set_title('All Gal', fontsize=15)\n",
    "# ax[0, 0].set_ylabel('Transfer function', fontsize=14)\n",
    "# ax[1, 0].set_ylabel('Cross correlation', fontsize=14)\n",
    "# plt.show()\n",
    "\n",
    "# # ##################################################\n",
    "# fig, ax = plt.subplots(2, 3, figsize=(12,8))\n",
    "\n",
    "# for i, key in enumerate([ 'cen', 'sat']):\n",
    "#     predict, hpmeshd = meshes[seed][0]['predict%s'%key] , meshes[seed][1]['pnn%s'%key], \n",
    "#     vmin, vmax = 0, (hpmeshd[:, :, :].sum(axis=0)).max()\n",
    "#     im = ax[0, i].imshow(predict[:, :, :].sum(axis=0), vmin=vmin, vmax=vmax)\n",
    "#     im = ax[1, i].imshow(hpmeshd[:, :, :].sum(axis=0), vmin=vmin, vmax=vmax)\n",
    "#     ax[0, i].set_title(key, fontsize=15)\n",
    "# i=2\n",
    "# predict, hpmeshd = meshes[seed][0]['predictcen']+meshes[seed][0]['predictsat'] ,\\\n",
    "#         meshes[seed][1]['pnncen']+meshes[seed][1]['pnnsat']\n",
    "# im = ax[0, i].imshow(predict[:, :, :].sum(axis=0), vmin=vmin, vmax=vmax)\n",
    "# im = ax[1, i].imshow(hpmeshd[:, :, :].sum(axis=0), vmin=vmin, vmax=vmax)\n",
    "# ax[0, 0].set_title('All Gal', fontsize=15)\n",
    "# ax[0, 0].set_ylabel('Prediction', fontsize=15)\n",
    "# ax[1, 0].set_ylabel('Truth', fontsize=15)\n",
    "# plt.show()\n"
   ]
  }
 ],
 "metadata": {
  "kernelspec": {
   "display_name": "Python 3",
   "language": "python",
   "name": "python3"
  },
  "language_info": {
   "codemirror_mode": {
    "name": "ipython",
    "version": 3
   },
   "file_extension": ".py",
   "mimetype": "text/x-python",
   "name": "python",
   "nbconvert_exporter": "python",
   "pygments_lexer": "ipython3",
   "version": "3.6.7"
  }
 },
 "nbformat": 4,
 "nbformat_minor": 2
}
