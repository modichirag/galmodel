{
 "cells": [
  {
   "cell_type": "code",
   "execution_count": 2,
   "metadata": {},
   "outputs": [
    {
     "name": "stdout",
     "output_type": "stream",
     "text": [
      "Populating the interactive namespace from numpy and matplotlib\n"
     ]
    }
   ],
   "source": [
    "import os\n",
    "os.environ[\"CUDA_VISIBLE_DEVICES\"] = \"0\"\n",
    "%pylab inline\n",
    "%load_ext autoreload\n",
    "%autoreload 2\n"
   ]
  },
  {
   "cell_type": "code",
   "execution_count": 3,
   "metadata": {},
   "outputs": [],
   "source": [
    "import numpy as np\n",
    "import matplotlib.pyplot as plt\n",
    "#\n",
    "import sys\n",
    "sys.path.append('../code/utils/')\n",
    "sys.path.append('../code')\n",
    "import tools\n",
    "from layers import wide_resnet\n",
    "#import datalib as dlib\n",
    "import datatools as dtools\n",
    "from time import time\n",
    "#\n",
    "import tensorflow as tf\n",
    "import tensorflow.contrib.slim as slim\n",
    "from tensorflow.contrib.slim import add_arg_scope\n",
    "import tensorflow_probability\n",
    "tfd = tensorflow_probability.distributions\n",
    "import tensorflow_probability as tfp\n",
    "tfb = tfp.bijectors\n",
    "slim = tf.contrib.slim\n",
    "from tensorflow.python.framework import constant_op\n",
    "\n",
    "import tensorflow_hub as hub\n",
    "tfd = tensorflow_probability.distributions\n",
    "tfd = tfp.distributions\n",
    "tfb = tfp.bijectors\n",
    "\n",
    "\n",
    "# tf.enable_eager_execution()\n",
    "\n",
    "#############################\n",
    "seed_in = 3\n",
    "from numpy.random import seed\n",
    "seed(seed_in)\n",
    "from tensorflow import set_random_seed\n",
    "set_random_seed(seed_in)\n",
    "\n",
    "bs = 400\n",
    "nc, ncf = 128, 512\n",
    "ncp = 128\n",
    "step, stepf = 5, 40\n",
    "# path = '/data2/cosmo4d/'\n",
    "path = '../data/z00//'\n",
    "\n",
    "ftype = 'L%04d_N%04d_S%04d_%02dstep/'\n",
    "ftypefpm = 'L%04d_N%04d_S%04d_%02dstep_fpm/'\n",
    "numd = 1e-3\n",
    "num = int(numd*bs**3)\n",
    "R1 = 3\n",
    "R2 = 3*1.2\n",
    "kny = np.pi*ncp/bs\n",
    "kk = tools.fftk((ncp, ncp, ncp), bs)\n",
    "seeds = [100, 200, 300, 400]\n"
   ]
  },
  {
   "cell_type": "markdown",
   "metadata": {},
   "source": [
    "# Training data set"
   ]
  },
  {
   "cell_type": "code",
   "execution_count": 4,
   "metadata": {},
   "outputs": [],
   "source": [
    "cube_sizes = np.array([16, 32, 64, 128])\n",
    "num_cubes= 500#(500*8/cube_sizes).astype('int')\n",
    "pad = 0\n",
    "cube_sizesft = cube_sizes + 2*pad\n",
    "max_offset = ncp - cube_sizes\n",
    "ftname = ['cic']\n",
    "tgname = ['pnn']\n",
    "nchannels = len(ftname)\n",
    "rprob = 0.5"
   ]
  },
  {
   "cell_type": "code",
   "execution_count": 5,
   "metadata": {},
   "outputs": [
    {
     "name": "stdout",
     "output_type": "stream",
     "text": [
      "All the mesh have been generated for seed = 100\n",
      "For size =  16\n",
      "Length of targets =  1\n",
      "Supplemented by rotation :  0\n",
      "For size =  32\n",
      "Length of targets =  1\n",
      "Supplemented by rotation :  0\n",
      "For size =  64\n",
      "Length of targets =  1\n",
      "Supplemented by rotation :  0\n",
      "For size =  128\n",
      "All the mesh have been generated for seed = 200\n",
      "For size =  16\n",
      "Length of targets =  1\n",
      "Supplemented by rotation :  0\n",
      "For size =  32\n",
      "Length of targets =  1\n",
      "Supplemented by rotation :  0\n",
      "For size =  64\n",
      "Length of targets =  1\n",
      "Supplemented by rotation :  0\n",
      "For size =  128\n",
      "All the mesh have been generated for seed = 300\n",
      "For size =  16\n",
      "Length of targets =  1\n",
      "Supplemented by rotation :  0\n",
      "For size =  32\n",
      "Length of targets =  1\n",
      "Supplemented by rotation :  0\n",
      "For size =  64\n",
      "Length of targets =  1\n",
      "Supplemented by rotation :  0\n",
      "For size =  128\n",
      "All the mesh have been generated for seed = 400\n",
      "For size =  16\n",
      "Length of targets =  1\n",
      "Supplemented by rotation :  0\n",
      "For size =  32\n",
      "Length of targets =  1\n",
      "Supplemented by rotation :  0\n",
      "For size =  64\n",
      "Length of targets =  1\n",
      "Supplemented by rotation :  0\n",
      "For size =  128\n",
      "(500, 16, 16, 16, 1) (500, 16, 16, 16, 1)\n",
      "(248, 32, 32, 32, 1) (248, 32, 32, 32, 1)\n",
      "(124, 64, 64, 64, 1) (124, 64, 64, 64, 1)\n",
      "(4, 128, 128, 128, 1) (4, 128, 128, 128, 1)\n"
     ]
    }
   ],
   "source": [
    "   \n",
    "#############################\n",
    "##Read data and generate meshes\n",
    "meshes = {}\n",
    "cube_features, cube_target = [[] for i in range(len(cube_sizes))], [[] for i in range(len(cube_sizes))]\n",
    "\n",
    "for seed in seeds:\n",
    "    mesh = {}\n",
    "    partp = tools.readbigfile(path + ftypefpm%(bs, nc, seed, step) + 'dynamic/1/Position/')\n",
    "    mesh['cic'] = tools.paintcic(partp, bs, ncp)\n",
    "    mesh['R1'] = tools.fingauss(mesh['cic'], kk, 10, kny)                                                                                                                                                                                                                                \n",
    "\n",
    "    hmesh = {}\n",
    "    ##Uncomment for galaxies\n",
    "#     hpath = path + ftype%(bs, ncf, seed, stepf) + 'galaxies_n05/galcat/'\n",
    "#     hposd = tools.readbigfile(hpath + 'Position/')\n",
    "#     massd = tools.readbigfile(hpath + 'Mass/').reshape(-1)*1e10\n",
    "#     galtype = tools.readbigfile(hpath + 'gal_type/').reshape(-1).astype(bool)\n",
    "#     hmesh['pnnsat'] = tools.paintnn(hposd[galtype], bs, ncp)\n",
    "#     hmesh['pnncen'] = tools.paintnn(hposd[~galtype], bs, ncp)\n",
    "#     hmesh['pnn'] = tools.paintnn(hposd, bs, ncp)\n",
    "#     targetmesh = [hmesh['pnncen'], hmesh['pnnsat']]\n",
    "    \n",
    "    hposall = tools.readbigfile(path + ftype%(bs, ncf, seed, stepf) + 'FOF/PeakPosition/')[1:]    \n",
    "    hposd = hposall[:num].copy()\n",
    "    hmesh['pnn'] = tools.paintnn(hposd, bs, ncp)\n",
    "    hmesh['pcic'] = tools.paintcic(hposd, bs, ncp)\n",
    "    massall = tools.readbigfile(path + ftype%(bs, ncf, seed, stepf) + 'FOF/Mass/')[1:]    \n",
    "    massd = massall[:num].copy().reshape(-1)*1e10\n",
    "    hmesh['mnn'] = tools.paintnn(hposd, bs, ncp, massd)\n",
    "    hmesh['lmnn'] = np.log(1+hmesh['mnn'])\n",
    "    targetmesh = [hmesh[tgname[0]]]\n",
    "\n",
    "    meshes[seed] = [mesh, hmesh]\n",
    "\n",
    "    print('All the mesh have been generated for seed = %d'%seed)\n",
    "\n",
    "    #Create training voxels\n",
    "    ftlist = [mesh[i].copy() for i in ftname]\n",
    "    ftlistpad = [np.pad(i, pad, 'wrap') for i in ftlist]\n",
    "    ntarget = len(targetmesh)\n",
    "\n",
    "    for i, size in enumerate(cube_sizes):\n",
    "        print('For size = ', size)\n",
    "        if size==nc:\n",
    "            features = [np.stack(ftlistpad, axis=-1)]\n",
    "            target = [np.stack(targetmesh, axis=-1)]\n",
    "        else:\n",
    "            numcubes = int(num_cubes/size*4)\n",
    "            features, target = dtools.randomvoxels(ftlistpad, targetmesh, numcubes, max_offset[i],\n",
    "                                            size, cube_sizesft[i], seed=seed, rprob=0)\n",
    "        cube_features[i] = cube_features[i] + features\n",
    "        cube_target[i] = cube_target[i] + target\n",
    "\n",
    "# #\n",
    "for i in range(cube_sizes.size):\n",
    "    cube_target[i] = np.stack(cube_target[i],axis=0)\n",
    "    cube_features[i] = np.stack(cube_features[i],axis=0)\n",
    "    print(cube_features[i].shape, cube_target[i].shape)\n",
    "\n",
    "    \n"
   ]
  },
  {
   "cell_type": "code",
   "execution_count": 6,
   "metadata": {},
   "outputs": [
    {
     "data": {
      "image/png": "[encoded data removed]",
      "text/plain": [
       "<Figure size 576x360 with 2 Axes>"
      ]
     },
     "metadata": {
      "needs_background": "light"
     },
     "output_type": "display_data"
    }
   ],
   "source": [
    "fig, ax = plt.subplots(1, nchannels+ntarget, figsize = (nchannels*4+4, 5))\n",
    "n = 10\n",
    "for i in range(nchannels):\n",
    "    ax[i].imshow(cube_features[0][n][:,:,:,i].sum(axis=0))\n",
    "    ax[i].set_title(ftname[i])\n",
    "for j in range(ntarget):\n",
    "    ax[i+j+1].imshow(cube_target[0][n][:,:,:,j].sum(axis=0))\n",
    "    ax[i+j+1].set_title('Target %d'%j)\n",
    "# ax[-1].imshow(cube_target[n][:,:,:,0].sum(axis=0))\n",
    "# ax[-1].set_title('Target')"
   ]
  },
  {
   "cell_type": "code",
   "execution_count": 7,
   "metadata": {},
   "outputs": [
    {
     "data": {
      "text/plain": [
       "4.0"
      ]
     },
     "execution_count": 7,
     "metadata": {},
     "output_type": "execute_result"
    }
   ],
   "source": [
    "cube_target[0].max()"
   ]
  },
  {
   "cell_type": "markdown",
   "metadata": {},
   "source": [
    "# Model"
   ]
  },
  {
   "cell_type": "code",
   "execution_count": 40,
   "metadata": {},
   "outputs": [],
   "source": [
    "  \n",
    "\n",
    "class Squeeze3d(tfb.Reshape):\n",
    "    \"\"\"\n",
    "    Borrowed from https://github.com/openai/glow/blob/master/tfops.py\n",
    "    \"\"\"\n",
    "    \n",
    "    def __init__(self,\n",
    "                 event_shape_in,\n",
    "                 factor=2,\n",
    "                 is_constant_jacobian=True,\n",
    "                 validate_args=False,\n",
    "                 name=None):\n",
    "\n",
    "        assert factor >= 1\n",
    "        name = name or \"squeeze\"\n",
    "        self.factor = factor\n",
    "        event_shape_out = 1*event_shape_in\n",
    "        event_shape_out[0] //=2\n",
    "        event_shape_out[1] //=2\n",
    "        event_shape_out[2] //=2\n",
    "        event_shape_out[3] *=8\n",
    "        self.event_shape_out = event_shape_out\n",
    "        \n",
    "        super(Squeeze3d, self).__init__(\n",
    "            event_shape_out=event_shape_out,\n",
    "            event_shape_in=event_shape_in,\n",
    "        validate_args=validate_args,\n",
    "        name=name)\n",
    "    \n",
    "    def _forward(self, x):        \n",
    "        if self.factor == 1:\n",
    "            return x\n",
    "        factor = self.factor\n",
    "\n",
    "        shape = tf.shape(x)\n",
    "        height = shape[1]\n",
    "        width = shape[2]\n",
    "        length = shape[3]\n",
    "        n_channels = x.get_shape()[4]\n",
    "\n",
    "#         print(height, width, length, n_channels )\n",
    "#         assert height % factor == 0 and width % factor == 0 and length % factor == 0\n",
    "        x = tf.reshape(x, [-1, height//factor, factor,\n",
    "                           width//factor, factor, length//factor, factor, n_channels])\n",
    "        x = tf.transpose(x, [0, 1, 3, 5, 7, 2, 4, 6])\n",
    "        x = tf.reshape(x, [-1, height//factor, width//factor, \n",
    "                               length//factor, n_channels*factor**3])\n",
    "        return x\n",
    "    \n",
    "    def _inverse(self, x):        \n",
    "        if self.factor == 1:\n",
    "            return x\n",
    "        factor = self.factor\n",
    "\n",
    "        shape = tf.shape(x)\n",
    "        height = shape[1]\n",
    "        width = shape[2]\n",
    "        length = shape[3]\n",
    "        n_channels = int(x.get_shape()[4])\n",
    "        \n",
    "#         print(height, width, length, n_channels )\n",
    "        assert n_channels >= 8 and n_channels % 8 == 0\n",
    "        x = tf.reshape(\n",
    "            x, [-1, height, width, length, int(n_channels/factor**3), factor, factor, factor])\n",
    "        x = tf.transpose(x, [0, 1, 5, 2, 6, 3, 7, 4])\n",
    "        x = tf.reshape(x, (-1, height*factor,\n",
    "                           width*factor, height*factor, int(n_channels/factor**3)))\n",
    "        return x\n",
    "    \n",
    "\n",
    "    \n"
   ]
  },
  {
   "cell_type": "code",
   "execution_count": 41,
   "metadata": {},
   "outputs": [],
   "source": [
    "# n = 4\n",
    "# tmp = tf.constant(np.arange(n**3).reshape(1, n, n, n, 1))\n",
    "# sq = Squeeze3d([n, n, n, 1])\n",
    "# tmp2 = sq.forward(tmp)\n",
    "# tmp2.shape\n",
    "# tmp3 = sq.inverse(tmp2)\n",
    "# tmp3 - tmp"
   ]
  },
  {
   "cell_type": "code",
   "execution_count": 42,
   "metadata": {},
   "outputs": [],
   "source": [
    "from layers import wide_resnet\n",
    "h = 0.1\n",
    "\n",
    "\n",
    "class iRevNetsimple(tfb.Bijector):\n",
    "\n",
    "    def __init__(self,\n",
    "       h=0.1,\n",
    "       is_constant_jacobian=True,\n",
    "       validate_args=False,\n",
    "       name=None, kernel_size=3):\n",
    "        self.h = h\n",
    "        self.kernel_size = kernel_size\n",
    "        name = name or \"revnet\"\n",
    "        super(iRevNetsimple, self).__init__(\n",
    "        forward_min_event_ndims=3,\n",
    "        is_constant_jacobian=is_constant_jacobian,\n",
    "        validate_args=validate_args,\n",
    "        name=name)\n",
    "        \n",
    "    def _forward(self, x):\n",
    "        # Split the input in half\n",
    "        x1, x2 = tf.split(x, num_or_size_splits=2, axis=-1)\n",
    "        fx2 = tf.layers.conv3d(x2, x2.shape[-1], self.kernel_size,  strides=1, #training=True, \n",
    "                          name=self.name+'/bottle', \n",
    "                               reuse=tf.AUTO_REUSE, padding='same' )\n",
    "#         fx2 = wide_resnet(x2, x2.shape[-1],  #training=True, \n",
    "#                           scope=self.name+'/bottle')\n",
    "#         fx2 = tf.identity(x2)\n",
    "        y1 = x1 + self.h*fx2\n",
    "        return tf.concat([x2, y1], axis=-1)\n",
    "    \n",
    "    def _inverse(self, x, kernel_size=3):\n",
    "        x2, y1 = tf.split(x, num_or_size_splits=2, axis=-1)\n",
    "        Fx2 = - self.h*tf.layers.conv3d(x2, x2.shape[-1], self.kernel_size, strides=1, #training=True, \n",
    "                                   name=self.name+'/bottle', \n",
    "                                        reuse=tf.AUTO_REUSE , padding='same' )\n",
    "#         Fx2 = - self.h*wide_resnet(x2, x2.shape[-1], scope=self.name+'/bottle', )\n",
    "        x1 = Fx2 + y1\n",
    "        return tf.concat([x1, x2], axis=-1)\n",
    "\n",
    "    def _inverse_log_det_jacobian(self, y):\n",
    "        return constant_op.constant(0., x.dtype.base_dtype)\n",
    "\n",
    "    def _forward_log_det_jacobian(self, x):     \n",
    "        return constant_op.constant(0., x.dtype.base_dtype)"
   ]
  },
  {
   "cell_type": "code",
   "execution_count": 43,
   "metadata": {},
   "outputs": [],
   "source": [
    "\n",
    "# tf.reset_default_graph()\n",
    "\n",
    "\n",
    "# # feature_layer = tf.placeholder(tf.float32, shape=[None, cube_sizeft,  cube_sizeft,  cube_sizeft,  nchannels], name='input')\n",
    "# feature_layer = tf.placeholder(tf.float32, shape=[None, None,  None,  None,  nchannels], name='input')\n",
    "# # chain = tfb.Chain([tfb.Invert(Squeeze3d(event_shape_in=[cube_size, cube_size, cube_size, nchannels])),\n",
    "# #            iRevNetsimple(name='layer1',h=h),\n",
    "# #            iRevNetsimple(name='layer1b',h=h),\n",
    "# #            tfb.Permute(arange(8)[::-1],axis=-1),\n",
    "# #            iRevNetsimple(name='layer3',h=h),\n",
    "# #            iRevNetsimple(name='layer3b',h=h),\n",
    "# #            tfb.Invert(Squeeze3d(event_shape_in=[cube_size//2,cube_size//2,cube_size//2,nchannels*8])), \n",
    "# #            iRevNetsimple(name='layer11',h=h),\n",
    "# #            iRevNetsimple(name='layer11b',h=h),\n",
    "# #            Squeeze3d(event_shape_in=[cube_size//2,cube_size//2,cube_size//2,nchannels*8]), \n",
    "# #            iRevNetsimple(name='layer13',h=h),\n",
    "# #            iRevNetsimple(name='layer13b',h=h),\n",
    "# #            tfb.Permute(arange(8)[::-1],axis=-1),\n",
    "# #            iRevNetsimple(name='layer15',h=h),\n",
    "# #            iRevNetsimple(name='layer15b',h=h),\n",
    "# #            Squeeze3d(event_shape_in=[cube_size, cube_size, cube_size, nchannels])])\n",
    "# # chain = tfb.Chain([Squeeze3d(event_shape_in=[cube_size, cube_size, cube_size, nchannels])])\n",
    "\n",
    "# bijection = chain\n",
    "\n",
    "# net = bijection.forward(feature_layer)\n",
    "# net2 = bijection.inverse(net+0)\n",
    "\n",
    "\n",
    "# with tf.Session() as sess:\n",
    "#     sess.run(tf.initializers.global_variables())\n",
    "#     pred = sess.run([net, net2], {feature_layer:cube_features[0][:1]})\n",
    "# #     pred = sess.run(net, {feature_layer:cube_features[1][:2]})\n",
    "    \n",
    "# # diff = (abs(pred[1] - cube_features[0][:2])/cube_features[0][:2])\n",
    "# diff = (abs(pred[1] - cube_features[0][:1]))\n",
    "# diff[~np.isnan(diff)].max()"
   ]
  },
  {
   "cell_type": "code",
   "execution_count": 44,
   "metadata": {},
   "outputs": [],
   "source": [
    "# pred0 = np.squeeze(pred[0])\n",
    "\n",
    "# plt.figure(figsize=(8, 4))\n",
    "# for i in range(8):\n",
    "#     ax = plt.subplot(2,4,i+1, )\n",
    "#     ax.imshow(pred0[...,i].sum(axis=0))\n",
    "# plt.show()\n",
    "# plt.imshow(cube_features[0][0,...,0].sum(axis=0))\n",
    "# plt.show()\n"
   ]
  },
  {
   "cell_type": "code",
   "execution_count": 64,
   "metadata": {},
   "outputs": [],
   "source": [
    "softplus = False\n",
    "loss = 'l2'\n",
    "\n",
    "# def _mdn_model_fn(features, labels, n_y, n_mixture, cube_size, dropout, optimizer, mode):\n",
    "def _mdn_model_fn(features, labels, n_y, nchannels, dropout, optimizer, mode, ):\n",
    "\n",
    "    # Check for training mode\n",
    "    is_training = mode == tf.estimator.ModeKeys.TRAIN\n",
    "        \n",
    "    def _module_fn():\n",
    "        \"\"\"\n",
    "        Function building the module\n",
    "        \"\"\"\n",
    "    \n",
    "        feature_layer = tf.placeholder(tf.float32, shape=[None, None, None, None, nchannels], name='input')\n",
    "        obs_layer = tf.placeholder(tf.float32, shape=[None, None, None, None, n_y], name='observations')\n",
    "        shift = tf.Variable(1., dtype=tf.float32, name='shift')\n",
    "        scale = tf.Variable(1., dtype=tf.float32, name='scale')\n",
    "        # Builds the neural network\n",
    "        # ! ny and nchannel need to be the same\n",
    "\n",
    "        cube_size = tf.shape(feature_layer)[1]\n",
    "#         print(cube_size)\n",
    "        chain = tfb.Chain([tfp.bijectors.Affine(shift=shift, scale_identity_multiplier=scale), \n",
    "                    tfb.Invert(Squeeze3d(event_shape_in=[cube_size, cube_size, cube_size, nchannels])),\n",
    "                   iRevNetsimple(name='layer1',h=h),\n",
    "                   iRevNetsimple(name='layer1b',h=h),\n",
    "                   iRevNetsimple(name='layer2',h=h),\n",
    "                   iRevNetsimple(name='layer2b',h=h),\n",
    "                   tfb.Permute(arange(8)[::-1],axis=-1),\n",
    "                   iRevNetsimple(name='layer3',h=h),\n",
    "                   iRevNetsimple(name='layer3b',h=h),\n",
    "                   iRevNetsimple(name='layer4',h=h),\n",
    "                   iRevNetsimple(name='layer4b',h=h),\n",
    "                   tfb.Invert(Squeeze3d(event_shape_in=[cube_size//2,cube_size//2,cube_size//2,nchannels*8])), \n",
    "                   iRevNetsimple(name='layer5',h=h),\n",
    "                   iRevNetsimple(name='layer5b',h=h),\n",
    "                   iRevNetsimple(name='layer6',h=h),\n",
    "                   iRevNetsimple(name='layer6b',h=h),\n",
    "                   tfb.Permute(arange(64)[::-1],axis=-1),\n",
    "                   iRevNetsimple(name='layer7',h=h),\n",
    "                   iRevNetsimple(name='layer7b',h=h),\n",
    "                   iRevNetsimple(name='layer8',h=h),\n",
    "                   iRevNetsimple(name='layer8b',h=h),\n",
    "                   tfb.Invert(Squeeze3d(event_shape_in=[cube_size//4,cube_size//4,cube_size//4,nchannels*64])), \n",
    "                   iRevNetsimple(name='layer9',h=h, kernel_size=1),\n",
    "                   iRevNetsimple(name='layer9b',h=h, kernel_size=1),\n",
    "                   iRevNetsimple(name='layer10',h=h, kernel_size=1),\n",
    "                   iRevNetsimple(name='layer10b',h=h, kernel_size=1),\n",
    "                   tfb.Permute(arange(64*8)[::-1],axis=-1),\n",
    "                   iRevNetsimple(name='layer11',h=h, kernel_size=1),\n",
    "                   iRevNetsimple(name='layer11b',h=h, kernel_size=1),\n",
    "                   iRevNetsimple(name='layer12',h=h, kernel_size=1),\n",
    "                   iRevNetsimple(name='layer12b',h=h, kernel_size=1),\n",
    "                   Squeeze3d(event_shape_in=[cube_size//4,cube_size//4,cube_size//4,nchannels*64]), \n",
    "                   iRevNetsimple(name='layer13',h=h),\n",
    "                   iRevNetsimple(name='layer13b',h=h),\n",
    "                   iRevNetsimple(name='layer14',h=h),\n",
    "                   iRevNetsimple(name='layer14b',h=h),\n",
    "                   tfb.Permute(arange(64)[::-1],axis=-1),\n",
    "                   iRevNetsimple(name='layer15',h=h),\n",
    "                   iRevNetsimple(name='layer15b',h=h),\n",
    "                   iRevNetsimple(name='layer16',h=h),\n",
    "                   iRevNetsimple(name='layer16b',h=h),\n",
    "                   Squeeze3d(event_shape_in=[cube_size//2,cube_size//2,cube_size//2,nchannels*8]), \n",
    "                   iRevNetsimple(name='layer17',h=h),\n",
    "                   iRevNetsimple(name='layer17b',h=h),\n",
    "                   iRevNetsimple(name='layer18',h=h),\n",
    "                   iRevNetsimple(name='layer18b',h=h),\n",
    "                   tfb.Permute(arange(8)[::-1],axis=-1),\n",
    "                   iRevNetsimple(name='layer19',h=h),\n",
    "                   iRevNetsimple(name='layer19b',h=h),\n",
    "                   iRevNetsimple(name='layer20',h=h),\n",
    "                   iRevNetsimple(name='layer20b',h=h),\n",
    "                   Squeeze3d(event_shape_in=[cube_size, cube_size, cube_size, nchannels])])\n",
    "\n",
    "        bijection = chain\n",
    "        \n",
    "        # Define the probabilistic layer \n",
    "#         net = bijection.forward(feature_layer, name='lambda')\n",
    "# #         net = tf.nn.softplus(net, name='lambda') \n",
    "# #         net = tf.nn.relu(net, name='lambda') + 1e-3\n",
    "#         dist = tfd.Poisson(net+1e-3)\n",
    "        \n",
    "#         sample = tf.squeeze(dist.sample())\n",
    "# #         loglik = dist.log_prob(obs_layer+1)\n",
    "#         loglik = dist.log_prob(obs_layer)\n",
    "        \n",
    "# #         l2 = tf.losses.mean_squared_error(obs_layer, net)\n",
    "# #         l2 = tf.identity(l2, name='l2')\n",
    "#         l2 = tf.reduce_mean(tf.square(tf.subtract(obs_layer, net)))\n",
    "# #         l2 = tf.reduce_mean(tf.square(tf.subtract(feature_layer, net)))\n",
    "#         l1 = tf.reduce_mean(tf.abs(tf.subtract(obs_layer, net)))\n",
    "    \n",
    "#         hub.add_signature(inputs={'features':feature_layer, 'labels':obs_layer}, \n",
    "#                           outputs={'sample':sample, 'loglikelihood':loglik, 'lambda':net, \n",
    "#                                    'l2':l2, 'l1':l1})\n",
    "    \n",
    "#     # Create model and register module if necessary\n",
    "#     spec = hub.create_module_spec(_module_fn)\n",
    "#     module = hub.Module(spec, trainable=True)\n",
    "#     if isinstance(features,dict):\n",
    "#         predictions = module(features, as_dict=True)\n",
    "#     else:\n",
    "#         predictions = module({'features':features, 'labels':labels}, as_dict=True)\n",
    "    \n",
    "#     if mode == tf.estimator.ModeKeys.PREDICT:    \n",
    "#         hub.register_module_for_export(module, \"likelihood\")\n",
    "#         return tf.estimator.EstimatorSpec(mode=mode, predictions=predictions)\n",
    "    \n",
    "# #     loglik = predictions['loglikelihood']\n",
    "# #     ##Compute and register loss function\n",
    "# #     neg_log_likelihood = -tf.reduce_sum(loglik, axis=-1)\n",
    "# #     neg_log_likelihood = tf.reduce_mean(neg_log_likelihood)\n",
    "\n",
    "# #     neg_log_likelihood = predictions['l2']\n",
    "#     neg_log_likelihood = predictions['l1']\n",
    "    \n",
    "        net = bijection.forward(feature_layer, name='lambda')\n",
    "        if softplus:\n",
    "            net = tf.nn.softplus(net)\n",
    "        dist = tfd.Poisson(net+1e-3)\n",
    "\n",
    "        sample = tf.squeeze(dist.sample())                                                                                                                                                                                                                                             \n",
    "        loglik = dist.log_prob(obs_layer)\n",
    "\n",
    "        l2 = tf.reduce_mean(tf.square(tf.subtract(obs_layer, net)))\n",
    "        l1 = tf.reduce_mean(tf.abs(tf.subtract(obs_layer, net)))\n",
    "\n",
    "        hub.add_signature(inputs={'features':feature_layer, 'labels':obs_layer},\n",
    "                      outputs={'sample':sample, 'loglikelihood':loglik, 'lambda':net,\n",
    "                               'l2':l2, 'l1':l1 })\n",
    "    \n",
    "\n",
    "    # Create model and register module if necessary                                                                                                                                                                                                                                       \n",
    "    spec = hub.create_module_spec(_module_fn)\n",
    "    module = hub.Module(spec, trainable=True)\n",
    "    if isinstance(features,dict):\n",
    "        predictions = module(features, as_dict=True)\n",
    "    else:\n",
    "        predictions = module({'features':features, 'labels':labels}, as_dict=True)\n",
    "\n",
    "    if mode == tf.estimator.ModeKeys.PREDICT:\n",
    "        hub.register_module_for_export(module, \"likelihood\")\n",
    "        return tf.estimator.EstimatorSpec(mode=mode, predictions=predictions)\n",
    "\n",
    "\n",
    "    if loss == 'loglikelihood':\n",
    "         loglik = predictions['loglikelihood']\n",
    "         neg_log_likelihood = -tf.reduce_sum(loglik, axis=-1)\n",
    "         neg_log_likelihood = tf.reduce_mean(neg_log_likelihood)\n",
    "\n",
    "    elif loss == 'l2':\n",
    "        neg_log_likelihood = predictions['l2']\n",
    "    elif loss == 'l1':\n",
    "        neg_log_likelihood = predictions['l1']\n",
    "    else:\n",
    "        print('Loss not specified')\n",
    "\n",
    "\n",
    "        \n",
    "    tf.losses.add_loss(neg_log_likelihood)\n",
    "    total_loss = tf.losses.get_total_loss(add_regularization_losses=True)\n",
    "\n",
    "    train_op = None\n",
    "    eval_metric_ops = None\n",
    "\n",
    "    # Define optimizer\n",
    "    if mode == tf.estimator.ModeKeys.TRAIN:\n",
    "        update_ops = tf.get_collection(tf.GraphKeys.UPDATE_OPS)\n",
    "        with tf.control_dependencies(update_ops):\n",
    "            train_op = optimizer(learning_rate=0.0001).minimize(loss=total_loss,\n",
    "                                        global_step=tf.train.get_global_step())\n",
    "        tf.summary.scalar('loss', neg_log_likelihood)\n",
    "    elif mode == tf.estimator.ModeKeys.EVAL:\n",
    "        \n",
    "        eval_metric_ops = { \"log_p\": neg_log_likelihood}\n",
    "\n",
    "    return tf.estimator.EstimatorSpec(mode=mode,\n",
    "                                      predictions=predictions,\n",
    "                                      loss=total_loss,\n",
    "                                      train_op=train_op,\n",
    "                                      eval_metric_ops=eval_metric_ops)\n",
    "\n",
    "class MDNEstimator(tf.estimator.Estimator):\n",
    "    \"\"\"An estimator for distribution estimation using Mixture Density Networks.\n",
    "    \"\"\"\n",
    "\n",
    "    def __init__(self,\n",
    "                 n_y,\n",
    "                 nchannels,\n",
    "#                  cube_size,\n",
    "                 optimizer=tf.train.AdamOptimizer,\n",
    "                 dropout=None,\n",
    "                 model_dir=None,\n",
    "                 config=None):\n",
    "        \"\"\"Initializes a `MDNEstimator` instance.\n",
    "        \"\"\"\n",
    "\n",
    "        def _model_fn(features, labels, mode):\n",
    "            return _mdn_model_fn(features, labels, \n",
    "                 n_y, nchannels, #cube_size, \n",
    "                        dropout, optimizer, mode)\n",
    "\n",
    "        super(self.__class__, self).__init__(model_fn=_model_fn,\n",
    "                                             model_dir=model_dir,\n",
    "                                             config=config)"
   ]
  },
  {
   "cell_type": "code",
   "execution_count": 65,
   "metadata": {},
   "outputs": [
    {
     "data": {
      "text/plain": [
       "0.1"
      ]
     },
     "execution_count": 65,
     "metadata": {},
     "output_type": "execute_result"
    }
   ],
   "source": [
    "h"
   ]
  },
  {
   "cell_type": "code",
   "execution_count": 66,
   "metadata": {},
   "outputs": [],
   "source": [
    "batch_size = 32\n",
    "\n",
    "def mapping_function(inds):\n",
    "    def extract_batch(inds):\n",
    "\n",
    "        isize = np.random.choice(len(cube_sizes), 1, replace=True)[0]\n",
    "        batch = int(batch_size*8/cube_sizes[isize])\n",
    "        if cube_sizes[isize]==nc : batch = 1\n",
    "        inds = inds[:batch]\n",
    "        trainingsize = cube_features[isize].shape[0]\n",
    "        inds[inds >= trainingsize] =  (inds[inds >= trainingsize])%trainingsize\n",
    "\n",
    "        features = cube_features[isize][inds].astype('float32')\n",
    "        targets = cube_target[isize][inds].astype('float32')\n",
    "\n",
    "        for i in range(batch):\n",
    "            nrotations=0\n",
    "            while (np.random.random() < rprob) & (nrotations < 3):\n",
    "                nrot, ax0, ax1 = np.random.randint(0, 3), *np.random.permutation((0, 1, 2))[:2]\n",
    "                features[i] = np.rot90(features[i], nrot, (ax0, ax1))\n",
    "                targets[i] = np.rot90(targets[i], nrot, (ax0, ax1))\n",
    "                nrotations +=1\n",
    "#             print(batch, isize, i, nrotations, targets[i].shape, targets.shape)                                                                                                                   \n",
    "# #         print(inds)                                                                                                                                                         \n",
    "        return features, targets\n",
    "\n",
    "    ft, tg = tf.py_func(extract_batch, [inds],\n",
    "                        [tf.float32, tf.float32])\n",
    "#     sft = cube_features[isize].shape                                                                                                                                          \n",
    "#     stg = cube_target[isize].shape                                                                                                                                            \n",
    "#     ft.set_shape((None,)+sft[1:])                                                                                                                                             \n",
    "#     tg.set_shape((None,)+stg[1:])                                                                                                                                             \n",
    "    return ft, tg\n",
    "\n",
    "\n",
    "def training_input_fn():\n",
    "    \"\"\"Serving input fn for training data\"\"\"\n",
    "\n",
    "    dataset = tf.data.Dataset.range(len(np.array(cube_features)[0]))\n",
    "    dataset = dataset.repeat().shuffle(1000).batch(batch_size)\n",
    "    dataset = dataset.map(mapping_function)\n",
    "    dataset = dataset.prefetch(16)\n",
    "    return dataset\n",
    "\n",
    "\n",
    "def testing_input_fn():\n",
    "    \"\"\"Serving input fn for testing data\"\"\"\n",
    "    dataset = tf.data.Dataset.range(len(cube_features))\n",
    "    dataset = dataset.batch(16)\n",
    "    dataset = dataset.map(mapping_function)\n",
    "    return dataset"
   ]
  },
  {
   "cell_type": "code",
   "execution_count": 86,
   "metadata": {},
   "outputs": [
    {
     "name": "stdout",
     "output_type": "stream",
     "text": [
      "INFO:tensorflow:Using config: {'_model_dir': './models/n10/rev-nn-l2//model/', '_tf_random_seed': None, '_save_summary_steps': 100, '_save_checkpoints_steps': 10000, '_save_checkpoints_secs': None, '_session_config': allow_soft_placement: true\n",
      "graph_options {\n",
      "  rewrite_options {\n",
      "    meta_optimizer_iterations: ONE\n",
      "  }\n",
      "}\n",
      ", '_keep_checkpoint_max': 5, '_keep_checkpoint_every_n_hours': 10000, '_log_step_count_steps': 100, '_train_distribute': None, '_device_fn': None, '_protocol': None, '_eval_distribute': None, '_experimental_distribute': None, '_service': None, '_cluster_spec': <tensorflow.python.training.server_lib.ClusterSpec object at 0x7fb6913b2f60>, '_task_type': 'worker', '_task_id': 0, '_global_id_in_cluster': 0, '_master': '', '_evaluation_master': '', '_is_chief': True, '_num_ps_replicas': 0, '_num_worker_replicas': 1}\n"
     ]
    }
   ],
   "source": [
    "savepath = './models/n10/rev-nn-l2/'\n",
    "\n",
    "run_config = tf.estimator.RunConfig(save_checkpoints_steps = 10000)\n",
    "\n",
    "model =  MDNEstimator(n_y=ntarget, nchannels=nchannels, dropout=0.95,\n",
    "                      model_dir=savepath + '/model/', config = run_config)\n",
    "#                       model_dir='./tmp/galmodel/model0', config = run_config)"
   ]
  },
  {
   "cell_type": "markdown",
   "metadata": {},
   "source": [
    "# Train"
   ]
  },
  {
   "cell_type": "code",
   "execution_count": 88,
   "metadata": {},
   "outputs": [
    {
     "name": "stdout",
     "output_type": "stream",
     "text": [
      "model\n",
      "module\n"
     ]
    }
   ],
   "source": [
    "%%bash \n",
    "\n",
    "ls ./models/n10/rev-nn-l2//\n",
    "# rm -r ./models/n10/tmp5/*\n"
   ]
  },
  {
   "cell_type": "code",
   "execution_count": 89,
   "metadata": {},
   "outputs": [
    {
     "name": "stdout",
     "output_type": "stream",
     "text": [
      "INFO:tensorflow:Calling model_fn.\n"
     ]
    },
    {
     "name": "stderr",
     "output_type": "stream",
     "text": [
      "/usr/local/lib/python3.6/dist-packages/tensorflow/python/util/tf_inspect.py:75: DeprecationWarning: inspect.getargspec() is deprecated, use inspect.signature() or inspect.getfullargspec()\n",
      "  return _inspect.getargspec(target)\n"
     ]
    },
    {
     "name": "stdout",
     "output_type": "stream",
     "text": [
      "INFO:tensorflow:Saver not created because there are no variables in the graph to restore\n",
      "Loss not specified\n"
     ]
    },
    {
     "ename": "UnboundLocalError",
     "evalue": "local variable 'neg_log_likelihood' referenced before assignment",
     "output_type": "error",
     "traceback": [
      "\u001b[0;31m---------------------------------------------------------------------------\u001b[0m",
      "\u001b[0;31mUnboundLocalError\u001b[0m                         Traceback (most recent call last)",
      "\u001b[0;32m<ipython-input-89-5a9d7c120547>\u001b[0m in \u001b[0;36m<module>\u001b[0;34m\u001b[0m\n\u001b[0;32m----> 1\u001b[0;31m \u001b[0mmodel\u001b[0m\u001b[0;34m.\u001b[0m\u001b[0mtrain\u001b[0m\u001b[0;34m(\u001b[0m\u001b[0mtraining_input_fn\u001b[0m\u001b[0;34m,\u001b[0m \u001b[0mmax_steps\u001b[0m\u001b[0;34m=\u001b[0m\u001b[0;36m30000\u001b[0m\u001b[0;34m)\u001b[0m\u001b[0;34m\u001b[0m\u001b[0;34m\u001b[0m\u001b[0m\n\u001b[0m",
      "\u001b[0;32m/usr/local/lib/python3.6/dist-packages/tensorflow/python/estimator/estimator.py\u001b[0m in \u001b[0;36mtrain\u001b[0;34m(self, input_fn, hooks, steps, max_steps, saving_listeners)\u001b[0m\n\u001b[1;32m    354\u001b[0m \u001b[0;34m\u001b[0m\u001b[0m\n\u001b[1;32m    355\u001b[0m       \u001b[0msaving_listeners\u001b[0m \u001b[0;34m=\u001b[0m \u001b[0m_check_listeners_type\u001b[0m\u001b[0;34m(\u001b[0m\u001b[0msaving_listeners\u001b[0m\u001b[0;34m)\u001b[0m\u001b[0;34m\u001b[0m\u001b[0;34m\u001b[0m\u001b[0m\n\u001b[0;32m--> 356\u001b[0;31m       \u001b[0mloss\u001b[0m \u001b[0;34m=\u001b[0m \u001b[0mself\u001b[0m\u001b[0;34m.\u001b[0m\u001b[0m_train_model\u001b[0m\u001b[0;34m(\u001b[0m\u001b[0minput_fn\u001b[0m\u001b[0;34m,\u001b[0m \u001b[0mhooks\u001b[0m\u001b[0;34m,\u001b[0m \u001b[0msaving_listeners\u001b[0m\u001b[0;34m)\u001b[0m\u001b[0;34m\u001b[0m\u001b[0;34m\u001b[0m\u001b[0m\n\u001b[0m\u001b[1;32m    357\u001b[0m       \u001b[0mlogging\u001b[0m\u001b[0;34m.\u001b[0m\u001b[0minfo\u001b[0m\u001b[0;34m(\u001b[0m\u001b[0;34m'Loss for final step: %s.'\u001b[0m\u001b[0;34m,\u001b[0m \u001b[0mloss\u001b[0m\u001b[0;34m)\u001b[0m\u001b[0;34m\u001b[0m\u001b[0;34m\u001b[0m\u001b[0m\n\u001b[1;32m    358\u001b[0m       \u001b[0;32mreturn\u001b[0m \u001b[0mself\u001b[0m\u001b[0;34m\u001b[0m\u001b[0;34m\u001b[0m\u001b[0m\n",
      "\u001b[0;32m/usr/local/lib/python3.6/dist-packages/tensorflow/python/estimator/estimator.py\u001b[0m in \u001b[0;36m_train_model\u001b[0;34m(self, input_fn, hooks, saving_listeners)\u001b[0m\n\u001b[1;32m   1179\u001b[0m       \u001b[0;32mreturn\u001b[0m \u001b[0mself\u001b[0m\u001b[0;34m.\u001b[0m\u001b[0m_train_model_distributed\u001b[0m\u001b[0;34m(\u001b[0m\u001b[0minput_fn\u001b[0m\u001b[0;34m,\u001b[0m \u001b[0mhooks\u001b[0m\u001b[0;34m,\u001b[0m \u001b[0msaving_listeners\u001b[0m\u001b[0;34m)\u001b[0m\u001b[0;34m\u001b[0m\u001b[0;34m\u001b[0m\u001b[0m\n\u001b[1;32m   1180\u001b[0m     \u001b[0;32melse\u001b[0m\u001b[0;34m:\u001b[0m\u001b[0;34m\u001b[0m\u001b[0;34m\u001b[0m\u001b[0m\n\u001b[0;32m-> 1181\u001b[0;31m       \u001b[0;32mreturn\u001b[0m \u001b[0mself\u001b[0m\u001b[0;34m.\u001b[0m\u001b[0m_train_model_default\u001b[0m\u001b[0;34m(\u001b[0m\u001b[0minput_fn\u001b[0m\u001b[0;34m,\u001b[0m \u001b[0mhooks\u001b[0m\u001b[0;34m,\u001b[0m \u001b[0msaving_listeners\u001b[0m\u001b[0;34m)\u001b[0m\u001b[0;34m\u001b[0m\u001b[0;34m\u001b[0m\u001b[0m\n\u001b[0m\u001b[1;32m   1182\u001b[0m \u001b[0;34m\u001b[0m\u001b[0m\n\u001b[1;32m   1183\u001b[0m   \u001b[0;32mdef\u001b[0m \u001b[0m_train_model_default\u001b[0m\u001b[0;34m(\u001b[0m\u001b[0mself\u001b[0m\u001b[0;34m,\u001b[0m \u001b[0minput_fn\u001b[0m\u001b[0;34m,\u001b[0m \u001b[0mhooks\u001b[0m\u001b[0;34m,\u001b[0m \u001b[0msaving_listeners\u001b[0m\u001b[0;34m)\u001b[0m\u001b[0;34m:\u001b[0m\u001b[0;34m\u001b[0m\u001b[0;34m\u001b[0m\u001b[0m\n",
      "\u001b[0;32m/usr/local/lib/python3.6/dist-packages/tensorflow/python/estimator/estimator.py\u001b[0m in \u001b[0;36m_train_model_default\u001b[0;34m(self, input_fn, hooks, saving_listeners)\u001b[0m\n\u001b[1;32m   1209\u001b[0m       \u001b[0mworker_hooks\u001b[0m\u001b[0;34m.\u001b[0m\u001b[0mextend\u001b[0m\u001b[0;34m(\u001b[0m\u001b[0minput_hooks\u001b[0m\u001b[0;34m)\u001b[0m\u001b[0;34m\u001b[0m\u001b[0;34m\u001b[0m\u001b[0m\n\u001b[1;32m   1210\u001b[0m       estimator_spec = self._call_model_fn(\n\u001b[0;32m-> 1211\u001b[0;31m           features, labels, model_fn_lib.ModeKeys.TRAIN, self.config)\n\u001b[0m\u001b[1;32m   1212\u001b[0m       \u001b[0mglobal_step_tensor\u001b[0m \u001b[0;34m=\u001b[0m \u001b[0mtraining_util\u001b[0m\u001b[0;34m.\u001b[0m\u001b[0mget_global_step\u001b[0m\u001b[0;34m(\u001b[0m\u001b[0mg\u001b[0m\u001b[0;34m)\u001b[0m\u001b[0;34m\u001b[0m\u001b[0;34m\u001b[0m\u001b[0m\n\u001b[1;32m   1213\u001b[0m       return self._train_with_estimator_spec(estimator_spec, worker_hooks,\n",
      "\u001b[0;32m/usr/local/lib/python3.6/dist-packages/tensorflow/python/estimator/estimator.py\u001b[0m in \u001b[0;36m_call_model_fn\u001b[0;34m(self, features, labels, mode, config)\u001b[0m\n\u001b[1;32m   1167\u001b[0m \u001b[0;34m\u001b[0m\u001b[0m\n\u001b[1;32m   1168\u001b[0m     \u001b[0mlogging\u001b[0m\u001b[0;34m.\u001b[0m\u001b[0minfo\u001b[0m\u001b[0;34m(\u001b[0m\u001b[0;34m'Calling model_fn.'\u001b[0m\u001b[0;34m)\u001b[0m\u001b[0;34m\u001b[0m\u001b[0;34m\u001b[0m\u001b[0m\n\u001b[0;32m-> 1169\u001b[0;31m     \u001b[0mmodel_fn_results\u001b[0m \u001b[0;34m=\u001b[0m \u001b[0mself\u001b[0m\u001b[0;34m.\u001b[0m\u001b[0m_model_fn\u001b[0m\u001b[0;34m(\u001b[0m\u001b[0mfeatures\u001b[0m\u001b[0;34m=\u001b[0m\u001b[0mfeatures\u001b[0m\u001b[0;34m,\u001b[0m \u001b[0;34m**\u001b[0m\u001b[0mkwargs\u001b[0m\u001b[0;34m)\u001b[0m\u001b[0;34m\u001b[0m\u001b[0;34m\u001b[0m\u001b[0m\n\u001b[0m\u001b[1;32m   1170\u001b[0m     \u001b[0mlogging\u001b[0m\u001b[0;34m.\u001b[0m\u001b[0minfo\u001b[0m\u001b[0;34m(\u001b[0m\u001b[0;34m'Done calling model_fn.'\u001b[0m\u001b[0;34m)\u001b[0m\u001b[0;34m\u001b[0m\u001b[0;34m\u001b[0m\u001b[0m\n\u001b[1;32m   1171\u001b[0m \u001b[0;34m\u001b[0m\u001b[0m\n",
      "\u001b[0;32m<ipython-input-64-05da72e38875>\u001b[0m in \u001b[0;36m_model_fn\u001b[0;34m(features, labels, mode)\u001b[0m\n\u001b[1;32m    201\u001b[0m             return _mdn_model_fn(features, labels, \n\u001b[1;32m    202\u001b[0m                  \u001b[0mn_y\u001b[0m\u001b[0;34m,\u001b[0m \u001b[0mnchannels\u001b[0m\u001b[0;34m,\u001b[0m \u001b[0;31m#cube_size,\u001b[0m\u001b[0;34m\u001b[0m\u001b[0;34m\u001b[0m\u001b[0m\n\u001b[0;32m--> 203\u001b[0;31m                         dropout, optimizer, mode)\n\u001b[0m\u001b[1;32m    204\u001b[0m \u001b[0;34m\u001b[0m\u001b[0m\n\u001b[1;32m    205\u001b[0m         super(self.__class__, self).__init__(model_fn=_model_fn,\n",
      "\u001b[0;32m<ipython-input-64-05da72e38875>\u001b[0m in \u001b[0;36m_mdn_model_fn\u001b[0;34m(features, labels, n_y, nchannels, dropout, optimizer, mode)\u001b[0m\n\u001b[1;32m    160\u001b[0m \u001b[0;34m\u001b[0m\u001b[0m\n\u001b[1;32m    161\u001b[0m \u001b[0;34m\u001b[0m\u001b[0m\n\u001b[0;32m--> 162\u001b[0;31m     \u001b[0mtf\u001b[0m\u001b[0;34m.\u001b[0m\u001b[0mlosses\u001b[0m\u001b[0;34m.\u001b[0m\u001b[0madd_loss\u001b[0m\u001b[0;34m(\u001b[0m\u001b[0mneg_log_likelihood\u001b[0m\u001b[0;34m)\u001b[0m\u001b[0;34m\u001b[0m\u001b[0;34m\u001b[0m\u001b[0m\n\u001b[0m\u001b[1;32m    163\u001b[0m     \u001b[0mtotal_loss\u001b[0m \u001b[0;34m=\u001b[0m \u001b[0mtf\u001b[0m\u001b[0;34m.\u001b[0m\u001b[0mlosses\u001b[0m\u001b[0;34m.\u001b[0m\u001b[0mget_total_loss\u001b[0m\u001b[0;34m(\u001b[0m\u001b[0madd_regularization_losses\u001b[0m\u001b[0;34m=\u001b[0m\u001b[0;32mTrue\u001b[0m\u001b[0;34m)\u001b[0m\u001b[0;34m\u001b[0m\u001b[0;34m\u001b[0m\u001b[0m\n\u001b[1;32m    164\u001b[0m \u001b[0;34m\u001b[0m\u001b[0m\n",
      "\u001b[0;31mUnboundLocalError\u001b[0m: local variable 'neg_log_likelihood' referenced before assignment"
     ]
    }
   ],
   "source": [
    "model.train(training_input_fn, max_steps=30000)"
   ]
  },
  {
   "cell_type": "code",
   "execution_count": null,
   "metadata": {},
   "outputs": [],
   "source": [
    "features = tf.placeholder(tf.float32, shape=[None, None, None, None, nchannels], name='input')\n",
    "labels = tf.placeholder(tf.float32, shape=[None, None, None, None, ntarget], name='observations')\n",
    "    \n",
    "exporter = hub.LatestModuleExporter(\"tf_hub\",\n",
    "        tf.estimator.export.build_raw_serving_input_receiver_fn({'features':features, 'labels':labels},\n",
    "                                                                   default_batch_size=None))\n",
    "\n",
    "# exporter.export(model, 'models', model.latest_checkpoint())\n",
    "modulepath = exporter.export(model, savepath + '/module/', model.latest_checkpoint())\n",
    "modulepath = modulepath.decode(\"utf-8\")\n",
    "modulepath"
   ]
  },
  {
   "cell_type": "markdown",
   "metadata": {},
   "source": [
    "## Testing"
   ]
  },
  {
   "cell_type": "code",
   "execution_count": 10,
   "metadata": {},
   "outputs": [
    {
     "name": "stdout",
     "output_type": "stream",
     "text": [
      "INFO:tensorflow:Saver not created because there are no variables in the graph to restore\n",
      "(3, 16, 16, 16, 1) (3, 16, 16, 16, 1)\n"
     ]
    }
   ],
   "source": [
    "loss = 'l2'\n",
    "tf.reset_default_graph()\n",
    "# modulepath = '/home/chmodi/Projects/galmodel/code/models/n10/rev_cic_l1/module/1548387387/'\n",
    "modulepath = '/home/chmodi/Projects/galmodel/code/models/n10/pad0-inv/module/1548711319'\n",
    "# modulepath = '/home/chmodi/Projects/galmodel/notebooks/models/n10/rev-nn-l2/module/1548392154/'\n",
    "\n",
    "module = hub.Module(modulepath + '/likelihood/')\n",
    "\n",
    "xx = tf.placeholder(tf.float32, shape=[None, None, None, None, nchannels], name='input')\n",
    "yy = tf.placeholder(tf.float32, shape=[None, None, None, None, ntarget], name='labels')\n",
    "samples = module(dict(features=xx, labels=yy), as_dict=True)['sample']\n",
    "# loglik = module(dict(features=xx, labels=yy), as_dict=True)[loss]\n",
    "# poisson = module(dict(features=xx, labels=yy), as_dict=True)['lambda']\n",
    "\n",
    "with tf.Session() as sess:\n",
    "    sess.run(tf.initializers.global_variables())\n",
    "        \n",
    "    features = cube_features[0][5:8].astype('float32')\n",
    "    targets = cube_target[0][5:8].astype('float32')\n",
    "    xxm = features\n",
    "    yym = targets\n",
    "    print(xxm.shape, yym.shape)\n",
    "    preds = sess.run(samples, feed_dict={xx:xxm, yy:yym})\n",
    "#     pois = sess.run(poisson, feed_dict={xx:xxm, yy:yym})\n",
    "#     llik = sess.run(loglik, feed_dict={xx:xxm, yy:yym})\n"
   ]
  },
  {
   "cell_type": "code",
   "execution_count": 15,
   "metadata": {},
   "outputs": [
    {
     "data": {
      "text/plain": [
       "(3, 16, 16, 16, 1)"
      ]
     },
     "execution_count": 15,
     "metadata": {},
     "output_type": "execute_result"
    }
   ],
   "source": [
    "preds.shape"
   ]
  },
  {
   "cell_type": "code",
   "execution_count": 17,
   "metadata": {},
   "outputs": [
    {
     "data": {
      "text/plain": [
       "<matplotlib.colorbar.Colorbar at 0x7f875478eef0>"
      ]
     },
     "execution_count": 17,
     "metadata": {},
     "output_type": "execute_result"
    },
    {
     "data": {
      "image/png": "[encoded data removed]",
      "text/plain": [
       "<Figure size 432x288 with 2 Axes>"
      ]
     },
     "metadata": {
      "needs_background": "light"
     },
     "output_type": "display_data"
    }
   ],
   "source": [
    "im = imshow(preds[0,:,:,:, 0].sum(axis=-1))\n",
    "plt.colorbar(im)"
   ]
  },
  {
   "cell_type": "code",
   "execution_count": 21,
   "metadata": {},
   "outputs": [
    {
     "data": {
      "text/plain": [
       "<matplotlib.colorbar.Colorbar at 0x7f8bb2ce65f8>"
      ]
     },
     "execution_count": 21,
     "metadata": {},
     "output_type": "execute_result"
    },
    {
     "data": {
      "image/png": "[encoded data removed]",
      "text/plain": [
       "<Figure size 432x288 with 3 Axes>"
      ]
     },
     "metadata": {
      "needs_background": "light"
     },
     "output_type": "display_data"
    }
   ],
   "source": [
    "i = imshow(targets[0,:,:,:, 0].sum(axis=-1))\n",
    "plt.colorbar(im)\n",
    "i = imshow(features[0,:,:,:, 0].sum(axis=-1))\n",
    "plt.colorbar(im)"
   ]
  },
  {
   "cell_type": "code",
   "execution_count": 20,
   "metadata": {},
   "outputs": [],
   "source": [
    "# cube_target[0].max(), pois.max()A"
   ]
  },
  {
   "cell_type": "code",
   "execution_count": 15,
   "metadata": {},
   "outputs": [
    {
     "data": {
      "text/plain": [
       "<matplotlib.colorbar.Colorbar at 0x7fb194c499e8>"
      ]
     },
     "execution_count": 15,
     "metadata": {},
     "output_type": "execute_result"
    },
    {
     "data": {
      "image/png": "[encoded data removed]",
      "text/plain": [
       "<Figure size 432x288 with 2 Axes>"
      ]
     },
     "metadata": {
      "needs_background": "light"
     },
     "output_type": "display_data"
    }
   ],
   "source": [
    "i = imshow(pois[0,:,:,:, 0].sum(axis=-1))\n",
    "plt.colorbar(im)"
   ]
  },
  {
   "cell_type": "code",
   "execution_count": 16,
   "metadata": {},
   "outputs": [
    {
     "data": {
      "text/plain": [
       "<matplotlib.colorbar.Colorbar at 0x7fb195b1f780>"
      ]
     },
     "execution_count": 16,
     "metadata": {},
     "output_type": "execute_result"
    },
    {
     "data": {
      "image/png": "[encoded data removed]",
      "text/plain": [
       "<Figure size 432x288 with 2 Axes>"
      ]
     },
     "metadata": {
      "needs_background": "light"
     },
     "output_type": "display_data"
    }
   ],
   "source": []
  },
  {
   "cell_type": "code",
   "execution_count": 18,
   "metadata": {},
   "outputs": [
    {
     "name": "stdout",
     "output_type": "stream",
     "text": [
      "INFO:tensorflow:Saver not created because there are no variables in the graph to restore\n",
      "INFO:tensorflow:Saver not created because there are no variables in the graph to restore\n",
      "INFO:tensorflow:Saver not created because there are no variables in the graph to restore\n",
      "0.030843547\n",
      "0.030856844\n",
      "0.031102784\n",
      "0.03102662\n"
     ]
    }
   ],
   "source": [
    "tf.reset_default_graph()\n",
    "\n",
    "tf.reset_default_graph()\n",
    "module = hub.Module(modulepath + '/likelihood')\n",
    "# module = hub.Module(modulepath + '/likelihood/')\n",
    "\n",
    "# module = hub.Module('../code/models/galmodel/pad2/module/1546484684/likelihood/')\n",
    "\n",
    "xx = tf.placeholder(tf.float32, shape=[None, None, None, None, nchannels], name='input')\n",
    "yy = tf.placeholder(tf.float32, shape=[None, None, None, None, ntarget], name='labels')\n",
    "samples = module(dict(features=xx, labels=yy), as_dict=True)['sample']\n",
    "loglik = module(dict(features=xx, labels=yy), as_dict=True)[loss]\n",
    "poisson = module(dict(features=xx, labels=yy), as_dict=True)['lambda']\n",
    "\n",
    "preds = {}\n",
    "pois = {}\n",
    "with tf.Session() as sess:\n",
    "    sess.run(tf.initializers.global_variables())\n",
    "\n",
    "    for seed in seeds:\n",
    "        xxm = np.pad(meshes[seed][0]['cic'], pad, 'wrap')\n",
    "        xxm = np.expand_dims(np.expand_dims(xxm,  -1), 0)\n",
    "\n",
    "        yym = np.stack([meshes[seed][1]['pnn']], axis=-1)\n",
    "        yym = np.expand_dims(yym, 0)\n",
    "        preds[seed] = sess.run(samples, feed_dict={xx:xxm, yy:yym})\n",
    "        meshes[seed][0]['predict'] = np.squeeze(preds[seed][:, :, :])\n",
    "        pois[seed] = sess.run(poisson, feed_dict={xx:xxm, yy:yym})\n",
    "        meshes[seed][0]['lambda'] = np.squeeze(pois[seed][:, :, :])\n",
    "        print(sess.run(loglik, feed_dict={xx:xxm, yy:yym}))"
   ]
  },
  {
   "cell_type": "code",
   "execution_count": null,
   "metadata": {},
   "outputs": [],
   "source": [
    "# meshes[100][0]['lambda']/meshes[100][0]['lambda2']"
   ]
  },
  {
   "cell_type": "code",
   "execution_count": null,
   "metadata": {},
   "outputs": [],
   "source": [
    "##############################\n",
    "##Power spectrum\n",
    "shape = [nc,nc,nc]\n",
    "kk = tools.fftk(shape, bs)\n",
    "kmesh = sum(i**2 for i in kk)**0.5\n",
    "\n",
    "fig, ax = plt.subplots(1, 2, figsize = (10, 5))\n",
    "for seed in seeds:\n",
    "    key = ''\n",
    "    predict, hpmeshd = meshes[seed][0]['lambda%s'%key] , meshes[seed][1]['pcic%s'%key], \n",
    "    k, pkpred = tools.power(predict/predict.mean(), boxsize=bs, k=kmesh)\n",
    "    k, pkhd = tools.power(hpmeshd/hpmeshd.mean(), boxsize=bs, k=kmesh)\n",
    "    k, pkhx = tools.power(hpmeshd/hpmeshd.mean(), predict/predict.mean(), boxsize=bs, k=kmesh)    \n",
    "##\n",
    "    ax[0].semilogx(k[1:], pkpred[1:]/pkhd[1:], label=seed)\n",
    "    ax[1].semilogx(k[1:], pkhx[1:]/(pkpred[1:]*pkhd[1:])**0.5)\n",
    "    \n",
    "for axis in ax.flatten():\n",
    "    axis.legend(fontsize=14)\n",
    "    axis.set_yticks(np.arange(0, 1.1, 0.1))\n",
    "    axis.grid(which='both')\n",
    "    axis.set_ylim(0.,1.1)\n",
    "ax[0].set_ylabel('Transfer function', fontsize=14)\n",
    "ax[1].set_ylabel('Cross correlation', fontsize=14)\n",
    "plt.show()\n",
    "\n",
    "# ##################################################\n",
    "fig, ax = plt.subplots(1, 2, figsize=(10,5))\n",
    "\n",
    "key = ''\n",
    "# predict, hpmeshd = meshes[seed][0]['predict%s'%key] , meshes[seed][1]['pnn%s'%key], \n",
    "predict, hpmeshd = meshes[seed][0]['lambda%s'%key] , meshes[seed][1]['pnn%s'%key], \n",
    "vmin, vmax = 0, (hpmeshd[:, :, :].sum(axis=0)).max()\n",
    "im = ax[0].imshow(predict[:, :, :].sum(axis=0), vmin=None, vmax=None)\n",
    "plt.colorbar(im, ax=ax[0])\n",
    "im = ax[1].imshow(hpmeshd[:, :, :].sum(axis=0), vmin=None, vmax=None)\n",
    "plt.colorbar(im, ax=ax[1])\n",
    "ax[0].set_ylabel('Prediction', fontsize=15)\n",
    "ax[1].set_ylabel('Truth', fontsize=15)\n",
    "plt.show()\n"
   ]
  },
  {
   "cell_type": "code",
   "execution_count": 80,
   "metadata": {},
   "outputs": [
    {
     "data": {
      "text/plain": [
       "3.344097"
      ]
     },
     "execution_count": 80,
     "metadata": {},
     "output_type": "execute_result"
    }
   ],
   "source": [
    "predict.max()"
   ]
  },
  {
   "cell_type": "code",
   "execution_count": 81,
   "metadata": {},
   "outputs": [
    {
     "data": {
      "image/png": "[encoded data removed]",
      "text/plain": [
       "<Figure size 432x288 with 1 Axes>"
      ]
     },
     "metadata": {
      "needs_background": "light"
     },
     "output_type": "display_data"
    }
   ],
   "source": [
    "plt.hist(predict.flatten(), bins=100, log=True)\n",
    "plt.show()"
   ]
  },
  {
   "cell_type": "code",
   "execution_count": 82,
   "metadata": {},
   "outputs": [
    {
     "name": "stdout",
     "output_type": "stream",
     "text": [
      "[1.0, 1.0]\n",
      "568.89484\n",
      "3.0921526\n",
      "1.436072\n",
      "0.5177323\n",
      "0.15303032\n",
      "[0.81387603, 5.1553082]\n"
     ]
    }
   ],
   "source": [
    "x = np.linspace(0, 10, 1000)\n",
    "y = 5.21*x + 0.463\n",
    "ys = y + np.random.normal(0, 0.1, 1000)\n",
    "\n",
    "tf.reset_default_graph()\n",
    "\n",
    "\n",
    "xx = tf.placeholder(tf.float32, shape=[None], name='input')\n",
    "yy = tf.placeholder(tf.float32, shape=[None], name='input')\n",
    "shift = tf.Variable(1., dtype=tf.float32)\n",
    "scale = tf.Variable(1., dtype=tf.float32)\n",
    "myBij = tfp.bijectors.Affine(shift=shift, scale_identity_multiplier=scale)\n",
    "pred = myBij.forward(xx)\n",
    "loss = tf.losses.mean_squared_error(yy, pred)\n",
    "\n",
    "optimizer = tf.train.AdamOptimizer(learning_rate=0.1)\n",
    "\n",
    "opt_op = optimizer.minimize(loss)\n",
    "\n",
    "\n",
    "niter= 500\n",
    "losses = []\n",
    "with tf.Session() as sess:\n",
    "    sess.run(tf.global_variables_initializer())\n",
    "    init = sess.run([shift, scale])\n",
    "    print(init)\n",
    "    for it in range(niter):\n",
    "        _, l = sess.run([opt_op, loss], feed_dict={xx:x, yy:ys})\n",
    "        if it % 100 == 0:\n",
    "            print(l)\n",
    "        losses.append(l)\n",
    "    fin = sess.run([shift, scale])\n",
    "    print(fin)\n",
    "    "
   ]
  },
  {
   "cell_type": "code",
   "execution_count": 83,
   "metadata": {},
   "outputs": [
    {
     "data": {
      "text/plain": [
       "[<matplotlib.lines.Line2D at 0x7fb6a625f400>]"
      ]
     },
     "execution_count": 83,
     "metadata": {},
     "output_type": "execute_result"
    },
    {
     "data": {
      "image/png": "[encoded data removed]",
      "text/plain": [
       "<Figure size 432x288 with 1 Axes>"
      ]
     },
     "metadata": {
      "needs_background": "light"
     },
     "output_type": "display_data"
    }
   ],
   "source": [
    "plt.plot(x, ys, '.', alpha=0.5)\n",
    "plt.plot(x, y)\n",
    "plt.plot(x, init[0] + init[1]*x)\n",
    "plt.plot(x, fin[0] + fin[1]*x, 'k--', lw=2)\n"
   ]
  },
  {
   "cell_type": "code",
   "execution_count": 41,
   "metadata": {},
   "outputs": [
    {
     "data": {
      "image/png": "[encoded data removed]",
      "text/plain": [
       "<Figure size 432x288 with 1 Axes>"
      ]
     },
     "metadata": {
      "needs_background": "light"
     },
     "output_type": "display_data"
    }
   ],
   "source": [
    "plt.hist(np.log(1+meshes[100][0]['cic'].flatten()), bins=100)\n",
    "# ovd = (meshes[100][0]['cic'] - meshes[100][0]['cic'].mean())/meshes[100][0]['cic'].mean()\n",
    "ovd = (meshes[100][0]['cic'] - meshes[100][0]['cic'].mean())/meshes[100][0]['cic'].mean()\n",
    "plt.hist(np.log(1.01+ovd.flatten()), bins=100, alpha=0.5)\n",
    "\n",
    "plt.show()"
   ]
  },
  {
   "cell_type": "code",
   "execution_count": 33,
   "metadata": {},
   "outputs": [],
   "source": [
    "tfd.N"
   ]
  },
  {
   "cell_type": "code",
   "execution_count": 39,
   "metadata": {
    "scrolled": false
   },
   "outputs": [
    {
     "name": "stdout",
     "output_type": "stream",
     "text": [
      "\n",
      "mu\n",
      " Tensor(\"Placeholder_24:0\", shape=(?, ?, ?, ?, 1, 8), dtype=float32)\n",
      "\n",
      "sigma\n",
      " Tensor(\"add_8:0\", shape=(?, ?, ?, ?, 1, 8), dtype=float32)\n",
      "\n",
      "probs\n",
      " Tensor(\"Placeholder_26:0\", shape=(?, ?, ?, ?, 1, 8), dtype=float32)\n",
      "\n",
      "gmm\n",
      " tf.distributions.MixtureSameFamily(\"MixtureSameFamily_7/\", batch_shape=(?, ?, ?, ?), event_shape=(8,), dtype=float32)\n",
      "\n",
      "sample now\n",
      "\n"
     ]
    },
    {
     "ename": "ValueError",
     "evalue": "Fill dimensions must be >= 0 for 'MixtureSameFamily_7/sample/pad_mix_dims/ones' (op: 'Fill') with input shapes: [1], [] and with input tensors computed as partial shapes: input[0] = [?].",
     "output_type": "error",
     "traceback": [
      "\u001b[0;31m---------------------------------------------------------------------------\u001b[0m",
      "\u001b[0;31mInvalidArgumentError\u001b[0m                      Traceback (most recent call last)",
      "\u001b[0;32m/usr/local/lib/python3.6/dist-packages/tensorflow/python/framework/ops.py\u001b[0m in \u001b[0;36m_create_c_op\u001b[0;34m(graph, node_def, inputs, control_inputs)\u001b[0m\n\u001b[1;32m   1625\u001b[0m   \u001b[0;32mtry\u001b[0m\u001b[0;34m:\u001b[0m\u001b[0;34m\u001b[0m\u001b[0;34m\u001b[0m\u001b[0m\n\u001b[0;32m-> 1626\u001b[0;31m     \u001b[0mc_op\u001b[0m \u001b[0;34m=\u001b[0m \u001b[0mc_api\u001b[0m\u001b[0;34m.\u001b[0m\u001b[0mTF_FinishOperation\u001b[0m\u001b[0;34m(\u001b[0m\u001b[0mop_desc\u001b[0m\u001b[0;34m)\u001b[0m\u001b[0;34m\u001b[0m\u001b[0;34m\u001b[0m\u001b[0m\n\u001b[0m\u001b[1;32m   1627\u001b[0m   \u001b[0;32mexcept\u001b[0m \u001b[0merrors\u001b[0m\u001b[0;34m.\u001b[0m\u001b[0mInvalidArgumentError\u001b[0m \u001b[0;32mas\u001b[0m \u001b[0me\u001b[0m\u001b[0;34m:\u001b[0m\u001b[0;34m\u001b[0m\u001b[0;34m\u001b[0m\u001b[0m\n",
      "\u001b[0;31mInvalidArgumentError\u001b[0m: Fill dimensions must be >= 0 for 'MixtureSameFamily_7/sample/pad_mix_dims/ones' (op: 'Fill') with input shapes: [1], [] and with input tensors computed as partial shapes: input[0] = [?].",
      "\nDuring handling of the above exception, another exception occurred:\n",
      "\u001b[0;31mValueError\u001b[0m                                Traceback (most recent call last)",
      "\u001b[0;32m<ipython-input-39-bd8f3e07f40a>\u001b[0m in \u001b[0;36m<module>\u001b[0;34m\u001b[0m\n\u001b[1;32m     19\u001b[0m \u001b[0;34m\u001b[0m\u001b[0m\n\u001b[1;32m     20\u001b[0m \u001b[0mprint\u001b[0m\u001b[0;34m(\u001b[0m\u001b[0;34m'\\nsample now\\n'\u001b[0m\u001b[0;34m)\u001b[0m\u001b[0;34m\u001b[0m\u001b[0;34m\u001b[0m\u001b[0m\n\u001b[0;32m---> 21\u001b[0;31m \u001b[0msample\u001b[0m \u001b[0;34m=\u001b[0m \u001b[0;34m(\u001b[0m\u001b[0mgmm\u001b[0m\u001b[0;34m.\u001b[0m\u001b[0msample\u001b[0m\u001b[0;34m(\u001b[0m\u001b[0;34m)\u001b[0m\u001b[0;34m)\u001b[0m\u001b[0;34m\u001b[0m\u001b[0;34m\u001b[0m\u001b[0m\n\u001b[0m\u001b[1;32m     22\u001b[0m \u001b[0;34m\u001b[0m\u001b[0m\n\u001b[1;32m     23\u001b[0m \u001b[0mn\u001b[0m \u001b[0;34m=\u001b[0m \u001b[0;36m8\u001b[0m\u001b[0;34m\u001b[0m\u001b[0;34m\u001b[0m\u001b[0m\n",
      "\u001b[0;32m/usr/local/lib/python3.6/dist-packages/tensorflow/python/ops/distributions/distribution.py\u001b[0m in \u001b[0;36msample\u001b[0;34m(self, sample_shape, seed, name)\u001b[0m\n\u001b[1;32m    713\u001b[0m       \u001b[0msamples\u001b[0m\u001b[0;34m:\u001b[0m \u001b[0ma\u001b[0m\u001b[0;31m \u001b[0m\u001b[0;31m`\u001b[0m\u001b[0mTensor\u001b[0m\u001b[0;31m`\u001b[0m \u001b[0;32mwith\u001b[0m \u001b[0mprepended\u001b[0m \u001b[0mdimensions\u001b[0m\u001b[0;31m \u001b[0m\u001b[0;31m`\u001b[0m\u001b[0msample_shape\u001b[0m\u001b[0;31m`\u001b[0m\u001b[0;34m.\u001b[0m\u001b[0;34m\u001b[0m\u001b[0;34m\u001b[0m\u001b[0m\n\u001b[1;32m    714\u001b[0m     \"\"\"\n\u001b[0;32m--> 715\u001b[0;31m     \u001b[0;32mreturn\u001b[0m \u001b[0mself\u001b[0m\u001b[0;34m.\u001b[0m\u001b[0m_call_sample_n\u001b[0m\u001b[0;34m(\u001b[0m\u001b[0msample_shape\u001b[0m\u001b[0;34m,\u001b[0m \u001b[0mseed\u001b[0m\u001b[0;34m,\u001b[0m \u001b[0mname\u001b[0m\u001b[0;34m)\u001b[0m\u001b[0;34m\u001b[0m\u001b[0;34m\u001b[0m\u001b[0m\n\u001b[0m\u001b[1;32m    716\u001b[0m \u001b[0;34m\u001b[0m\u001b[0m\n\u001b[1;32m    717\u001b[0m   \u001b[0;32mdef\u001b[0m \u001b[0m_log_prob\u001b[0m\u001b[0;34m(\u001b[0m\u001b[0mself\u001b[0m\u001b[0;34m,\u001b[0m \u001b[0mvalue\u001b[0m\u001b[0;34m)\u001b[0m\u001b[0;34m:\u001b[0m\u001b[0;34m\u001b[0m\u001b[0;34m\u001b[0m\u001b[0m\n",
      "\u001b[0;32m/usr/local/lib/python3.6/dist-packages/tensorflow/python/ops/distributions/distribution.py\u001b[0m in \u001b[0;36m_call_sample_n\u001b[0;34m(self, sample_shape, seed, name, **kwargs)\u001b[0m\n\u001b[1;32m    692\u001b[0m       sample_shape, n = self._expand_sample_shape_to_vector(\n\u001b[1;32m    693\u001b[0m           sample_shape, \"sample_shape\")\n\u001b[0;32m--> 694\u001b[0;31m       \u001b[0msamples\u001b[0m \u001b[0;34m=\u001b[0m \u001b[0mself\u001b[0m\u001b[0;34m.\u001b[0m\u001b[0m_sample_n\u001b[0m\u001b[0;34m(\u001b[0m\u001b[0mn\u001b[0m\u001b[0;34m,\u001b[0m \u001b[0mseed\u001b[0m\u001b[0;34m,\u001b[0m \u001b[0;34m**\u001b[0m\u001b[0mkwargs\u001b[0m\u001b[0;34m)\u001b[0m\u001b[0;34m\u001b[0m\u001b[0;34m\u001b[0m\u001b[0m\n\u001b[0m\u001b[1;32m    695\u001b[0m       \u001b[0mbatch_event_shape\u001b[0m \u001b[0;34m=\u001b[0m \u001b[0marray_ops\u001b[0m\u001b[0;34m.\u001b[0m\u001b[0mshape\u001b[0m\u001b[0;34m(\u001b[0m\u001b[0msamples\u001b[0m\u001b[0;34m)\u001b[0m\u001b[0;34m[\u001b[0m\u001b[0;36m1\u001b[0m\u001b[0;34m:\u001b[0m\u001b[0;34m]\u001b[0m\u001b[0;34m\u001b[0m\u001b[0;34m\u001b[0m\u001b[0m\n\u001b[1;32m    696\u001b[0m       \u001b[0mfinal_shape\u001b[0m \u001b[0;34m=\u001b[0m \u001b[0marray_ops\u001b[0m\u001b[0;34m.\u001b[0m\u001b[0mconcat\u001b[0m\u001b[0;34m(\u001b[0m\u001b[0;34m[\u001b[0m\u001b[0msample_shape\u001b[0m\u001b[0;34m,\u001b[0m \u001b[0mbatch_event_shape\u001b[0m\u001b[0;34m]\u001b[0m\u001b[0;34m,\u001b[0m \u001b[0;36m0\u001b[0m\u001b[0;34m)\u001b[0m\u001b[0;34m\u001b[0m\u001b[0;34m\u001b[0m\u001b[0m\n",
      "\u001b[0;32m~/.local/lib/python3.6/site-packages/tensorflow_probability/python/distributions/mixture_same_family.py\u001b[0m in \u001b[0;36m_sample_n\u001b[0;34m(self, n, seed)\u001b[0m\n\u001b[1;32m    239\u001b[0m       mask = distribution_utils.pad_mixture_dimensions(\n\u001b[1;32m    240\u001b[0m           \u001b[0mmask\u001b[0m\u001b[0;34m,\u001b[0m \u001b[0mself\u001b[0m\u001b[0;34m,\u001b[0m \u001b[0mself\u001b[0m\u001b[0;34m.\u001b[0m\u001b[0mmixture_distribution\u001b[0m\u001b[0;34m,\u001b[0m\u001b[0;34m\u001b[0m\u001b[0;34m\u001b[0m\u001b[0m\n\u001b[0;32m--> 241\u001b[0;31m           self._event_shape().ndims)                         # [n, B, k, [1]*e]\n\u001b[0m\u001b[1;32m    242\u001b[0m       \u001b[0;32mreturn\u001b[0m \u001b[0mtf\u001b[0m\u001b[0;34m.\u001b[0m\u001b[0mreduce_sum\u001b[0m\u001b[0;34m(\u001b[0m\u001b[0mx\u001b[0m \u001b[0;34m*\u001b[0m \u001b[0mmask\u001b[0m\u001b[0;34m,\u001b[0m \u001b[0maxis\u001b[0m\u001b[0;34m=\u001b[0m\u001b[0;34m-\u001b[0m\u001b[0;36m1\u001b[0m \u001b[0;34m-\u001b[0m \u001b[0mself\u001b[0m\u001b[0;34m.\u001b[0m\u001b[0m_event_ndims\u001b[0m\u001b[0;34m)\u001b[0m  \u001b[0;31m# [n, B, E]\u001b[0m\u001b[0;34m\u001b[0m\u001b[0;34m\u001b[0m\u001b[0m\n\u001b[1;32m    243\u001b[0m \u001b[0;34m\u001b[0m\u001b[0m\n",
      "\u001b[0;32m~/.local/lib/python3.6/site-packages/tensorflow_probability/python/internal/distribution_util.py\u001b[0m in \u001b[0;36mpad_mixture_dimensions\u001b[0;34m(x, mixture_distribution, categorical_distribution, event_ndims)\u001b[0m\n\u001b[1;32m    480\u001b[0m             [\n\u001b[1;32m    481\u001b[0m                 \u001b[0ms\u001b[0m\u001b[0;34m[\u001b[0m\u001b[0;34m:\u001b[0m\u001b[0;34m-\u001b[0m\u001b[0;36m1\u001b[0m\u001b[0;34m]\u001b[0m\u001b[0;34m,\u001b[0m\u001b[0;34m\u001b[0m\u001b[0;34m\u001b[0m\u001b[0m\n\u001b[0;32m--> 482\u001b[0;31m                 \u001b[0mtf\u001b[0m\u001b[0;34m.\u001b[0m\u001b[0mones\u001b[0m\u001b[0;34m(\u001b[0m\u001b[0;34m[\u001b[0m\u001b[0mpad_ndims\u001b[0m\u001b[0;34m]\u001b[0m\u001b[0;34m,\u001b[0m \u001b[0mdtype\u001b[0m\u001b[0;34m=\u001b[0m\u001b[0mtf\u001b[0m\u001b[0;34m.\u001b[0m\u001b[0mint32\u001b[0m\u001b[0;34m)\u001b[0m\u001b[0;34m,\u001b[0m\u001b[0;34m\u001b[0m\u001b[0;34m\u001b[0m\u001b[0m\n\u001b[0m\u001b[1;32m    483\u001b[0m                 \u001b[0ms\u001b[0m\u001b[0;34m[\u001b[0m\u001b[0;34m-\u001b[0m\u001b[0;36m1\u001b[0m\u001b[0;34m:\u001b[0m\u001b[0;34m]\u001b[0m\u001b[0;34m,\u001b[0m\u001b[0;34m\u001b[0m\u001b[0;34m\u001b[0m\u001b[0m\n\u001b[1;32m    484\u001b[0m                 \u001b[0mtf\u001b[0m\u001b[0;34m.\u001b[0m\u001b[0mones\u001b[0m\u001b[0;34m(\u001b[0m\u001b[0;34m[\u001b[0m\u001b[0mevent_ndims\u001b[0m\u001b[0;34m]\u001b[0m\u001b[0;34m,\u001b[0m \u001b[0mdtype\u001b[0m\u001b[0;34m=\u001b[0m\u001b[0mtf\u001b[0m\u001b[0;34m.\u001b[0m\u001b[0mint32\u001b[0m\u001b[0;34m)\u001b[0m\u001b[0;34m,\u001b[0m\u001b[0;34m\u001b[0m\u001b[0;34m\u001b[0m\u001b[0m\n",
      "\u001b[0;32m/usr/local/lib/python3.6/dist-packages/tensorflow/python/ops/array_ops.py\u001b[0m in \u001b[0;36mones\u001b[0;34m(shape, dtype, name)\u001b[0m\n\u001b[1;32m   1696\u001b[0m     \u001b[0;32mif\u001b[0m \u001b[0;32mnot\u001b[0m \u001b[0mshape\u001b[0m\u001b[0;34m.\u001b[0m\u001b[0m_shape_tuple\u001b[0m\u001b[0;34m(\u001b[0m\u001b[0;34m)\u001b[0m\u001b[0;34m:\u001b[0m\u001b[0;34m\u001b[0m\u001b[0;34m\u001b[0m\u001b[0m\n\u001b[1;32m   1697\u001b[0m       \u001b[0mshape\u001b[0m \u001b[0;34m=\u001b[0m \u001b[0mreshape\u001b[0m\u001b[0;34m(\u001b[0m\u001b[0mshape\u001b[0m\u001b[0;34m,\u001b[0m \u001b[0;34m[\u001b[0m\u001b[0;34m-\u001b[0m\u001b[0;36m1\u001b[0m\u001b[0;34m]\u001b[0m\u001b[0;34m)\u001b[0m  \u001b[0;31m# Ensure it's a vector\u001b[0m\u001b[0;34m\u001b[0m\u001b[0;34m\u001b[0m\u001b[0m\n\u001b[0;32m-> 1698\u001b[0;31m     \u001b[0moutput\u001b[0m \u001b[0;34m=\u001b[0m \u001b[0mfill\u001b[0m\u001b[0;34m(\u001b[0m\u001b[0mshape\u001b[0m\u001b[0;34m,\u001b[0m \u001b[0mconstant\u001b[0m\u001b[0;34m(\u001b[0m\u001b[0mone\u001b[0m\u001b[0;34m,\u001b[0m \u001b[0mdtype\u001b[0m\u001b[0;34m=\u001b[0m\u001b[0mdtype\u001b[0m\u001b[0;34m)\u001b[0m\u001b[0;34m,\u001b[0m \u001b[0mname\u001b[0m\u001b[0;34m=\u001b[0m\u001b[0mname\u001b[0m\u001b[0;34m)\u001b[0m\u001b[0;34m\u001b[0m\u001b[0;34m\u001b[0m\u001b[0m\n\u001b[0m\u001b[1;32m   1699\u001b[0m   \u001b[0;32massert\u001b[0m \u001b[0moutput\u001b[0m\u001b[0;34m.\u001b[0m\u001b[0mdtype\u001b[0m\u001b[0;34m.\u001b[0m\u001b[0mbase_dtype\u001b[0m \u001b[0;34m==\u001b[0m \u001b[0mdtype\u001b[0m\u001b[0;34m\u001b[0m\u001b[0;34m\u001b[0m\u001b[0m\n\u001b[1;32m   1700\u001b[0m   \u001b[0;32mreturn\u001b[0m \u001b[0moutput\u001b[0m\u001b[0;34m\u001b[0m\u001b[0;34m\u001b[0m\u001b[0m\n",
      "\u001b[0;32m/usr/local/lib/python3.6/dist-packages/tensorflow/python/ops/gen_array_ops.py\u001b[0m in \u001b[0;36mfill\u001b[0;34m(dims, value, name)\u001b[0m\n\u001b[1;32m   2877\u001b[0m   \u001b[0;32mif\u001b[0m \u001b[0m_ctx\u001b[0m \u001b[0;32mis\u001b[0m \u001b[0;32mNone\u001b[0m \u001b[0;32mor\u001b[0m \u001b[0;32mnot\u001b[0m \u001b[0m_ctx\u001b[0m\u001b[0;34m.\u001b[0m\u001b[0m_eager_context\u001b[0m\u001b[0;34m.\u001b[0m\u001b[0mis_eager\u001b[0m\u001b[0;34m:\u001b[0m\u001b[0;34m\u001b[0m\u001b[0;34m\u001b[0m\u001b[0m\n\u001b[1;32m   2878\u001b[0m     _, _, _op = _op_def_lib._apply_op_helper(\n\u001b[0;32m-> 2879\u001b[0;31m         \"Fill\", dims=dims, value=value, name=name)\n\u001b[0m\u001b[1;32m   2880\u001b[0m     \u001b[0m_result\u001b[0m \u001b[0;34m=\u001b[0m \u001b[0m_op\u001b[0m\u001b[0;34m.\u001b[0m\u001b[0moutputs\u001b[0m\u001b[0;34m[\u001b[0m\u001b[0;34m:\u001b[0m\u001b[0;34m]\u001b[0m\u001b[0;34m\u001b[0m\u001b[0;34m\u001b[0m\u001b[0m\n\u001b[1;32m   2881\u001b[0m     \u001b[0m_inputs_flat\u001b[0m \u001b[0;34m=\u001b[0m \u001b[0m_op\u001b[0m\u001b[0;34m.\u001b[0m\u001b[0minputs\u001b[0m\u001b[0;34m\u001b[0m\u001b[0;34m\u001b[0m\u001b[0m\n",
      "\u001b[0;32m/usr/local/lib/python3.6/dist-packages/tensorflow/python/framework/op_def_library.py\u001b[0m in \u001b[0;36m_apply_op_helper\u001b[0;34m(self, op_type_name, name, **keywords)\u001b[0m\n\u001b[1;32m    785\u001b[0m         op = g.create_op(op_type_name, inputs, output_types, name=scope,\n\u001b[1;32m    786\u001b[0m                          \u001b[0minput_types\u001b[0m\u001b[0;34m=\u001b[0m\u001b[0minput_types\u001b[0m\u001b[0;34m,\u001b[0m \u001b[0mattrs\u001b[0m\u001b[0;34m=\u001b[0m\u001b[0mattr_protos\u001b[0m\u001b[0;34m,\u001b[0m\u001b[0;34m\u001b[0m\u001b[0;34m\u001b[0m\u001b[0m\n\u001b[0;32m--> 787\u001b[0;31m                          op_def=op_def)\n\u001b[0m\u001b[1;32m    788\u001b[0m       \u001b[0;32mreturn\u001b[0m \u001b[0moutput_structure\u001b[0m\u001b[0;34m,\u001b[0m \u001b[0mop_def\u001b[0m\u001b[0;34m.\u001b[0m\u001b[0mis_stateful\u001b[0m\u001b[0;34m,\u001b[0m \u001b[0mop\u001b[0m\u001b[0;34m\u001b[0m\u001b[0;34m\u001b[0m\u001b[0m\n\u001b[1;32m    789\u001b[0m \u001b[0;34m\u001b[0m\u001b[0m\n",
      "\u001b[0;32m/usr/local/lib/python3.6/dist-packages/tensorflow/python/util/deprecation.py\u001b[0m in \u001b[0;36mnew_func\u001b[0;34m(*args, **kwargs)\u001b[0m\n\u001b[1;32m    486\u001b[0m                 \u001b[0;34m'in a future version'\u001b[0m \u001b[0;32mif\u001b[0m \u001b[0mdate\u001b[0m \u001b[0;32mis\u001b[0m \u001b[0;32mNone\u001b[0m \u001b[0;32melse\u001b[0m \u001b[0;34m(\u001b[0m\u001b[0;34m'after %s'\u001b[0m \u001b[0;34m%\u001b[0m \u001b[0mdate\u001b[0m\u001b[0;34m)\u001b[0m\u001b[0;34m,\u001b[0m\u001b[0;34m\u001b[0m\u001b[0;34m\u001b[0m\u001b[0m\n\u001b[1;32m    487\u001b[0m                 instructions)\n\u001b[0;32m--> 488\u001b[0;31m       \u001b[0;32mreturn\u001b[0m \u001b[0mfunc\u001b[0m\u001b[0;34m(\u001b[0m\u001b[0;34m*\u001b[0m\u001b[0margs\u001b[0m\u001b[0;34m,\u001b[0m \u001b[0;34m**\u001b[0m\u001b[0mkwargs\u001b[0m\u001b[0;34m)\u001b[0m\u001b[0;34m\u001b[0m\u001b[0;34m\u001b[0m\u001b[0m\n\u001b[0m\u001b[1;32m    489\u001b[0m     return tf_decorator.make_decorator(func, new_func, 'deprecated',\n\u001b[1;32m    490\u001b[0m                                        _add_deprecated_arg_notice_to_docstring(\n",
      "\u001b[0;32m/usr/local/lib/python3.6/dist-packages/tensorflow/python/framework/ops.py\u001b[0m in \u001b[0;36mcreate_op\u001b[0;34m(***failed resolving arguments***)\u001b[0m\n\u001b[1;32m   3270\u001b[0m           \u001b[0minput_types\u001b[0m\u001b[0;34m=\u001b[0m\u001b[0minput_types\u001b[0m\u001b[0;34m,\u001b[0m\u001b[0;34m\u001b[0m\u001b[0;34m\u001b[0m\u001b[0m\n\u001b[1;32m   3271\u001b[0m           \u001b[0moriginal_op\u001b[0m\u001b[0;34m=\u001b[0m\u001b[0mself\u001b[0m\u001b[0;34m.\u001b[0m\u001b[0m_default_original_op\u001b[0m\u001b[0;34m,\u001b[0m\u001b[0;34m\u001b[0m\u001b[0;34m\u001b[0m\u001b[0m\n\u001b[0;32m-> 3272\u001b[0;31m           op_def=op_def)\n\u001b[0m\u001b[1;32m   3273\u001b[0m       \u001b[0mself\u001b[0m\u001b[0;34m.\u001b[0m\u001b[0m_create_op_helper\u001b[0m\u001b[0;34m(\u001b[0m\u001b[0mret\u001b[0m\u001b[0;34m,\u001b[0m \u001b[0mcompute_device\u001b[0m\u001b[0;34m=\u001b[0m\u001b[0mcompute_device\u001b[0m\u001b[0;34m)\u001b[0m\u001b[0;34m\u001b[0m\u001b[0;34m\u001b[0m\u001b[0m\n\u001b[1;32m   3274\u001b[0m     \u001b[0;32mreturn\u001b[0m \u001b[0mret\u001b[0m\u001b[0;34m\u001b[0m\u001b[0;34m\u001b[0m\u001b[0m\n",
      "\u001b[0;32m/usr/local/lib/python3.6/dist-packages/tensorflow/python/framework/ops.py\u001b[0m in \u001b[0;36m__init__\u001b[0;34m(self, node_def, g, inputs, output_types, control_inputs, input_types, original_op, op_def)\u001b[0m\n\u001b[1;32m   1788\u001b[0m           op_def, inputs, node_def.attr)\n\u001b[1;32m   1789\u001b[0m       self._c_op = _create_c_op(self._graph, node_def, grouped_inputs,\n\u001b[0;32m-> 1790\u001b[0;31m                                 control_input_ops)\n\u001b[0m\u001b[1;32m   1791\u001b[0m \u001b[0;34m\u001b[0m\u001b[0m\n\u001b[1;32m   1792\u001b[0m     \u001b[0;31m# Initialize self._outputs.\u001b[0m\u001b[0;34m\u001b[0m\u001b[0;34m\u001b[0m\u001b[0;34m\u001b[0m\u001b[0m\n",
      "\u001b[0;32m/usr/local/lib/python3.6/dist-packages/tensorflow/python/framework/ops.py\u001b[0m in \u001b[0;36m_create_c_op\u001b[0;34m(graph, node_def, inputs, control_inputs)\u001b[0m\n\u001b[1;32m   1627\u001b[0m   \u001b[0;32mexcept\u001b[0m \u001b[0merrors\u001b[0m\u001b[0;34m.\u001b[0m\u001b[0mInvalidArgumentError\u001b[0m \u001b[0;32mas\u001b[0m \u001b[0me\u001b[0m\u001b[0;34m:\u001b[0m\u001b[0;34m\u001b[0m\u001b[0;34m\u001b[0m\u001b[0m\n\u001b[1;32m   1628\u001b[0m     \u001b[0;31m# Convert to ValueError for backwards compatibility.\u001b[0m\u001b[0;34m\u001b[0m\u001b[0;34m\u001b[0m\u001b[0;34m\u001b[0m\u001b[0m\n\u001b[0;32m-> 1629\u001b[0;31m     \u001b[0;32mraise\u001b[0m \u001b[0mValueError\u001b[0m\u001b[0;34m(\u001b[0m\u001b[0mstr\u001b[0m\u001b[0;34m(\u001b[0m\u001b[0me\u001b[0m\u001b[0;34m)\u001b[0m\u001b[0;34m)\u001b[0m\u001b[0;34m\u001b[0m\u001b[0;34m\u001b[0m\u001b[0m\n\u001b[0m\u001b[1;32m   1630\u001b[0m \u001b[0;34m\u001b[0m\u001b[0m\n\u001b[1;32m   1631\u001b[0m   \u001b[0;32mreturn\u001b[0m \u001b[0mc_op\u001b[0m\u001b[0;34m\u001b[0m\u001b[0;34m\u001b[0m\u001b[0m\n",
      "\u001b[0;31mValueError\u001b[0m: Fill dimensions must be >= 0 for 'MixtureSameFamily_7/sample/pad_mix_dims/ones' (op: 'Fill') with input shapes: [1], [] and with input tensors computed as partial shapes: input[0] = [?]."
     ]
    }
   ],
   "source": [
    "mu = tf.placeholder(shape=(None, None, None, None, 1, 8), dtype=float32)\n",
    "unconstrained_sigma = tf.placeholder(shape=(None, None, None, None, 1, 8), dtype=float32)\n",
    "probs = tf.placeholder(shape=(None, None, None, None, 1, 8), dtype=float32)\n",
    "\n",
    "sigma = tf.nn.relu(unconstrained_sigma) + 1e-2\n",
    "# mu = tf.expand_dims(mu, -1)\n",
    "# sigma = tf.expand_dims(sigma, -1)\n",
    "print('\\nmu\\n', mu)\n",
    "print('\\nsigma\\n', sigma)\n",
    "print('\\nprobs\\n', probs)\n",
    "\n",
    "\n",
    "\n",
    "gmm = tfd.MixtureSameFamily(\n",
    "    mixture_distribution=tfd.Categorical(probs=probs),\n",
    "    components_distribution=tfd.MultivariateNormalDiag(loc=mu, scale_diag=sigma))\n",
    "#     components_distribution=tfd.Normal(loc=mu, scale=sigma))                                                                                                                                                                                                                     \n",
    "print('\\ngmm\\n', gmm)\n",
    "\n",
    "print('\\nsample now\\n')\n",
    "sample = (gmm.sample())\n",
    "\n",
    "n = 8\n",
    "muv = np.arange(1*n**3 * 8).reshape(1, n, n, n, 1, 8)\n",
    "sigmav = np.arange(1*n**3 * 8).reshape(1, n, n, n, 1, 8)\n",
    "probsv = np.arange(1*n**3 * 8).reshape(1, n, n, n, 1, 8)\n",
    "\n",
    "with tf.Session() as sess:\n",
    "    sess.run(tf.initializers.global_variables())\n",
    "    sess.run(sample, {mu:muv, unconstrained_sigma:sigmav, probs:probsv})"
   ]
  },
  {
   "cell_type": "code",
   "execution_count": null,
   "metadata": {},
   "outputs": [],
   "source": []
  }
 ],
 "metadata": {
  "kernelspec": {
   "display_name": "Python 3",
   "language": "python",
   "name": "python3"
  },
  "language_info": {
   "codemirror_mode": {
    "name": "ipython",
    "version": 3
   },
   "file_extension": ".py",
   "mimetype": "text/x-python",
   "name": "python",
   "nbconvert_exporter": "python",
   "pygments_lexer": "ipython3",
   "version": "3.6.7"
  }
 },
 "nbformat": 4,
 "nbformat_minor": 2
}
