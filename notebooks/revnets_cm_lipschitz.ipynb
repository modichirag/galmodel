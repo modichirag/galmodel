{
 "cells": [
  {
   "cell_type": "code",
   "execution_count": 1,
   "metadata": {},
   "outputs": [
    {
     "name": "stdout",
     "output_type": "stream",
     "text": [
      "Populating the interactive namespace from numpy and matplotlib\n"
     ]
    }
   ],
   "source": [
    "import os\n",
    "os.environ[\"CUDA_VISIBLE_DEVICES\"] = \"0\"\n",
    "%pylab inline\n",
    "%load_ext autoreload\n",
    "%autoreload 2\n"
   ]
  },
  {
   "cell_type": "code",
   "execution_count": 5,
   "metadata": {},
   "outputs": [],
   "source": [
    "import numpy as np\n",
    "import matplotlib.pyplot as plt\n",
    "#\n",
    "import sys\n",
    "sys.path.append('../code/utils/')\n",
    "sys.path.append('../code')\n",
    "import tools\n",
    "from layers import wide_resnet\n",
    "#import datalib as dlib\n",
    "import datatools as dtools\n",
    "from time import time\n",
    "#\n",
    "import tensorflow as tf\n",
    "import tensorflow.contrib.slim as slim\n",
    "from tensorflow.contrib.slim import add_arg_scope\n",
    "import tensorflow_probability\n",
    "tfd = tensorflow_probability.distributions\n",
    "import tensorflow_probability as tfp\n",
    "tfb = tfp.bijectors\n",
    "slim = tf.contrib.slim\n",
    "from tensorflow.python.framework import constant_op\n",
    "from tensorflow.python.ops import gradients_impl\n",
    "\n",
    "\n",
    "\n",
    "import tensorflow_hub as hub\n",
    "tfd = tensorflow_probability.distributions\n",
    "tfd = tfp.distributions\n",
    "tfb = tfp.bijectors\n",
    "\n",
    "\n",
    "# tf.enable_eager_execution()\n",
    "\n",
    "#############################\n",
    "seed_in = 3\n",
    "from numpy.random import seed\n",
    "seed(seed_in)\n",
    "from tensorflow import set_random_seed\n",
    "set_random_seed(seed_in)\n",
    "\n",
    "bs = 400\n",
    "nc, ncf = 128, 512\n",
    "ncp = 128\n",
    "step, stepf = 5, 40\n",
    "# path = '/data2/cosmo4d/'\n",
    "path = '../data/z00//'\n",
    "\n",
    "ftype = 'L%04d_N%04d_S%04d_%02dstep/'\n",
    "ftypefpm = 'L%04d_N%04d_S%04d_%02dstep_fpm/'\n",
    "numd = 1e-3\n",
    "num = int(numd*bs**3)\n",
    "R1 = 3\n",
    "R2 = 3*1.2\n",
    "kny = np.pi*ncp/bs\n",
    "kk = tools.fftk((ncp, ncp, ncp), bs)\n",
    "seeds = [100, 200, 300, 400]\n",
    "seeds = [100]\n"
   ]
  },
  {
   "cell_type": "markdown",
   "metadata": {},
   "source": [
    "# Training data set"
   ]
  },
  {
   "cell_type": "code",
   "execution_count": 6,
   "metadata": {},
   "outputs": [],
   "source": [
    "cube_sizes = np.array([16, 32, 64, 128])\n",
    "num_cubes= 500#(500*8/cube_sizes).astype('int')\n",
    "pad = 0\n",
    "cube_sizesft = cube_sizes + 2*pad\n",
    "max_offset = ncp - cube_sizes\n",
    "ftname = ['cic']\n",
    "tgname = ['pnn']\n",
    "nchannels = len(ftname)\n",
    "rprob = 0.5"
   ]
  },
  {
   "cell_type": "code",
   "execution_count": 7,
   "metadata": {},
   "outputs": [
    {
     "name": "stdout",
     "output_type": "stream",
     "text": [
      "All the mesh have been generated for seed = 100\n",
      "For size =  16\n",
      "Length of targets =  1\n",
      "Supplemented by rotation :  0\n",
      "For size =  32\n",
      "Length of targets =  1\n",
      "Supplemented by rotation :  0\n",
      "For size =  64\n",
      "Length of targets =  1\n",
      "Supplemented by rotation :  0\n",
      "For size =  128\n",
      "(125, 16, 16, 16, 1) (125, 16, 16, 16, 1)\n",
      "(62, 32, 32, 32, 1) (62, 32, 32, 32, 1)\n",
      "(31, 64, 64, 64, 1) (31, 64, 64, 64, 1)\n",
      "(1, 128, 128, 128, 1) (1, 128, 128, 128, 1)\n"
     ]
    }
   ],
   "source": [
    "   \n",
    "#############################\n",
    "##Read data and generate meshes\n",
    "meshes = {}\n",
    "cube_features, cube_target = [[] for i in range(len(cube_sizes))], [[] for i in range(len(cube_sizes))]\n",
    "\n",
    "for seed in seeds:\n",
    "    mesh = {}\n",
    "    partp = tools.readbigfile(path + ftypefpm%(bs, nc, seed, step) + 'dynamic/1/Position/')\n",
    "    mesh['cic'] = tools.paintcic(partp, bs, ncp)\n",
    "    mesh['R1'] = tools.fingauss(mesh['cic'], kk, 10, kny)                                                                                                                                                                                                                                \n",
    "\n",
    "    hmesh = {}\n",
    "    ##Uncomment for galaxies\n",
    "#     hpath = path + ftype%(bs, ncf, seed, stepf) + 'galaxies_n05/galcat/'\n",
    "#     hposd = tools.readbigfile(hpath + 'Position/')\n",
    "#     massd = tools.readbigfile(hpath + 'Mass/').reshape(-1)*1e10\n",
    "#     galtype = tools.readbigfile(hpath + 'gal_type/').reshape(-1).astype(bool)\n",
    "#     hmesh['pnnsat'] = tools.paintnn(hposd[galtype], bs, ncp)\n",
    "#     hmesh['pnncen'] = tools.paintnn(hposd[~galtype], bs, ncp)\n",
    "#     hmesh['pnn'] = tools.paintnn(hposd, bs, ncp)\n",
    "#     targetmesh = [hmesh['pnncen'], hmesh['pnnsat']]\n",
    "    \n",
    "    hposall = tools.readbigfile(path + ftype%(bs, ncf, seed, stepf) + 'FOF/PeakPosition/')[1:]    \n",
    "    hposd = hposall[:num].copy()\n",
    "    hmesh['pnn'] = tools.paintnn(hposd, bs, ncp)\n",
    "    hmesh['pcic'] = tools.paintcic(hposd, bs, ncp)\n",
    "    massall = tools.readbigfile(path + ftype%(bs, ncf, seed, stepf) + 'FOF/Mass/')[1:]    \n",
    "    massd = massall[:num].copy().reshape(-1)*1e10\n",
    "    hmesh['mnn'] = tools.paintnn(hposd, bs, ncp, massd)\n",
    "    hmesh['lmnn'] = np.log(1+hmesh['mnn'])\n",
    "    targetmesh = [hmesh[tgname[0]]]\n",
    "\n",
    "    meshes[seed] = [mesh, hmesh]\n",
    "\n",
    "    print('All the mesh have been generated for seed = %d'%seed)\n",
    "\n",
    "    #Create training voxels\n",
    "    ftlist = [mesh[i].copy() for i in ftname]\n",
    "    ftlistpad = [np.pad(i, pad, 'wrap') for i in ftlist]\n",
    "    ntarget = len(targetmesh)\n",
    "\n",
    "    for i, size in enumerate(cube_sizes):\n",
    "        print('For size = ', size)\n",
    "        if size==nc:\n",
    "            features = [np.stack(ftlistpad, axis=-1)]\n",
    "            target = [np.stack(targetmesh, axis=-1)]\n",
    "        else:\n",
    "            numcubes = int(num_cubes/size*4)\n",
    "            features, target = dtools.randomvoxels(ftlistpad, targetmesh, numcubes, max_offset[i],\n",
    "                                            size, cube_sizesft[i], seed=seed, rprob=0)\n",
    "        cube_features[i] = cube_features[i] + features\n",
    "        cube_target[i] = cube_target[i] + target\n",
    "\n",
    "# #\n",
    "for i in range(cube_sizes.size):\n",
    "    cube_target[i] = np.stack(cube_target[i],axis=0)\n",
    "    cube_features[i] = np.stack(cube_features[i],axis=0)\n",
    "    print(cube_features[i].shape, cube_target[i].shape)\n",
    "\n",
    "    \n"
   ]
  },
  {
   "cell_type": "code",
   "execution_count": 8,
   "metadata": {},
   "outputs": [
    {
     "data": {
      "image/png": "[encoded data removed]",
      "text/plain": [
       "<Figure size 576x360 with 2 Axes>"
      ]
     },
     "metadata": {
      "needs_background": "light"
     },
     "output_type": "display_data"
    }
   ],
   "source": [
    "fig, ax = plt.subplots(1, nchannels+ntarget, figsize = (nchannels*4+4, 5))\n",
    "n = 10\n",
    "for i in range(nchannels):\n",
    "    ax[i].imshow(cube_features[0][n][:,:,:,i].sum(axis=0))\n",
    "    ax[i].set_title(ftname[i])\n",
    "for j in range(ntarget):\n",
    "    ax[i+j+1].imshow(cube_target[0][n][:,:,:,j].sum(axis=0))\n",
    "    ax[i+j+1].set_title('Target %d'%j)\n",
    "# ax[-1].imshow(cube_target[n][:,:,:,0].sum(axis=0))\n",
    "# ax[-1].set_title('Target')"
   ]
  },
  {
   "cell_type": "code",
   "execution_count": 9,
   "metadata": {},
   "outputs": [
    {
     "data": {
      "text/plain": [
       "4.0"
      ]
     },
     "execution_count": 9,
     "metadata": {},
     "output_type": "execute_result"
    }
   ],
   "source": [
    "cube_target[0].max()"
   ]
  },
  {
   "cell_type": "markdown",
   "metadata": {},
   "source": [
    "# Model"
   ]
  },
  {
   "cell_type": "code",
   "execution_count": 200,
   "metadata": {},
   "outputs": [],
   "source": [
    "  \n",
    "\n",
    "class Squeeze3d(tfb.Reshape):\n",
    "    \"\"\"\n",
    "    Borrowed from https://github.com/openai/glow/blob/master/tfops.py\n",
    "    \"\"\"\n",
    "    \n",
    "    def __init__(self,\n",
    "                 event_shape_in,\n",
    "                 factor=2,\n",
    "                 is_constant_jacobian=True,\n",
    "                 validate_args=False,\n",
    "                 name=None):\n",
    "\n",
    "        assert factor >= 1\n",
    "        name = name or \"squeeze\"\n",
    "        self.factor = factor\n",
    "        event_shape_out = 1*event_shape_in\n",
    "        event_shape_out[0] //=2\n",
    "        event_shape_out[1] //=2\n",
    "        event_shape_out[2] //=2\n",
    "        event_shape_out[3] *=8\n",
    "        self.event_shape_out = event_shape_out\n",
    "        \n",
    "        super(Squeeze3d, self).__init__(\n",
    "            event_shape_out=event_shape_out,\n",
    "            event_shape_in=event_shape_in,\n",
    "        validate_args=validate_args,\n",
    "        name=name)\n",
    "    \n",
    "    def _forward(self, x):        \n",
    "        if self.factor == 1:\n",
    "            return x\n",
    "        factor = self.factor\n",
    "\n",
    "        shape = tf.shape(x)\n",
    "        height = shape[1]\n",
    "        width = shape[2]\n",
    "        length = shape[3]\n",
    "        n_channels = x.get_shape()[4]\n",
    "\n",
    "#         print(height, width, length, n_channels )\n",
    "#         assert height % factor == 0 and width % factor == 0 and length % factor == 0\n",
    "        x = tf.reshape(x, [-1, height//factor, factor,\n",
    "                           width//factor, factor, length//factor, factor, n_channels])\n",
    "        x = tf.transpose(x, [0, 1, 3, 5, 7, 2, 4, 6])\n",
    "        x = tf.reshape(x, [-1, height//factor, width//factor, \n",
    "                               length//factor, n_channels*factor**3])\n",
    "        return x\n",
    "    \n",
    "    def _inverse(self, x):        \n",
    "        if self.factor == 1:\n",
    "            return x\n",
    "        factor = self.factor\n",
    "\n",
    "        shape = tf.shape(x)\n",
    "        height = shape[1]\n",
    "        width = shape[2]\n",
    "        length = shape[3]\n",
    "        n_channels = int(x.get_shape()[4])\n",
    "        \n",
    "#         print(height, width, length, n_channels )\n",
    "        assert n_channels >= 8 and n_channels % 8 == 0\n",
    "        x = tf.reshape(\n",
    "            x, [-1, height, width, length, int(n_channels/factor**3), factor, factor, factor])\n",
    "        x = tf.transpose(x, [0, 1, 5, 2, 6, 3, 7, 4])\n",
    "        x = tf.reshape(x, (-1, height*factor,\n",
    "                           width*factor, height*factor, int(n_channels/factor**3)))\n",
    "        return x\n",
    "    \n",
    "\n",
    "    \n"
   ]
  },
  {
   "cell_type": "code",
   "execution_count": 201,
   "metadata": {},
   "outputs": [],
   "source": [
    "# n = 4\n",
    "# tmp = tf.constant(np.arange(n**3).reshape(1, n, n, n, 1))\n",
    "# sq = Squeeze3d([n, n, n, 1])\n",
    "# tmp2 = sq.forward(tmp)\n",
    "# tmp2.shape\n",
    "# tmp3 = sq.inverse(tmp2)\n",
    "# tmp3 - tmp"
   ]
  },
  {
   "cell_type": "code",
   "execution_count": 202,
   "metadata": {},
   "outputs": [],
   "source": [
    "\n",
    "from layers import wide_resnet\n",
    "h = 0.1\n",
    "\n",
    "\n",
    "class iRevNetsimple(tfb.Bijector):\n",
    "\n",
    "    def __init__(self,\n",
    "       h=0.1,\n",
    "       is_constant_jacobian=True,\n",
    "       validate_args=False,\n",
    "       name=None, kernel_size=3):\n",
    "        self.h = h\n",
    "        self.kernel_size = kernel_size\n",
    "        name = name or \"revnet\"\n",
    "        super(iRevNetsimple, self).__init__(\n",
    "        forward_min_event_ndims=3,\n",
    "        is_constant_jacobian=is_constant_jacobian,\n",
    "        validate_args=validate_args,\n",
    "        name=name)\n",
    "        \n",
    "    def _forward(self, x):\n",
    "        # Split the input in half\n",
    "        x1, x2 = tf.split(x, num_or_size_splits=2, axis=-1)\n",
    "        fx2 = tf.layers.conv3d(x2, x2.shape[-1], self.kernel_size,  strides=1, #training=True, \n",
    "                          name=self.name+'/bottle', \n",
    "                               reuse=tf.AUTO_REUSE, padding='same' )\n",
    "#         fx2 = wide_resnet(x2, x2.shape[-1],  #training=True, \n",
    "#                           scope=self.name+'/bottle')\n",
    "#         fx2 = tf.identity(x2)\n",
    "        y1 = x1 + self.h*fx2\n",
    "        return tf.concat([x2, y1], axis=-1)\n",
    "    \n",
    "    def _inverse(self, x, kernel_size=3):\n",
    "        x2, y1 = tf.split(x, num_or_size_splits=2, axis=-1)\n",
    "        Fx2 = - self.h*tf.layers.conv3d(x2, x2.shape[-1], self.kernel_size, strides=1, #training=True, \n",
    "                                   name=self.name+'/bottle', \n",
    "                                        reuse=tf.AUTO_REUSE , padding='same' )\n",
    "#         Fx2 = - self.h*wide_resnet(x2, x2.shape[-1], scope=self.name+'/bottle', )\n",
    "        x1 = Fx2 + y1\n",
    "        return tf.concat([x1, x2], axis=-1)\n",
    "\n",
    "    def _inverse_log_det_jacobian(self, y):\n",
    "        return constant_op.constant(0., x.dtype.base_dtype)\n",
    "\n",
    "    def _forward_log_det_jacobian(self, x):     \n",
    "        return constant_op.constant(0., x.dtype.base_dtype)\n",
    "    \n",
    "    \n",
    "    "
   ]
  },
  {
   "cell_type": "code",
   "execution_count": 203,
   "metadata": {},
   "outputs": [],
   "source": [
    "\n",
    "from tensorflow.python.framework import ops\n",
    "from tensorflow.python.ops import array_ops\n",
    "from tensorflow.python.ops.losses import losses\n",
    "\n",
    "def wasserstein_gradient_penalty(\n",
    "    real_data,\n",
    "    generated_data,\n",
    "    generator_inputs,\n",
    "    discriminator_fn,\n",
    "    discriminator_scope,\n",
    "    epsilon=1e-10,\n",
    "    target=1.0,\n",
    "    one_sided=False,\n",
    "    weights=1.0,\n",
    "    scope=None,\n",
    "    loss_collection=ops.GraphKeys.LOSSES,\n",
    "    reduction=losses.Reduction.SUM_BY_NONZERO_WEIGHTS,\n",
    "    add_summaries=False):\n",
    "  \"\"\"The gradient penalty for the Wasserstein discriminator loss.\n",
    "  See `Improved Training of Wasserstein GANs`\n",
    "  (https://arxiv.org/abs/1704.00028) for more details.\n",
    "  Args:\n",
    "    real_data: Real data.\n",
    "    generated_data: Output of the generator.\n",
    "    generator_inputs: Exact argument to pass to the generator, which is used\n",
    "      as optional conditioning to the discriminator.\n",
    "    discriminator_fn: A discriminator function that conforms to TF-GAN API.\n",
    "    discriminator_scope: If not `None`, reuse discriminators from this scope.\n",
    "    epsilon: A small positive number added for numerical stability when\n",
    "      computing the gradient norm.\n",
    "    target: Optional Python number or `Tensor` indicating the target value of\n",
    "      gradient norm. Defaults to 1.0.\n",
    "    one_sided: If `True`, penalty proposed in https://arxiv.org/abs/1709.08894\n",
    "      is used. Defaults to `False`.\n",
    "    weights: Optional `Tensor` whose rank is either 0, or the same rank as\n",
    "      `real_data` and `generated_data`, and must be broadcastable to\n",
    "      them (i.e., all dimensions must be either `1`, or the same as the\n",
    "      corresponding dimension).\n",
    "    scope: The scope for the operations performed in computing the loss.\n",
    "    loss_collection: collection to which this loss will be added.\n",
    "    reduction: A `tf.losses.Reduction` to apply to loss.\n",
    "    add_summaries: Whether or not to add summaries for the loss.\n",
    "    A loss Tensor. The shape depends on `reduction`.\n",
    "  Raises:\n",
    "    ValueError: If the rank of data Tensors is unknown.\n",
    "  \"\"\"\n",
    "  with ops.name_scope(scope, 'wasserstein_gradient_penalty',\n",
    "                      (real_data, generated_data)) as scope:\n",
    "    real_data = ops.convert_to_tensor(real_data)\n",
    "    generated_data = ops.convert_to_tensor(generated_data)\n",
    "    if real_data.shape.ndims is None:\n",
    "      raise ValueError('`real_data` can\\'t have unknown rank.')\n",
    "    if generated_data.shape.ndims is None:\n",
    "      raise ValueError('`generated_data` can\\'t have unknown rank.')\n",
    "\n",
    "    differences = generated_data - real_data\n",
    "    batch_size = differences.shape.dims[0].value or array_ops.shape(\n",
    "        differences)[0]\n",
    "    alpha_shape = [batch_size] + [1] * (differences.shape.ndims - 1)\n",
    "    alpha = random_ops.random_uniform(shape=alpha_shape)\n",
    "    interpolates = real_data + (alpha * differences)\n",
    "\n",
    "#     with ops.name_scope(None):  # Clear scope so update ops are added properly.\n",
    "#       # Reuse variables if variables already exists.\n",
    "#       with variable_scope.variable_scope(discriminator_scope, 'gpenalty_dscope',\n",
    "#                                          reuse=variable_scope.AUTO_REUSE):\n",
    "# #         disc_interpolates = discriminator_fn(interpolates, generator_inputs)\n",
    "#         disc_interpolates = discriminator_fn(interpolates)\n",
    "    disc_interpolates = discriminator_fn(interpolates)\n",
    "\n",
    "    if isinstance(disc_interpolates, tuple):\n",
    "      # ACGAN case: disc outputs more than one tensor\n",
    "      disc_interpolates = disc_interpolates[0]\n",
    "\n",
    "    gradients = gradients_impl.gradients(disc_interpolates, interpolates)[0]\n",
    "    gradient_squares = math_ops.reduce_sum(\n",
    "        math_ops.square(gradients), axis=list(range(1, gradients.shape.ndims)))\n",
    "    # Propagate shape information, if possible.\n",
    "    if isinstance(batch_size, int):\n",
    "      gradient_squares.set_shape([\n",
    "          batch_size] + gradient_squares.shape.as_list()[1:])\n",
    "    # For numerical stability, add epsilon to the sum before taking the square\n",
    "    # root. Note tf.norm does not add epsilon.\n",
    "    slopes = math_ops.sqrt(gradient_squares + epsilon)\n",
    "    penalties = slopes / target - 1.0\n",
    "    if one_sided:\n",
    "      penalties = math_ops.maximum(0., penalties)\n",
    "    penalties_squared = math_ops.square(penalties)\n",
    "#     penalty = losses.compute_weighted_loss(\n",
    "#         penalties_squared, weights, scope=scope,\n",
    "#         loss_collection=loss_collection, reduction=reduction)\n",
    "    penalty = penalties_squared\n",
    "\n",
    "    if add_summaries:\n",
    "      summary.scalar('gradient_penalty_loss', penalty)\n",
    "\n",
    "    return penalty\n",
    "    \n",
    "    \n",
    "    \n"
   ]
  },
  {
   "cell_type": "code",
   "execution_count": 240,
   "metadata": {},
   "outputs": [],
   "source": [
    "softplus = False\n",
    "loss = 'l2'\n",
    "\n",
    "# def _mdn_model_fn(features, labels, n_y, n_mixture, cube_size, dropout, optimizer, mode):\n",
    "def _mdn_model_fn(features, labels, n_y, nchannels, dropout, optimizer, mode, ):\n",
    "\n",
    "    # Check for training mode\n",
    "    is_training = mode == tf.estimator.ModeKeys.TRAIN\n",
    "        \n",
    "    def _module_fn():\n",
    "        \"\"\"\n",
    "        Function building the module\n",
    "        \"\"\"\n",
    "    \n",
    "        feature_layer = tf.placeholder(tf.float32, shape=[None, None, None, None, nchannels], name='input')\n",
    "        obs_layer = tf.placeholder(tf.float32, shape=[None, None, None, None, n_y], name='observations')\n",
    "        shift = tf.Variable(1., dtype=tf.float32, name='shift')\n",
    "        scale = tf.Variable(1., dtype=tf.float32, name='scale')\n",
    "        # Builds the neural network\n",
    "        # ! ny and nchannel need to be the same\n",
    "\n",
    "        cube_size = tf.shape(feature_layer)[1]\n",
    "        batch_size = tf.shape(feature_layer)[0]\n",
    "#         print(cube_size)\n",
    "        chain = tfb.Chain([tfp.bijectors.Affine(shift=shift, scale_identity_multiplier=scale), \n",
    "                    tfb.Invert(Squeeze3d(event_shape_in=[cube_size, cube_size, cube_size, nchannels])),\n",
    "                   iRevNetsimple(name='layer1',h=h),\n",
    "                   iRevNetsimple(name='layer1b',h=h),\n",
    "                   iRevNetsimple(name='layer2',h=h),\n",
    "                   iRevNetsimple(name='layer2b',h=h),\n",
    "                   tfb.Permute(arange(8)[::-1],axis=-1),\n",
    "                   iRevNetsimple(name='layer3',h=h),\n",
    "                   iRevNetsimple(name='layer3b',h=h),\n",
    "                   iRevNetsimple(name='layer4',h=h),\n",
    "                   iRevNetsimple(name='layer4b',h=h),\n",
    "                   tfb.Invert(Squeeze3d(event_shape_in=[cube_size//2,cube_size//2,cube_size//2,nchannels*8])), \n",
    "                   iRevNetsimple(name='layer5',h=h),\n",
    "                   iRevNetsimple(name='layer5b',h=h),\n",
    "                   iRevNetsimple(name='layer6',h=h),\n",
    "                   iRevNetsimple(name='layer6b',h=h),\n",
    "                   tfb.Permute(arange(64)[::-1],axis=-1),\n",
    "                   iRevNetsimple(name='layer15',h=h),\n",
    "                   iRevNetsimple(name='layer15b',h=h),\n",
    "                   iRevNetsimple(name='layer16',h=h),\n",
    "                   iRevNetsimple(name='layer16b',h=h),\n",
    "                   Squeeze3d(event_shape_in=[cube_size//2,cube_size//2,cube_size//2,nchannels*8]), \n",
    "                   iRevNetsimple(name='layer17',h=h),\n",
    "                   iRevNetsimple(name='layer17b',h=h),\n",
    "                   iRevNetsimple(name='layer18',h=h),\n",
    "                   iRevNetsimple(name='layer18b',h=h),\n",
    "                   tfb.Permute(arange(8)[::-1],axis=-1),\n",
    "                   iRevNetsimple(name='layer19',h=h),\n",
    "                   iRevNetsimple(name='layer19b',h=h),\n",
    "                   iRevNetsimple(name='layer20',h=h),\n",
    "                   iRevNetsimple(name='layer20b',h=h),\n",
    "                   Squeeze3d(event_shape_in=[cube_size, cube_size, cube_size, nchannels])])\n",
    "\n",
    "        bijection = chain\n",
    "        \n",
    "\n",
    "        net = bijection.forward(feature_layer, name='lambda')\n",
    "        backnet = bijection.inverse(obs_layer)\n",
    "        \n",
    "        #Forward lipschitz\n",
    "        alpha = 1.\n",
    "        mean, var = tf.nn.moments(feature_layer, axes=-1)\n",
    "        shape = [batch_size, cube_size, cube_size, cube_size, int(nchannels)]\n",
    "\n",
    "        fwdnoise = tf.random_normal(shape, mean=0, stddev=1)\n",
    "        finterpolates = feature_layer + alpha*fwdnoise\n",
    "        #finterpolates = feature_layer + alpha*backnet\n",
    "        \n",
    "        fwd_interpolates = bijection.forward(finterpolates)\n",
    "        gradients = gradients_impl.gradients(fwd_interpolates, finterpolates)[0]\n",
    "        gradient_squares = math_ops.reduce_sum(\n",
    "            math_ops.square(gradients), axis=list(range(1, gradients.shape.ndims)))\n",
    "\n",
    "        slopes = math_ops.sqrt(gradient_squares + 1e-10)\n",
    "        penalties = slopes / 1.0 - 1.0\n",
    "        penalties_squared = math_ops.square(penalties)\n",
    "        lips_fwd_loss = penalties_squared\n",
    "\n",
    "        #Backward lipschitz\n",
    "        alpha = 0.1\n",
    "        mean, var = tf.nn.moments(net, axes=-1)\n",
    "        shape = [batch_size, cube_size, cube_size, cube_size, n_y]\n",
    "        bwdnoise = tf.random_normal(shape, mean=0, stddev=1)\n",
    "#         binterpolates = net + alpha*bwdnoise\n",
    "        #binterpolates = net + alpha*obs_layer\n",
    "        binterpolates = net \n",
    "        \n",
    "        bwd_interpolates = bijection.forward(binterpolates)\n",
    "        gradients = gradients_impl.gradients(bwd_interpolates, binterpolates)[0]\n",
    "        gradient_squares = math_ops.reduce_sum(\n",
    "            math_ops.square(gradients), axis=list(range(1, gradients.shape.ndims)))\n",
    "        \n",
    "        slopes = math_ops.sqrt(gradient_squares + 1e-10)\n",
    "        penalties = slopes / 1.0 - 1.0\n",
    "        penalties_squared = math_ops.square(penalties)\n",
    "        lips_backwd_loss = penalties_squared\n",
    "    \n",
    "\n",
    "        print('lips forward loss :', lips_fwd_loss)\n",
    "        print('lips backward loss :', lips_backwd_loss)\n",
    "        \n",
    "        if softplus:\n",
    "            net = tf.nn.softplus(net)\n",
    "        dist = tfd.Poisson(net+1e-3)\n",
    "\n",
    "        sample = tf.squeeze(dist.sample())                                                                                                                                                                                                                                             \n",
    "        loglik = dist.log_prob(obs_layer)\n",
    "\n",
    "        l2 = tf.reduce_mean(tf.square(tf.subtract(obs_layer, net)))\n",
    "        l1 = tf.reduce_mean(tf.abs(tf.subtract(obs_layer, net)))\n",
    "        \n",
    "\n",
    "        hub.add_signature(inputs={'features':feature_layer, 'labels':obs_layer},\n",
    "                          outputs={'sample':sample, 'loglikelihood':loglik, 'lambda':net,\n",
    "                                   'l2':l2, 'l1':l1, 'lipsfwd':lips_fwd_loss, 'lipsbackwd':lips_backwd_loss})\n",
    "    \n",
    "\n",
    "    # Create model and register module if necessary                                                                                                                                                                                                                                       \n",
    "    spec = hub.create_module_spec(_module_fn)\n",
    "    module = hub.Module(spec, trainable=True)\n",
    "    if isinstance(features,dict):\n",
    "        predictions = module(features, as_dict=True)\n",
    "    else:\n",
    "        predictions = module({'features':features, 'labels':labels}, as_dict=True)\n",
    "\n",
    "    if mode == tf.estimator.ModeKeys.PREDICT:\n",
    "        hub.register_module_for_export(module, \"likelihood\")\n",
    "        return tf.estimator.EstimatorSpec(mode=mode, predictions=predictions)\n",
    "\n",
    "\n",
    "    if loss == 'loglikelihood':\n",
    "         loglik = predictions['loglikelihood']\n",
    "         neg_log_likelihood = -tf.reduce_sum(loglik, axis=-1)\n",
    "         neg_log_likelihood = tf.reduce_mean(neg_log_likelihood)\n",
    "\n",
    "    elif loss == 'l2':\n",
    "        neg_log_likelihood = predictions['l2']\n",
    "    elif loss == 'l1':\n",
    "        neg_log_likelihood = predictions['l1']\n",
    "    else:\n",
    "        print('Loss not specified')\n",
    "\n",
    "    lips_fwd_loss = tf.reduce_mean(predictions['lipsfwd'])\n",
    "    lips_backwd_loss = tf.reduce_mean(predictions['lipsbackwd'])\n",
    "    \n",
    "        \n",
    "    tf.losses.add_loss(neg_log_likelihood)\n",
    "    tf.losses.add_loss(lips_fwd_loss)\n",
    "    tf.losses.add_loss(lips_backwd_loss)\n",
    "    total_loss = tf.losses.get_total_loss(add_regularization_losses=True)\n",
    "\n",
    "    train_op = None\n",
    "    eval_metric_ops = None\n",
    "\n",
    "    # Define optimizer\n",
    "    if mode == tf.estimator.ModeKeys.TRAIN:\n",
    "        update_ops = tf.get_collection(tf.GraphKeys.UPDATE_OPS)\n",
    "        with tf.control_dependencies(update_ops):\n",
    "            train_op = optimizer(learning_rate=0.0001).minimize(loss=total_loss,\n",
    "                                        global_step=tf.train.get_global_step())\n",
    "        tf.summary.scalar('loss', neg_log_likelihood)\n",
    "        tf.summary.scalar('lips_forward', lips_fwd_loss)\n",
    "        tf.summary.scalar('lips_backward', lips_backwd_loss)\n",
    "    elif mode == tf.estimator.ModeKeys.EVAL:\n",
    "        \n",
    "        eval_metric_ops = { \"log_p\": neg_log_likelihood}\n",
    "\n",
    "    return tf.estimator.EstimatorSpec(mode=mode,\n",
    "                                      predictions=predictions,\n",
    "                                      loss=total_loss,\n",
    "                                      train_op=train_op,\n",
    "                                      eval_metric_ops=eval_metric_ops)\n",
    "\n",
    "class MDNEstimator(tf.estimator.Estimator):\n",
    "    \"\"\"An estimator for distribution estimation using Mixture Density Networks.\n",
    "    \"\"\"\n",
    "\n",
    "    def __init__(self,\n",
    "                 n_y,\n",
    "                 nchannels,\n",
    "#                  cube_size,\n",
    "                 optimizer=tf.train.AdamOptimizer,\n",
    "                 dropout=None,\n",
    "                 model_dir=None,\n",
    "                 config=None):\n",
    "        \"\"\"Initializes a `MDNEstimator` instance.\n",
    "        \"\"\"\n",
    "\n",
    "        def _model_fn(features, labels, mode):\n",
    "            return _mdn_model_fn(features, labels, \n",
    "                 n_y, nchannels, #cube_size, \n",
    "                        dropout, optimizer, mode)\n",
    "\n",
    "        super(self.__class__, self).__init__(model_fn=_model_fn,\n",
    "                                             model_dir=model_dir,\n",
    "                                             config=config)"
   ]
  },
  {
   "cell_type": "code",
   "execution_count": null,
   "metadata": {},
   "outputs": [],
   "source": [
    "\n",
    "#         lips_fwd_loss = wasserstein_gradient_penalty(real_data = obs_layer,\n",
    "#                                                      generated_data = net,\n",
    "#                                                      generator_inputs = None,\n",
    "#                                                      discriminator_fn = bijection.forward,\n",
    "#                                                      discriminator_scope=None,\n",
    "#                                                      epsilon=1e-10,\n",
    "#                                                      target=1.0,\n",
    "#                                                      one_sided=False,\n",
    "#                                                      weights=1.0,\n",
    "#                                                      scope=None,\n",
    "#                                                      loss_collection=ops.GraphKeys.LOSSES,\n",
    "#                                                      reduction=losses.Reduction.SUM_BY_NONZERO_WEIGHTS,\n",
    "#                                                      add_summaries=False)\n"
   ]
  },
  {
   "cell_type": "code",
   "execution_count": 241,
   "metadata": {},
   "outputs": [],
   "source": [
    "batch_size = 32\n",
    "\n",
    "def mapping_function(inds):\n",
    "    def extract_batch(inds):\n",
    "\n",
    "        isize = np.random.choice(len(cube_sizes), 1, replace=True)[0]\n",
    "        batch = int(batch_size*8/cube_sizes[isize])\n",
    "        if cube_sizes[isize]==nc : batch = 1\n",
    "        inds = inds[:batch]\n",
    "        trainingsize = cube_features[isize].shape[0]\n",
    "        inds[inds >= trainingsize] =  (inds[inds >= trainingsize])%trainingsize\n",
    "\n",
    "        features = cube_features[isize][inds].astype('float32')\n",
    "        targets = cube_target[isize][inds].astype('float32')\n",
    "\n",
    "        for i in range(batch):\n",
    "            nrotations=0\n",
    "            while (np.random.random() < rprob) & (nrotations < 3):\n",
    "                nrot, ax0, ax1 = np.random.randint(0, 3), *np.random.permutation((0, 1, 2))[:2]\n",
    "                features[i] = np.rot90(features[i], nrot, (ax0, ax1))\n",
    "                targets[i] = np.rot90(targets[i], nrot, (ax0, ax1))\n",
    "                nrotations +=1\n",
    "#             print(batch, isize, i, nrotations, targets[i].shape, targets.shape)                                                                                                                   \n",
    "# #         print(inds)                                                                                                                                                         \n",
    "        return features, targets\n",
    "\n",
    "    ft, tg = tf.py_func(extract_batch, [inds],\n",
    "                        [tf.float32, tf.float32])\n",
    "#     sft = cube_features[isize].shape                                                                                                                                          \n",
    "#     stg = cube_target[isize].shape                                                                                                                                            \n",
    "#     ft.set_shape((None,)+sft[1:])                                                                                                                                             \n",
    "#     tg.set_shape((None,)+stg[1:])                                                                                                                                             \n",
    "    return ft, tg\n",
    "\n",
    "\n",
    "def training_input_fn():\n",
    "    \"\"\"Serving input fn for training data\"\"\"\n",
    "\n",
    "    dataset = tf.data.Dataset.range(len(np.array(cube_features)[0]))\n",
    "    dataset = dataset.repeat().shuffle(1000).batch(batch_size)\n",
    "    dataset = dataset.map(mapping_function)\n",
    "    dataset = dataset.prefetch(16)\n",
    "    return dataset\n",
    "\n",
    "\n",
    "def testing_input_fn():\n",
    "    \"\"\"Serving input fn for testing data\"\"\"\n",
    "    dataset = tf.data.Dataset.range(len(cube_features))\n",
    "    dataset = dataset.batch(16)\n",
    "    dataset = dataset.map(mapping_function)\n",
    "    return dataset"
   ]
  },
  {
   "cell_type": "code",
   "execution_count": 242,
   "metadata": {},
   "outputs": [
    {
     "name": "stdout",
     "output_type": "stream",
     "text": [
      "INFO:tensorflow:Using config: {'_model_dir': './models/n10/test_lips//model/', '_tf_random_seed': None, '_save_summary_steps': 100, '_save_checkpoints_steps': 10000, '_save_checkpoints_secs': None, '_session_config': allow_soft_placement: true\n",
      "graph_options {\n",
      "  rewrite_options {\n",
      "    meta_optimizer_iterations: ONE\n",
      "  }\n",
      "}\n",
      ", '_keep_checkpoint_max': 5, '_keep_checkpoint_every_n_hours': 10000, '_log_step_count_steps': 100, '_train_distribute': None, '_device_fn': None, '_protocol': None, '_eval_distribute': None, '_experimental_distribute': None, '_service': None, '_cluster_spec': <tensorflow.python.training.server_lib.ClusterSpec object at 0x7fda18b0c048>, '_task_type': 'worker', '_task_id': 0, '_global_id_in_cluster': 0, '_master': '', '_evaluation_master': '', '_is_chief': True, '_num_ps_replicas': 0, '_num_worker_replicas': 1}\n"
     ]
    }
   ],
   "source": [
    "savepath = './models/n10/test_lips/'\n",
    "\n",
    "run_config = tf.estimator.RunConfig(save_checkpoints_steps = 10000)\n",
    "\n",
    "model =  MDNEstimator(n_y=ntarget, nchannels=nchannels, dropout=0.95,\n",
    "                      model_dir=savepath + '/model/', config = run_config)\n",
    "#                       model_dir='./tmp/galmodel/model0', config = run_config)"
   ]
  },
  {
   "cell_type": "markdown",
   "metadata": {},
   "source": [
    "# Train"
   ]
  },
  {
   "cell_type": "code",
   "execution_count": 243,
   "metadata": {},
   "outputs": [],
   "source": [
    "%%bash \n",
    "\n",
    "ls './models/n10/test_lips/'\n",
    "\n",
    "# rm -r './models/n10/test_lips/model/'\n"
   ]
  },
  {
   "cell_type": "code",
   "execution_count": 244,
   "metadata": {},
   "outputs": [],
   "source": [
    "from tensorflow.python.ops import random_ops\n",
    "from tensorflow.python.ops import math_ops\n",
    "from tensorflow.python.ops import variable_scope"
   ]
  },
  {
   "cell_type": "code",
   "execution_count": 245,
   "metadata": {
    "scrolled": false
   },
   "outputs": [
    {
     "name": "stdout",
     "output_type": "stream",
     "text": [
      "INFO:tensorflow:Calling model_fn.\n"
     ]
    },
    {
     "name": "stderr",
     "output_type": "stream",
     "text": [
      "/usr/local/lib/python3.6/dist-packages/tensorflow/python/util/tf_inspect.py:75: DeprecationWarning: inspect.getargspec() is deprecated, use inspect.signature() or inspect.getfullargspec()\n",
      "  return _inspect.getargspec(target)\n"
     ]
    },
    {
     "name": "stdout",
     "output_type": "stream",
     "text": [
      "Tensor(\"moments/Squeeze:0\", shape=(?, ?, ?, ?), dtype=float32) Tensor(\"moments/Squeeze_1:0\", shape=(?, ?, ?, ?), dtype=float32) [<tf.Tensor 'strided_slice_1:0' shape=() dtype=int32>, <tf.Tensor 'strided_slice:0' shape=() dtype=int32>, <tf.Tensor 'strided_slice:0' shape=() dtype=int32>, <tf.Tensor 'strided_slice:0' shape=() dtype=int32>, 1]\n",
      "Tensor(\"random_normal:0\", shape=(?, ?, ?, ?, 1), dtype=float32)\n",
      "Tensor(\"Add:0\", shape=(?, ?, ?, ?, 1), dtype=float32)\n",
      "gradients =  Tensor(\"gradients/chain_of_affine_of_invert_squeeze_of_layer1_of_layer1b_of_layer2_of_layer2b_of_permute_of_layer3_of_layer3b_of_layer4_of_layer4b_of_invert_squeeze_of_layer5_of_layer5b_of_layer6_of_layer6b_of_permute_of_layer15_of_layer15b_of_layer16_of_layer16b_of_squeeze_of_layer17_of_layer17b_of_layer18_of_layer18b_of_permute_of_layer19_of_layer19b_of_layer20_of_layer20b_of_squeeze_2/forward/squeeze/forward/Reshape_grad/Reshape:0\", shape=(?, ?, ?, ?, 1), dtype=float32)\n",
      "slopes =  Tensor(\"Sqrt:0\", shape=(?,), dtype=float32)\n",
      "lips forward loss : Tensor(\"Square_1:0\", shape=(?,), dtype=float32)\n",
      "lips backward loss : Tensor(\"Square_3:0\", shape=(?,), dtype=float32)\n",
      "INFO:tensorflow:Saver not created because there are no variables in the graph to restore\n",
      "INFO:tensorflow:Done calling model_fn.\n",
      "INFO:tensorflow:Create CheckpointSaverHook.\n",
      "INFO:tensorflow:Graph was finalized.\n",
      "INFO:tensorflow:Running local_init_op.\n",
      "INFO:tensorflow:Done running local_init_op.\n",
      "INFO:tensorflow:Saving checkpoints for 0 into ./models/n10/test_lips//model/model.ckpt.\n",
      "INFO:tensorflow:loss = 691587.5, step = 0\n",
      "INFO:tensorflow:Saving checkpoints for 100 into ./models/n10/test_lips//model/model.ckpt.\n",
      "INFO:tensorflow:Loss for final step: 11717.469.\n"
     ]
    },
    {
     "data": {
      "text/plain": [
       "<__main__.MDNEstimator at 0x7fda2d0e0c50>"
      ]
     },
     "execution_count": 245,
     "metadata": {},
     "output_type": "execute_result"
    }
   ],
   "source": [
    "model.train(training_input_fn, max_steps=100)"
   ]
  },
  {
   "cell_type": "code",
   "execution_count": 247,
   "metadata": {},
   "outputs": [
    {
     "data": {
      "text/plain": [
       "['beta1_power',\n",
       " 'beta2_power',\n",
       " 'global_step',\n",
       " 'module/layer1/bottle/bias',\n",
       " 'module/layer1/bottle/bias/Adam',\n",
       " 'module/layer1/bottle/bias/Adam_1',\n",
       " 'module/layer1/bottle/kernel',\n",
       " 'module/layer1/bottle/kernel/Adam',\n",
       " 'module/layer1/bottle/kernel/Adam_1',\n",
       " 'module/layer15/bottle/bias',\n",
       " 'module/layer15/bottle/bias/Adam',\n",
       " 'module/layer15/bottle/bias/Adam_1',\n",
       " 'module/layer15/bottle/kernel',\n",
       " 'module/layer15/bottle/kernel/Adam',\n",
       " 'module/layer15/bottle/kernel/Adam_1',\n",
       " 'module/layer15b/bottle/bias',\n",
       " 'module/layer15b/bottle/bias/Adam',\n",
       " 'module/layer15b/bottle/bias/Adam_1',\n",
       " 'module/layer15b/bottle/kernel',\n",
       " 'module/layer15b/bottle/kernel/Adam',\n",
       " 'module/layer15b/bottle/kernel/Adam_1',\n",
       " 'module/layer16/bottle/bias',\n",
       " 'module/layer16/bottle/bias/Adam',\n",
       " 'module/layer16/bottle/bias/Adam_1',\n",
       " 'module/layer16/bottle/kernel',\n",
       " 'module/layer16/bottle/kernel/Adam',\n",
       " 'module/layer16/bottle/kernel/Adam_1',\n",
       " 'module/layer16b/bottle/bias',\n",
       " 'module/layer16b/bottle/bias/Adam',\n",
       " 'module/layer16b/bottle/bias/Adam_1',\n",
       " 'module/layer16b/bottle/kernel',\n",
       " 'module/layer16b/bottle/kernel/Adam',\n",
       " 'module/layer16b/bottle/kernel/Adam_1',\n",
       " 'module/layer17/bottle/bias',\n",
       " 'module/layer17/bottle/bias/Adam',\n",
       " 'module/layer17/bottle/bias/Adam_1',\n",
       " 'module/layer17/bottle/kernel',\n",
       " 'module/layer17/bottle/kernel/Adam',\n",
       " 'module/layer17/bottle/kernel/Adam_1',\n",
       " 'module/layer17b/bottle/bias',\n",
       " 'module/layer17b/bottle/bias/Adam',\n",
       " 'module/layer17b/bottle/bias/Adam_1',\n",
       " 'module/layer17b/bottle/kernel',\n",
       " 'module/layer17b/bottle/kernel/Adam',\n",
       " 'module/layer17b/bottle/kernel/Adam_1',\n",
       " 'module/layer18/bottle/bias',\n",
       " 'module/layer18/bottle/bias/Adam',\n",
       " 'module/layer18/bottle/bias/Adam_1',\n",
       " 'module/layer18/bottle/kernel',\n",
       " 'module/layer18/bottle/kernel/Adam',\n",
       " 'module/layer18/bottle/kernel/Adam_1',\n",
       " 'module/layer18b/bottle/bias',\n",
       " 'module/layer18b/bottle/bias/Adam',\n",
       " 'module/layer18b/bottle/bias/Adam_1',\n",
       " 'module/layer18b/bottle/kernel',\n",
       " 'module/layer18b/bottle/kernel/Adam',\n",
       " 'module/layer18b/bottle/kernel/Adam_1',\n",
       " 'module/layer19/bottle/bias',\n",
       " 'module/layer19/bottle/bias/Adam',\n",
       " 'module/layer19/bottle/bias/Adam_1',\n",
       " 'module/layer19/bottle/kernel',\n",
       " 'module/layer19/bottle/kernel/Adam',\n",
       " 'module/layer19/bottle/kernel/Adam_1',\n",
       " 'module/layer19b/bottle/bias',\n",
       " 'module/layer19b/bottle/bias/Adam',\n",
       " 'module/layer19b/bottle/bias/Adam_1',\n",
       " 'module/layer19b/bottle/kernel',\n",
       " 'module/layer19b/bottle/kernel/Adam',\n",
       " 'module/layer19b/bottle/kernel/Adam_1',\n",
       " 'module/layer1b/bottle/bias',\n",
       " 'module/layer1b/bottle/bias/Adam',\n",
       " 'module/layer1b/bottle/bias/Adam_1',\n",
       " 'module/layer1b/bottle/kernel',\n",
       " 'module/layer1b/bottle/kernel/Adam',\n",
       " 'module/layer1b/bottle/kernel/Adam_1',\n",
       " 'module/layer2/bottle/bias',\n",
       " 'module/layer2/bottle/bias/Adam',\n",
       " 'module/layer2/bottle/bias/Adam_1',\n",
       " 'module/layer2/bottle/kernel',\n",
       " 'module/layer2/bottle/kernel/Adam',\n",
       " 'module/layer2/bottle/kernel/Adam_1',\n",
       " 'module/layer20/bottle/bias',\n",
       " 'module/layer20/bottle/bias/Adam',\n",
       " 'module/layer20/bottle/bias/Adam_1',\n",
       " 'module/layer20/bottle/kernel',\n",
       " 'module/layer20/bottle/kernel/Adam',\n",
       " 'module/layer20/bottle/kernel/Adam_1',\n",
       " 'module/layer20b/bottle/bias',\n",
       " 'module/layer20b/bottle/bias/Adam',\n",
       " 'module/layer20b/bottle/bias/Adam_1',\n",
       " 'module/layer20b/bottle/kernel',\n",
       " 'module/layer20b/bottle/kernel/Adam',\n",
       " 'module/layer20b/bottle/kernel/Adam_1',\n",
       " 'module/layer2b/bottle/bias',\n",
       " 'module/layer2b/bottle/bias/Adam',\n",
       " 'module/layer2b/bottle/bias/Adam_1',\n",
       " 'module/layer2b/bottle/kernel',\n",
       " 'module/layer2b/bottle/kernel/Adam',\n",
       " 'module/layer2b/bottle/kernel/Adam_1',\n",
       " 'module/layer3/bottle/bias',\n",
       " 'module/layer3/bottle/bias/Adam',\n",
       " 'module/layer3/bottle/bias/Adam_1',\n",
       " 'module/layer3/bottle/kernel',\n",
       " 'module/layer3/bottle/kernel/Adam',\n",
       " 'module/layer3/bottle/kernel/Adam_1',\n",
       " 'module/layer3b/bottle/bias',\n",
       " 'module/layer3b/bottle/bias/Adam',\n",
       " 'module/layer3b/bottle/bias/Adam_1',\n",
       " 'module/layer3b/bottle/kernel',\n",
       " 'module/layer3b/bottle/kernel/Adam',\n",
       " 'module/layer3b/bottle/kernel/Adam_1',\n",
       " 'module/layer4/bottle/bias',\n",
       " 'module/layer4/bottle/bias/Adam',\n",
       " 'module/layer4/bottle/bias/Adam_1',\n",
       " 'module/layer4/bottle/kernel',\n",
       " 'module/layer4/bottle/kernel/Adam',\n",
       " 'module/layer4/bottle/kernel/Adam_1',\n",
       " 'module/layer4b/bottle/bias',\n",
       " 'module/layer4b/bottle/bias/Adam',\n",
       " 'module/layer4b/bottle/bias/Adam_1',\n",
       " 'module/layer4b/bottle/kernel',\n",
       " 'module/layer4b/bottle/kernel/Adam',\n",
       " 'module/layer4b/bottle/kernel/Adam_1',\n",
       " 'module/layer5/bottle/bias',\n",
       " 'module/layer5/bottle/bias/Adam',\n",
       " 'module/layer5/bottle/bias/Adam_1',\n",
       " 'module/layer5/bottle/kernel',\n",
       " 'module/layer5/bottle/kernel/Adam',\n",
       " 'module/layer5/bottle/kernel/Adam_1',\n",
       " 'module/layer5b/bottle/bias',\n",
       " 'module/layer5b/bottle/bias/Adam',\n",
       " 'module/layer5b/bottle/bias/Adam_1',\n",
       " 'module/layer5b/bottle/kernel',\n",
       " 'module/layer5b/bottle/kernel/Adam',\n",
       " 'module/layer5b/bottle/kernel/Adam_1',\n",
       " 'module/layer6/bottle/bias',\n",
       " 'module/layer6/bottle/bias/Adam',\n",
       " 'module/layer6/bottle/bias/Adam_1',\n",
       " 'module/layer6/bottle/kernel',\n",
       " 'module/layer6/bottle/kernel/Adam',\n",
       " 'module/layer6/bottle/kernel/Adam_1',\n",
       " 'module/layer6b/bottle/bias',\n",
       " 'module/layer6b/bottle/bias/Adam',\n",
       " 'module/layer6b/bottle/bias/Adam_1',\n",
       " 'module/layer6b/bottle/kernel',\n",
       " 'module/layer6b/bottle/kernel/Adam',\n",
       " 'module/layer6b/bottle/kernel/Adam_1',\n",
       " 'module/scale',\n",
       " 'module/scale/Adam',\n",
       " 'module/scale/Adam_1',\n",
       " 'module/shift',\n",
       " 'module/shift/Adam',\n",
       " 'module/shift/Adam_1']"
      ]
     },
     "execution_count": 247,
     "metadata": {},
     "output_type": "execute_result"
    }
   ],
   "source": [
    "model.get_variable_names()"
   ]
  },
  {
   "cell_type": "code",
   "execution_count": null,
   "metadata": {},
   "outputs": [],
   "source": [
    "features = tf.placeholder(tf.float32, shape=[None, None, None, None, nchannels], name='input')\n",
    "labels = tf.placeholder(tf.float32, shape=[None, None, None, None, ntarget], name='observations')\n",
    "    \n",
    "exporter = hub.LatestModuleExporter(\"tf_hub\",\n",
    "        tf.estimator.export.build_raw_serving_input_receiver_fn({'features':features, 'labels':labels},\n",
    "                                                                   default_batch_size=None))\n",
    "\n",
    "# exporter.export(model, 'models', model.latest_checkpoint())\n",
    "modulepath = exporter.export(model, savepath + '/module/', model.latest_checkpoint())\n",
    "modulepath = modulepath.decode(\"utf-8\")\n",
    "modulepath"
   ]
  },
  {
   "cell_type": "markdown",
   "metadata": {},
   "source": [
    "## Testing"
   ]
  },
  {
   "cell_type": "code",
   "execution_count": 9,
   "metadata": {},
   "outputs": [
    {
     "name": "stdout",
     "output_type": "stream",
     "text": [
      "INFO:tensorflow:Saver not created because there are no variables in the graph to restore\n",
      "INFO:tensorflow:Saver not created because there are no variables in the graph to restore\n",
      "INFO:tensorflow:Saver not created because there are no variables in the graph to restore\n",
      "(3, 16, 16, 16, 1) (3, 16, 16, 16, 1)\n"
     ]
    }
   ],
   "source": [
    "loss = 'l2'\n",
    "tf.reset_default_graph()\n",
    "# modulepath = '/home/chmodi/Projects/galmodel/code/models/n10/rev_cic_l1/module/1548387387/'\n",
    "modulepath = '/home/chmodi/Projects/galmodel/notebooks/models/n10/rev-nn-l2/module/1548392154/'\n",
    "\n",
    "module = hub.Module(modulepath + '/likelihood/')\n",
    "\n",
    "xx = tf.placeholder(tf.float32, shape=[None, None, None, None, nchannels], name='input')\n",
    "yy = tf.placeholder(tf.float32, shape=[None, None, None, None, ntarget], name='labels')\n",
    "samples = module(dict(features=xx, labels=yy), as_dict=True)['sample']\n",
    "loglik = module(dict(features=xx, labels=yy), as_dict=True)[loss]\n",
    "poisson = module(dict(features=xx, labels=yy), as_dict=True)['lambda']\n",
    "\n",
    "with tf.Session() as sess:\n",
    "    sess.run(tf.initializers.global_variables())\n",
    "        \n",
    "    features = cube_features[0][5:8].astype('float32')\n",
    "    targets = cube_target[0][5:8].astype('float32')\n",
    "    xxm = features\n",
    "    yym = targets\n",
    "    print(xxm.shape, yym.shape)\n",
    "    preds = sess.run(samples, feed_dict={xx:xxm, yy:yym})\n",
    "    pois = sess.run(poisson, feed_dict={xx:xxm, yy:yym})\n",
    "    llik = sess.run(loglik, feed_dict={xx:xxm, yy:yym})\n"
   ]
  },
  {
   "cell_type": "code",
   "execution_count": 10,
   "metadata": {},
   "outputs": [
    {
     "data": {
      "text/plain": [
       "0.03611056"
      ]
     },
     "execution_count": 10,
     "metadata": {},
     "output_type": "execute_result"
    }
   ],
   "source": [
    "llik"
   ]
  },
  {
   "cell_type": "code",
   "execution_count": 12,
   "metadata": {},
   "outputs": [
    {
     "data": {
      "text/plain": [
       "<matplotlib.colorbar.Colorbar at 0x7fb1943ab828>"
      ]
     },
     "execution_count": 12,
     "metadata": {},
     "output_type": "execute_result"
    },
    {
     "data": {
      "image/png": "[encoded data removed]",
      "text/plain": [
       "<Figure size 432x288 with 2 Axes>"
      ]
     },
     "metadata": {
      "needs_background": "light"
     },
     "output_type": "display_data"
    }
   ],
   "source": [
    "im = imshow(preds[0,:,:,:].sum(axis=-1))\n",
    "plt.colorbar(im)"
   ]
  },
  {
   "cell_type": "code",
   "execution_count": 13,
   "metadata": {},
   "outputs": [
    {
     "data": {
      "text/plain": [
       "<matplotlib.colorbar.Colorbar at 0x7fb185551be0>"
      ]
     },
     "execution_count": 13,
     "metadata": {},
     "output_type": "execute_result"
    },
    {
     "data": {
      "image/png": "[encoded data removed]",
      "text/plain": [
       "<Figure size 432x288 with 2 Axes>"
      ]
     },
     "metadata": {
      "needs_background": "light"
     },
     "output_type": "display_data"
    }
   ],
   "source": [
    "i = imshow(targets[0,:,:,:, 0].sum(axis=-1))\n",
    "plt.colorbar(im)"
   ]
  },
  {
   "cell_type": "code",
   "execution_count": 14,
   "metadata": {},
   "outputs": [
    {
     "data": {
      "text/plain": [
       "(4.0, 1.3221571)"
      ]
     },
     "execution_count": 14,
     "metadata": {},
     "output_type": "execute_result"
    }
   ],
   "source": [
    "cube_target[0].max(), pois.max()"
   ]
  },
  {
   "cell_type": "code",
   "execution_count": 15,
   "metadata": {},
   "outputs": [
    {
     "data": {
      "text/plain": [
       "<matplotlib.colorbar.Colorbar at 0x7fb194c499e8>"
      ]
     },
     "execution_count": 15,
     "metadata": {},
     "output_type": "execute_result"
    },
    {
     "data": {
      "image/png": "[encoded data removed]",
      "text/plain": [
       "<Figure size 432x288 with 2 Axes>"
      ]
     },
     "metadata": {
      "needs_background": "light"
     },
     "output_type": "display_data"
    }
   ],
   "source": [
    "i = imshow(pois[0,:,:,:, 0].sum(axis=-1))\n",
    "plt.colorbar(im)"
   ]
  },
  {
   "cell_type": "code",
   "execution_count": 16,
   "metadata": {},
   "outputs": [
    {
     "data": {
      "text/plain": [
       "<matplotlib.colorbar.Colorbar at 0x7fb195b1f780>"
      ]
     },
     "execution_count": 16,
     "metadata": {},
     "output_type": "execute_result"
    },
    {
     "data": {
      "image/png": "[encoded data removed]",
      "text/plain": [
       "<Figure size 432x288 with 2 Axes>"
      ]
     },
     "metadata": {
      "needs_background": "light"
     },
     "output_type": "display_data"
    }
   ],
   "source": [
    "i = imshow(features[0,:,:,:, 0].sum(axis=-1))\n",
    "plt.colorbar(im)"
   ]
  },
  {
   "cell_type": "code",
   "execution_count": 18,
   "metadata": {},
   "outputs": [
    {
     "name": "stdout",
     "output_type": "stream",
     "text": [
      "INFO:tensorflow:Saver not created because there are no variables in the graph to restore\n",
      "INFO:tensorflow:Saver not created because there are no variables in the graph to restore\n",
      "INFO:tensorflow:Saver not created because there are no variables in the graph to restore\n",
      "0.030843547\n",
      "0.030856844\n",
      "0.031102784\n",
      "0.03102662\n"
     ]
    }
   ],
   "source": [
    "tf.reset_default_graph()\n",
    "\n",
    "tf.reset_default_graph()\n",
    "module = hub.Module(modulepath + '/likelihood')\n",
    "# module = hub.Module(modulepath + '/likelihood/')\n",
    "\n",
    "# module = hub.Module('../code/models/galmodel/pad2/module/1546484684/likelihood/')\n",
    "\n",
    "xx = tf.placeholder(tf.float32, shape=[None, None, None, None, nchannels], name='input')\n",
    "yy = tf.placeholder(tf.float32, shape=[None, None, None, None, ntarget], name='labels')\n",
    "samples = module(dict(features=xx, labels=yy), as_dict=True)['sample']\n",
    "loglik = module(dict(features=xx, labels=yy), as_dict=True)[loss]\n",
    "poisson = module(dict(features=xx, labels=yy), as_dict=True)['lambda']\n",
    "\n",
    "preds = {}\n",
    "pois = {}\n",
    "with tf.Session() as sess:\n",
    "    sess.run(tf.initializers.global_variables())\n",
    "\n",
    "    for seed in seeds:\n",
    "        xxm = np.pad(meshes[seed][0]['cic'], pad, 'wrap')\n",
    "        xxm = np.expand_dims(np.expand_dims(xxm,  -1), 0)\n",
    "\n",
    "        yym = np.stack([meshes[seed][1]['pnn']], axis=-1)\n",
    "        yym = np.expand_dims(yym, 0)\n",
    "        preds[seed] = sess.run(samples, feed_dict={xx:xxm, yy:yym})\n",
    "        meshes[seed][0]['predict'] = np.squeeze(preds[seed][:, :, :])\n",
    "        pois[seed] = sess.run(poisson, feed_dict={xx:xxm, yy:yym})\n",
    "        meshes[seed][0]['lambda'] = np.squeeze(pois[seed][:, :, :])\n",
    "        print(sess.run(loglik, feed_dict={xx:xxm, yy:yym}))"
   ]
  },
  {
   "cell_type": "code",
   "execution_count": null,
   "metadata": {},
   "outputs": [],
   "source": [
    "# meshes[100][0]['lambda']/meshes[100][0]['lambda2']"
   ]
  },
  {
   "cell_type": "code",
   "execution_count": null,
   "metadata": {},
   "outputs": [],
   "source": [
    "##############################\n",
    "##Power spectrum\n",
    "shape = [nc,nc,nc]\n",
    "kk = tools.fftk(shape, bs)\n",
    "kmesh = sum(i**2 for i in kk)**0.5\n",
    "\n",
    "fig, ax = plt.subplots(1, 2, figsize = (10, 5))\n",
    "for seed in seeds:\n",
    "    key = ''\n",
    "    predict, hpmeshd = meshes[seed][0]['lambda%s'%key] , meshes[seed][1]['pcic%s'%key], \n",
    "    k, pkpred = tools.power(predict/predict.mean(), boxsize=bs, k=kmesh)\n",
    "    k, pkhd = tools.power(hpmeshd/hpmeshd.mean(), boxsize=bs, k=kmesh)\n",
    "    k, pkhx = tools.power(hpmeshd/hpmeshd.mean(), predict/predict.mean(), boxsize=bs, k=kmesh)    \n",
    "##\n",
    "    ax[0].semilogx(k[1:], pkpred[1:]/pkhd[1:], label=seed)\n",
    "    ax[1].semilogx(k[1:], pkhx[1:]/(pkpred[1:]*pkhd[1:])**0.5)\n",
    "    \n",
    "for axis in ax.flatten():\n",
    "    axis.legend(fontsize=14)\n",
    "    axis.set_yticks(np.arange(0, 1.1, 0.1))\n",
    "    axis.grid(which='both')\n",
    "    axis.set_ylim(0.,1.1)\n",
    "ax[0].set_ylabel('Transfer function', fontsize=14)\n",
    "ax[1].set_ylabel('Cross correlation', fontsize=14)\n",
    "plt.show()\n",
    "\n",
    "# ##################################################\n",
    "fig, ax = plt.subplots(1, 2, figsize=(10,5))\n",
    "\n",
    "key = ''\n",
    "# predict, hpmeshd = meshes[seed][0]['predict%s'%key] , meshes[seed][1]['pnn%s'%key], \n",
    "predict, hpmeshd = meshes[seed][0]['lambda%s'%key] , meshes[seed][1]['pnn%s'%key], \n",
    "vmin, vmax = 0, (hpmeshd[:, :, :].sum(axis=0)).max()\n",
    "im = ax[0].imshow(predict[:, :, :].sum(axis=0), vmin=None, vmax=None)\n",
    "plt.colorbar(im, ax=ax[0])\n",
    "im = ax[1].imshow(hpmeshd[:, :, :].sum(axis=0), vmin=None, vmax=None)\n",
    "plt.colorbar(im, ax=ax[1])\n",
    "ax[0].set_ylabel('Prediction', fontsize=15)\n",
    "ax[1].set_ylabel('Truth', fontsize=15)\n",
    "plt.show()\n"
   ]
  },
  {
   "cell_type": "code",
   "execution_count": 80,
   "metadata": {},
   "outputs": [
    {
     "data": {
      "text/plain": [
       "3.344097"
      ]
     },
     "execution_count": 80,
     "metadata": {},
     "output_type": "execute_result"
    }
   ],
   "source": [
    "predict.max()"
   ]
  },
  {
   "cell_type": "code",
   "execution_count": 81,
   "metadata": {},
   "outputs": [
    {
     "data": {
      "image/png": "[encoded data removed]",
      "text/plain": [
       "<Figure size 432x288 with 1 Axes>"
      ]
     },
     "metadata": {
      "needs_background": "light"
     },
     "output_type": "display_data"
    }
   ],
   "source": [
    "plt.hist(predict.flatten(), bins=100, log=True)\n",
    "plt.show()"
   ]
  },
  {
   "cell_type": "code",
   "execution_count": 82,
   "metadata": {},
   "outputs": [
    {
     "name": "stdout",
     "output_type": "stream",
     "text": [
      "[1.0, 1.0]\n",
      "568.89484\n",
      "3.0921526\n",
      "1.436072\n",
      "0.5177323\n",
      "0.15303032\n",
      "[0.81387603, 5.1553082]\n"
     ]
    }
   ],
   "source": [
    "x = np.linspace(0, 10, 1000)\n",
    "y = 5.21*x + 0.463\n",
    "ys = y + np.random.normal(0, 0.1, 1000)\n",
    "\n",
    "tf.reset_default_graph()\n",
    "\n",
    "\n",
    "xx = tf.placeholder(tf.float32, shape=[None], name='input')\n",
    "yy = tf.placeholder(tf.float32, shape=[None], name='input')\n",
    "shift = tf.Variable(1., dtype=tf.float32)\n",
    "scale = tf.Variable(1., dtype=tf.float32)\n",
    "myBij = tfp.bijectors.Affine(shift=shift, scale_identity_multiplier=scale)\n",
    "pred = myBij.forward(xx)\n",
    "loss = tf.losses.mean_squared_error(yy, pred)\n",
    "\n",
    "optimizer = tf.train.AdamOptimizer(learning_rate=0.1)\n",
    "\n",
    "opt_op = optimizer.minimize(loss)\n",
    "\n",
    "\n",
    "niter= 500\n",
    "losses = []\n",
    "with tf.Session() as sess:\n",
    "    sess.run(tf.global_variables_initializer())\n",
    "    init = sess.run([shift, scale])\n",
    "    print(init)\n",
    "    for it in range(niter):\n",
    "        _, l = sess.run([opt_op, loss], feed_dict={xx:x, yy:ys})\n",
    "        if it % 100 == 0:\n",
    "            print(l)\n",
    "        losses.append(l)\n",
    "    fin = sess.run([shift, scale])\n",
    "    print(fin)\n",
    "    "
   ]
  },
  {
   "cell_type": "code",
   "execution_count": 83,
   "metadata": {},
   "outputs": [
    {
     "data": {
      "text/plain": [
       "[<matplotlib.lines.Line2D at 0x7fb6a625f400>]"
      ]
     },
     "execution_count": 83,
     "metadata": {},
     "output_type": "execute_result"
    },
    {
     "data": {
      "image/png": "[encoded data removed]",
      "text/plain": [
       "<Figure size 432x288 with 1 Axes>"
      ]
     },
     "metadata": {
      "needs_background": "light"
     },
     "output_type": "display_data"
    }
   ],
   "source": [
    "plt.plot(x, ys, '.', alpha=0.5)\n",
    "plt.plot(x, y)\n",
    "plt.plot(x, init[0] + init[1]*x)\n",
    "plt.plot(x, fin[0] + fin[1]*x, 'k--', lw=2)\n"
   ]
  },
  {
   "cell_type": "code",
   "execution_count": 41,
   "metadata": {},
   "outputs": [
    {
     "data": {
      "image/png": "[encoded data removed]",
      "text/plain": [
       "<Figure size 432x288 with 1 Axes>"
      ]
     },
     "metadata": {
      "needs_background": "light"
     },
     "output_type": "display_data"
    }
   ],
   "source": [
    "plt.hist(np.log(1+meshes[100][0]['cic'].flatten()), bins=100)\n",
    "# ovd = (meshes[100][0]['cic'] - meshes[100][0]['cic'].mean())/meshes[100][0]['cic'].mean()\n",
    "ovd = (meshes[100][0]['cic'] - meshes[100][0]['cic'].mean())/meshes[100][0]['cic'].mean()\n",
    "plt.hist(np.log(1.01+ovd.flatten()), bins=100, alpha=0.5)\n",
    "\n",
    "plt.show()"
   ]
  }
 ],
 "metadata": {
  "kernelspec": {
   "display_name": "Python 3",
   "language": "python",
   "name": "python3"
  },
  "language_info": {
   "codemirror_mode": {
    "name": "ipython",
    "version": 3
   },
   "file_extension": ".py",
   "mimetype": "text/x-python",
   "name": "python",
   "nbconvert_exporter": "python",
   "pygments_lexer": "ipython3",
   "version": "3.6.7"
  }
 },
 "nbformat": 4,
 "nbformat_minor": 2
}
