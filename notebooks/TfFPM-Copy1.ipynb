{
 "cells": [
  {
   "cell_type": "code",
   "execution_count": 248,
   "metadata": {},
   "outputs": [
    {
     "name": "stdout",
     "output_type": "stream",
     "text": [
      "The autoreload extension is already loaded. To reload it, use:\n",
      "  %reload_ext autoreload\n"
     ]
    }
   ],
   "source": [
    "import numpy as np\n",
    "import numpy\n",
    "from nbodykit.lab import BigFileMesh, BigFileCatalog\n",
    "from pmesh.pm import ParticleMesh\n",
    "import os, sys\n",
    "import matplotlib.pyplot as plt\n",
    "%matplotlib inline\n",
    "%load_ext autoreload\n",
    "%autoreload 2\n",
    "\n",
    "from nbodykit.cosmology import Cosmology, EHPower, Planck15"
   ]
  },
  {
   "cell_type": "code",
   "execution_count": 249,
   "metadata": {},
   "outputs": [],
   "source": [
    "import tensorflow as tf\n",
    "# tf.enable_eager_execution()"
   ]
  },
  {
   "cell_type": "code",
   "execution_count": 250,
   "metadata": {},
   "outputs": [],
   "source": [
    "sys.path.append('../code/utils/')\n",
    "import tools\n",
    "from background import *\n",
    "from tfpm import *\n",
    "from tfpmtools import *\n",
    "from fpmfuncs import *\n",
    "from fpm import *\n",
    "\n"
   ]
  },
  {
   "cell_type": "code",
   "execution_count": 251,
   "metadata": {},
   "outputs": [
    {
     "name": "stderr",
     "output_type": "stream",
     "text": [
      "/global/homes/c/chmodi/.conda/envs/fastpm/lib/python3.6/site-packages/nbodykit/cosmology/power/linear.py:228: FutureWarning: NoWiggleEHPower is deprecated. Use LinearPower with transfer set to 'EisensteinHu'\n",
      "  warnings.warn(\"NoWiggleEHPower is deprecated. Use LinearPower with transfer set to 'EisensteinHu'\", FutureWarning)\n"
     ]
    },
    {
     "name": "stdout",
     "output_type": "stream",
     "text": [
      "Step F 0.1000 - (0.1000) -> 0.1000 S 0.1000 P 0.1000 F 0.1000\n",
      "Step K 0.1000 - (0.1000) -> 0.1803 S 0.1000 P 0.1803 F 0.1000\n",
      "Step D 0.1000 - (0.1803) -> 0.3250 S 0.3250 P 0.1803 F 0.1000\n",
      "Step F 0.1000 - (0.3250) -> 0.3250 S 0.3250 P 0.1803 F 0.3250\n",
      "Step K 0.1803 - (0.3250) -> 0.3250 S 0.3250 P 0.3250 F 0.3250\n",
      "Step K 0.3250 - (0.3250) -> 0.4228 S 0.3250 P 0.4228 F 0.3250\n",
      "Step D 0.3250 - (0.4228) -> 0.5500 S 0.5500 P 0.4228 F 0.3250\n",
      "Step F 0.3250 - (0.5500) -> 0.5500 S 0.5500 P 0.4228 F 0.5500\n",
      "Step K 0.4228 - (0.5500) -> 0.5500 S 0.5500 P 0.5500 F 0.5500\n",
      "Step K 0.5500 - (0.5500) -> 0.6529 S 0.5500 P 0.6529 F 0.5500\n",
      "Step D 0.5500 - (0.6529) -> 0.7750 S 0.7750 P 0.6529 F 0.5500\n",
      "Step F 0.5500 - (0.7750) -> 0.7750 S 0.7750 P 0.6529 F 0.7750\n",
      "Step K 0.6529 - (0.7750) -> 0.7750 S 0.7750 P 0.7750 F 0.7750\n",
      "Step K 0.7750 - (0.7750) -> 0.8803 S 0.7750 P 0.8803 F 0.7750\n",
      "Step D 0.7750 - (0.8803) -> 1.0000 S 1.0000 P 0.8803 F 0.7750\n",
      "Step F 0.7750 - (1.0000) -> 1.0000 S 1.0000 P 0.8803 F 1.0000\n",
      "Step K 0.8803 - (1.0000) -> 1.0000 S 1.0000 P 1.0000 F 1.0000\n"
     ]
    }
   ],
   "source": [
    "state = fastpm()"
   ]
  },
  {
   "cell_type": "markdown",
   "metadata": {},
   "source": [
    "# Check lptz0"
   ]
  },
  {
   "cell_type": "code",
   "execution_count": 252,
   "metadata": {},
   "outputs": [
    {
     "name": "stderr",
     "output_type": "stream",
     "text": [
      "/global/homes/c/chmodi/.conda/envs/fastpm/lib/python3.6/site-packages/ipykernel/__main__.py:9: DeprecationWarning: mode argument is deprecated, use type\n"
     ]
    }
   ],
   "source": [
    "bs = 100\n",
    "nc = 32\n",
    "pm = ParticleMesh(BoxSize=bs, Nmesh = [nc, nc, nc], dtype='f4')\n",
    "grid = pm.generate_uniform_particle_grid(shift=0).astype(np.float32)\n",
    "kvec = tools.fftk((nc, nc, nc), bs, dtype=np.float32)\n",
    "gdict = {'bs':bs, 'nc':nc, 'kvec':kvec, 'ndim':3}\n",
    "\n",
    "\n",
    "whitec = pm.generate_whitenoise(100, mode='complex', unitary=False)\n",
    "lineark = whitec.apply(lambda k, v:Planck15.get_pklin(sum(ki ** 2 for ki in k)**0.5, 0) ** 0.5 * v / v.BoxSize.prod() ** 0.5)\n",
    "linear = lineark.c2r()\n",
    "tlinear = tf.constant(linear[...])\n",
    "tlineark = tf.multiply(tf.spectral.rfft3d(tlinear), 1/nc**3)\n",
    "\n"
   ]
  },
  {
   "cell_type": "code",
   "execution_count": 253,
   "metadata": {},
   "outputs": [],
   "source": [
    "lptdisp = lptz0(lineark, grid, order=2)\n",
    "lptpos = grid + lptdisp\n",
    "lptmesh =  pm.paint(lptpos)\n"
   ]
  },
  {
   "cell_type": "code",
   "execution_count": null,
   "metadata": {},
   "outputs": [],
   "source": [
    "# #\n",
    "# tlinear = tf.constant(linear[...])\n",
    "# tlineark = tf.multiply(tf.spectral.rfft3d(tlinear), 1/nc**3)\n",
    "tlptmesh = tf.zeros_like(tlinear)\n",
    "wt = tf.ones(nc**3)\n",
    "# wt = np.ones(nc**3, dtype=np.float32)\n",
    "tlptdisp = tflptz0(tlineark, grid, gdict, order=2)\n",
    "tlptpos = tf.add(grid, tlptdisp)\n",
    "tlptmesh = cic_paint(tlptmesh, tf.multiply(tlptpos, nc/bs), weight=wt)\n",
    "\n",
    "with tf.Session() as sess:\n",
    "    sess.run(tf.global_variables_initializer())\n",
    "    tflptpos, tflptmesh = sess.run([tlptpos, tlptmesh])"
   ]
  },
  {
   "cell_type": "code",
   "execution_count": null,
   "metadata": {},
   "outputs": [
    {
     "data": {
      "text/plain": [
       "array([[ 2.3841858e-06, -1.1920929e-07, -1.1920929e-06],\n",
       "       [ 2.8610229e-06,  0.0000000e+00, -1.9073486e-06],\n",
       "       [ 9.5367432e-07,  2.3841858e-06, -9.5367432e-07],\n",
       "       ...,\n",
       "       [ 0.0000000e+00,  0.0000000e+00,  7.6293945e-06],\n",
       "       [ 0.0000000e+00,  0.0000000e+00,  7.6293945e-06],\n",
       "       [ 0.0000000e+00,  0.0000000e+00,  0.0000000e+00]], dtype=float32)"
      ]
     },
     "execution_count": 255,
     "metadata": {},
     "output_type": "execute_result"
    }
   ],
   "source": [
    "tflptpos-lptpos"
   ]
  },
  {
   "cell_type": "code",
   "execution_count": null,
   "metadata": {},
   "outputs": [
    {
     "data": {
      "text/plain": [
       "Text(0.5,1,'Yu 2LPT')"
      ]
     },
     "execution_count": 256,
     "metadata": {},
     "output_type": "execute_result"
    }
   ],
   "source": [
    "fig, axar = plt.subplots(2, 2, figsize = (11, 11))\n",
    "ax = axar[0]\n",
    "im = ax[0].imshow(linear[...].sum(axis=0))\n",
    "plt.colorbar(im, ax=ax[0])\n",
    "ax[0].set_title('Linear')\n",
    "im = ax[1].imshow((lptmesh-tflptmesh)[...].sum(axis=0))\n",
    "plt.colorbar(im, ax=ax[1])\n",
    "ax[1].set_title('Difference 2LPT')\n",
    "ax = axar[1]\n",
    "im = ax[0].imshow(tflptmesh[...].sum(axis=0))\n",
    "plt.colorbar(im, ax=ax[0])\n",
    "ax[0].set_title('TF 2LPT')\n",
    "im = ax[1].imshow(lptmesh[...].sum(axis=0))\n",
    "plt.colorbar(im, ax=ax[1])\n",
    "ax[1].set_title('Yu 2LPT')\n",
    "\n"
   ]
  },
  {
   "cell_type": "markdown",
   "metadata": {},
   "source": [
    "# FastPM"
   ]
  },
  {
   "cell_type": "markdown",
   "metadata": {},
   "source": [
    "### lpt IC"
   ]
  },
  {
   "cell_type": "code",
   "execution_count": 95,
   "metadata": {},
   "outputs": [],
   "source": [
    "conf = Config()\n",
    "solver = Solver(pm, conf['cosmology'])"
   ]
  },
  {
   "cell_type": "code",
   "execution_count": 181,
   "metadata": {},
   "outputs": [],
   "source": [
    "a0, a1 = conf['stages'][2], conf['stages'][3]\n",
    "ah = (a0*a1)**0.5"
   ]
  },
  {
   "cell_type": "code",
   "execution_count": 163,
   "metadata": {},
   "outputs": [],
   "source": [
    "state = solver.lpt(lineark, grid, a0, order=2)"
   ]
  },
  {
   "cell_type": "code",
   "execution_count": 164,
   "metadata": {},
   "outputs": [],
   "source": [
    "# #\n",
    "tflptic = tflptinit(tlineark, grid, a0, gdict, conf, order=2)\n",
    "\n",
    "with tf.Session() as sess:\n",
    "    sess.run(tf.global_variables_initializer())\n",
    "    ttmp = sess.run(tflptic)"
   ]
  },
  {
   "cell_type": "code",
   "execution_count": 165,
   "metadata": {},
   "outputs": [
    {
     "data": {
      "text/plain": [
       "array([[0.9999995 , 0.99999946, 0.9999995 ],\n",
       "       [0.9999999 , 0.9999996 , 0.99999976],\n",
       "       [0.99999964, 0.99999917, 0.99999976],\n",
       "       ...,\n",
       "       [0.9999903 , 0.9999975 , 0.99999857],\n",
       "       [0.99999684, 0.9999993 , 0.99999696],\n",
       "       [0.9999961 , 0.99999946, 1.0000015 ]], dtype=float32)"
      ]
     },
     "execution_count": 165,
     "metadata": {},
     "output_type": "execute_result"
    }
   ],
   "source": [
    "(ttmp[0])/ state.S"
   ]
  },
  {
   "cell_type": "code",
   "execution_count": 166,
   "metadata": {},
   "outputs": [
    {
     "data": {
      "text/plain": [
       "array([[0.9999995 , 0.99999946, 0.9999995 ],\n",
       "       [0.9999999 , 0.9999996 , 0.99999994],\n",
       "       [0.99999964, 0.99999917, 1.        ],\n",
       "       ...,\n",
       "       [1.        , 1.        , 1.0000001 ],\n",
       "       [1.        , 1.0000001 , 1.        ],\n",
       "       [1.        , 1.        , 1.        ]], dtype=float32)"
      ]
     },
     "execution_count": 166,
     "metadata": {},
     "output_type": "execute_result"
    }
   ],
   "source": [
    "(grid+ttmp[0])/ state.X"
   ]
  },
  {
   "cell_type": "code",
   "execution_count": 167,
   "metadata": {},
   "outputs": [
    {
     "data": {
      "text/plain": [
       "array([[0.001     , 0.001     , 0.001     ],\n",
       "       [0.001     , 0.001     , 0.001     ],\n",
       "       [0.001     , 0.001     , 0.001     ],\n",
       "       ...,\n",
       "       [0.00099999, 0.001     , 0.001     ],\n",
       "       [0.001     , 0.001     , 0.001     ],\n",
       "       [0.001     , 0.001     , 0.001     ]], dtype=float32)"
      ]
     },
     "execution_count": 167,
     "metadata": {},
     "output_type": "execute_result"
    }
   ],
   "source": [
    "(ttmp[1])/ state.V"
   ]
  },
  {
   "cell_type": "code",
   "execution_count": 168,
   "metadata": {},
   "outputs": [
    {
     "data": {
      "text/plain": [
       "array([[0.9999999 , 0.9999997 , 0.99999946],\n",
       "       [1.0000002 , 0.99999976, 0.9999998 ],\n",
       "       [0.99999976, 0.9999993 , 0.9999999 ],\n",
       "       ...,\n",
       "       [0.9999872 , 0.99999726, 0.9999986 ],\n",
       "       [0.9999969 , 0.99999964, 0.9999968 ],\n",
       "       [0.99999577, 0.99999964, 1.0000014 ]], dtype=float32)"
      ]
     },
     "execution_count": 168,
     "metadata": {},
     "output_type": "execute_result"
    }
   ],
   "source": [
    "(ttmp[2])/ state.F"
   ]
  },
  {
   "cell_type": "markdown",
   "metadata": {},
   "source": [
    "### Kick"
   ]
  },
  {
   "cell_type": "code",
   "execution_count": 240,
   "metadata": {},
   "outputs": [],
   "source": [
    "# #\n",
    "tflptic = tflptinit(tlineark, grid, a0, gdict, conf, order=2)\n",
    "tfkicked = tfKick(tflptic, a0, ah, a1, gdict, conf)\n",
    "with tf.Session() as sess:\n",
    "    sess.run(tf.global_variables_initializer())\n",
    "    ttmp0, ttmp1 = sess.run([tfkicked, tflptic])"
   ]
  },
  {
   "cell_type": "code",
   "execution_count": 241,
   "metadata": {},
   "outputs": [
    {
     "data": {
      "text/plain": [
       "array([[-0.37545836, -0.3179639 ,  0.8406729 ],\n",
       "       [-0.35242867, -0.68979555,  1.5721769 ],\n",
       "       [-0.03175962, -1.0161371 ,  2.0074666 ],\n",
       "       ...,\n",
       "       [-0.14827621,  0.29194495, -1.5478739 ],\n",
       "       [-0.14681464,  0.06391829, -0.33988973],\n",
       "       [-0.38491547, -0.16939926,  0.43170738]], dtype=float32)"
      ]
     },
     "execution_count": 241,
     "metadata": {},
     "output_type": "execute_result"
    }
   ],
   "source": [
    "ttmp1[2]"
   ]
  },
  {
   "cell_type": "code",
   "execution_count": 198,
   "metadata": {},
   "outputs": [
    {
     "data": {
      "text/plain": [
       "array([[ 0.881663  ,  1.0864391 ,  1.1980553 ],\n",
       "       [ 0.91098607,  1.1097639 ,  1.1650522 ],\n",
       "       [ 0.993148  ,  1.1298778 ,  1.1570319 ],\n",
       "       ...,\n",
       "       [ 0.31644115, -2.9079506 ,  1.1418982 ],\n",
       "       [ 0.9257526 ,  0.9769839 ,  1.1101732 ],\n",
       "       [ 0.23444332,  1.0380741 ,  1.2646092 ]], dtype=float32)"
      ]
     },
     "execution_count": 198,
     "metadata": {},
     "output_type": "execute_result"
    }
   ],
   "source": [
    "ii = 0 \n",
    "ttmp0[ii]/ttmp1[ii]"
   ]
  },
  {
   "cell_type": "code",
   "execution_count": 195,
   "metadata": {},
   "outputs": [
    {
     "data": {
      "text/plain": [
       "array([[ 1.0890334 , -1.5558597 ,  1.97977   ],\n",
       "       [ 1.404178  , -2.715118  ,  4.3203897 ],\n",
       "       [ 1.792136  , -3.441487  ,  5.758417  ],\n",
       "       ...,\n",
       "       [ 0.02672304,  0.08457387, -4.8493495 ],\n",
       "       [ 0.7126563 , -1.0562764 , -1.3333689 ],\n",
       "       [ 0.04589054, -1.7980746 ,  0.8032265 ]], dtype=float32)"
      ]
     },
     "execution_count": 195,
     "metadata": {},
     "output_type": "execute_result"
    }
   ],
   "source": [
    "# tsave = ttmp0 + ttmp1[0]\n",
    "# tsave"
   ]
  },
  {
   "cell_type": "code",
   "execution_count": 199,
   "metadata": {},
   "outputs": [
    {
     "data": {
      "text/plain": [
       "array([[1., 1., 1.],\n",
       "       [1., 1., 1.],\n",
       "       [1., 1., 1.],\n",
       "       ...,\n",
       "       [1., 1., 1.],\n",
       "       [1., 1., 1.],\n",
       "       [1., 1., 1.]], dtype=float32)"
      ]
     },
     "execution_count": 199,
     "metadata": {},
     "output_type": "execute_result"
    }
   ],
   "source": [
    "tsave / ttmp0[0]\n"
   ]
  },
  {
   "cell_type": "markdown",
   "metadata": {},
   "source": [
    "### Force"
   ]
  },
  {
   "cell_type": "code",
   "execution_count": 247,
   "metadata": {},
   "outputs": [
    {
     "name": "stdout",
     "output_type": "stream",
     "text": [
      "Tensor(\"Assign_103:0\", shape=(3, 32768, 3), dtype=float32_ref) Tensor(\"Mul_3081:0\", shape=(32768, 3), dtype=float32)\n",
      "Tensor(\"Assign_103:0\", shape=(3, 32768, 3), dtype=float32_ref) Tensor(\"Add_3810:0\", shape=(32768, 3), dtype=float32)\n",
      "Tensor(\"Assign_103:0\", shape=(3, 32768, 3), dtype=float32_ref) Tensor(\"zeros_95:0\", shape=(32768, 3), dtype=float32)\n"
     ]
    },
    {
     "ename": "InvalidArgumentError",
     "evalue": "Must have updates.shape = indices.shape + params.shape[1:] or updates.shape = [], got updates.shape [32768,3], indices.shape [], params.shape [32,32,32]\n\t [[{{node ScatterAdd_14}} = ScatterAdd[T=DT_FLOAT, Tindices=DT_INT32, use_locking=false, _device=\"/job:localhost/replica:0/task:0/device:CPU:0\"](Assign_103, ScatterAdd_14/indices, Add_3810)]]\n\nCaused by op 'ScatterAdd_14', defined at:\n  File \"/global/homes/c/chmodi/.conda/envs/fastpm/lib/python3.6/runpy.py\", line 193, in _run_module_as_main\n    \"__main__\", mod_spec)\n  File \"/global/homes/c/chmodi/.conda/envs/fastpm/lib/python3.6/runpy.py\", line 85, in _run_code\n    exec(code, run_globals)\n  File \"/global/homes/c/chmodi/.conda/envs/fastpm/lib/python3.6/site-packages/ipykernel/__main__.py\", line 3, in <module>\n    app.launch_new_instance()\n  File \"/global/homes/c/chmodi/.conda/envs/fastpm/lib/python3.6/site-packages/traitlets/config/application.py\", line 658, in launch_instance\n    app.start()\n  File \"/global/homes/c/chmodi/.conda/envs/fastpm/lib/python3.6/site-packages/ipykernel/kernelapp.py\", line 499, in start\n    self.io_loop.start()\n  File \"/global/homes/c/chmodi/.conda/envs/fastpm/lib/python3.6/site-packages/tornado/platform/asyncio.py\", line 132, in start\n    self.asyncio_loop.run_forever()\n  File \"/global/homes/c/chmodi/.conda/envs/fastpm/lib/python3.6/asyncio/base_events.py\", line 422, in run_forever\n    self._run_once()\n  File \"/global/homes/c/chmodi/.conda/envs/fastpm/lib/python3.6/asyncio/base_events.py\", line 1434, in _run_once\n    handle._run()\n  File \"/global/homes/c/chmodi/.conda/envs/fastpm/lib/python3.6/asyncio/events.py\", line 145, in _run\n    self._callback(*self._args)\n  File \"/global/homes/c/chmodi/.conda/envs/fastpm/lib/python3.6/site-packages/tornado/ioloop.py\", line 758, in _run_callback\n    ret = callback()\n  File \"/global/homes/c/chmodi/.conda/envs/fastpm/lib/python3.6/site-packages/tornado/stack_context.py\", line 300, in null_wrapper\n    return fn(*args, **kwargs)\n  File \"/global/homes/c/chmodi/.conda/envs/fastpm/lib/python3.6/site-packages/tornado/gen.py\", line 1233, in inner\n    self.run()\n  File \"/global/homes/c/chmodi/.conda/envs/fastpm/lib/python3.6/site-packages/tornado/gen.py\", line 1147, in run\n    yielded = self.gen.send(value)\n  File \"/global/homes/c/chmodi/.conda/envs/fastpm/lib/python3.6/site-packages/ipykernel/kernelbase.py\", line 346, in process_one\n    yield gen.maybe_future(dispatch(*args))\n  File \"/global/homes/c/chmodi/.conda/envs/fastpm/lib/python3.6/site-packages/tornado/gen.py\", line 326, in wrapper\n    yielded = next(result)\n  File \"/global/homes/c/chmodi/.conda/envs/fastpm/lib/python3.6/site-packages/ipykernel/kernelbase.py\", line 259, in dispatch_shell\n    yield gen.maybe_future(handler(stream, idents, msg))\n  File \"/global/homes/c/chmodi/.conda/envs/fastpm/lib/python3.6/site-packages/tornado/gen.py\", line 326, in wrapper\n    yielded = next(result)\n  File \"/global/homes/c/chmodi/.conda/envs/fastpm/lib/python3.6/site-packages/ipykernel/kernelbase.py\", line 513, in execute_request\n    user_expressions, allow_stdin,\n  File \"/global/homes/c/chmodi/.conda/envs/fastpm/lib/python3.6/site-packages/tornado/gen.py\", line 326, in wrapper\n    yielded = next(result)\n  File \"/global/homes/c/chmodi/.conda/envs/fastpm/lib/python3.6/site-packages/ipykernel/ipkernel.py\", line 294, in do_execute\n    res = shell.run_cell(code, store_history=store_history, silent=silent)\n  File \"/global/homes/c/chmodi/.conda/envs/fastpm/lib/python3.6/site-packages/ipykernel/zmqshell.py\", line 536, in run_cell\n    return super(ZMQInteractiveShell, self).run_cell(*args, **kwargs)\n  File \"/global/homes/c/chmodi/.conda/envs/fastpm/lib/python3.6/site-packages/IPython/core/interactiveshell.py\", line 2817, in run_cell\n    raw_cell, store_history, silent, shell_futures)\n  File \"/global/homes/c/chmodi/.conda/envs/fastpm/lib/python3.6/site-packages/IPython/core/interactiveshell.py\", line 2843, in _run_cell\n    return runner(coro)\n  File \"/global/homes/c/chmodi/.conda/envs/fastpm/lib/python3.6/site-packages/IPython/core/async_helpers.py\", line 67, in _pseudo_sync_runner\n    coro.send(None)\n  File \"/global/homes/c/chmodi/.conda/envs/fastpm/lib/python3.6/site-packages/IPython/core/interactiveshell.py\", line 3018, in run_cell_async\n    interactivity=interactivity, compiler=compiler, result=result)\n  File \"/global/homes/c/chmodi/.conda/envs/fastpm/lib/python3.6/site-packages/IPython/core/interactiveshell.py\", line 3183, in run_ast_nodes\n    if (yield from self.run_code(code, result)):\n  File \"/global/homes/c/chmodi/.conda/envs/fastpm/lib/python3.6/site-packages/IPython/core/interactiveshell.py\", line 3265, in run_code\n    exec(code_obj, self.user_global_ns, self.user_ns)\n  File \"<ipython-input-247-294e13fc7ea5>\", line 3, in <module>\n    tfforced = tfForce(tflptic, a0, ah, a1, gdict, conf)\n  File \"../code/utils/tfpm.py\", line 154, in tfForce\n    var = tf.scatter_add(var, 0, update)\n  File \"/global/homes/c/chmodi/.conda/envs/fastpm/lib/python3.6/site-packages/tensorflow/python/ops/state_ops.py\", line 410, in scatter_add\n    use_locking=use_locking, name=name)\n  File \"/global/homes/c/chmodi/.conda/envs/fastpm/lib/python3.6/site-packages/tensorflow/python/ops/gen_state_ops.py\", line 591, in scatter_add\n    use_locking=use_locking, name=name)\n  File \"/global/homes/c/chmodi/.conda/envs/fastpm/lib/python3.6/site-packages/tensorflow/python/framework/op_def_library.py\", line 787, in _apply_op_helper\n    op_def=op_def)\n  File \"/global/homes/c/chmodi/.conda/envs/fastpm/lib/python3.6/site-packages/tensorflow/python/util/deprecation.py\", line 488, in new_func\n    return func(*args, **kwargs)\n  File \"/global/homes/c/chmodi/.conda/envs/fastpm/lib/python3.6/site-packages/tensorflow/python/framework/ops.py\", line 3272, in create_op\n    op_def=op_def)\n  File \"/global/homes/c/chmodi/.conda/envs/fastpm/lib/python3.6/site-packages/tensorflow/python/framework/ops.py\", line 1768, in __init__\n    self._traceback = tf_stack.extract_stack()\n\nInvalidArgumentError (see above for traceback): Must have updates.shape = indices.shape + params.shape[1:] or updates.shape = [], got updates.shape [32768,3], indices.shape [], params.shape [32,32,32]\n\t [[{{node ScatterAdd_14}} = ScatterAdd[T=DT_FLOAT, Tindices=DT_INT32, use_locking=false, _device=\"/job:localhost/replica:0/task:0/device:CPU:0\"](Assign_103, ScatterAdd_14/indices, Add_3810)]]\n",
     "output_type": "error",
     "traceback": [
      "\u001b[0;31m---------------------------------------------------------------------------\u001b[0m",
      "\u001b[0;31mInvalidArgumentError\u001b[0m                      Traceback (most recent call last)",
      "\u001b[0;32m~/.conda/envs/fastpm/lib/python3.6/site-packages/tensorflow/python/client/session.py\u001b[0m in \u001b[0;36m_do_call\u001b[0;34m(self, fn, *args)\u001b[0m\n\u001b[1;32m   1291\u001b[0m     \u001b[0;32mtry\u001b[0m\u001b[0;34m:\u001b[0m\u001b[0;34m\u001b[0m\u001b[0m\n\u001b[0;32m-> 1292\u001b[0;31m       \u001b[0;32mreturn\u001b[0m \u001b[0mfn\u001b[0m\u001b[0;34m(\u001b[0m\u001b[0;34m*\u001b[0m\u001b[0margs\u001b[0m\u001b[0;34m)\u001b[0m\u001b[0;34m\u001b[0m\u001b[0m\n\u001b[0m\u001b[1;32m   1293\u001b[0m     \u001b[0;32mexcept\u001b[0m \u001b[0merrors\u001b[0m\u001b[0;34m.\u001b[0m\u001b[0mOpError\u001b[0m \u001b[0;32mas\u001b[0m \u001b[0me\u001b[0m\u001b[0;34m:\u001b[0m\u001b[0;34m\u001b[0m\u001b[0m\n",
      "\u001b[0;32m~/.conda/envs/fastpm/lib/python3.6/site-packages/tensorflow/python/client/session.py\u001b[0m in \u001b[0;36m_run_fn\u001b[0;34m(feed_dict, fetch_list, target_list, options, run_metadata)\u001b[0m\n\u001b[1;32m   1276\u001b[0m       return self._call_tf_sessionrun(\n\u001b[0;32m-> 1277\u001b[0;31m           options, feed_dict, fetch_list, target_list, run_metadata)\n\u001b[0m\u001b[1;32m   1278\u001b[0m \u001b[0;34m\u001b[0m\u001b[0m\n",
      "\u001b[0;32m~/.conda/envs/fastpm/lib/python3.6/site-packages/tensorflow/python/client/session.py\u001b[0m in \u001b[0;36m_call_tf_sessionrun\u001b[0;34m(self, options, feed_dict, fetch_list, target_list, run_metadata)\u001b[0m\n\u001b[1;32m   1366\u001b[0m         \u001b[0mself\u001b[0m\u001b[0;34m.\u001b[0m\u001b[0m_session\u001b[0m\u001b[0;34m,\u001b[0m \u001b[0moptions\u001b[0m\u001b[0;34m,\u001b[0m \u001b[0mfeed_dict\u001b[0m\u001b[0;34m,\u001b[0m \u001b[0mfetch_list\u001b[0m\u001b[0;34m,\u001b[0m \u001b[0mtarget_list\u001b[0m\u001b[0;34m,\u001b[0m\u001b[0;34m\u001b[0m\u001b[0m\n\u001b[0;32m-> 1367\u001b[0;31m         run_metadata)\n\u001b[0m\u001b[1;32m   1368\u001b[0m \u001b[0;34m\u001b[0m\u001b[0m\n",
      "\u001b[0;31mInvalidArgumentError\u001b[0m: Must have updates.shape = indices.shape + params.shape[1:] or updates.shape = [], got updates.shape [32768,3], indices.shape [], params.shape [32,32,32]\n\t [[{{node ScatterAdd_14}} = ScatterAdd[T=DT_FLOAT, Tindices=DT_INT32, use_locking=false, _device=\"/job:localhost/replica:0/task:0/device:CPU:0\"](Assign_103, ScatterAdd_14/indices, Add_3810)]]",
      "\nDuring handling of the above exception, another exception occurred:\n",
      "\u001b[0;31mInvalidArgumentError\u001b[0m                      Traceback (most recent call last)",
      "\u001b[0;32m<ipython-input-247-294e13fc7ea5>\u001b[0m in \u001b[0;36m<module>\u001b[0;34m\u001b[0m\n\u001b[1;32m      4\u001b[0m \u001b[0;32mwith\u001b[0m \u001b[0mtf\u001b[0m\u001b[0;34m.\u001b[0m\u001b[0mSession\u001b[0m\u001b[0;34m(\u001b[0m\u001b[0;34m)\u001b[0m \u001b[0;32mas\u001b[0m \u001b[0msess\u001b[0m\u001b[0;34m:\u001b[0m\u001b[0;34m\u001b[0m\u001b[0m\n\u001b[1;32m      5\u001b[0m     \u001b[0msess\u001b[0m\u001b[0;34m.\u001b[0m\u001b[0mrun\u001b[0m\u001b[0;34m(\u001b[0m\u001b[0mtf\u001b[0m\u001b[0;34m.\u001b[0m\u001b[0mglobal_variables_initializer\u001b[0m\u001b[0;34m(\u001b[0m\u001b[0;34m)\u001b[0m\u001b[0;34m)\u001b[0m\u001b[0;34m\u001b[0m\u001b[0m\n\u001b[0;32m----> 6\u001b[0;31m     \u001b[0mttmp0\u001b[0m\u001b[0;34m,\u001b[0m \u001b[0mttmp1\u001b[0m \u001b[0;34m=\u001b[0m \u001b[0msess\u001b[0m\u001b[0;34m.\u001b[0m\u001b[0mrun\u001b[0m\u001b[0;34m(\u001b[0m\u001b[0;34m[\u001b[0m\u001b[0mtfforced\u001b[0m\u001b[0;34m,\u001b[0m \u001b[0mtflptic\u001b[0m\u001b[0;34m]\u001b[0m\u001b[0;34m)\u001b[0m\u001b[0;34m\u001b[0m\u001b[0m\n\u001b[0m",
      "\u001b[0;32m~/.conda/envs/fastpm/lib/python3.6/site-packages/tensorflow/python/client/session.py\u001b[0m in \u001b[0;36mrun\u001b[0;34m(self, fetches, feed_dict, options, run_metadata)\u001b[0m\n\u001b[1;32m    885\u001b[0m     \u001b[0;32mtry\u001b[0m\u001b[0;34m:\u001b[0m\u001b[0;34m\u001b[0m\u001b[0m\n\u001b[1;32m    886\u001b[0m       result = self._run(None, fetches, feed_dict, options_ptr,\n\u001b[0;32m--> 887\u001b[0;31m                          run_metadata_ptr)\n\u001b[0m\u001b[1;32m    888\u001b[0m       \u001b[0;32mif\u001b[0m \u001b[0mrun_metadata\u001b[0m\u001b[0;34m:\u001b[0m\u001b[0;34m\u001b[0m\u001b[0m\n\u001b[1;32m    889\u001b[0m         \u001b[0mproto_data\u001b[0m \u001b[0;34m=\u001b[0m \u001b[0mtf_session\u001b[0m\u001b[0;34m.\u001b[0m\u001b[0mTF_GetBuffer\u001b[0m\u001b[0;34m(\u001b[0m\u001b[0mrun_metadata_ptr\u001b[0m\u001b[0;34m)\u001b[0m\u001b[0;34m\u001b[0m\u001b[0m\n",
      "\u001b[0;32m~/.conda/envs/fastpm/lib/python3.6/site-packages/tensorflow/python/client/session.py\u001b[0m in \u001b[0;36m_run\u001b[0;34m(self, handle, fetches, feed_dict, options, run_metadata)\u001b[0m\n\u001b[1;32m   1108\u001b[0m     \u001b[0;32mif\u001b[0m \u001b[0mfinal_fetches\u001b[0m \u001b[0;32mor\u001b[0m \u001b[0mfinal_targets\u001b[0m \u001b[0;32mor\u001b[0m \u001b[0;34m(\u001b[0m\u001b[0mhandle\u001b[0m \u001b[0;32mand\u001b[0m \u001b[0mfeed_dict_tensor\u001b[0m\u001b[0;34m)\u001b[0m\u001b[0;34m:\u001b[0m\u001b[0;34m\u001b[0m\u001b[0m\n\u001b[1;32m   1109\u001b[0m       results = self._do_run(handle, final_targets, final_fetches,\n\u001b[0;32m-> 1110\u001b[0;31m                              feed_dict_tensor, options, run_metadata)\n\u001b[0m\u001b[1;32m   1111\u001b[0m     \u001b[0;32melse\u001b[0m\u001b[0;34m:\u001b[0m\u001b[0;34m\u001b[0m\u001b[0m\n\u001b[1;32m   1112\u001b[0m       \u001b[0mresults\u001b[0m \u001b[0;34m=\u001b[0m \u001b[0;34m[\u001b[0m\u001b[0;34m]\u001b[0m\u001b[0;34m\u001b[0m\u001b[0m\n",
      "\u001b[0;32m~/.conda/envs/fastpm/lib/python3.6/site-packages/tensorflow/python/client/session.py\u001b[0m in \u001b[0;36m_do_run\u001b[0;34m(self, handle, target_list, fetch_list, feed_dict, options, run_metadata)\u001b[0m\n\u001b[1;32m   1284\u001b[0m     \u001b[0;32mif\u001b[0m \u001b[0mhandle\u001b[0m \u001b[0;32mis\u001b[0m \u001b[0;32mNone\u001b[0m\u001b[0;34m:\u001b[0m\u001b[0;34m\u001b[0m\u001b[0m\n\u001b[1;32m   1285\u001b[0m       return self._do_call(_run_fn, feeds, fetches, targets, options,\n\u001b[0;32m-> 1286\u001b[0;31m                            run_metadata)\n\u001b[0m\u001b[1;32m   1287\u001b[0m     \u001b[0;32melse\u001b[0m\u001b[0;34m:\u001b[0m\u001b[0;34m\u001b[0m\u001b[0m\n\u001b[1;32m   1288\u001b[0m       \u001b[0;32mreturn\u001b[0m \u001b[0mself\u001b[0m\u001b[0;34m.\u001b[0m\u001b[0m_do_call\u001b[0m\u001b[0;34m(\u001b[0m\u001b[0m_prun_fn\u001b[0m\u001b[0;34m,\u001b[0m \u001b[0mhandle\u001b[0m\u001b[0;34m,\u001b[0m \u001b[0mfeeds\u001b[0m\u001b[0;34m,\u001b[0m \u001b[0mfetches\u001b[0m\u001b[0;34m)\u001b[0m\u001b[0;34m\u001b[0m\u001b[0m\n",
      "\u001b[0;32m~/.conda/envs/fastpm/lib/python3.6/site-packages/tensorflow/python/client/session.py\u001b[0m in \u001b[0;36m_do_call\u001b[0;34m(self, fn, *args)\u001b[0m\n\u001b[1;32m   1306\u001b[0m           self._config.experimental.client_handles_error_formatting):\n\u001b[1;32m   1307\u001b[0m         \u001b[0mmessage\u001b[0m \u001b[0;34m=\u001b[0m \u001b[0merror_interpolation\u001b[0m\u001b[0;34m.\u001b[0m\u001b[0minterpolate\u001b[0m\u001b[0;34m(\u001b[0m\u001b[0mmessage\u001b[0m\u001b[0;34m,\u001b[0m \u001b[0mself\u001b[0m\u001b[0;34m.\u001b[0m\u001b[0m_graph\u001b[0m\u001b[0;34m)\u001b[0m\u001b[0;34m\u001b[0m\u001b[0m\n\u001b[0;32m-> 1308\u001b[0;31m       \u001b[0;32mraise\u001b[0m \u001b[0mtype\u001b[0m\u001b[0;34m(\u001b[0m\u001b[0me\u001b[0m\u001b[0;34m)\u001b[0m\u001b[0;34m(\u001b[0m\u001b[0mnode_def\u001b[0m\u001b[0;34m,\u001b[0m \u001b[0mop\u001b[0m\u001b[0;34m,\u001b[0m \u001b[0mmessage\u001b[0m\u001b[0;34m)\u001b[0m\u001b[0;34m\u001b[0m\u001b[0m\n\u001b[0m\u001b[1;32m   1309\u001b[0m \u001b[0;34m\u001b[0m\u001b[0m\n\u001b[1;32m   1310\u001b[0m   \u001b[0;32mdef\u001b[0m \u001b[0m_extend_graph\u001b[0m\u001b[0;34m(\u001b[0m\u001b[0mself\u001b[0m\u001b[0;34m)\u001b[0m\u001b[0;34m:\u001b[0m\u001b[0;34m\u001b[0m\u001b[0m\n",
      "\u001b[0;31mInvalidArgumentError\u001b[0m: Must have updates.shape = indices.shape + params.shape[1:] or updates.shape = [], got updates.shape [32768,3], indices.shape [], params.shape [32,32,32]\n\t [[{{node ScatterAdd_14}} = ScatterAdd[T=DT_FLOAT, Tindices=DT_INT32, use_locking=false, _device=\"/job:localhost/replica:0/task:0/device:CPU:0\"](Assign_103, ScatterAdd_14/indices, Add_3810)]]\n\nCaused by op 'ScatterAdd_14', defined at:\n  File \"/global/homes/c/chmodi/.conda/envs/fastpm/lib/python3.6/runpy.py\", line 193, in _run_module_as_main\n    \"__main__\", mod_spec)\n  File \"/global/homes/c/chmodi/.conda/envs/fastpm/lib/python3.6/runpy.py\", line 85, in _run_code\n    exec(code, run_globals)\n  File \"/global/homes/c/chmodi/.conda/envs/fastpm/lib/python3.6/site-packages/ipykernel/__main__.py\", line 3, in <module>\n    app.launch_new_instance()\n  File \"/global/homes/c/chmodi/.conda/envs/fastpm/lib/python3.6/site-packages/traitlets/config/application.py\", line 658, in launch_instance\n    app.start()\n  File \"/global/homes/c/chmodi/.conda/envs/fastpm/lib/python3.6/site-packages/ipykernel/kernelapp.py\", line 499, in start\n    self.io_loop.start()\n  File \"/global/homes/c/chmodi/.conda/envs/fastpm/lib/python3.6/site-packages/tornado/platform/asyncio.py\", line 132, in start\n    self.asyncio_loop.run_forever()\n  File \"/global/homes/c/chmodi/.conda/envs/fastpm/lib/python3.6/asyncio/base_events.py\", line 422, in run_forever\n    self._run_once()\n  File \"/global/homes/c/chmodi/.conda/envs/fastpm/lib/python3.6/asyncio/base_events.py\", line 1434, in _run_once\n    handle._run()\n  File \"/global/homes/c/chmodi/.conda/envs/fastpm/lib/python3.6/asyncio/events.py\", line 145, in _run\n    self._callback(*self._args)\n  File \"/global/homes/c/chmodi/.conda/envs/fastpm/lib/python3.6/site-packages/tornado/ioloop.py\", line 758, in _run_callback\n    ret = callback()\n  File \"/global/homes/c/chmodi/.conda/envs/fastpm/lib/python3.6/site-packages/tornado/stack_context.py\", line 300, in null_wrapper\n    return fn(*args, **kwargs)\n  File \"/global/homes/c/chmodi/.conda/envs/fastpm/lib/python3.6/site-packages/tornado/gen.py\", line 1233, in inner\n    self.run()\n  File \"/global/homes/c/chmodi/.conda/envs/fastpm/lib/python3.6/site-packages/tornado/gen.py\", line 1147, in run\n    yielded = self.gen.send(value)\n  File \"/global/homes/c/chmodi/.conda/envs/fastpm/lib/python3.6/site-packages/ipykernel/kernelbase.py\", line 346, in process_one\n    yield gen.maybe_future(dispatch(*args))\n  File \"/global/homes/c/chmodi/.conda/envs/fastpm/lib/python3.6/site-packages/tornado/gen.py\", line 326, in wrapper\n    yielded = next(result)\n  File \"/global/homes/c/chmodi/.conda/envs/fastpm/lib/python3.6/site-packages/ipykernel/kernelbase.py\", line 259, in dispatch_shell\n    yield gen.maybe_future(handler(stream, idents, msg))\n  File \"/global/homes/c/chmodi/.conda/envs/fastpm/lib/python3.6/site-packages/tornado/gen.py\", line 326, in wrapper\n    yielded = next(result)\n  File \"/global/homes/c/chmodi/.conda/envs/fastpm/lib/python3.6/site-packages/ipykernel/kernelbase.py\", line 513, in execute_request\n    user_expressions, allow_stdin,\n  File \"/global/homes/c/chmodi/.conda/envs/fastpm/lib/python3.6/site-packages/tornado/gen.py\", line 326, in wrapper\n    yielded = next(result)\n  File \"/global/homes/c/chmodi/.conda/envs/fastpm/lib/python3.6/site-packages/ipykernel/ipkernel.py\", line 294, in do_execute\n    res = shell.run_cell(code, store_history=store_history, silent=silent)\n  File \"/global/homes/c/chmodi/.conda/envs/fastpm/lib/python3.6/site-packages/ipykernel/zmqshell.py\", line 536, in run_cell\n    return super(ZMQInteractiveShell, self).run_cell(*args, **kwargs)\n  File \"/global/homes/c/chmodi/.conda/envs/fastpm/lib/python3.6/site-packages/IPython/core/interactiveshell.py\", line 2817, in run_cell\n    raw_cell, store_history, silent, shell_futures)\n  File \"/global/homes/c/chmodi/.conda/envs/fastpm/lib/python3.6/site-packages/IPython/core/interactiveshell.py\", line 2843, in _run_cell\n    return runner(coro)\n  File \"/global/homes/c/chmodi/.conda/envs/fastpm/lib/python3.6/site-packages/IPython/core/async_helpers.py\", line 67, in _pseudo_sync_runner\n    coro.send(None)\n  File \"/global/homes/c/chmodi/.conda/envs/fastpm/lib/python3.6/site-packages/IPython/core/interactiveshell.py\", line 3018, in run_cell_async\n    interactivity=interactivity, compiler=compiler, result=result)\n  File \"/global/homes/c/chmodi/.conda/envs/fastpm/lib/python3.6/site-packages/IPython/core/interactiveshell.py\", line 3183, in run_ast_nodes\n    if (yield from self.run_code(code, result)):\n  File \"/global/homes/c/chmodi/.conda/envs/fastpm/lib/python3.6/site-packages/IPython/core/interactiveshell.py\", line 3265, in run_code\n    exec(code_obj, self.user_global_ns, self.user_ns)\n  File \"<ipython-input-247-294e13fc7ea5>\", line 3, in <module>\n    tfforced = tfForce(tflptic, a0, ah, a1, gdict, conf)\n  File \"../code/utils/tfpm.py\", line 154, in tfForce\n    var = tf.scatter_add(var, 0, update)\n  File \"/global/homes/c/chmodi/.conda/envs/fastpm/lib/python3.6/site-packages/tensorflow/python/ops/state_ops.py\", line 410, in scatter_add\n    use_locking=use_locking, name=name)\n  File \"/global/homes/c/chmodi/.conda/envs/fastpm/lib/python3.6/site-packages/tensorflow/python/ops/gen_state_ops.py\", line 591, in scatter_add\n    use_locking=use_locking, name=name)\n  File \"/global/homes/c/chmodi/.conda/envs/fastpm/lib/python3.6/site-packages/tensorflow/python/framework/op_def_library.py\", line 787, in _apply_op_helper\n    op_def=op_def)\n  File \"/global/homes/c/chmodi/.conda/envs/fastpm/lib/python3.6/site-packages/tensorflow/python/util/deprecation.py\", line 488, in new_func\n    return func(*args, **kwargs)\n  File \"/global/homes/c/chmodi/.conda/envs/fastpm/lib/python3.6/site-packages/tensorflow/python/framework/ops.py\", line 3272, in create_op\n    op_def=op_def)\n  File \"/global/homes/c/chmodi/.conda/envs/fastpm/lib/python3.6/site-packages/tensorflow/python/framework/ops.py\", line 1768, in __init__\n    self._traceback = tf_stack.extract_stack()\n\nInvalidArgumentError (see above for traceback): Must have updates.shape = indices.shape + params.shape[1:] or updates.shape = [], got updates.shape [32768,3], indices.shape [], params.shape [32,32,32]\n\t [[{{node ScatterAdd_14}} = ScatterAdd[T=DT_FLOAT, Tindices=DT_INT32, use_locking=false, _device=\"/job:localhost/replica:0/task:0/device:CPU:0\"](Assign_103, ScatterAdd_14/indices, Add_3810)]]\n"
     ]
    }
   ],
   "source": [
    "# #\n",
    "tflptic = tflptinit(tlineark, grid, a0, gdict, conf, order=2)\n",
    "tfforced = tfForce(tflptic, a0, ah, a1, gdict, conf)\n",
    "with tf.Session() as sess:\n",
    "    sess.run(tf.global_variables_initializer())\n",
    "    ttmp0, ttmp1 = sess.run([tfforced, tflptic])"
   ]
  },
  {
   "cell_type": "code",
   "execution_count": null,
   "metadata": {},
   "outputs": [],
   "source": [
    "ttmp0[2], ttmp1[2]"
   ]
  },
  {
   "cell_type": "code",
   "execution_count": null,
   "metadata": {},
   "outputs": [],
   "source": []
  }
 ],
 "metadata": {
  "kernelspec": {
   "display_name": "Python [conda env:fastpm]",
   "language": "python",
   "name": "conda-env-fastpm-py"
  },
  "language_info": {
   "codemirror_mode": {
    "name": "ipython",
    "version": 3
   },
   "file_extension": ".py",
   "mimetype": "text/x-python",
   "name": "python",
   "nbconvert_exporter": "python",
   "pygments_lexer": "ipython3",
   "version": "3.6.6"
  }
 },
 "nbformat": 4,
 "nbformat_minor": 2
}
