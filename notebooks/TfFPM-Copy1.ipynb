{
 "cells": [
  {
   "cell_type": "code",
   "execution_count": 1,
   "metadata": {},
   "outputs": [
    {
     "name": "stderr",
     "output_type": "stream",
     "text": [
      "/global/homes/c/chmodi/.conda/envs/fastpm/lib/python3.6/site-packages/dask/context.py:23: UserWarning: The dask.set_options function has been deprecated. Please use dask.config.set instead\n",
      "  warnings.warn(\"The dask.set_options function has been deprecated. \"\n"
     ]
    }
   ],
   "source": [
    "import numpy as np\n",
    "import numpy\n",
    "from nbodykit.lab import BigFileMesh, BigFileCatalog\n",
    "from pmesh.pm import ParticleMesh\n",
    "import os, sys\n",
    "import matplotlib.pyplot as plt\n",
    "%matplotlib inline\n",
    "%load_ext autoreload\n",
    "%autoreload 2\n",
    "\n",
    "from nbodykit.cosmology import Cosmology, EHPower, Planck15"
   ]
  },
  {
   "cell_type": "code",
   "execution_count": 2,
   "metadata": {},
   "outputs": [],
   "source": [
    "import tensorflow as tf\n",
    "# tf.enable_eager_execution()"
   ]
  },
  {
   "cell_type": "code",
   "execution_count": 3,
   "metadata": {},
   "outputs": [],
   "source": [
    "sys.path.append('../code/utils/')\n",
    "import tools\n",
    "from background import *\n",
    "from tfpm import *\n",
    "from tfpmfuncs import *\n",
    "from fpmfuncs import *\n",
    "from fpm import *\n",
    "from pmconfig import Config\n"
   ]
  },
  {
   "cell_type": "code",
   "execution_count": 4,
   "metadata": {},
   "outputs": [
    {
     "name": "stderr",
     "output_type": "stream",
     "text": [
      "/global/homes/c/chmodi/.conda/envs/fastpm/lib/python3.6/site-packages/nbodykit/cosmology/power/linear.py:228: FutureWarning: NoWiggleEHPower is deprecated. Use LinearPower with transfer set to 'EisensteinHu'\n",
      "  warnings.warn(\"NoWiggleEHPower is deprecated. Use LinearPower with transfer set to 'EisensteinHu'\", FutureWarning)\n"
     ]
    },
    {
     "name": "stdout",
     "output_type": "stream",
     "text": [
      "Step F 0.1000 - (0.1000) -> 0.1000 S 0.1000 P 0.1000 F 0.1000\n",
      "Step K 0.1000 - (0.1000) -> 0.1803 S 0.1000 P 0.1803 F 0.1000\n",
      "Step D 0.1000 - (0.1803) -> 0.3250 S 0.3250 P 0.1803 F 0.1000\n",
      "Step F 0.1000 - (0.3250) -> 0.3250 S 0.3250 P 0.1803 F 0.3250\n",
      "Step K 0.1803 - (0.3250) -> 0.3250 S 0.3250 P 0.3250 F 0.3250\n",
      "Step K 0.3250 - (0.3250) -> 0.4228 S 0.3250 P 0.4228 F 0.3250\n",
      "Step D 0.3250 - (0.4228) -> 0.5500 S 0.5500 P 0.4228 F 0.3250\n",
      "Step F 0.3250 - (0.5500) -> 0.5500 S 0.5500 P 0.4228 F 0.5500\n",
      "Step K 0.4228 - (0.5500) -> 0.5500 S 0.5500 P 0.5500 F 0.5500\n",
      "Step K 0.5500 - (0.5500) -> 0.6529 S 0.5500 P 0.6529 F 0.5500\n",
      "Step D 0.5500 - (0.6529) -> 0.7750 S 0.7750 P 0.6529 F 0.5500\n",
      "Step F 0.5500 - (0.7750) -> 0.7750 S 0.7750 P 0.6529 F 0.7750\n",
      "Step K 0.6529 - (0.7750) -> 0.7750 S 0.7750 P 0.7750 F 0.7750\n",
      "Step K 0.7750 - (0.7750) -> 0.8803 S 0.7750 P 0.8803 F 0.7750\n",
      "Step D 0.7750 - (0.8803) -> 1.0000 S 1.0000 P 0.8803 F 0.7750\n",
      "Step F 0.7750 - (1.0000) -> 1.0000 S 1.0000 P 0.8803 F 1.0000\n",
      "Step K 0.8803 - (1.0000) -> 1.0000 S 1.0000 P 1.0000 F 1.0000\n"
     ]
    }
   ],
   "source": [
    "state = fastpm()"
   ]
  },
  {
   "cell_type": "markdown",
   "metadata": {},
   "source": [
    "# Check lptz0"
   ]
  },
  {
   "cell_type": "code",
   "execution_count": 5,
   "metadata": {},
   "outputs": [
    {
     "name": "stderr",
     "output_type": "stream",
     "text": [
      "/global/homes/c/chmodi/.conda/envs/fastpm/lib/python3.6/site-packages/ipykernel/__main__.py:16: DeprecationWarning: mode argument is deprecated, use type\n"
     ]
    }
   ],
   "source": [
    "conf = Config()\n",
    "bs, nc = conf['boxsize'], conf['nc']\n",
    "pm = conf.pm\n",
    "\n",
    "# bs = 100\n",
    "# nc = 32\n",
    "# pm = ParticleMesh(BoxSize=bs, Nmesh = [nc, nc, nc], dtype='f4')\n",
    "grid = pm.generate_uniform_particle_grid(shift=0).astype(np.float32)\n",
    "kvec = tools.fftk((nc, nc, nc), bs, dtype=np.float32, symmetric=False)\n",
    "gdict = {'bs':bs, 'nc':nc, 'kvec':kvec, 'ndim':3}\n",
    "solver = Solver(pm, conf['cosmology'])\n",
    "conf['kvec'] = kvec\n",
    "gdict = conf\n",
    "\n",
    "\n",
    "whitec = pm.generate_whitenoise(100, mode='complex', unitary=False)\n",
    "lineark = whitec.apply(lambda k, v:Planck15.get_pklin(sum(ki ** 2 for ki in k)**0.5, 0) ** 0.5 * v / v.BoxSize.prod() ** 0.5)\n",
    "linear = lineark.c2r()\n",
    "# tlinear = tf.constant(linear[...])\n",
    "# tlineark = tf.multiply(tf.spectral.rfft3d(tlinear), 1/nc**3)\n",
    "tlinear = tf.constant(linear[...])\n",
    "tlineark = tf.multiply(tf.spectral.fft3d(tf.cast(tlinear, tf.complex64)), 1/nc**3)\n",
    "\n"
   ]
  },
  {
   "cell_type": "code",
   "execution_count": 6,
   "metadata": {},
   "outputs": [],
   "source": [
    "lptdisp = lptz0(lineark, grid, order=2)\n",
    "lptpos = grid + lptdisp\n",
    "lptmesh =  pm.paint(lptpos)\n"
   ]
  },
  {
   "cell_type": "code",
   "execution_count": 7,
   "metadata": {},
   "outputs": [
    {
     "name": "stdout",
     "output_type": "stream",
     "text": [
      "Tensor(\"zeros_like:0\", shape=(8, 8, 8), dtype=float32) Tensor(\"Add_46:0\", shape=(512, 3), dtype=float32)\n"
     ]
    }
   ],
   "source": [
    "# #\n",
    "# tlinear = tf.constant(linear[...])\n",
    "# tlineark = tf.multiply(tf.spectral.rfft3d(tlinear), 1/nc**3)\n",
    "tlptmesh = tf.zeros_like(tlinear)\n",
    "wt = tf.ones(nc**3)\n",
    "# wt = np.ones(nc**3, dtype=np.float32)\n",
    "tlptdisp = tflptz0(tlineark, grid, gdict, order=2)\n",
    "tlptpos = tf.add(grid, tlptdisp)\n",
    "print(tlptmesh, tlptpos)\n",
    "tlptmesh = cic_paint(tlptmesh, tf.multiply(tlptpos, nc/bs), weight=wt)\n",
    "\n",
    "with tf.Session() as sess:\n",
    "    sess.run(tf.global_variables_initializer())\n",
    "    tflptpos, tflptmesh = sess.run([tlptpos, tlptmesh])"
   ]
  },
  {
   "cell_type": "code",
   "execution_count": 8,
   "metadata": {},
   "outputs": [
    {
     "data": {
      "text/plain": [
       "array([[ 2.9802322e-07, -5.9604645e-07, -4.7683716e-07],\n",
       "       [ 3.2782555e-07,  0.0000000e+00,  0.0000000e+00],\n",
       "       [ 1.1920929e-07, -8.1956387e-08,  0.0000000e+00],\n",
       "       ...,\n",
       "       [ 0.0000000e+00,  0.0000000e+00,  0.0000000e+00],\n",
       "       [ 0.0000000e+00,  0.0000000e+00,  0.0000000e+00],\n",
       "       [ 0.0000000e+00,  0.0000000e+00,  0.0000000e+00]], dtype=float32)"
      ]
     },
     "execution_count": 8,
     "metadata": {},
     "output_type": "execute_result"
    }
   ],
   "source": [
    "tflptpos-lptpos"
   ]
  },
  {
   "cell_type": "code",
   "execution_count": 9,
   "metadata": {},
   "outputs": [
    {
     "data": {
      "text/plain": [
       "Text(0.5,1,'Yu 2LPT')"
      ]
     },
     "execution_count": 9,
     "metadata": {},
     "output_type": "execute_result"
    },
    {
     "data": {
      "image/png": "[encoded data removed]",
      "text/plain": [
       "<Figure size 792x792 with 8 Axes>"
      ]
     },
     "metadata": {
      "needs_background": "light"
     },
     "output_type": "display_data"
    }
   ],
   "source": [
    "fig, axar = plt.subplots(2, 2, figsize = (11, 11))\n",
    "ax = axar[0]\n",
    "im = ax[0].imshow(linear[...].sum(axis=0))\n",
    "plt.colorbar(im, ax=ax[0])\n",
    "ax[0].set_title('Linear')\n",
    "im = ax[1].imshow((lptmesh-tflptmesh)[...].sum(axis=0))\n",
    "plt.colorbar(im, ax=ax[1])\n",
    "ax[1].set_title('Difference 2LPT')\n",
    "ax = axar[1]\n",
    "im = ax[0].imshow(tflptmesh[...].sum(axis=0))\n",
    "plt.colorbar(im, ax=ax[0])\n",
    "ax[0].set_title('TF 2LPT')\n",
    "im = ax[1].imshow(lptmesh[...].sum(axis=0))\n",
    "plt.colorbar(im, ax=ax[1])\n",
    "ax[1].set_title('Yu 2LPT')\n",
    "\n"
   ]
  },
  {
   "cell_type": "markdown",
   "metadata": {},
   "source": [
    "#### Checkgrad"
   ]
  },
  {
   "cell_type": "code",
   "execution_count": 10,
   "metadata": {},
   "outputs": [
    {
     "name": "stdout",
     "output_type": "stream",
     "text": [
      "Tensor(\"zeros_like_3:0\", shape=(8, 8, 8), dtype=float32) Tensor(\"Add_101:0\", shape=(512, 3), dtype=float32)\n"
     ]
    }
   ],
   "source": [
    "gindex = [0, 1, 1]\n",
    "tlinear = tf.constant(linear[...])\n",
    "tlineark = tf.multiply(tf.spectral.fft3d(tf.cast(tlinear, tf.complex64)), 1/nc**3)\n",
    "tlptmesh = tf.zeros_like(tlinear)\n",
    "wt = tf.ones(nc**3)\n",
    "# wt = np.ones(nc**3, dtype=np.float32)\n",
    "tlptdisp = tflptz0(tlineark, grid, gdict, order=2)\n",
    "tlptpos = tf.add(grid, tlptdisp)\n",
    "print(tlptmesh, tlptpos)\n",
    "tlptmesh = cic_paint(tlptmesh, tf.multiply(tlptpos, nc/bs), weight=wt)\n",
    "grad = tf.gradients(tlptmesh[gindex], tlinear)\n",
    "\n",
    "with tf.Session() as sess:\n",
    "    sess.run(tf.global_variables_initializer())\n",
    "    tgrad, tflptpos, tflptmesh = sess.run([grad, tlptpos, tlptmesh])"
   ]
  },
  {
   "cell_type": "code",
   "execution_count": 11,
   "metadata": {},
   "outputs": [],
   "source": [
    "# #\n",
    "index = [1, 1, 1]\n",
    "dx = 0.01\n",
    "dxmesh = np.zeros_like(linear[...])\n",
    "dxmesh[tuple(index)] +=dx\n",
    "\n",
    "tlinear = tf.constant(linear[...]+dxmesh)\n",
    "tlineark = tf.multiply(tf.spectral.fft3d(tf.cast(tlinear, tf.complex64)), 1/nc**3)\n",
    "tlptmesh = tf.zeros_like(tlinear)\n",
    "wt = tf.ones(nc**3)\n",
    "# wt = np.ones(nc**3, dtype=np.float32)\n",
    "tlptdisp = tflptz0(tlineark, grid, gdict, order=2)\n",
    "tlptpos = tf.add(grid, tlptdisp)\n",
    "tlptmesh = cic_paint(tlptmesh, tf.multiply(tlptpos, nc/bs), weight=wt)\n",
    "grad = tf.gradients(tlptmesh, tlinear)\n",
    "\n",
    "with tf.Session() as sess:\n",
    "    sess.run(tf.global_variables_initializer())\n",
    "    tflptpos2, tflptmesh2 = sess.run([tlptpos, tlptmesh])"
   ]
  },
  {
   "cell_type": "code",
   "execution_count": 12,
   "metadata": {},
   "outputs": [
    {
     "data": {
      "text/plain": [
       "(0.005969218909740448, 0.0059663057)"
      ]
     },
     "execution_count": 12,
     "metadata": {},
     "output_type": "execute_result"
    }
   ],
   "source": [
    "(tflptmesh2 - tflptmesh)[tuple(gindex)]/dx, tgrad[0][tuple(index)]"
   ]
  },
  {
   "cell_type": "markdown",
   "metadata": {},
   "source": [
    "# FastPM"
   ]
  },
  {
   "cell_type": "code",
   "execution_count": 13,
   "metadata": {},
   "outputs": [],
   "source": [
    "a0, a1 = conf['stages'][0], conf['stages'][1]\n",
    "ah = (a0*a1)**0.5"
   ]
  },
  {
   "cell_type": "markdown",
   "metadata": {},
   "source": [
    "### lpt IC"
   ]
  },
  {
   "cell_type": "code",
   "execution_count": 14,
   "metadata": {},
   "outputs": [],
   "source": [
    "# #\n",
    "statelpt = solver.lpt(lineark, grid, a0, order=2)\n",
    "tflptic = tflptinit(tlineark, grid, a0, conf, order=2)\n",
    "\n",
    "with tf.Session() as sess:\n",
    "    sess.run(tf.global_variables_initializer())\n",
    "    tfstatelpt = sess.run(tflptic)\n",
    "# tfstatelpt = ttmp.copy()"
   ]
  },
  {
   "cell_type": "code",
   "execution_count": 15,
   "metadata": {},
   "outputs": [
    {
     "data": {
      "text/plain": [
       "array([[0.99625576, 0.9994946 , 1.0004666 ],\n",
       "       [0.9967582 , 0.99955595, 1.0000006 ],\n",
       "       [0.99915403, 0.99019474, 0.99999166],\n",
       "       ...,\n",
       "       [1.0000002 , 1.0000002 , 1.        ],\n",
       "       [1.0000004 , 1.0000004 , 1.0000004 ],\n",
       "       [1.0000005 , 1.0000005 , 1.0000006 ]], dtype=float32)"
      ]
     },
     "execution_count": 15,
     "metadata": {},
     "output_type": "execute_result"
    }
   ],
   "source": [
    "(tfstatelpt[0])/ statelpt.X"
   ]
  },
  {
   "cell_type": "code",
   "execution_count": 16,
   "metadata": {},
   "outputs": [
    {
     "data": {
      "text/plain": [
       "array([[0.99625576, 0.9994946 , 1.0004666 ],\n",
       "       [0.9967582 , 0.99955595, 1.000004  ],\n",
       "       [0.99915403, 0.99019474, 0.99986   ],\n",
       "       ...,\n",
       "       [1.0001172 , 1.0000492 , 1.0000007 ],\n",
       "       [1.0000639 , 1.0000395 , 0.9999775 ],\n",
       "       [0.9993375 , 0.9997398 , 0.9998761 ]], dtype=float32)"
      ]
     },
     "execution_count": 16,
     "metadata": {},
     "output_type": "execute_result"
    }
   ],
   "source": [
    "(tfstatelpt[0]-grid)/ statelpt.S"
   ]
  },
  {
   "cell_type": "code",
   "execution_count": 17,
   "metadata": {},
   "outputs": [
    {
     "data": {
      "text/plain": [
       "(array([[0.00099668, 0.0009995 , 0.00100045],\n",
       "        [0.00099685, 0.00099957, 0.00100001],\n",
       "        [0.00099915, 0.00098787, 0.00099987],\n",
       "        ...,\n",
       "        [0.00100013, 0.00100006, 0.001     ],\n",
       "        [0.00100006, 0.00100004, 0.00099998],\n",
       "        [0.00099934, 0.0009997 , 0.00099988]], dtype=float32),\n",
       " array([[0.99668276, 0.9995004 , 1.0004463 ],\n",
       "        [0.9968519 , 0.999565  , 1.0000072 ],\n",
       "        [0.9991539 , 0.9878713 , 0.99986607],\n",
       "        ...,\n",
       "        [1.0001266 , 1.0000583 , 0.9999997 ],\n",
       "        [1.0000564 , 1.0000405 , 0.9999778 ],\n",
       "        [0.9993389 , 0.99970114, 0.9998788 ]], dtype=float32))"
      ]
     },
     "execution_count": 17,
     "metadata": {},
     "output_type": "execute_result"
    }
   ],
   "source": [
    "(tfstatelpt[1])/ statelpt.V, (tfstatelpt[1])/ statelpt.P"
   ]
  },
  {
   "cell_type": "code",
   "execution_count": 18,
   "metadata": {},
   "outputs": [
    {
     "data": {
      "text/plain": [
       "array([[0.9971645 , 0.9995088 , 1.00042   ],\n",
       "       [0.9969781 , 0.9995772 , 1.0000113 ],\n",
       "       [0.9991538 , 0.9820906 , 0.9998735 ],\n",
       "       ...,\n",
       "       [1.000129  , 1.0000563 , 0.9999997 ],\n",
       "       [1.0000545 , 1.0000383 , 0.99997747],\n",
       "       [0.9993789 , 0.9996736 , 0.99988025]], dtype=float32)"
      ]
     },
     "execution_count": 18,
     "metadata": {},
     "output_type": "execute_result"
    }
   ],
   "source": [
    "(tfstatelpt[2])/ statelpt.F"
   ]
  },
  {
   "cell_type": "markdown",
   "metadata": {},
   "source": [
    "#### Checkgrad"
   ]
  },
  {
   "cell_type": "code",
   "execution_count": 19,
   "metadata": {},
   "outputs": [],
   "source": [
    "gindex = [1, 1]\n",
    "tlinear = tf.constant(linear[...])\n",
    "tlineark = tf.multiply(tf.spectral.fft3d(tf.cast(tlinear, tf.complex64)), 1/nc**3)\n",
    "tflptic = tflptinit(tlineark, grid, a0, conf, order=2)\n",
    "grad = tf.gradients(tflptic[0][gindex], tlinear)\n",
    "\n",
    "with tf.Session() as sess:\n",
    "    sess.run(tf.global_variables_initializer())\n",
    "    tgrad, tlptic = sess.run([grad, tflptic])"
   ]
  },
  {
   "cell_type": "code",
   "execution_count": 20,
   "metadata": {},
   "outputs": [],
   "source": [
    "gindex = [1, 1]\n",
    "index = [1, 1, 1]\n",
    "dx = 0.01\n",
    "dxmesh = np.zeros_like(linear[...])\n",
    "dxmesh[tuple(index)] +=dx\n",
    "\n",
    "tlinear = tf.constant(linear[...]+dxmesh)\n",
    "tlineark = tf.multiply(tf.spectral.fft3d(tf.cast(tlinear, tf.complex64)), 1/nc**3)\n",
    "tflptic = tflptinit(tlineark, grid, a0, conf, order=2)\n",
    "grad = tf.gradients(tflptic[0][gindex], tlinear)\n",
    "\n",
    "with tf.Session() as sess:\n",
    "    sess.run(tf.global_variables_initializer())\n",
    "    tgrad, tlptic2 = sess.run([grad, tflptic])"
   ]
  },
  {
   "cell_type": "code",
   "execution_count": 21,
   "metadata": {},
   "outputs": [
    {
     "data": {
      "text/plain": [
       "0.018136173"
      ]
     },
     "execution_count": 21,
     "metadata": {},
     "output_type": "execute_result"
    }
   ],
   "source": [
    "tgrad[0][tuple(index)]"
   ]
  },
  {
   "cell_type": "code",
   "execution_count": 22,
   "metadata": {},
   "outputs": [
    {
     "data": {
      "text/plain": [
       "0.018137693405151367"
      ]
     },
     "execution_count": 22,
     "metadata": {},
     "output_type": "execute_result"
    }
   ],
   "source": [
    "(tlptic2[0][tuple(gindex)] - tlptic[0][tuple(gindex)])/dx"
   ]
  },
  {
   "cell_type": "markdown",
   "metadata": {},
   "source": [
    "### Kick"
   ]
  },
  {
   "cell_type": "code",
   "execution_count": 23,
   "metadata": {},
   "outputs": [],
   "source": [
    "### Example to play with the scatter\n",
    "\n",
    "# npart = int(5) #no.of particles\n",
    "# state = tf.zeros((3, npart, 3))\n",
    "# indices = tf.constant([[0]])\n",
    "# updates = tf.expand_dims(tf.constant(np.arange(npart*3).reshape(npart, 3)),axis=0)\n",
    "# shape = state.shape\n",
    "# #trying to update channel 0, i.e. first index of state\n",
    "\n",
    "# print(indices)\n",
    "# print(updates)\n",
    "# print(shape)\n",
    "\n",
    "# state = tf.scatter_nd(indices, updates, shape)\n",
    "# print('state')\n",
    "# with tf.Session() as sess:\n",
    "#     print(sess.run(state[0]))"
   ]
  },
  {
   "cell_type": "code",
   "execution_count": 25,
   "metadata": {},
   "outputs": [
    {
     "name": "stdout",
     "output_type": "stream",
     "text": [
      "[3, 1]\n"
     ]
    }
   ],
   "source": [
    "state = statelpt.copy()\n",
    "tfstate = tfstatelpt.copy()\n",
    "\n",
    "state.a['F'] = ah\n",
    "solver.nbodystep.Kick(state, a0, ah, a1)\n",
    "\n",
    "# tfstate = []\n",
    "# X, P, F\n",
    "##\n",
    "tfkicked = tfKick(tfstate, a0, ah, a1,  conf)\n",
    "with tf.Session() as sess:\n",
    "    sess.run(tf.global_variables_initializer())\n",
    "    print(sess.run([tf.rank(tfstate), tf.rank(tfstate.shape)]))\n",
    "    tfstate = sess.run(tfkicked)"
   ]
  },
  {
   "cell_type": "code",
   "execution_count": 26,
   "metadata": {},
   "outputs": [
    {
     "data": {
      "text/plain": [
       "array([[0.99704075, 0.99950635, 1.0004271 ],\n",
       "       [0.9969433 , 0.9995739 , 1.0000103 ],\n",
       "       [0.9991539 , 0.98418176, 0.99987143],\n",
       "       ...,\n",
       "       [1.0001283 , 1.0000569 , 0.9999997 ],\n",
       "       [1.0000551 , 1.0000389 , 0.9999775 ],\n",
       "       [0.999368  , 0.9996818 , 0.99987984]], dtype=float32)"
      ]
     },
     "execution_count": 26,
     "metadata": {},
     "output_type": "execute_result"
    }
   ],
   "source": [
    "ii = 1\n",
    "tfstate[ii] / tfstatelpt[ii], \n",
    "tfstate[ii] / state.P"
   ]
  },
  {
   "cell_type": "markdown",
   "metadata": {},
   "source": [
    "#### Checkgrad"
   ]
  },
  {
   "cell_type": "code",
   "execution_count": null,
   "metadata": {},
   "outputs": [],
   "source": [
    "tlinear = tf.constant(linear[...])\n",
    "tlineark = tf.multiply(tf.spectral.fft3d(tf.cast(tlinear, tf.complex64)), 1/nc**3)\n",
    "tflptic = tflptinit(tlineark, grid, a0, conf, order=2)\n",
    "tfkicked = tfKick(tflptic, a0, ah, a1,  conf)\n",
    "grad = tf.gradients(tfkicked[1][gindex], tlinear)\n",
    "with tf.Session() as sess:\n",
    "    sess.run(tf.global_variables_initializer())\n",
    "    tgrad, tkicked, tlptic = sess.run([grad, tfkicked, tflptic])\n",
    "#     tkicked, tlptic = sess.run([tfkicked, tflptic])"
   ]
  },
  {
   "cell_type": "code",
   "execution_count": null,
   "metadata": {},
   "outputs": [],
   "source": [
    "gindex = [1, 1]\n",
    "index = [1, 1, 1]\n",
    "dx = 0.01\n",
    "dxmesh = np.zeros_like(linear[...])\n",
    "dxmesh[tuple(index)] +=dx\n",
    "\n",
    "tlinear = tf.constant(linear[...]+dxmesh)\n",
    "tlineark = tf.multiply(tf.spectral.fft3d(tf.cast(tlinear, tf.complex64)), 1/nc**3)\n",
    "tflptic = tflptinit(tlineark, grid, a0, conf, order=2)\n",
    "tfkicked = tfKick(tflptic, a0, ah, a1,  conf)\n",
    "grad = tf.gradients(tfkicked[1][gindex], tlinear)\n",
    "with tf.Session() as sess:\n",
    "    sess.run(tf.global_variables_initializer())\n",
    "    tgrad2, tkicked2, tlptic2 = sess.run([grad, tfkicked, tflptic])\n"
   ]
  },
  {
   "cell_type": "code",
   "execution_count": null,
   "metadata": {},
   "outputs": [],
   "source": [
    "print(tgrad[0][tuple(index)])"
   ]
  },
  {
   "cell_type": "code",
   "execution_count": null,
   "metadata": {},
   "outputs": [],
   "source": [
    "for ii in range(3):\n",
    "    print((tkicked2[ii][tuple(gindex)] - tkicked[ii][tuple(gindex)])/dx)\n",
    "#     print(tkicked2[ii][tuple(gindex)])\n"
   ]
  },
  {
   "cell_type": "markdown",
   "metadata": {},
   "source": [
    "### Drift"
   ]
  },
  {
   "cell_type": "code",
   "execution_count": null,
   "metadata": {},
   "outputs": [],
   "source": [
    "state = statelpt.copy()\n",
    "tfstate = tfstatelpt.copy()\n",
    "\n",
    "state.a['S'] = ah\n",
    "solver.nbodystep.Force(state, a0, ah, a1)\n",
    "\n",
    "# #\n",
    "tfkicked = tfKick(tfstate, a0, ah, a1,  conf)\n",
    "with tf.Session() as sess:\n",
    "    sess.run(tf.global_variables_initializer())\n",
    "    tfstate = sess.run(tfkicked)"
   ]
  },
  {
   "cell_type": "code",
   "execution_count": null,
   "metadata": {},
   "outputs": [],
   "source": [
    "state = statelpt.copy()\n",
    "tfstate = tfstatelpt.copy()\n",
    "\n",
    "state.a['P'] = ah\n",
    "solver.nbodystep.Drift(state, a0, ah, a1)\n",
    "\n",
    "# #\n",
    "tfkicked = tfDrift(tfstate, a0, ah, a1,  conf)\n",
    "with tf.Session() as sess:\n",
    "    sess.run(tf.global_variables_initializer())\n",
    "    tfstate = sess.run(tfkicked)"
   ]
  },
  {
   "cell_type": "code",
   "execution_count": null,
   "metadata": {},
   "outputs": [],
   "source": [
    "ii = 0\n",
    "#tfstate[ii] / tfstatelpt[ii], \n",
    "tfstate[ii] / state.X"
   ]
  },
  {
   "cell_type": "markdown",
   "metadata": {},
   "source": [
    "### Force"
   ]
  },
  {
   "cell_type": "code",
   "execution_count": null,
   "metadata": {},
   "outputs": [],
   "source": [
    "# #\n",
    "state = statelpt.copy()\n",
    "tfstate = tfstatelpt.copy()\n",
    "\n",
    "state.a['S'] = ah\n",
    "delk = solver.nbodystep.Force(state, a0, ah, a1)\n",
    "\n",
    "# #\n",
    "tfkicked = tfForce(tfstate, a0, ah, a1,  conf)\n",
    "with tf.Session() as sess:\n",
    "    sess.run(tf.global_variables_initializer())\n",
    "    tfstate = sess.run(tfkicked)\n",
    "    \n",
    "#     tflptic = tflptinit(tlineark, grid, a0, conf, order=2)\n",
    "# tfforced = tfForce(tflptic, a0, ah, a1, conf)\n",
    "# with tf.Session() as sess:\n",
    "#     sess.run(tf.global_variables_initializer())\n",
    "#     ttmp0, ttmp1 = sess.run([tfforced, tflptic])"
   ]
  },
  {
   "cell_type": "code",
   "execution_count": null,
   "metadata": {},
   "outputs": [],
   "source": [
    "statelpt.F/tfstatelpt[2]"
   ]
  },
  {
   "cell_type": "code",
   "execution_count": null,
   "metadata": {},
   "outputs": [],
   "source": [
    "ii = 2\n",
    "tfstate[2] / state.F"
   ]
  },
  {
   "cell_type": "markdown",
   "metadata": {},
   "source": [
    "# Put it all together"
   ]
  },
  {
   "cell_type": "code",
   "execution_count": 27,
   "metadata": {},
   "outputs": [
    {
     "name": "stderr",
     "output_type": "stream",
     "text": [
      "/global/homes/c/chmodi/.conda/envs/fastpm/lib/python3.6/site-packages/ipykernel/__main__.py:18: DeprecationWarning: mode argument is deprecated, use type\n"
     ]
    }
   ],
   "source": [
    "conf = Config()\n",
    "bs, nc = conf['boxsize'], conf['nc']\n",
    "pm = conf.pm\n",
    "\n",
    "# bs = 100\n",
    "# nc = 32\n",
    "# pm = ParticleMesh(BoxSize=bs, Nmesh = [nc, nc, nc], dtype='f4')\n",
    "grid = pm.generate_uniform_particle_grid(shift=0).astype(np.float32)\n",
    "# kvec = tools.fftk((nc, nc, nc), bs, dtype=np.float32)\n",
    "# gdict = {'bs':bs, 'nc':nc, 'kvec':kvec, 'ndim':3}\n",
    "kvec = tools.fftk((nc, nc, nc), bs, dtype=np.float32, symmetric=False)\n",
    "gdict = {'bs':bs, 'nc':nc, 'kvec':kvec, 'ndim':3}\n",
    "solver = Solver(pm, conf['cosmology'])\n",
    "conf['kvec'] = kvec\n",
    "gdict = conf\n",
    "\n",
    "\n",
    "whitec = pm.generate_whitenoise(100, mode='complex', unitary=False)\n",
    "lineark = whitec.apply(lambda k, v:Planck15.get_pklin(sum(ki ** 2 for ki in k)**0.5, 0) ** 0.5 * v / v.BoxSize.prod() ** 0.5)\n",
    "linear = lineark.c2r()\n",
    "\n"
   ]
  },
  {
   "cell_type": "code",
   "execution_count": 36,
   "metadata": {},
   "outputs": [],
   "source": [
    "# %%timeit \n",
    "lineark = linear.r2c()\n",
    "state = solver.lpt(lineark, grid, a0, order=2)\n",
    "solver.nbody(state, leapfrog(conf['stages']))\n",
    "meshpm = pm.paint(state.X)"
   ]
  },
  {
   "cell_type": "code",
   "execution_count": 30,
   "metadata": {},
   "outputs": [
    {
     "name": "stdout",
     "output_type": "stream",
     "text": [
      "1.61 s ± 151 ms per loop (mean ± std. dev. of 7 runs, 3 loops each)\n"
     ]
    }
   ],
   "source": [
    "# %%timeit -n 3\n",
    "\n",
    "tlinear = tf.constant(linear[...])\n",
    "# tlineark = tf.multiply(tf.spectral.rfft3d(tlinear), 1/nc**3)\n",
    "tlineark = tf.multiply(tf.spectral.fft3d(tf.cast(tlinear, tf.complex64)), 1/nc**3)\n",
    "tflptic = tflptinit(tlineark, grid, a0, conf, order=2)\n",
    "tfstate = tfnbody(tflptic, conf)\n",
    "tfmesh = tf.zeros((nc, nc, nc))\n",
    "tfmesh = cic_paint(tfmesh, tf.multiply(tfstate[0], nc/bs), weight=tf.ones(nc**3))\n",
    "\n",
    "with tf.Session() as sess:\n",
    "    sess.run(tf.global_variables_initializer())\n",
    "    tfmeshpm , tfstatepm = sess.run([tfmesh, tfstate])\n"
   ]
  },
  {
   "cell_type": "code",
   "execution_count": 35,
   "metadata": {},
   "outputs": [],
   "source": [
    "with tf.Session() as sess:\n",
    "    sess.run(tf.global_variables_initializer())\n",
    "    tfmeshpm , tfstatepm = sess.run([tfmesh, tfstate])\n"
   ]
  },
  {
   "cell_type": "code",
   "execution_count": 32,
   "metadata": {},
   "outputs": [],
   "source": [
    "# tfmesh = tf.zeros((nc, nc, nc))\n",
    "# tfmesh = cic_paint(tfmesh, tf.multiply(tfstatepm[0], nc/bs), weight=tf.ones(nc**3))\n",
    "\n",
    "# with tf.Session() as sess:\n",
    "#     sess.run(tf.global_variables_initializer())\n",
    "#     tfmeshpm = sess.run(tfmesh)\n",
    "\n",
    "# meshpm = pm.paint(state.X)"
   ]
  },
  {
   "cell_type": "code",
   "execution_count": 37,
   "metadata": {},
   "outputs": [
    {
     "data": {
      "text/plain": [
       "Text(0.5,1,'Difference')"
      ]
     },
     "execution_count": 37,
     "metadata": {},
     "output_type": "execute_result"
    },
    {
     "data": {
      "image/png": "[encoded data removed]",
      "text/plain": [
       "<Figure size 1080x288 with 6 Axes>"
      ]
     },
     "metadata": {
      "needs_background": "light"
     },
     "output_type": "display_data"
    }
   ],
   "source": [
    "fig, ax = plt.subplots(1, 3, figsize = (15, 4))\n",
    "im = ax[0].imshow(meshpm[...].sum(axis=0))\n",
    "plt.colorbar(im, ax=ax[0])\n",
    "ax[0].set_title('Yu PM')\n",
    "im = ax[1].imshow(tfmeshpm[...].sum(axis=0))\n",
    "plt.colorbar(im, ax=ax[1])\n",
    "ax[1].set_title('TF PM')\n",
    "im = ax[2].imshow((meshpm-tfmeshpm)[...].sum(axis=0))\n",
    "plt.colorbar(im, ax=ax[2])\n",
    "ax[2].set_title('Difference')\n"
   ]
  },
  {
   "cell_type": "markdown",
   "metadata": {},
   "source": [
    "### Checkgrad"
   ]
  },
  {
   "cell_type": "code",
   "execution_count": 43,
   "metadata": {},
   "outputs": [],
   "source": [
    "tlinear = tf.constant(linear[...])\n",
    "# tlineark = tf.multiply(tf.spectral.rfft3d(tlinear), 1/nc**3)\n",
    "tlineark = tf.multiply(tf.spectral.fft3d(tf.cast(tlinear, tf.complex64)), 1/nc**3)\n",
    "tflptic = tflptinit(tlineark, grid, a0, conf, order=2)\n",
    "tfstate = tfnbody(tflptic, conf)\n",
    "tfmesh = tf.zeros((nc, nc, nc))\n",
    "tfmesh = cic_paint(tfmesh, tf.multiply(tfstate[0], nc/bs), weight=tf.ones(nc**3))\n",
    "grad = tf.gradients(tfmesh[gindex], tlinear)\n",
    "\n",
    "with tf.Session() as sess:\n",
    "    sess.run(tf.global_variables_initializer())\n",
    "    tgrad, tfmeshpm , tfstatepm = sess.run([grad, tfmesh, tfstate])\n"
   ]
  },
  {
   "cell_type": "code",
   "execution_count": 53,
   "metadata": {},
   "outputs": [],
   "source": [
    "gindex = [1, 1, 1]\n",
    "index = [1, 1, 1]\n",
    "dx = 0.01\n",
    "dxmesh = np.zeros_like(linear[...])\n",
    "dxmesh[tuple(index)] +=dx\n",
    "\n",
    "tlinear = tf.constant(linear[...]+dxmesh)\n",
    "tlineark = tf.multiply(tf.spectral.fft3d(tf.cast(tlinear, tf.complex64)), 1/nc**3)\n",
    "tflptic = tflptinit(tlineark, grid, a0, conf, order=2)\n",
    "tfstate = tfnbody(tflptic, conf)\n",
    "tfmesh = tf.zeros((nc, nc, nc))\n",
    "tfmesh = cic_paint(tfmesh, tf.multiply(tfstate[0], nc/bs), weight=tf.ones(nc**3))\n",
    "grad = tf.gradients(tfmesh[gindex], tlinear)\n",
    "\n",
    "with tf.Session() as sess:\n",
    "    sess.run(tf.global_variables_initializer())\n",
    "    tfmeshpm2 , tfstatepm2 = sess.run([tfmesh, tfstate])\n",
    "    "
   ]
  },
  {
   "cell_type": "code",
   "execution_count": 54,
   "metadata": {},
   "outputs": [
    {
     "name": "stdout",
     "output_type": "stream",
     "text": [
      "0.03802526\n"
     ]
    }
   ],
   "source": [
    "print(tgrad[0][tuple(index)])"
   ]
  },
  {
   "cell_type": "code",
   "execution_count": 55,
   "metadata": {},
   "outputs": [
    {
     "data": {
      "text/plain": [
       "0.03803670406341553"
      ]
     },
     "execution_count": 55,
     "metadata": {},
     "output_type": "execute_result"
    }
   ],
   "source": [
    "(tfmeshpm2[tuple(gindex)] - tfmeshpm[tuple(gindex)])/dx"
   ]
  },
  {
   "cell_type": "markdown",
   "metadata": {},
   "source": [
    "# Reconstruction"
   ]
  },
  {
   "cell_type": "code",
   "execution_count": null,
   "metadata": {},
   "outputs": [],
   "source": []
  }
 ],
 "metadata": {
  "kernelspec": {
   "display_name": "Python [conda env:fastpm]",
   "language": "python",
   "name": "conda-env-fastpm-py"
  },
  "language_info": {
   "codemirror_mode": {
    "name": "ipython",
    "version": 3
   },
   "file_extension": ".py",
   "mimetype": "text/x-python",
   "name": "python",
   "nbconvert_exporter": "python",
   "pygments_lexer": "ipython3",
   "version": "3.6.6"
  }
 },
 "nbformat": 4,
 "nbformat_minor": 2
}
