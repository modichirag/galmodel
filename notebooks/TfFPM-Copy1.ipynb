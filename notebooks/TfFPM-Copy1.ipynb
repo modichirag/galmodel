{
 "cells": [
  {
   "cell_type": "code",
   "execution_count": 46,
   "metadata": {},
   "outputs": [
    {
     "name": "stdout",
     "output_type": "stream",
     "text": [
      "The autoreload extension is already loaded. To reload it, use:\n",
      "  %reload_ext autoreload\n"
     ]
    }
   ],
   "source": [
    "import numpy as np\n",
    "import numpy\n",
    "from nbodykit.lab import BigFileMesh, BigFileCatalog\n",
    "from pmesh.pm import ParticleMesh\n",
    "import os, sys\n",
    "import matplotlib.pyplot as plt\n",
    "%matplotlib inline\n",
    "%load_ext autoreload\n",
    "%autoreload 2\n",
    "\n",
    "from nbodykit.cosmology import Cosmology, EHPower, Planck15"
   ]
  },
  {
   "cell_type": "code",
   "execution_count": 47,
   "metadata": {},
   "outputs": [],
   "source": [
    "import tensorflow as tf\n",
    "# tf.enable_eager_execution()"
   ]
  },
  {
   "cell_type": "code",
   "execution_count": 48,
   "metadata": {},
   "outputs": [],
   "source": [
    "sys.path.append('../code/utils/')\n",
    "import tools\n",
    "from background import *\n",
    "from tfpm import *\n",
    "from tfpmfuncs import *\n",
    "from fpmfuncs import *\n",
    "from fpm import *\n",
    "from pmconfig import Config\n"
   ]
  },
  {
   "cell_type": "code",
   "execution_count": 49,
   "metadata": {},
   "outputs": [
    {
     "name": "stderr",
     "output_type": "stream",
     "text": [
      "/global/homes/c/chmodi/.conda/envs/fastpm/lib/python3.6/site-packages/nbodykit/cosmology/power/linear.py:228: FutureWarning: NoWiggleEHPower is deprecated. Use LinearPower with transfer set to 'EisensteinHu'\n",
      "  warnings.warn(\"NoWiggleEHPower is deprecated. Use LinearPower with transfer set to 'EisensteinHu'\", FutureWarning)\n"
     ]
    },
    {
     "name": "stdout",
     "output_type": "stream",
     "text": [
      "Step F 0.1000 - (0.1000) -> 0.1000 S 0.1000 P 0.1000 F 0.1000\n",
      "Step K 0.1000 - (0.1000) -> 0.1803 S 0.1000 P 0.1803 F 0.1000\n",
      "Step D 0.1000 - (0.1803) -> 0.3250 S 0.3250 P 0.1803 F 0.1000\n",
      "Step F 0.1000 - (0.3250) -> 0.3250 S 0.3250 P 0.1803 F 0.3250\n",
      "Step K 0.1803 - (0.3250) -> 0.3250 S 0.3250 P 0.3250 F 0.3250\n",
      "Step K 0.3250 - (0.3250) -> 0.4228 S 0.3250 P 0.4228 F 0.3250\n",
      "Step D 0.3250 - (0.4228) -> 0.5500 S 0.5500 P 0.4228 F 0.3250\n",
      "Step F 0.3250 - (0.5500) -> 0.5500 S 0.5500 P 0.4228 F 0.5500\n",
      "Step K 0.4228 - (0.5500) -> 0.5500 S 0.5500 P 0.5500 F 0.5500\n",
      "Step K 0.5500 - (0.5500) -> 0.6529 S 0.5500 P 0.6529 F 0.5500\n",
      "Step D 0.5500 - (0.6529) -> 0.7750 S 0.7750 P 0.6529 F 0.5500\n",
      "Step F 0.5500 - (0.7750) -> 0.7750 S 0.7750 P 0.6529 F 0.7750\n",
      "Step K 0.6529 - (0.7750) -> 0.7750 S 0.7750 P 0.7750 F 0.7750\n",
      "Step K 0.7750 - (0.7750) -> 0.8803 S 0.7750 P 0.8803 F 0.7750\n",
      "Step D 0.7750 - (0.8803) -> 1.0000 S 1.0000 P 0.8803 F 0.7750\n",
      "Step F 0.7750 - (1.0000) -> 1.0000 S 1.0000 P 0.8803 F 1.0000\n",
      "Step K 0.8803 - (1.0000) -> 1.0000 S 1.0000 P 1.0000 F 1.0000\n"
     ]
    }
   ],
   "source": [
    "state = fastpm()"
   ]
  },
  {
   "cell_type": "markdown",
   "metadata": {},
   "source": [
    "# Check lptz0"
   ]
  },
  {
   "cell_type": "code",
   "execution_count": 50,
   "metadata": {},
   "outputs": [
    {
     "name": "stderr",
     "output_type": "stream",
     "text": [
      "/global/homes/c/chmodi/.conda/envs/fastpm/lib/python3.6/site-packages/ipykernel/__main__.py:16: DeprecationWarning: mode argument is deprecated, use type\n"
     ]
    }
   ],
   "source": [
    "conf = Config()\n",
    "bs, nc = conf['boxsize'], conf['nc']\n",
    "pm = conf.pm\n",
    "\n",
    "# bs = 100\n",
    "# nc = 32\n",
    "# pm = ParticleMesh(BoxSize=bs, Nmesh = [nc, nc, nc], dtype='f4')\n",
    "grid = pm.generate_uniform_particle_grid(shift=0).astype(np.float32)\n",
    "kvec = tools.fftk((nc, nc, nc), bs, dtype=np.float32, symmetric=False)\n",
    "gdict = {'bs':bs, 'nc':nc, 'kvec':kvec, 'ndim':3}\n",
    "solver = Solver(pm, conf['cosmology'])\n",
    "conf['kvec'] = kvec\n",
    "gdict = conf\n",
    "\n",
    "\n",
    "whitec = pm.generate_whitenoise(100, mode='complex', unitary=False)\n",
    "lineark = whitec.apply(lambda k, v:Planck15.get_pklin(sum(ki ** 2 for ki in k)**0.5, 0) ** 0.5 * v / v.BoxSize.prod() ** 0.5)\n",
    "linear = lineark.c2r()\n",
    "# tlinear = tf.constant(linear[...])\n",
    "# tlineark = tf.multiply(tf.spectral.rfft3d(tlinear), 1/nc**3)\n",
    "tlinear = tf.constant(linear[...])\n",
    "tlineark = tf.multiply(tf.spectral.fft3d(tf.cast(tlinear, tf.complex64)), 1/nc**3)\n",
    "\n"
   ]
  },
  {
   "cell_type": "code",
   "execution_count": 51,
   "metadata": {},
   "outputs": [],
   "source": [
    "lptdisp = lptz0(lineark, grid, order=2)\n",
    "lptpos = grid + lptdisp\n",
    "lptmesh =  pm.paint(lptpos)\n"
   ]
  },
  {
   "cell_type": "code",
   "execution_count": 52,
   "metadata": {},
   "outputs": [
    {
     "name": "stdout",
     "output_type": "stream",
     "text": [
      "Tensor(\"zeros_like_30:0\", shape=(8, 8, 8), dtype=float32) Tensor(\"Add_581:0\", shape=(512, 3), dtype=float32)\n"
     ]
    }
   ],
   "source": [
    "# #\n",
    "# tlinear = tf.constant(linear[...])\n",
    "# tlineark = tf.multiply(tf.spectral.rfft3d(tlinear), 1/nc**3)\n",
    "tlptmesh = tf.zeros_like(tlinear)\n",
    "wt = tf.ones(nc**3)\n",
    "# wt = np.ones(nc**3, dtype=np.float32)\n",
    "tlptdisp = tflptz0(tlineark, grid, gdict, order=2)\n",
    "tlptpos = tf.add(grid, tlptdisp)\n",
    "print(tlptmesh, tlptpos)\n",
    "tlptmesh = cic_paint(tlptmesh, tf.multiply(tlptpos, nc/bs), weight=wt)\n",
    "\n",
    "with tf.Session() as sess:\n",
    "    sess.run(tf.global_variables_initializer())\n",
    "    tflptpos, tflptmesh = sess.run([tlptpos, tlptmesh])"
   ]
  },
  {
   "cell_type": "code",
   "execution_count": 53,
   "metadata": {},
   "outputs": [
    {
     "data": {
      "text/plain": [
       "array([[ 2.9802322e-07, -5.9604645e-07, -4.7683716e-07],\n",
       "       [ 3.2782555e-07,  0.0000000e+00,  0.0000000e+00],\n",
       "       [ 1.1920929e-07, -8.1956387e-08,  0.0000000e+00],\n",
       "       ...,\n",
       "       [ 0.0000000e+00,  0.0000000e+00,  0.0000000e+00],\n",
       "       [ 0.0000000e+00,  0.0000000e+00,  0.0000000e+00],\n",
       "       [ 0.0000000e+00,  0.0000000e+00,  0.0000000e+00]], dtype=float32)"
      ]
     },
     "execution_count": 53,
     "metadata": {},
     "output_type": "execute_result"
    }
   ],
   "source": [
    "tflptpos-lptpos"
   ]
  },
  {
   "cell_type": "code",
   "execution_count": 54,
   "metadata": {},
   "outputs": [
    {
     "data": {
      "text/plain": [
       "Text(0.5,1,'Yu 2LPT')"
      ]
     },
     "execution_count": 54,
     "metadata": {},
     "output_type": "execute_result"
    },
    {
     "data": {
      "image/png": "[encoded data removed]",
      "text/plain": [
       "<Figure size 792x792 with 8 Axes>"
      ]
     },
     "metadata": {
      "needs_background": "light"
     },
     "output_type": "display_data"
    }
   ],
   "source": [
    "fig, axar = plt.subplots(2, 2, figsize = (11, 11))\n",
    "ax = axar[0]\n",
    "im = ax[0].imshow(linear[...].sum(axis=0))\n",
    "plt.colorbar(im, ax=ax[0])\n",
    "ax[0].set_title('Linear')\n",
    "im = ax[1].imshow((lptmesh-tflptmesh)[...].sum(axis=0))\n",
    "plt.colorbar(im, ax=ax[1])\n",
    "ax[1].set_title('Difference 2LPT')\n",
    "ax = axar[1]\n",
    "im = ax[0].imshow(tflptmesh[...].sum(axis=0))\n",
    "plt.colorbar(im, ax=ax[0])\n",
    "ax[0].set_title('TF 2LPT')\n",
    "im = ax[1].imshow(lptmesh[...].sum(axis=0))\n",
    "plt.colorbar(im, ax=ax[1])\n",
    "ax[1].set_title('Yu 2LPT')\n",
    "\n"
   ]
  },
  {
   "cell_type": "markdown",
   "metadata": {},
   "source": [
    "#### Checkgrad"
   ]
  },
  {
   "cell_type": "code",
   "execution_count": 25,
   "metadata": {},
   "outputs": [
    {
     "name": "stdout",
     "output_type": "stream",
     "text": [
      "Tensor(\"zeros_like_22:0\", shape=(8, 8, 8), dtype=float32) Tensor(\"Add_422:0\", shape=(512, 3), dtype=float32)\n"
     ]
    }
   ],
   "source": [
    "gindex = [0, 1, 1]\n",
    "tlinear = tf.constant(linear[...])\n",
    "tlineark = tf.multiply(tf.spectral.fft3d(tf.cast(tlinear, tf.complex64)), 1/nc**3)\n",
    "tlptmesh = tf.zeros_like(tlinear)\n",
    "wt = tf.ones(nc**3)\n",
    "# wt = np.ones(nc**3, dtype=np.float32)\n",
    "tlptdisp = tflptz0(tlineark, grid, gdict, order=2)\n",
    "tlptpos = tf.add(grid, tlptdisp)\n",
    "print(tlptmesh, tlptpos)\n",
    "tlptmesh = cic_paint(tlptmesh, tf.multiply(tlptpos, nc/bs), weight=wt)\n",
    "grad = tf.gradients(tlptmesh[gindex], tlinear)\n",
    "\n",
    "with tf.Session() as sess:\n",
    "    sess.run(tf.global_variables_initializer())\n",
    "    tgrad, tflptpos, tflptmesh = sess.run([grad, tlptpos, tlptmesh])"
   ]
  },
  {
   "cell_type": "code",
   "execution_count": 26,
   "metadata": {},
   "outputs": [],
   "source": [
    "# #\n",
    "index = [1, 1, 1]\n",
    "dx = 0.01\n",
    "dxmesh = np.zeros_like(linear[...])\n",
    "dxmesh[tuple(index)] +=dx\n",
    "\n",
    "tlinear = tf.constant(linear[...]+dxmesh)\n",
    "tlineark = tf.multiply(tf.spectral.fft3d(tf.cast(tlinear, tf.complex64)), 1/nc**3)\n",
    "tlptmesh = tf.zeros_like(tlinear)\n",
    "wt = tf.ones(nc**3)\n",
    "# wt = np.ones(nc**3, dtype=np.float32)\n",
    "tlptdisp = tflptz0(tlineark, grid, gdict, order=2)\n",
    "tlptpos = tf.add(grid, tlptdisp)\n",
    "tlptmesh = cic_paint(tlptmesh, tf.multiply(tlptpos, nc/bs), weight=wt)\n",
    "grad = tf.gradients(tlptmesh, tlinear)\n",
    "\n",
    "with tf.Session() as sess:\n",
    "    sess.run(tf.global_variables_initializer())\n",
    "    tflptpos2, tflptmesh2 = sess.run([tlptpos, tlptmesh])"
   ]
  },
  {
   "cell_type": "code",
   "execution_count": 32,
   "metadata": {},
   "outputs": [
    {
     "data": {
      "text/plain": [
       "(0.005969218909740448, 0.0059663057)"
      ]
     },
     "execution_count": 32,
     "metadata": {},
     "output_type": "execute_result"
    }
   ],
   "source": [
    "(tflptmesh2 - tflptmesh)[tuple(gindex)]/dx, tgrad[0][tuple(index)]"
   ]
  },
  {
   "cell_type": "markdown",
   "metadata": {},
   "source": [
    "# FastPM"
   ]
  },
  {
   "cell_type": "code",
   "execution_count": 55,
   "metadata": {},
   "outputs": [],
   "source": [
    "a0, a1 = conf['stages'][0], conf['stages'][1]\n",
    "ah = (a0*a1)**0.5"
   ]
  },
  {
   "cell_type": "markdown",
   "metadata": {},
   "source": [
    "### lpt IC"
   ]
  },
  {
   "cell_type": "code",
   "execution_count": 56,
   "metadata": {},
   "outputs": [],
   "source": [
    "# #\n",
    "statelpt = solver.lpt(lineark, grid, a0, order=2)\n",
    "tflptic = tflptinit(tlineark, grid, a0, conf, order=2)\n",
    "\n",
    "with tf.Session() as sess:\n",
    "    sess.run(tf.global_variables_initializer())\n",
    "    tfstatelpt = sess.run(tflptic)\n",
    "# tfstatelpt = ttmp.copy()"
   ]
  },
  {
   "cell_type": "code",
   "execution_count": 57,
   "metadata": {},
   "outputs": [
    {
     "data": {
      "text/plain": [
       "array([[0.9999983 , 1.0000004 , 0.99999976],\n",
       "       [0.9999993 , 1.0000001 , 1.        ],\n",
       "       [0.99999994, 1.0000008 , 1.        ],\n",
       "       ...,\n",
       "       [1.        , 1.        , 1.        ],\n",
       "       [1.        , 1.        , 1.        ],\n",
       "       [1.        , 1.        , 1.        ]], dtype=float32)"
      ]
     },
     "execution_count": 57,
     "metadata": {},
     "output_type": "execute_result"
    }
   ],
   "source": [
    "(tfstatelpt[0])/ statelpt.X"
   ]
  },
  {
   "cell_type": "code",
   "execution_count": 58,
   "metadata": {},
   "outputs": [
    {
     "data": {
      "text/plain": [
       "array([[0.9999983 , 1.0000004 , 0.99999976],\n",
       "       [0.9999993 , 1.0000001 , 1.0000001 ],\n",
       "       [0.99999994, 1.0000008 , 1.0000002 ],\n",
       "       ...,\n",
       "       [1.0000025 , 0.9999933 , 1.0000007 ],\n",
       "       [0.9999989 , 0.99999285, 0.9999994 ],\n",
       "       [0.9999323 , 0.999978  , 1.0000008 ]], dtype=float32)"
      ]
     },
     "execution_count": 58,
     "metadata": {},
     "output_type": "execute_result"
    }
   ],
   "source": [
    "(tfstatelpt[0]-grid)/ statelpt.S"
   ]
  },
  {
   "cell_type": "code",
   "execution_count": 59,
   "metadata": {},
   "outputs": [
    {
     "data": {
      "text/plain": [
       "(array([[0.001, 0.001, 0.001],\n",
       "        [0.001, 0.001, 0.001],\n",
       "        [0.001, 0.001, 0.001],\n",
       "        ...,\n",
       "        [0.001, 0.001, 0.001],\n",
       "        [0.001, 0.001, 0.001],\n",
       "        [0.001, 0.001, 0.001]], dtype=float32),\n",
       " array([[0.99999845, 1.0000004 , 0.99999976],\n",
       "        [0.9999992 , 1.        , 1.        ],\n",
       "        [0.9999999 , 1.0000012 , 1.        ],\n",
       "        ...,\n",
       "        [1.0000004 , 1.0000005 , 0.99999994],\n",
       "        [0.9999999 , 1.        , 1.        ],\n",
       "        [1.0000004 , 1.0000006 , 1.0000006 ]], dtype=float32))"
      ]
     },
     "execution_count": 59,
     "metadata": {},
     "output_type": "execute_result"
    }
   ],
   "source": [
    "(tfstatelpt[1])/ statelpt.V, (tfstatelpt[1])/ statelpt.P"
   ]
  },
  {
   "cell_type": "code",
   "execution_count": 60,
   "metadata": {},
   "outputs": [
    {
     "data": {
      "text/plain": [
       "array([[0.99999857, 1.0000005 , 0.99999976],\n",
       "       [0.99999934, 1.        , 1.        ],\n",
       "       [0.99999994, 1.0000018 , 1.0000001 ],\n",
       "       ...,\n",
       "       [1.0000004 , 1.0000005 , 1.        ],\n",
       "       [1.        , 0.9999999 , 1.        ],\n",
       "       [1.0000004 , 1.0000006 , 1.0000006 ]], dtype=float32)"
      ]
     },
     "execution_count": 60,
     "metadata": {},
     "output_type": "execute_result"
    }
   ],
   "source": [
    "(tfstatelpt[2])/ statelpt.F"
   ]
  },
  {
   "cell_type": "markdown",
   "metadata": {},
   "source": [
    "### Kick"
   ]
  },
  {
   "cell_type": "code",
   "execution_count": 91,
   "metadata": {},
   "outputs": [
    {
     "name": "stdout",
     "output_type": "stream",
     "text": [
      "Tensor(\"Const_604:0\", shape=(1,), dtype=int32)\n",
      "Tensor(\"Mul_551:0\", shape=(512, 3), dtype=float32)\n",
      "Tensor(\"Const_605:0\", shape=(3,), dtype=int32)\n"
     ]
    },
    {
     "ename": "InvalidArgumentError",
     "evalue": "The outermost dimension of updates and indices must match. Got indices.shape [1], updates.shape [512,3]\n\t [[{{node ScatterNd_28}} = ScatterNd[T=DT_FLOAT, Tindices=DT_INT32, _device=\"/job:localhost/replica:0/task:0/device:CPU:0\"](Const_604, Mul_551, Const_605)]]\n\nCaused by op 'ScatterNd_28', defined at:\n  File \"/global/homes/c/chmodi/.conda/envs/fastpm/lib/python3.6/runpy.py\", line 193, in _run_module_as_main\n    \"__main__\", mod_spec)\n  File \"/global/homes/c/chmodi/.conda/envs/fastpm/lib/python3.6/runpy.py\", line 85, in _run_code\n    exec(code, run_globals)\n  File \"/global/homes/c/chmodi/.conda/envs/fastpm/lib/python3.6/site-packages/ipykernel/__main__.py\", line 3, in <module>\n    app.launch_new_instance()\n  File \"/global/homes/c/chmodi/.conda/envs/fastpm/lib/python3.6/site-packages/traitlets/config/application.py\", line 658, in launch_instance\n    app.start()\n  File \"/global/homes/c/chmodi/.conda/envs/fastpm/lib/python3.6/site-packages/ipykernel/kernelapp.py\", line 499, in start\n    self.io_loop.start()\n  File \"/global/homes/c/chmodi/.conda/envs/fastpm/lib/python3.6/site-packages/tornado/platform/asyncio.py\", line 132, in start\n    self.asyncio_loop.run_forever()\n  File \"/global/homes/c/chmodi/.conda/envs/fastpm/lib/python3.6/asyncio/base_events.py\", line 422, in run_forever\n    self._run_once()\n  File \"/global/homes/c/chmodi/.conda/envs/fastpm/lib/python3.6/asyncio/base_events.py\", line 1434, in _run_once\n    handle._run()\n  File \"/global/homes/c/chmodi/.conda/envs/fastpm/lib/python3.6/asyncio/events.py\", line 145, in _run\n    self._callback(*self._args)\n  File \"/global/homes/c/chmodi/.conda/envs/fastpm/lib/python3.6/site-packages/tornado/ioloop.py\", line 758, in _run_callback\n    ret = callback()\n  File \"/global/homes/c/chmodi/.conda/envs/fastpm/lib/python3.6/site-packages/tornado/stack_context.py\", line 300, in null_wrapper\n    return fn(*args, **kwargs)\n  File \"/global/homes/c/chmodi/.conda/envs/fastpm/lib/python3.6/site-packages/tornado/gen.py\", line 1233, in inner\n    self.run()\n  File \"/global/homes/c/chmodi/.conda/envs/fastpm/lib/python3.6/site-packages/tornado/gen.py\", line 1147, in run\n    yielded = self.gen.send(value)\n  File \"/global/homes/c/chmodi/.conda/envs/fastpm/lib/python3.6/site-packages/ipykernel/kernelbase.py\", line 346, in process_one\n    yield gen.maybe_future(dispatch(*args))\n  File \"/global/homes/c/chmodi/.conda/envs/fastpm/lib/python3.6/site-packages/tornado/gen.py\", line 326, in wrapper\n    yielded = next(result)\n  File \"/global/homes/c/chmodi/.conda/envs/fastpm/lib/python3.6/site-packages/ipykernel/kernelbase.py\", line 259, in dispatch_shell\n    yield gen.maybe_future(handler(stream, idents, msg))\n  File \"/global/homes/c/chmodi/.conda/envs/fastpm/lib/python3.6/site-packages/tornado/gen.py\", line 326, in wrapper\n    yielded = next(result)\n  File \"/global/homes/c/chmodi/.conda/envs/fastpm/lib/python3.6/site-packages/ipykernel/kernelbase.py\", line 513, in execute_request\n    user_expressions, allow_stdin,\n  File \"/global/homes/c/chmodi/.conda/envs/fastpm/lib/python3.6/site-packages/tornado/gen.py\", line 326, in wrapper\n    yielded = next(result)\n  File \"/global/homes/c/chmodi/.conda/envs/fastpm/lib/python3.6/site-packages/ipykernel/ipkernel.py\", line 294, in do_execute\n    res = shell.run_cell(code, store_history=store_history, silent=silent)\n  File \"/global/homes/c/chmodi/.conda/envs/fastpm/lib/python3.6/site-packages/ipykernel/zmqshell.py\", line 536, in run_cell\n    return super(ZMQInteractiveShell, self).run_cell(*args, **kwargs)\n  File \"/global/homes/c/chmodi/.conda/envs/fastpm/lib/python3.6/site-packages/IPython/core/interactiveshell.py\", line 2817, in run_cell\n    raw_cell, store_history, silent, shell_futures)\n  File \"/global/homes/c/chmodi/.conda/envs/fastpm/lib/python3.6/site-packages/IPython/core/interactiveshell.py\", line 2843, in _run_cell\n    return runner(coro)\n  File \"/global/homes/c/chmodi/.conda/envs/fastpm/lib/python3.6/site-packages/IPython/core/async_helpers.py\", line 67, in _pseudo_sync_runner\n    coro.send(None)\n  File \"/global/homes/c/chmodi/.conda/envs/fastpm/lib/python3.6/site-packages/IPython/core/interactiveshell.py\", line 3018, in run_cell_async\n    interactivity=interactivity, compiler=compiler, result=result)\n  File \"/global/homes/c/chmodi/.conda/envs/fastpm/lib/python3.6/site-packages/IPython/core/interactiveshell.py\", line 3183, in run_ast_nodes\n    if (yield from self.run_code(code, result)):\n  File \"/global/homes/c/chmodi/.conda/envs/fastpm/lib/python3.6/site-packages/IPython/core/interactiveshell.py\", line 3265, in run_code\n    exec(code_obj, self.user_global_ns, self.user_ns)\n  File \"<ipython-input-91-70cd671af47f>\", line 8, in <module>\n    tfkicked = tfKick(tfstate, a0, ah, a1,  conf)\n  File \"../code/utils/tfpm.py\", line 185, in tfKick\n    update = tf.scatter_nd(indices, update, shape)\n  File \"/global/homes/c/chmodi/.conda/envs/fastpm/lib/python3.6/site-packages/tensorflow/python/ops/gen_array_ops.py\", line 6891, in scatter_nd\n    \"ScatterNd\", indices=indices, updates=updates, shape=shape, name=name)\n  File \"/global/homes/c/chmodi/.conda/envs/fastpm/lib/python3.6/site-packages/tensorflow/python/framework/op_def_library.py\", line 787, in _apply_op_helper\n    op_def=op_def)\n  File \"/global/homes/c/chmodi/.conda/envs/fastpm/lib/python3.6/site-packages/tensorflow/python/util/deprecation.py\", line 488, in new_func\n    return func(*args, **kwargs)\n  File \"/global/homes/c/chmodi/.conda/envs/fastpm/lib/python3.6/site-packages/tensorflow/python/framework/ops.py\", line 3272, in create_op\n    op_def=op_def)\n  File \"/global/homes/c/chmodi/.conda/envs/fastpm/lib/python3.6/site-packages/tensorflow/python/framework/ops.py\", line 1768, in __init__\n    self._traceback = tf_stack.extract_stack()\n\nInvalidArgumentError (see above for traceback): The outermost dimension of updates and indices must match. Got indices.shape [1], updates.shape [512,3]\n\t [[{{node ScatterNd_28}} = ScatterNd[T=DT_FLOAT, Tindices=DT_INT32, _device=\"/job:localhost/replica:0/task:0/device:CPU:0\"](Const_604, Mul_551, Const_605)]]\n",
     "output_type": "error",
     "traceback": [
      "\u001b[0;31m---------------------------------------------------------------------------\u001b[0m",
      "\u001b[0;31mInvalidArgumentError\u001b[0m                      Traceback (most recent call last)",
      "\u001b[0;32m~/.conda/envs/fastpm/lib/python3.6/site-packages/tensorflow/python/client/session.py\u001b[0m in \u001b[0;36m_do_call\u001b[0;34m(self, fn, *args)\u001b[0m\n\u001b[1;32m   1291\u001b[0m     \u001b[0;32mtry\u001b[0m\u001b[0;34m:\u001b[0m\u001b[0;34m\u001b[0m\u001b[0m\n\u001b[0;32m-> 1292\u001b[0;31m       \u001b[0;32mreturn\u001b[0m \u001b[0mfn\u001b[0m\u001b[0;34m(\u001b[0m\u001b[0;34m*\u001b[0m\u001b[0margs\u001b[0m\u001b[0;34m)\u001b[0m\u001b[0;34m\u001b[0m\u001b[0m\n\u001b[0m\u001b[1;32m   1293\u001b[0m     \u001b[0;32mexcept\u001b[0m \u001b[0merrors\u001b[0m\u001b[0;34m.\u001b[0m\u001b[0mOpError\u001b[0m \u001b[0;32mas\u001b[0m \u001b[0me\u001b[0m\u001b[0;34m:\u001b[0m\u001b[0;34m\u001b[0m\u001b[0m\n",
      "\u001b[0;32m~/.conda/envs/fastpm/lib/python3.6/site-packages/tensorflow/python/client/session.py\u001b[0m in \u001b[0;36m_run_fn\u001b[0;34m(feed_dict, fetch_list, target_list, options, run_metadata)\u001b[0m\n\u001b[1;32m   1276\u001b[0m       return self._call_tf_sessionrun(\n\u001b[0;32m-> 1277\u001b[0;31m           options, feed_dict, fetch_list, target_list, run_metadata)\n\u001b[0m\u001b[1;32m   1278\u001b[0m \u001b[0;34m\u001b[0m\u001b[0m\n",
      "\u001b[0;32m~/.conda/envs/fastpm/lib/python3.6/site-packages/tensorflow/python/client/session.py\u001b[0m in \u001b[0;36m_call_tf_sessionrun\u001b[0;34m(self, options, feed_dict, fetch_list, target_list, run_metadata)\u001b[0m\n\u001b[1;32m   1366\u001b[0m         \u001b[0mself\u001b[0m\u001b[0;34m.\u001b[0m\u001b[0m_session\u001b[0m\u001b[0;34m,\u001b[0m \u001b[0moptions\u001b[0m\u001b[0;34m,\u001b[0m \u001b[0mfeed_dict\u001b[0m\u001b[0;34m,\u001b[0m \u001b[0mfetch_list\u001b[0m\u001b[0;34m,\u001b[0m \u001b[0mtarget_list\u001b[0m\u001b[0;34m,\u001b[0m\u001b[0;34m\u001b[0m\u001b[0m\n\u001b[0;32m-> 1367\u001b[0;31m         run_metadata)\n\u001b[0m\u001b[1;32m   1368\u001b[0m \u001b[0;34m\u001b[0m\u001b[0m\n",
      "\u001b[0;31mInvalidArgumentError\u001b[0m: The outermost dimension of updates and indices must match. Got indices.shape [1], updates.shape [512,3]\n\t [[{{node ScatterNd_28}} = ScatterNd[T=DT_FLOAT, Tindices=DT_INT32, _device=\"/job:localhost/replica:0/task:0/device:CPU:0\"](Const_604, Mul_551, Const_605)]]",
      "\nDuring handling of the above exception, another exception occurred:\n",
      "\u001b[0;31mInvalidArgumentError\u001b[0m                      Traceback (most recent call last)",
      "\u001b[0;32m<ipython-input-91-70cd671af47f>\u001b[0m in \u001b[0;36m<module>\u001b[0;34m\u001b[0m\n\u001b[1;32m      9\u001b[0m \u001b[0;32mwith\u001b[0m \u001b[0mtf\u001b[0m\u001b[0;34m.\u001b[0m\u001b[0mSession\u001b[0m\u001b[0;34m(\u001b[0m\u001b[0;34m)\u001b[0m \u001b[0;32mas\u001b[0m \u001b[0msess\u001b[0m\u001b[0;34m:\u001b[0m\u001b[0;34m\u001b[0m\u001b[0m\n\u001b[1;32m     10\u001b[0m     \u001b[0msess\u001b[0m\u001b[0;34m.\u001b[0m\u001b[0mrun\u001b[0m\u001b[0;34m(\u001b[0m\u001b[0mtf\u001b[0m\u001b[0;34m.\u001b[0m\u001b[0mglobal_variables_initializer\u001b[0m\u001b[0;34m(\u001b[0m\u001b[0;34m)\u001b[0m\u001b[0;34m)\u001b[0m\u001b[0;34m\u001b[0m\u001b[0m\n\u001b[0;32m---> 11\u001b[0;31m     \u001b[0mtfstate\u001b[0m \u001b[0;34m=\u001b[0m \u001b[0msess\u001b[0m\u001b[0;34m.\u001b[0m\u001b[0mrun\u001b[0m\u001b[0;34m(\u001b[0m\u001b[0mtfkicked\u001b[0m\u001b[0;34m)\u001b[0m\u001b[0;34m\u001b[0m\u001b[0m\n\u001b[0m",
      "\u001b[0;32m~/.conda/envs/fastpm/lib/python3.6/site-packages/tensorflow/python/client/session.py\u001b[0m in \u001b[0;36mrun\u001b[0;34m(self, fetches, feed_dict, options, run_metadata)\u001b[0m\n\u001b[1;32m    885\u001b[0m     \u001b[0;32mtry\u001b[0m\u001b[0;34m:\u001b[0m\u001b[0;34m\u001b[0m\u001b[0m\n\u001b[1;32m    886\u001b[0m       result = self._run(None, fetches, feed_dict, options_ptr,\n\u001b[0;32m--> 887\u001b[0;31m                          run_metadata_ptr)\n\u001b[0m\u001b[1;32m    888\u001b[0m       \u001b[0;32mif\u001b[0m \u001b[0mrun_metadata\u001b[0m\u001b[0;34m:\u001b[0m\u001b[0;34m\u001b[0m\u001b[0m\n\u001b[1;32m    889\u001b[0m         \u001b[0mproto_data\u001b[0m \u001b[0;34m=\u001b[0m \u001b[0mtf_session\u001b[0m\u001b[0;34m.\u001b[0m\u001b[0mTF_GetBuffer\u001b[0m\u001b[0;34m(\u001b[0m\u001b[0mrun_metadata_ptr\u001b[0m\u001b[0;34m)\u001b[0m\u001b[0;34m\u001b[0m\u001b[0m\n",
      "\u001b[0;32m~/.conda/envs/fastpm/lib/python3.6/site-packages/tensorflow/python/client/session.py\u001b[0m in \u001b[0;36m_run\u001b[0;34m(self, handle, fetches, feed_dict, options, run_metadata)\u001b[0m\n\u001b[1;32m   1108\u001b[0m     \u001b[0;32mif\u001b[0m \u001b[0mfinal_fetches\u001b[0m \u001b[0;32mor\u001b[0m \u001b[0mfinal_targets\u001b[0m \u001b[0;32mor\u001b[0m \u001b[0;34m(\u001b[0m\u001b[0mhandle\u001b[0m \u001b[0;32mand\u001b[0m \u001b[0mfeed_dict_tensor\u001b[0m\u001b[0;34m)\u001b[0m\u001b[0;34m:\u001b[0m\u001b[0;34m\u001b[0m\u001b[0m\n\u001b[1;32m   1109\u001b[0m       results = self._do_run(handle, final_targets, final_fetches,\n\u001b[0;32m-> 1110\u001b[0;31m                              feed_dict_tensor, options, run_metadata)\n\u001b[0m\u001b[1;32m   1111\u001b[0m     \u001b[0;32melse\u001b[0m\u001b[0;34m:\u001b[0m\u001b[0;34m\u001b[0m\u001b[0m\n\u001b[1;32m   1112\u001b[0m       \u001b[0mresults\u001b[0m \u001b[0;34m=\u001b[0m \u001b[0;34m[\u001b[0m\u001b[0;34m]\u001b[0m\u001b[0;34m\u001b[0m\u001b[0m\n",
      "\u001b[0;32m~/.conda/envs/fastpm/lib/python3.6/site-packages/tensorflow/python/client/session.py\u001b[0m in \u001b[0;36m_do_run\u001b[0;34m(self, handle, target_list, fetch_list, feed_dict, options, run_metadata)\u001b[0m\n\u001b[1;32m   1284\u001b[0m     \u001b[0;32mif\u001b[0m \u001b[0mhandle\u001b[0m \u001b[0;32mis\u001b[0m \u001b[0;32mNone\u001b[0m\u001b[0;34m:\u001b[0m\u001b[0;34m\u001b[0m\u001b[0m\n\u001b[1;32m   1285\u001b[0m       return self._do_call(_run_fn, feeds, fetches, targets, options,\n\u001b[0;32m-> 1286\u001b[0;31m                            run_metadata)\n\u001b[0m\u001b[1;32m   1287\u001b[0m     \u001b[0;32melse\u001b[0m\u001b[0;34m:\u001b[0m\u001b[0;34m\u001b[0m\u001b[0m\n\u001b[1;32m   1288\u001b[0m       \u001b[0;32mreturn\u001b[0m \u001b[0mself\u001b[0m\u001b[0;34m.\u001b[0m\u001b[0m_do_call\u001b[0m\u001b[0;34m(\u001b[0m\u001b[0m_prun_fn\u001b[0m\u001b[0;34m,\u001b[0m \u001b[0mhandle\u001b[0m\u001b[0;34m,\u001b[0m \u001b[0mfeeds\u001b[0m\u001b[0;34m,\u001b[0m \u001b[0mfetches\u001b[0m\u001b[0;34m)\u001b[0m\u001b[0;34m\u001b[0m\u001b[0m\n",
      "\u001b[0;32m~/.conda/envs/fastpm/lib/python3.6/site-packages/tensorflow/python/client/session.py\u001b[0m in \u001b[0;36m_do_call\u001b[0;34m(self, fn, *args)\u001b[0m\n\u001b[1;32m   1306\u001b[0m           self._config.experimental.client_handles_error_formatting):\n\u001b[1;32m   1307\u001b[0m         \u001b[0mmessage\u001b[0m \u001b[0;34m=\u001b[0m \u001b[0merror_interpolation\u001b[0m\u001b[0;34m.\u001b[0m\u001b[0minterpolate\u001b[0m\u001b[0;34m(\u001b[0m\u001b[0mmessage\u001b[0m\u001b[0;34m,\u001b[0m \u001b[0mself\u001b[0m\u001b[0;34m.\u001b[0m\u001b[0m_graph\u001b[0m\u001b[0;34m)\u001b[0m\u001b[0;34m\u001b[0m\u001b[0m\n\u001b[0;32m-> 1308\u001b[0;31m       \u001b[0;32mraise\u001b[0m \u001b[0mtype\u001b[0m\u001b[0;34m(\u001b[0m\u001b[0me\u001b[0m\u001b[0;34m)\u001b[0m\u001b[0;34m(\u001b[0m\u001b[0mnode_def\u001b[0m\u001b[0;34m,\u001b[0m \u001b[0mop\u001b[0m\u001b[0;34m,\u001b[0m \u001b[0mmessage\u001b[0m\u001b[0;34m)\u001b[0m\u001b[0;34m\u001b[0m\u001b[0m\n\u001b[0m\u001b[1;32m   1309\u001b[0m \u001b[0;34m\u001b[0m\u001b[0m\n\u001b[1;32m   1310\u001b[0m   \u001b[0;32mdef\u001b[0m \u001b[0m_extend_graph\u001b[0m\u001b[0;34m(\u001b[0m\u001b[0mself\u001b[0m\u001b[0;34m)\u001b[0m\u001b[0;34m:\u001b[0m\u001b[0;34m\u001b[0m\u001b[0m\n",
      "\u001b[0;31mInvalidArgumentError\u001b[0m: The outermost dimension of updates and indices must match. Got indices.shape [1], updates.shape [512,3]\n\t [[{{node ScatterNd_28}} = ScatterNd[T=DT_FLOAT, Tindices=DT_INT32, _device=\"/job:localhost/replica:0/task:0/device:CPU:0\"](Const_604, Mul_551, Const_605)]]\n\nCaused by op 'ScatterNd_28', defined at:\n  File \"/global/homes/c/chmodi/.conda/envs/fastpm/lib/python3.6/runpy.py\", line 193, in _run_module_as_main\n    \"__main__\", mod_spec)\n  File \"/global/homes/c/chmodi/.conda/envs/fastpm/lib/python3.6/runpy.py\", line 85, in _run_code\n    exec(code, run_globals)\n  File \"/global/homes/c/chmodi/.conda/envs/fastpm/lib/python3.6/site-packages/ipykernel/__main__.py\", line 3, in <module>\n    app.launch_new_instance()\n  File \"/global/homes/c/chmodi/.conda/envs/fastpm/lib/python3.6/site-packages/traitlets/config/application.py\", line 658, in launch_instance\n    app.start()\n  File \"/global/homes/c/chmodi/.conda/envs/fastpm/lib/python3.6/site-packages/ipykernel/kernelapp.py\", line 499, in start\n    self.io_loop.start()\n  File \"/global/homes/c/chmodi/.conda/envs/fastpm/lib/python3.6/site-packages/tornado/platform/asyncio.py\", line 132, in start\n    self.asyncio_loop.run_forever()\n  File \"/global/homes/c/chmodi/.conda/envs/fastpm/lib/python3.6/asyncio/base_events.py\", line 422, in run_forever\n    self._run_once()\n  File \"/global/homes/c/chmodi/.conda/envs/fastpm/lib/python3.6/asyncio/base_events.py\", line 1434, in _run_once\n    handle._run()\n  File \"/global/homes/c/chmodi/.conda/envs/fastpm/lib/python3.6/asyncio/events.py\", line 145, in _run\n    self._callback(*self._args)\n  File \"/global/homes/c/chmodi/.conda/envs/fastpm/lib/python3.6/site-packages/tornado/ioloop.py\", line 758, in _run_callback\n    ret = callback()\n  File \"/global/homes/c/chmodi/.conda/envs/fastpm/lib/python3.6/site-packages/tornado/stack_context.py\", line 300, in null_wrapper\n    return fn(*args, **kwargs)\n  File \"/global/homes/c/chmodi/.conda/envs/fastpm/lib/python3.6/site-packages/tornado/gen.py\", line 1233, in inner\n    self.run()\n  File \"/global/homes/c/chmodi/.conda/envs/fastpm/lib/python3.6/site-packages/tornado/gen.py\", line 1147, in run\n    yielded = self.gen.send(value)\n  File \"/global/homes/c/chmodi/.conda/envs/fastpm/lib/python3.6/site-packages/ipykernel/kernelbase.py\", line 346, in process_one\n    yield gen.maybe_future(dispatch(*args))\n  File \"/global/homes/c/chmodi/.conda/envs/fastpm/lib/python3.6/site-packages/tornado/gen.py\", line 326, in wrapper\n    yielded = next(result)\n  File \"/global/homes/c/chmodi/.conda/envs/fastpm/lib/python3.6/site-packages/ipykernel/kernelbase.py\", line 259, in dispatch_shell\n    yield gen.maybe_future(handler(stream, idents, msg))\n  File \"/global/homes/c/chmodi/.conda/envs/fastpm/lib/python3.6/site-packages/tornado/gen.py\", line 326, in wrapper\n    yielded = next(result)\n  File \"/global/homes/c/chmodi/.conda/envs/fastpm/lib/python3.6/site-packages/ipykernel/kernelbase.py\", line 513, in execute_request\n    user_expressions, allow_stdin,\n  File \"/global/homes/c/chmodi/.conda/envs/fastpm/lib/python3.6/site-packages/tornado/gen.py\", line 326, in wrapper\n    yielded = next(result)\n  File \"/global/homes/c/chmodi/.conda/envs/fastpm/lib/python3.6/site-packages/ipykernel/ipkernel.py\", line 294, in do_execute\n    res = shell.run_cell(code, store_history=store_history, silent=silent)\n  File \"/global/homes/c/chmodi/.conda/envs/fastpm/lib/python3.6/site-packages/ipykernel/zmqshell.py\", line 536, in run_cell\n    return super(ZMQInteractiveShell, self).run_cell(*args, **kwargs)\n  File \"/global/homes/c/chmodi/.conda/envs/fastpm/lib/python3.6/site-packages/IPython/core/interactiveshell.py\", line 2817, in run_cell\n    raw_cell, store_history, silent, shell_futures)\n  File \"/global/homes/c/chmodi/.conda/envs/fastpm/lib/python3.6/site-packages/IPython/core/interactiveshell.py\", line 2843, in _run_cell\n    return runner(coro)\n  File \"/global/homes/c/chmodi/.conda/envs/fastpm/lib/python3.6/site-packages/IPython/core/async_helpers.py\", line 67, in _pseudo_sync_runner\n    coro.send(None)\n  File \"/global/homes/c/chmodi/.conda/envs/fastpm/lib/python3.6/site-packages/IPython/core/interactiveshell.py\", line 3018, in run_cell_async\n    interactivity=interactivity, compiler=compiler, result=result)\n  File \"/global/homes/c/chmodi/.conda/envs/fastpm/lib/python3.6/site-packages/IPython/core/interactiveshell.py\", line 3183, in run_ast_nodes\n    if (yield from self.run_code(code, result)):\n  File \"/global/homes/c/chmodi/.conda/envs/fastpm/lib/python3.6/site-packages/IPython/core/interactiveshell.py\", line 3265, in run_code\n    exec(code_obj, self.user_global_ns, self.user_ns)\n  File \"<ipython-input-91-70cd671af47f>\", line 8, in <module>\n    tfkicked = tfKick(tfstate, a0, ah, a1,  conf)\n  File \"../code/utils/tfpm.py\", line 185, in tfKick\n    update = tf.scatter_nd(indices, update, shape)\n  File \"/global/homes/c/chmodi/.conda/envs/fastpm/lib/python3.6/site-packages/tensorflow/python/ops/gen_array_ops.py\", line 6891, in scatter_nd\n    \"ScatterNd\", indices=indices, updates=updates, shape=shape, name=name)\n  File \"/global/homes/c/chmodi/.conda/envs/fastpm/lib/python3.6/site-packages/tensorflow/python/framework/op_def_library.py\", line 787, in _apply_op_helper\n    op_def=op_def)\n  File \"/global/homes/c/chmodi/.conda/envs/fastpm/lib/python3.6/site-packages/tensorflow/python/util/deprecation.py\", line 488, in new_func\n    return func(*args, **kwargs)\n  File \"/global/homes/c/chmodi/.conda/envs/fastpm/lib/python3.6/site-packages/tensorflow/python/framework/ops.py\", line 3272, in create_op\n    op_def=op_def)\n  File \"/global/homes/c/chmodi/.conda/envs/fastpm/lib/python3.6/site-packages/tensorflow/python/framework/ops.py\", line 1768, in __init__\n    self._traceback = tf_stack.extract_stack()\n\nInvalidArgumentError (see above for traceback): The outermost dimension of updates and indices must match. Got indices.shape [1], updates.shape [512,3]\n\t [[{{node ScatterNd_28}} = ScatterNd[T=DT_FLOAT, Tindices=DT_INT32, _device=\"/job:localhost/replica:0/task:0/device:CPU:0\"](Const_604, Mul_551, Const_605)]]\n"
     ]
    }
   ],
   "source": [
    "state = statelpt.copy()\n",
    "tfstate = tfstatelpt.copy()\n",
    "\n",
    "state.a['F'] = ah\n",
    "solver.nbodystep.Kick(state, a0, ah, a1)\n",
    "\n",
    "##\n",
    "tfkicked = tfKick(tfstate, a0, ah, a1,  conf)\n",
    "with tf.Session() as sess:\n",
    "    sess.run(tf.global_variables_initializer())\n",
    "    tfstate = sess.run(tfkicked)"
   ]
  },
  {
   "cell_type": "code",
   "execution_count": 80,
   "metadata": {},
   "outputs": [
    {
     "data": {
      "text/plain": [
       "array([[0.25697407, 0.28454182, 0.27124715],\n",
       "       [0.27584362, 0.2760695 , 0.27805188],\n",
       "       [0.27731335, 0.36175668, 0.27752393],\n",
       "       ...,\n",
       "       [0.28098473, 0.27297422, 0.27587658],\n",
       "       [0.27997956, 0.2731709 , 0.2748157 ],\n",
       "       [0.2738682 , 0.29955018, 0.27262908]], dtype=float32)"
      ]
     },
     "execution_count": 80,
     "metadata": {},
     "output_type": "execute_result"
    }
   ],
   "source": [
    "ii = 1\n",
    "tfstate[ii] / tfstatelpt[ii], \n",
    "tfstate[ii] / state.P"
   ]
  },
  {
   "cell_type": "markdown",
   "metadata": {},
   "source": [
    "#### Checkgrad"
   ]
  },
  {
   "cell_type": "code",
   "execution_count": 44,
   "metadata": {},
   "outputs": [
    {
     "data": {
      "text/plain": [
       "(3, 512, 3)"
      ]
     },
     "execution_count": 44,
     "metadata": {},
     "output_type": "execute_result"
    }
   ],
   "source": [
    "tfstate.shape"
   ]
  },
  {
   "cell_type": "code",
   "execution_count": 42,
   "metadata": {},
   "outputs": [
    {
     "ename": "TypeError",
     "evalue": "Fetch argument None has invalid type <class 'NoneType'>",
     "output_type": "error",
     "traceback": [
      "\u001b[0;31m---------------------------------------------------------------------------\u001b[0m",
      "\u001b[0;31mTypeError\u001b[0m                                 Traceback (most recent call last)",
      "\u001b[0;32m<ipython-input-42-32115a398dc1>\u001b[0m in \u001b[0;36m<module>\u001b[0;34m\u001b[0m\n\u001b[1;32m      3\u001b[0m \u001b[0;32mwith\u001b[0m \u001b[0mtf\u001b[0m\u001b[0;34m.\u001b[0m\u001b[0mSession\u001b[0m\u001b[0;34m(\u001b[0m\u001b[0;34m)\u001b[0m \u001b[0;32mas\u001b[0m \u001b[0msess\u001b[0m\u001b[0;34m:\u001b[0m\u001b[0;34m\u001b[0m\u001b[0m\n\u001b[1;32m      4\u001b[0m     \u001b[0msess\u001b[0m\u001b[0;34m.\u001b[0m\u001b[0mrun\u001b[0m\u001b[0;34m(\u001b[0m\u001b[0mtf\u001b[0m\u001b[0;34m.\u001b[0m\u001b[0mglobal_variables_initializer\u001b[0m\u001b[0;34m(\u001b[0m\u001b[0;34m)\u001b[0m\u001b[0;34m)\u001b[0m\u001b[0;34m\u001b[0m\u001b[0m\n\u001b[0;32m----> 5\u001b[0;31m     \u001b[0mtgrad\u001b[0m\u001b[0;34m,\u001b[0m \u001b[0mtfstate\u001b[0m \u001b[0;34m=\u001b[0m \u001b[0msess\u001b[0m\u001b[0;34m.\u001b[0m\u001b[0mrun\u001b[0m\u001b[0;34m(\u001b[0m\u001b[0;34m[\u001b[0m\u001b[0mgrad\u001b[0m\u001b[0;34m,\u001b[0m \u001b[0mtfkicked\u001b[0m\u001b[0;34m]\u001b[0m\u001b[0;34m)\u001b[0m\u001b[0;34m\u001b[0m\u001b[0m\n\u001b[0m",
      "\u001b[0;32m~/.conda/envs/fastpm/lib/python3.6/site-packages/tensorflow/python/client/session.py\u001b[0m in \u001b[0;36mrun\u001b[0;34m(self, fetches, feed_dict, options, run_metadata)\u001b[0m\n\u001b[1;32m    885\u001b[0m     \u001b[0;32mtry\u001b[0m\u001b[0;34m:\u001b[0m\u001b[0;34m\u001b[0m\u001b[0m\n\u001b[1;32m    886\u001b[0m       result = self._run(None, fetches, feed_dict, options_ptr,\n\u001b[0;32m--> 887\u001b[0;31m                          run_metadata_ptr)\n\u001b[0m\u001b[1;32m    888\u001b[0m       \u001b[0;32mif\u001b[0m \u001b[0mrun_metadata\u001b[0m\u001b[0;34m:\u001b[0m\u001b[0;34m\u001b[0m\u001b[0m\n\u001b[1;32m    889\u001b[0m         \u001b[0mproto_data\u001b[0m \u001b[0;34m=\u001b[0m \u001b[0mtf_session\u001b[0m\u001b[0;34m.\u001b[0m\u001b[0mTF_GetBuffer\u001b[0m\u001b[0;34m(\u001b[0m\u001b[0mrun_metadata_ptr\u001b[0m\u001b[0;34m)\u001b[0m\u001b[0;34m\u001b[0m\u001b[0m\n",
      "\u001b[0;32m~/.conda/envs/fastpm/lib/python3.6/site-packages/tensorflow/python/client/session.py\u001b[0m in \u001b[0;36m_run\u001b[0;34m(self, handle, fetches, feed_dict, options, run_metadata)\u001b[0m\n\u001b[1;32m   1093\u001b[0m     \u001b[0;31m# Create a fetch handler to take care of the structure of fetches.\u001b[0m\u001b[0;34m\u001b[0m\u001b[0;34m\u001b[0m\u001b[0m\n\u001b[1;32m   1094\u001b[0m     fetch_handler = _FetchHandler(\n\u001b[0;32m-> 1095\u001b[0;31m         self._graph, fetches, feed_dict_tensor, feed_handles=feed_handles)\n\u001b[0m\u001b[1;32m   1096\u001b[0m \u001b[0;34m\u001b[0m\u001b[0m\n\u001b[1;32m   1097\u001b[0m     \u001b[0;31m# Run request and get response.\u001b[0m\u001b[0;34m\u001b[0m\u001b[0;34m\u001b[0m\u001b[0m\n",
      "\u001b[0;32m~/.conda/envs/fastpm/lib/python3.6/site-packages/tensorflow/python/client/session.py\u001b[0m in \u001b[0;36m__init__\u001b[0;34m(self, graph, fetches, feeds, feed_handles)\u001b[0m\n\u001b[1;32m    427\u001b[0m     \"\"\"\n\u001b[1;32m    428\u001b[0m     \u001b[0;32mwith\u001b[0m \u001b[0mgraph\u001b[0m\u001b[0;34m.\u001b[0m\u001b[0mas_default\u001b[0m\u001b[0;34m(\u001b[0m\u001b[0;34m)\u001b[0m\u001b[0;34m:\u001b[0m\u001b[0;34m\u001b[0m\u001b[0m\n\u001b[0;32m--> 429\u001b[0;31m       \u001b[0mself\u001b[0m\u001b[0;34m.\u001b[0m\u001b[0m_fetch_mapper\u001b[0m \u001b[0;34m=\u001b[0m \u001b[0m_FetchMapper\u001b[0m\u001b[0;34m.\u001b[0m\u001b[0mfor_fetch\u001b[0m\u001b[0;34m(\u001b[0m\u001b[0mfetches\u001b[0m\u001b[0;34m)\u001b[0m\u001b[0;34m\u001b[0m\u001b[0m\n\u001b[0m\u001b[1;32m    430\u001b[0m     \u001b[0mself\u001b[0m\u001b[0;34m.\u001b[0m\u001b[0m_fetches\u001b[0m \u001b[0;34m=\u001b[0m \u001b[0;34m[\u001b[0m\u001b[0;34m]\u001b[0m\u001b[0;34m\u001b[0m\u001b[0m\n\u001b[1;32m    431\u001b[0m     \u001b[0mself\u001b[0m\u001b[0;34m.\u001b[0m\u001b[0m_targets\u001b[0m \u001b[0;34m=\u001b[0m \u001b[0;34m[\u001b[0m\u001b[0;34m]\u001b[0m\u001b[0;34m\u001b[0m\u001b[0m\n",
      "\u001b[0;32m~/.conda/envs/fastpm/lib/python3.6/site-packages/tensorflow/python/client/session.py\u001b[0m in \u001b[0;36mfor_fetch\u001b[0;34m(fetch)\u001b[0m\n\u001b[1;32m    245\u001b[0m     \u001b[0;32melif\u001b[0m \u001b[0misinstance\u001b[0m\u001b[0;34m(\u001b[0m\u001b[0mfetch\u001b[0m\u001b[0;34m,\u001b[0m \u001b[0;34m(\u001b[0m\u001b[0mlist\u001b[0m\u001b[0;34m,\u001b[0m \u001b[0mtuple\u001b[0m\u001b[0;34m)\u001b[0m\u001b[0;34m)\u001b[0m\u001b[0;34m:\u001b[0m\u001b[0;34m\u001b[0m\u001b[0m\n\u001b[1;32m    246\u001b[0m       \u001b[0;31m# NOTE(touts): This is also the code path for namedtuples.\u001b[0m\u001b[0;34m\u001b[0m\u001b[0;34m\u001b[0m\u001b[0m\n\u001b[0;32m--> 247\u001b[0;31m       \u001b[0;32mreturn\u001b[0m \u001b[0m_ListFetchMapper\u001b[0m\u001b[0;34m(\u001b[0m\u001b[0mfetch\u001b[0m\u001b[0;34m)\u001b[0m\u001b[0;34m\u001b[0m\u001b[0m\n\u001b[0m\u001b[1;32m    248\u001b[0m     \u001b[0;32melif\u001b[0m \u001b[0misinstance\u001b[0m\u001b[0;34m(\u001b[0m\u001b[0mfetch\u001b[0m\u001b[0;34m,\u001b[0m \u001b[0mcollections\u001b[0m\u001b[0;34m.\u001b[0m\u001b[0mMapping\u001b[0m\u001b[0;34m)\u001b[0m\u001b[0;34m:\u001b[0m\u001b[0;34m\u001b[0m\u001b[0m\n\u001b[1;32m    249\u001b[0m       \u001b[0;32mreturn\u001b[0m \u001b[0m_DictFetchMapper\u001b[0m\u001b[0;34m(\u001b[0m\u001b[0mfetch\u001b[0m\u001b[0;34m)\u001b[0m\u001b[0;34m\u001b[0m\u001b[0m\n",
      "\u001b[0;32m~/.conda/envs/fastpm/lib/python3.6/site-packages/tensorflow/python/client/session.py\u001b[0m in \u001b[0;36m__init__\u001b[0;34m(self, fetches)\u001b[0m\n\u001b[1;32m    352\u001b[0m     \"\"\"\n\u001b[1;32m    353\u001b[0m     \u001b[0mself\u001b[0m\u001b[0;34m.\u001b[0m\u001b[0m_fetch_type\u001b[0m \u001b[0;34m=\u001b[0m \u001b[0mtype\u001b[0m\u001b[0;34m(\u001b[0m\u001b[0mfetches\u001b[0m\u001b[0;34m)\u001b[0m\u001b[0;34m\u001b[0m\u001b[0m\n\u001b[0;32m--> 354\u001b[0;31m     \u001b[0mself\u001b[0m\u001b[0;34m.\u001b[0m\u001b[0m_mappers\u001b[0m \u001b[0;34m=\u001b[0m \u001b[0;34m[\u001b[0m\u001b[0m_FetchMapper\u001b[0m\u001b[0;34m.\u001b[0m\u001b[0mfor_fetch\u001b[0m\u001b[0;34m(\u001b[0m\u001b[0mfetch\u001b[0m\u001b[0;34m)\u001b[0m \u001b[0;32mfor\u001b[0m \u001b[0mfetch\u001b[0m \u001b[0;32min\u001b[0m \u001b[0mfetches\u001b[0m\u001b[0;34m]\u001b[0m\u001b[0;34m\u001b[0m\u001b[0m\n\u001b[0m\u001b[1;32m    355\u001b[0m     \u001b[0mself\u001b[0m\u001b[0;34m.\u001b[0m\u001b[0m_unique_fetches\u001b[0m\u001b[0;34m,\u001b[0m \u001b[0mself\u001b[0m\u001b[0;34m.\u001b[0m\u001b[0m_value_indices\u001b[0m \u001b[0;34m=\u001b[0m \u001b[0m_uniquify_fetches\u001b[0m\u001b[0;34m(\u001b[0m\u001b[0mself\u001b[0m\u001b[0;34m.\u001b[0m\u001b[0m_mappers\u001b[0m\u001b[0;34m)\u001b[0m\u001b[0;34m\u001b[0m\u001b[0m\n\u001b[1;32m    356\u001b[0m \u001b[0;34m\u001b[0m\u001b[0m\n",
      "\u001b[0;32m~/.conda/envs/fastpm/lib/python3.6/site-packages/tensorflow/python/client/session.py\u001b[0m in \u001b[0;36m<listcomp>\u001b[0;34m(.0)\u001b[0m\n\u001b[1;32m    352\u001b[0m     \"\"\"\n\u001b[1;32m    353\u001b[0m     \u001b[0mself\u001b[0m\u001b[0;34m.\u001b[0m\u001b[0m_fetch_type\u001b[0m \u001b[0;34m=\u001b[0m \u001b[0mtype\u001b[0m\u001b[0;34m(\u001b[0m\u001b[0mfetches\u001b[0m\u001b[0;34m)\u001b[0m\u001b[0;34m\u001b[0m\u001b[0m\n\u001b[0;32m--> 354\u001b[0;31m     \u001b[0mself\u001b[0m\u001b[0;34m.\u001b[0m\u001b[0m_mappers\u001b[0m \u001b[0;34m=\u001b[0m \u001b[0;34m[\u001b[0m\u001b[0m_FetchMapper\u001b[0m\u001b[0;34m.\u001b[0m\u001b[0mfor_fetch\u001b[0m\u001b[0;34m(\u001b[0m\u001b[0mfetch\u001b[0m\u001b[0;34m)\u001b[0m \u001b[0;32mfor\u001b[0m \u001b[0mfetch\u001b[0m \u001b[0;32min\u001b[0m \u001b[0mfetches\u001b[0m\u001b[0;34m]\u001b[0m\u001b[0;34m\u001b[0m\u001b[0m\n\u001b[0m\u001b[1;32m    355\u001b[0m     \u001b[0mself\u001b[0m\u001b[0;34m.\u001b[0m\u001b[0m_unique_fetches\u001b[0m\u001b[0;34m,\u001b[0m \u001b[0mself\u001b[0m\u001b[0;34m.\u001b[0m\u001b[0m_value_indices\u001b[0m \u001b[0;34m=\u001b[0m \u001b[0m_uniquify_fetches\u001b[0m\u001b[0;34m(\u001b[0m\u001b[0mself\u001b[0m\u001b[0;34m.\u001b[0m\u001b[0m_mappers\u001b[0m\u001b[0;34m)\u001b[0m\u001b[0;34m\u001b[0m\u001b[0m\n\u001b[1;32m    356\u001b[0m \u001b[0;34m\u001b[0m\u001b[0m\n",
      "\u001b[0;32m~/.conda/envs/fastpm/lib/python3.6/site-packages/tensorflow/python/client/session.py\u001b[0m in \u001b[0;36mfor_fetch\u001b[0;34m(fetch)\u001b[0m\n\u001b[1;32m    245\u001b[0m     \u001b[0;32melif\u001b[0m \u001b[0misinstance\u001b[0m\u001b[0;34m(\u001b[0m\u001b[0mfetch\u001b[0m\u001b[0;34m,\u001b[0m \u001b[0;34m(\u001b[0m\u001b[0mlist\u001b[0m\u001b[0;34m,\u001b[0m \u001b[0mtuple\u001b[0m\u001b[0;34m)\u001b[0m\u001b[0;34m)\u001b[0m\u001b[0;34m:\u001b[0m\u001b[0;34m\u001b[0m\u001b[0m\n\u001b[1;32m    246\u001b[0m       \u001b[0;31m# NOTE(touts): This is also the code path for namedtuples.\u001b[0m\u001b[0;34m\u001b[0m\u001b[0;34m\u001b[0m\u001b[0m\n\u001b[0;32m--> 247\u001b[0;31m       \u001b[0;32mreturn\u001b[0m \u001b[0m_ListFetchMapper\u001b[0m\u001b[0;34m(\u001b[0m\u001b[0mfetch\u001b[0m\u001b[0;34m)\u001b[0m\u001b[0;34m\u001b[0m\u001b[0m\n\u001b[0m\u001b[1;32m    248\u001b[0m     \u001b[0;32melif\u001b[0m \u001b[0misinstance\u001b[0m\u001b[0;34m(\u001b[0m\u001b[0mfetch\u001b[0m\u001b[0;34m,\u001b[0m \u001b[0mcollections\u001b[0m\u001b[0;34m.\u001b[0m\u001b[0mMapping\u001b[0m\u001b[0;34m)\u001b[0m\u001b[0;34m:\u001b[0m\u001b[0;34m\u001b[0m\u001b[0m\n\u001b[1;32m    249\u001b[0m       \u001b[0;32mreturn\u001b[0m \u001b[0m_DictFetchMapper\u001b[0m\u001b[0;34m(\u001b[0m\u001b[0mfetch\u001b[0m\u001b[0;34m)\u001b[0m\u001b[0;34m\u001b[0m\u001b[0m\n",
      "\u001b[0;32m~/.conda/envs/fastpm/lib/python3.6/site-packages/tensorflow/python/client/session.py\u001b[0m in \u001b[0;36m__init__\u001b[0;34m(self, fetches)\u001b[0m\n\u001b[1;32m    352\u001b[0m     \"\"\"\n\u001b[1;32m    353\u001b[0m     \u001b[0mself\u001b[0m\u001b[0;34m.\u001b[0m\u001b[0m_fetch_type\u001b[0m \u001b[0;34m=\u001b[0m \u001b[0mtype\u001b[0m\u001b[0;34m(\u001b[0m\u001b[0mfetches\u001b[0m\u001b[0;34m)\u001b[0m\u001b[0;34m\u001b[0m\u001b[0m\n\u001b[0;32m--> 354\u001b[0;31m     \u001b[0mself\u001b[0m\u001b[0;34m.\u001b[0m\u001b[0m_mappers\u001b[0m \u001b[0;34m=\u001b[0m \u001b[0;34m[\u001b[0m\u001b[0m_FetchMapper\u001b[0m\u001b[0;34m.\u001b[0m\u001b[0mfor_fetch\u001b[0m\u001b[0;34m(\u001b[0m\u001b[0mfetch\u001b[0m\u001b[0;34m)\u001b[0m \u001b[0;32mfor\u001b[0m \u001b[0mfetch\u001b[0m \u001b[0;32min\u001b[0m \u001b[0mfetches\u001b[0m\u001b[0;34m]\u001b[0m\u001b[0;34m\u001b[0m\u001b[0m\n\u001b[0m\u001b[1;32m    355\u001b[0m     \u001b[0mself\u001b[0m\u001b[0;34m.\u001b[0m\u001b[0m_unique_fetches\u001b[0m\u001b[0;34m,\u001b[0m \u001b[0mself\u001b[0m\u001b[0;34m.\u001b[0m\u001b[0m_value_indices\u001b[0m \u001b[0;34m=\u001b[0m \u001b[0m_uniquify_fetches\u001b[0m\u001b[0;34m(\u001b[0m\u001b[0mself\u001b[0m\u001b[0;34m.\u001b[0m\u001b[0m_mappers\u001b[0m\u001b[0;34m)\u001b[0m\u001b[0;34m\u001b[0m\u001b[0m\n\u001b[1;32m    356\u001b[0m \u001b[0;34m\u001b[0m\u001b[0m\n",
      "\u001b[0;32m~/.conda/envs/fastpm/lib/python3.6/site-packages/tensorflow/python/client/session.py\u001b[0m in \u001b[0;36m<listcomp>\u001b[0;34m(.0)\u001b[0m\n\u001b[1;32m    352\u001b[0m     \"\"\"\n\u001b[1;32m    353\u001b[0m     \u001b[0mself\u001b[0m\u001b[0;34m.\u001b[0m\u001b[0m_fetch_type\u001b[0m \u001b[0;34m=\u001b[0m \u001b[0mtype\u001b[0m\u001b[0;34m(\u001b[0m\u001b[0mfetches\u001b[0m\u001b[0;34m)\u001b[0m\u001b[0;34m\u001b[0m\u001b[0m\n\u001b[0;32m--> 354\u001b[0;31m     \u001b[0mself\u001b[0m\u001b[0;34m.\u001b[0m\u001b[0m_mappers\u001b[0m \u001b[0;34m=\u001b[0m \u001b[0;34m[\u001b[0m\u001b[0m_FetchMapper\u001b[0m\u001b[0;34m.\u001b[0m\u001b[0mfor_fetch\u001b[0m\u001b[0;34m(\u001b[0m\u001b[0mfetch\u001b[0m\u001b[0;34m)\u001b[0m \u001b[0;32mfor\u001b[0m \u001b[0mfetch\u001b[0m \u001b[0;32min\u001b[0m \u001b[0mfetches\u001b[0m\u001b[0;34m]\u001b[0m\u001b[0;34m\u001b[0m\u001b[0m\n\u001b[0m\u001b[1;32m    355\u001b[0m     \u001b[0mself\u001b[0m\u001b[0;34m.\u001b[0m\u001b[0m_unique_fetches\u001b[0m\u001b[0;34m,\u001b[0m \u001b[0mself\u001b[0m\u001b[0;34m.\u001b[0m\u001b[0m_value_indices\u001b[0m \u001b[0;34m=\u001b[0m \u001b[0m_uniquify_fetches\u001b[0m\u001b[0;34m(\u001b[0m\u001b[0mself\u001b[0m\u001b[0;34m.\u001b[0m\u001b[0m_mappers\u001b[0m\u001b[0;34m)\u001b[0m\u001b[0;34m\u001b[0m\u001b[0m\n\u001b[1;32m    356\u001b[0m \u001b[0;34m\u001b[0m\u001b[0m\n",
      "\u001b[0;32m~/.conda/envs/fastpm/lib/python3.6/site-packages/tensorflow/python/client/session.py\u001b[0m in \u001b[0;36mfor_fetch\u001b[0;34m(fetch)\u001b[0m\n\u001b[1;32m    242\u001b[0m     \u001b[0;32mif\u001b[0m \u001b[0mfetch\u001b[0m \u001b[0;32mis\u001b[0m \u001b[0;32mNone\u001b[0m\u001b[0;34m:\u001b[0m\u001b[0;34m\u001b[0m\u001b[0m\n\u001b[1;32m    243\u001b[0m       raise TypeError('Fetch argument %r has invalid type %r' % (fetch,\n\u001b[0;32m--> 244\u001b[0;31m                                                                  type(fetch)))\n\u001b[0m\u001b[1;32m    245\u001b[0m     \u001b[0;32melif\u001b[0m \u001b[0misinstance\u001b[0m\u001b[0;34m(\u001b[0m\u001b[0mfetch\u001b[0m\u001b[0;34m,\u001b[0m \u001b[0;34m(\u001b[0m\u001b[0mlist\u001b[0m\u001b[0;34m,\u001b[0m \u001b[0mtuple\u001b[0m\u001b[0;34m)\u001b[0m\u001b[0;34m)\u001b[0m\u001b[0;34m:\u001b[0m\u001b[0;34m\u001b[0m\u001b[0m\n\u001b[1;32m    246\u001b[0m       \u001b[0;31m# NOTE(touts): This is also the code path for namedtuples.\u001b[0m\u001b[0;34m\u001b[0m\u001b[0;34m\u001b[0m\u001b[0m\n",
      "\u001b[0;31mTypeError\u001b[0m: Fetch argument None has invalid type <class 'NoneType'>"
     ]
    }
   ],
   "source": [
    "tfkicked = tfKick(tfstate, a0, ah, a1,  conf)\n",
    "grad = tf.gradients(tfkicked, tfstate)\n",
    "with tf.Session() as sess:\n",
    "    sess.run(tf.global_variables_initializer())\n",
    "    tgrad, tfstate = sess.run([grad, tfkicked])"
   ]
  },
  {
   "cell_type": "markdown",
   "metadata": {},
   "source": [
    "### Drift"
   ]
  },
  {
   "cell_type": "code",
   "execution_count": 19,
   "metadata": {},
   "outputs": [],
   "source": [
    "state = statelpt.copy()\n",
    "tfstate = tfstatelpt.copy()\n",
    "\n",
    "state.a['S'] = ah\n",
    "solver.nbodystep.Force(state, a0, ah, a1)\n",
    "\n",
    "# #\n",
    "tfkicked = tfKick(tfstate, a0, ah, a1,  conf)\n",
    "with tf.Session() as sess:\n",
    "    sess.run(tf.global_variables_initializer())\n",
    "    tfstate = sess.run(tfkicked)"
   ]
  },
  {
   "cell_type": "code",
   "execution_count": 20,
   "metadata": {},
   "outputs": [],
   "source": [
    "state = statelpt.copy()\n",
    "tfstate = tfstatelpt.copy()\n",
    "\n",
    "state.a['P'] = ah\n",
    "solver.nbodystep.Drift(state, a0, ah, a1)\n",
    "\n",
    "# #\n",
    "tfkicked = tfDrift(tfstate, a0, ah, a1,  conf)\n",
    "with tf.Session() as sess:\n",
    "    sess.run(tf.global_variables_initializer())\n",
    "    tfstate = sess.run(tfkicked)"
   ]
  },
  {
   "cell_type": "code",
   "execution_count": 21,
   "metadata": {},
   "outputs": [
    {
     "data": {
      "text/plain": [
       "(array([[1.8305849 , 1.8771114 , 1.9185332 ],\n",
       "        [1.8357612 , 1.8844674 , 1.1731321 ],\n",
       "        [1.8525606 , 1.8912961 , 1.1251558 ],\n",
       "        ...,\n",
       "        [1.0003488 , 0.9996288 , 0.9911774 ],\n",
       "        [1.0019221 , 0.9974347 , 0.9974991 ],\n",
       "        [1.0008509 , 0.99616855, 1.0010128 ]], dtype=float32),\n",
       " array([[0.99999964, 0.9999995 , 0.9999995 ],\n",
       "        [0.9999999 , 0.9999995 , 0.9999999 ],\n",
       "        [0.9999997 , 0.9999992 , 1.        ],\n",
       "        ...,\n",
       "        [1.        , 1.        , 1.0000001 ],\n",
       "        [1.        , 1.0000001 , 1.        ],\n",
       "        [1.        , 1.        , 1.        ]], dtype=float32))"
      ]
     },
     "execution_count": 21,
     "metadata": {},
     "output_type": "execute_result"
    }
   ],
   "source": [
    "ii = 0\n",
    "tfstate[ii] / tfstatelpt[ii], tfstate[ii] / state.X"
   ]
  },
  {
   "cell_type": "markdown",
   "metadata": {},
   "source": [
    "### Force"
   ]
  },
  {
   "cell_type": "code",
   "execution_count": 22,
   "metadata": {},
   "outputs": [],
   "source": [
    "# #\n",
    "state = statelpt.copy()\n",
    "tfstate = tfstatelpt.copy()\n",
    "\n",
    "state.a['S'] = ah\n",
    "delk = solver.nbodystep.Force(state, a0, ah, a1)\n",
    "\n",
    "# #\n",
    "tfkicked = tfForce(tfstate, a0, ah, a1,  conf)\n",
    "with tf.Session() as sess:\n",
    "    sess.run(tf.global_variables_initializer())\n",
    "    tfstate = sess.run(tfkicked)\n",
    "    \n",
    "#     tflptic = tflptinit(tlineark, grid, a0, conf, order=2)\n",
    "# tfforced = tfForce(tflptic, a0, ah, a1, conf)\n",
    "# with tf.Session() as sess:\n",
    "#     sess.run(tf.global_variables_initializer())\n",
    "#     ttmp0, ttmp1 = sess.run([tfforced, tflptic])"
   ]
  },
  {
   "cell_type": "code",
   "execution_count": 23,
   "metadata": {},
   "outputs": [
    {
     "data": {
      "text/plain": [
       "(array([[0.825243  , 0.7041261 , 0.6076966 ],\n",
       "        [0.73939   , 0.81493515, 0.84227973],\n",
       "        [0.65501213, 0.92865807, 0.93659854],\n",
       "        ...,\n",
       "        [1.8543605 , 3.4201462 , 0.9582288 ],\n",
       "        [0.6716402 , 1.146379  , 0.9854585 ],\n",
       "        [1.2203827 , 1.0349008 , 0.5742638 ]], dtype=float32),\n",
       " array([[0.99999744, 0.99999374, 1.0000019 ],\n",
       "        [0.999998  , 0.99999577, 1.0000007 ],\n",
       "        [0.9999984 , 0.99999636, 1.0000002 ],\n",
       "        ...,\n",
       "        [0.99998295, 0.99999905, 0.9999961 ],\n",
       "        [0.9999867 , 0.9999944 , 1.000005  ],\n",
       "        [0.99997616, 1.0000004 , 0.9999765 ]], dtype=float32))"
      ]
     },
     "execution_count": 23,
     "metadata": {},
     "output_type": "execute_result"
    }
   ],
   "source": [
    "ii = 2\n",
    "tfstate[ii] / tfstatelpt[ii], tfstate[ii] / state.F"
   ]
  },
  {
   "cell_type": "markdown",
   "metadata": {},
   "source": [
    "# Put it all together"
   ]
  },
  {
   "cell_type": "code",
   "execution_count": 36,
   "metadata": {},
   "outputs": [
    {
     "name": "stderr",
     "output_type": "stream",
     "text": [
      "/global/homes/c/chmodi/.conda/envs/fastpm/lib/python3.6/site-packages/ipykernel/__main__.py:16: DeprecationWarning: mode argument is deprecated, use type\n"
     ]
    }
   ],
   "source": [
    "conf = Config()\n",
    "bs, nc = conf['boxsize'], conf['nc']\n",
    "pm = conf.pm\n",
    "\n",
    "# bs = 100\n",
    "# nc = 32\n",
    "# pm = ParticleMesh(BoxSize=bs, Nmesh = [nc, nc, nc], dtype='f4')\n",
    "grid = pm.generate_uniform_particle_grid(shift=0).astype(np.float32)\n",
    "kvec = tools.fftk((nc, nc, nc), bs, dtype=np.float32)\n",
    "gdict = {'bs':bs, 'nc':nc, 'kvec':kvec, 'ndim':3}\n",
    "solver = Solver(pm, conf['cosmology'])\n",
    "conf['kvec'] = kvec\n",
    "gdict = conf\n",
    "\n",
    "\n",
    "whitec = pm.generate_whitenoise(100, mode='complex', unitary=False)\n",
    "lineark = whitec.apply(lambda k, v:Planck15.get_pklin(sum(ki ** 2 for ki in k)**0.5, 0) ** 0.5 * v / v.BoxSize.prod() ** 0.5)\n",
    "linear = lineark.c2r()\n",
    "tlinear = tf.constant(linear[...])\n",
    "tlineark = tf.multiply(tf.spectral.rfft3d(tlinear), 1/nc**3)\n",
    "\n"
   ]
  },
  {
   "cell_type": "code",
   "execution_count": 37,
   "metadata": {},
   "outputs": [
    {
     "name": "stdout",
     "output_type": "stream",
     "text": [
      "F 0.1 0.1 0.1\n",
      "K 0.1 0.1 0.18027756377319948\n",
      "D 0.1 0.18027756377319948 0.325\n",
      "F 0.1 0.325 0.325\n",
      "K 0.18027756377319948 0.325 0.325\n",
      "K 0.325 0.325 0.4227883631321941\n",
      "D 0.325 0.4227883631321941 0.55\n",
      "F 0.325 0.55 0.55\n",
      "K 0.4227883631321941 0.55 0.55\n",
      "K 0.55 0.55 0.6528782428600298\n",
      "D 0.55 0.6528782428600298 0.775\n",
      "F 0.55 0.775 0.775\n",
      "K 0.6528782428600298 0.775 0.775\n",
      "K 0.775 0.775 0.8803408430829505\n",
      "D 0.775 0.8803408430829505 1.0\n",
      "F 0.775 1.0 1.0\n",
      "K 0.8803408430829505 1.0 1.0\n"
     ]
    }
   ],
   "source": [
    "# state = statelpt.copy()\n",
    "# tfstate = tfstatelpt.copy()\n",
    "# #\n",
    "state = solver.lpt(lineark, grid, a0, order=2)\n",
    "solver.nbody(state, leapfrog(conf['stages']))\n",
    "\n",
    "tflptic = tflptinit(tlineark, grid, a0, conf, order=2)\n",
    "tfstate = tfnbody(tflptic, conf)\n",
    "\n",
    "with tf.Session() as sess:\n",
    "    sess.run(tf.global_variables_initializer())\n",
    "    tfstatepm = sess.run(tfstate)\n"
   ]
  },
  {
   "cell_type": "code",
   "execution_count": 41,
   "metadata": {},
   "outputs": [
    {
     "data": {
      "text/plain": [
       "[array([[[ 0.        ]],\n",
       " \n",
       "        [[ 0.01570796]],\n",
       " \n",
       "        [[ 0.03141593]],\n",
       " \n",
       "        [[ 0.04712389]],\n",
       " \n",
       "        [[ 0.06283186]],\n",
       " \n",
       "        [[ 0.07853982]],\n",
       " \n",
       "        [[ 0.09424778]],\n",
       " \n",
       "        [[ 0.10995574]],\n",
       " \n",
       "        [[ 0.12566371]],\n",
       " \n",
       "        [[ 0.14137167]],\n",
       " \n",
       "        [[ 0.15707964]],\n",
       " \n",
       "        [[ 0.17278759]],\n",
       " \n",
       "        [[ 0.18849556]],\n",
       " \n",
       "        [[ 0.20420352]],\n",
       " \n",
       "        [[ 0.21991149]],\n",
       " \n",
       "        [[ 0.23561946]],\n",
       " \n",
       "        [[ 0.25132743]],\n",
       " \n",
       "        [[ 0.26703537]],\n",
       " \n",
       "        [[ 0.28274333]],\n",
       " \n",
       "        [[ 0.2984513 ]],\n",
       " \n",
       "        [[ 0.31415927]],\n",
       " \n",
       "        [[ 0.3298672 ]],\n",
       " \n",
       "        [[ 0.34557518]],\n",
       " \n",
       "        [[ 0.36128315]],\n",
       " \n",
       "        [[ 0.37699112]],\n",
       " \n",
       "        [[ 0.3926991 ]],\n",
       " \n",
       "        [[ 0.40840703]],\n",
       " \n",
       "        [[ 0.424115  ]],\n",
       " \n",
       "        [[ 0.43982297]],\n",
       " \n",
       "        [[ 0.45553094]],\n",
       " \n",
       "        [[ 0.4712389 ]],\n",
       " \n",
       "        [[ 0.48694685]],\n",
       " \n",
       "        [[ 0.50265485]],\n",
       " \n",
       "        [[ 0.51836276]],\n",
       " \n",
       "        [[ 0.53407073]],\n",
       " \n",
       "        [[ 0.5497787 ]],\n",
       " \n",
       "        [[ 0.56548667]],\n",
       " \n",
       "        [[ 0.58119464]],\n",
       " \n",
       "        [[ 0.5969026 ]],\n",
       " \n",
       "        [[ 0.6126106 ]],\n",
       " \n",
       "        [[ 0.62831855]],\n",
       " \n",
       "        [[ 0.6440265 ]],\n",
       " \n",
       "        [[ 0.6597344 ]],\n",
       " \n",
       "        [[ 0.6754424 ]],\n",
       " \n",
       "        [[ 0.69115037]],\n",
       " \n",
       "        [[ 0.70685834]],\n",
       " \n",
       "        [[ 0.7225663 ]],\n",
       " \n",
       "        [[ 0.7382743 ]],\n",
       " \n",
       "        [[ 0.75398225]],\n",
       " \n",
       "        [[ 0.7696902 ]],\n",
       " \n",
       "        [[ 0.7853982 ]],\n",
       " \n",
       "        [[ 0.80110615]],\n",
       " \n",
       "        [[ 0.81681406]],\n",
       " \n",
       "        [[ 0.83252203]],\n",
       " \n",
       "        [[ 0.84823   ]],\n",
       " \n",
       "        [[ 0.863938  ]],\n",
       " \n",
       "        [[ 0.87964594]],\n",
       " \n",
       "        [[ 0.8953539 ]],\n",
       " \n",
       "        [[ 0.9110619 ]],\n",
       " \n",
       "        [[ 0.92676985]],\n",
       " \n",
       "        [[ 0.9424778 ]],\n",
       " \n",
       "        [[ 0.95818573]],\n",
       " \n",
       "        [[ 0.9738937 ]],\n",
       " \n",
       "        [[ 0.9896017 ]],\n",
       " \n",
       "        [[-1.0053097 ]],\n",
       " \n",
       "        [[-0.9896017 ]],\n",
       " \n",
       "        [[-0.9738937 ]],\n",
       " \n",
       "        [[-0.95818573]],\n",
       " \n",
       "        [[-0.9424778 ]],\n",
       " \n",
       "        [[-0.92676985]],\n",
       " \n",
       "        [[-0.9110619 ]],\n",
       " \n",
       "        [[-0.8953539 ]],\n",
       " \n",
       "        [[-0.87964594]],\n",
       " \n",
       "        [[-0.863938  ]],\n",
       " \n",
       "        [[-0.84823   ]],\n",
       " \n",
       "        [[-0.83252203]],\n",
       " \n",
       "        [[-0.81681406]],\n",
       " \n",
       "        [[-0.80110615]],\n",
       " \n",
       "        [[-0.7853982 ]],\n",
       " \n",
       "        [[-0.7696902 ]],\n",
       " \n",
       "        [[-0.75398225]],\n",
       " \n",
       "        [[-0.7382743 ]],\n",
       " \n",
       "        [[-0.7225663 ]],\n",
       " \n",
       "        [[-0.70685834]],\n",
       " \n",
       "        [[-0.69115037]],\n",
       " \n",
       "        [[-0.6754424 ]],\n",
       " \n",
       "        [[-0.6597344 ]],\n",
       " \n",
       "        [[-0.6440265 ]],\n",
       " \n",
       "        [[-0.62831855]],\n",
       " \n",
       "        [[-0.6126106 ]],\n",
       " \n",
       "        [[-0.5969026 ]],\n",
       " \n",
       "        [[-0.58119464]],\n",
       " \n",
       "        [[-0.56548667]],\n",
       " \n",
       "        [[-0.5497787 ]],\n",
       " \n",
       "        [[-0.53407073]],\n",
       " \n",
       "        [[-0.51836276]],\n",
       " \n",
       "        [[-0.50265485]],\n",
       " \n",
       "        [[-0.48694685]],\n",
       " \n",
       "        [[-0.4712389 ]],\n",
       " \n",
       "        [[-0.45553094]],\n",
       " \n",
       "        [[-0.43982297]],\n",
       " \n",
       "        [[-0.424115  ]],\n",
       " \n",
       "        [[-0.40840703]],\n",
       " \n",
       "        [[-0.3926991 ]],\n",
       " \n",
       "        [[-0.37699112]],\n",
       " \n",
       "        [[-0.36128315]],\n",
       " \n",
       "        [[-0.34557518]],\n",
       " \n",
       "        [[-0.3298672 ]],\n",
       " \n",
       "        [[-0.31415927]],\n",
       " \n",
       "        [[-0.2984513 ]],\n",
       " \n",
       "        [[-0.28274333]],\n",
       " \n",
       "        [[-0.26703537]],\n",
       " \n",
       "        [[-0.25132743]],\n",
       " \n",
       "        [[-0.23561946]],\n",
       " \n",
       "        [[-0.21991149]],\n",
       " \n",
       "        [[-0.20420352]],\n",
       " \n",
       "        [[-0.18849556]],\n",
       " \n",
       "        [[-0.17278759]],\n",
       " \n",
       "        [[-0.15707964]],\n",
       " \n",
       "        [[-0.14137167]],\n",
       " \n",
       "        [[-0.12566371]],\n",
       " \n",
       "        [[-0.10995574]],\n",
       " \n",
       "        [[-0.09424778]],\n",
       " \n",
       "        [[-0.07853982]],\n",
       " \n",
       "        [[-0.06283186]],\n",
       " \n",
       "        [[-0.04712389]],\n",
       " \n",
       "        [[-0.03141593]],\n",
       " \n",
       "        [[-0.01570796]]], dtype=float32), array([[[ 0.        ],\n",
       "         [ 0.01570796],\n",
       "         [ 0.03141593],\n",
       "         [ 0.04712389],\n",
       "         [ 0.06283186],\n",
       "         [ 0.07853982],\n",
       "         [ 0.09424778],\n",
       "         [ 0.10995574],\n",
       "         [ 0.12566371],\n",
       "         [ 0.14137167],\n",
       "         [ 0.15707964],\n",
       "         [ 0.17278759],\n",
       "         [ 0.18849556],\n",
       "         [ 0.20420352],\n",
       "         [ 0.21991149],\n",
       "         [ 0.23561946],\n",
       "         [ 0.25132743],\n",
       "         [ 0.26703537],\n",
       "         [ 0.28274333],\n",
       "         [ 0.2984513 ],\n",
       "         [ 0.31415927],\n",
       "         [ 0.3298672 ],\n",
       "         [ 0.34557518],\n",
       "         [ 0.36128315],\n",
       "         [ 0.37699112],\n",
       "         [ 0.3926991 ],\n",
       "         [ 0.40840703],\n",
       "         [ 0.424115  ],\n",
       "         [ 0.43982297],\n",
       "         [ 0.45553094],\n",
       "         [ 0.4712389 ],\n",
       "         [ 0.48694685],\n",
       "         [ 0.50265485],\n",
       "         [ 0.51836276],\n",
       "         [ 0.53407073],\n",
       "         [ 0.5497787 ],\n",
       "         [ 0.56548667],\n",
       "         [ 0.58119464],\n",
       "         [ 0.5969026 ],\n",
       "         [ 0.6126106 ],\n",
       "         [ 0.62831855],\n",
       "         [ 0.6440265 ],\n",
       "         [ 0.6597344 ],\n",
       "         [ 0.6754424 ],\n",
       "         [ 0.69115037],\n",
       "         [ 0.70685834],\n",
       "         [ 0.7225663 ],\n",
       "         [ 0.7382743 ],\n",
       "         [ 0.75398225],\n",
       "         [ 0.7696902 ],\n",
       "         [ 0.7853982 ],\n",
       "         [ 0.80110615],\n",
       "         [ 0.81681406],\n",
       "         [ 0.83252203],\n",
       "         [ 0.84823   ],\n",
       "         [ 0.863938  ],\n",
       "         [ 0.87964594],\n",
       "         [ 0.8953539 ],\n",
       "         [ 0.9110619 ],\n",
       "         [ 0.92676985],\n",
       "         [ 0.9424778 ],\n",
       "         [ 0.95818573],\n",
       "         [ 0.9738937 ],\n",
       "         [ 0.9896017 ],\n",
       "         [-1.0053097 ],\n",
       "         [-0.9896017 ],\n",
       "         [-0.9738937 ],\n",
       "         [-0.95818573],\n",
       "         [-0.9424778 ],\n",
       "         [-0.92676985],\n",
       "         [-0.9110619 ],\n",
       "         [-0.8953539 ],\n",
       "         [-0.87964594],\n",
       "         [-0.863938  ],\n",
       "         [-0.84823   ],\n",
       "         [-0.83252203],\n",
       "         [-0.81681406],\n",
       "         [-0.80110615],\n",
       "         [-0.7853982 ],\n",
       "         [-0.7696902 ],\n",
       "         [-0.75398225],\n",
       "         [-0.7382743 ],\n",
       "         [-0.7225663 ],\n",
       "         [-0.70685834],\n",
       "         [-0.69115037],\n",
       "         [-0.6754424 ],\n",
       "         [-0.6597344 ],\n",
       "         [-0.6440265 ],\n",
       "         [-0.62831855],\n",
       "         [-0.6126106 ],\n",
       "         [-0.5969026 ],\n",
       "         [-0.58119464],\n",
       "         [-0.56548667],\n",
       "         [-0.5497787 ],\n",
       "         [-0.53407073],\n",
       "         [-0.51836276],\n",
       "         [-0.50265485],\n",
       "         [-0.48694685],\n",
       "         [-0.4712389 ],\n",
       "         [-0.45553094],\n",
       "         [-0.43982297],\n",
       "         [-0.424115  ],\n",
       "         [-0.40840703],\n",
       "         [-0.3926991 ],\n",
       "         [-0.37699112],\n",
       "         [-0.36128315],\n",
       "         [-0.34557518],\n",
       "         [-0.3298672 ],\n",
       "         [-0.31415927],\n",
       "         [-0.2984513 ],\n",
       "         [-0.28274333],\n",
       "         [-0.26703537],\n",
       "         [-0.25132743],\n",
       "         [-0.23561946],\n",
       "         [-0.21991149],\n",
       "         [-0.20420352],\n",
       "         [-0.18849556],\n",
       "         [-0.17278759],\n",
       "         [-0.15707964],\n",
       "         [-0.14137167],\n",
       "         [-0.12566371],\n",
       "         [-0.10995574],\n",
       "         [-0.09424778],\n",
       "         [-0.07853982],\n",
       "         [-0.06283186],\n",
       "         [-0.04712389],\n",
       "         [-0.03141593],\n",
       "         [-0.01570796]]], dtype=float32), array([[[ 0.        ,  0.01570796,  0.03141593,  0.04712389,\n",
       "           0.06283186,  0.07853982,  0.09424778,  0.10995574,\n",
       "           0.12566371,  0.14137167,  0.15707964,  0.17278759,\n",
       "           0.18849556,  0.20420352,  0.21991149,  0.23561946,\n",
       "           0.25132743,  0.26703537,  0.28274333,  0.2984513 ,\n",
       "           0.31415927,  0.3298672 ,  0.34557518,  0.36128315,\n",
       "           0.37699112,  0.3926991 ,  0.40840703,  0.424115  ,\n",
       "           0.43982297,  0.45553094,  0.4712389 ,  0.48694685,\n",
       "           0.50265485,  0.51836276,  0.53407073,  0.5497787 ,\n",
       "           0.56548667,  0.58119464,  0.5969026 ,  0.6126106 ,\n",
       "           0.62831855,  0.6440265 ,  0.6597344 ,  0.6754424 ,\n",
       "           0.69115037,  0.70685834,  0.7225663 ,  0.7382743 ,\n",
       "           0.75398225,  0.7696902 ,  0.7853982 ,  0.80110615,\n",
       "           0.81681406,  0.83252203,  0.84823   ,  0.863938  ,\n",
       "           0.87964594,  0.8953539 ,  0.9110619 ,  0.92676985,\n",
       "           0.9424778 ,  0.95818573,  0.9738937 ,  0.9896017 ,\n",
       "          -1.0053097 ]]], dtype=float32)]"
      ]
     },
     "execution_count": 41,
     "metadata": {},
     "output_type": "execute_result"
    }
   ],
   "source": [
    "conf['kvec']"
   ]
  },
  {
   "cell_type": "code",
   "execution_count": 38,
   "metadata": {},
   "outputs": [],
   "source": [
    "tfmesh = tf.zeros((nc, nc, nc))\n",
    "tfmesh = cic_paint(tfmesh, tf.multiply(tfstatepm[0], nc/bs), weight=tf.ones(nc**3))\n",
    "\n",
    "with tf.Session() as sess:\n",
    "    sess.run(tf.global_variables_initializer())\n",
    "    tfmeshpm = sess.run(tfmesh)\n"
   ]
  },
  {
   "cell_type": "code",
   "execution_count": 39,
   "metadata": {},
   "outputs": [],
   "source": [
    "meshpm = pm.paint(state.X)"
   ]
  },
  {
   "cell_type": "code",
   "execution_count": 40,
   "metadata": {},
   "outputs": [
    {
     "data": {
      "text/plain": [
       "Text(0.5,1,'Difference')"
      ]
     },
     "execution_count": 40,
     "metadata": {},
     "output_type": "execute_result"
    },
    {
     "data": {
      "image/png": "[encoded data removed]",
      "text/plain": [
       "<Figure size 1080x288 with 6 Axes>"
      ]
     },
     "metadata": {
      "needs_background": "light"
     },
     "output_type": "display_data"
    }
   ],
   "source": [
    "fig, ax = plt.subplots(1, 3, figsize = (15, 4))\n",
    "im = ax[0].imshow(meshpm[...].sum(axis=0))\n",
    "plt.colorbar(im, ax=ax[0])\n",
    "ax[0].set_title('Yu PM')\n",
    "im = ax[1].imshow(tfmeshpm[...].sum(axis=0))\n",
    "plt.colorbar(im, ax=ax[1])\n",
    "ax[1].set_title('TF PM')\n",
    "im = ax[2].imshow((meshpm-tfmeshpm)[...].sum(axis=0))\n",
    "plt.colorbar(im, ax=ax[2])\n",
    "ax[2].set_title('Difference')\n"
   ]
  },
  {
   "cell_type": "code",
   "execution_count": null,
   "metadata": {},
   "outputs": [],
   "source": []
  }
 ],
 "metadata": {
  "kernelspec": {
   "display_name": "Python [conda env:fastpm]",
   "language": "python",
   "name": "conda-env-fastpm-py"
  },
  "language_info": {
   "codemirror_mode": {
    "name": "ipython",
    "version": 3
   },
   "file_extension": ".py",
   "mimetype": "text/x-python",
   "name": "python",
   "nbconvert_exporter": "python",
   "pygments_lexer": "ipython3",
   "version": "3.6.6"
  }
 },
 "nbformat": 4,
 "nbformat_minor": 2
}
