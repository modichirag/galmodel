{
 "cells": [
  {
   "cell_type": "code",
   "execution_count": 1,
   "metadata": {},
   "outputs": [
    {
     "name": "stdout",
     "output_type": "stream",
     "text": [
      "Populating the interactive namespace from numpy and matplotlib\n"
     ]
    }
   ],
   "source": [
    "import os\n",
    "os.environ[\"CUDA_VISIBLE_DEVICES\"] = \"1\"\n",
    "%pylab inline\n",
    "%load_ext autoreload\n",
    "%autoreload 2"
   ]
  },
  {
   "cell_type": "code",
   "execution_count": 2,
   "metadata": {},
   "outputs": [],
   "source": [
    "import numpy as np\n",
    "import matplotlib.pyplot as plt\n",
    "#\n",
    "import sys\n",
    "sys.path.append('../code/utils/')\n",
    "sys.path.append('../code')\n",
    "import tools\n",
    "from layers import wide_resnet\n",
    "import datatools as dtools\n",
    "from time import time\n",
    "\n"
   ]
  },
  {
   "cell_type": "code",
   "execution_count": 3,
   "metadata": {},
   "outputs": [],
   "source": [
    "#\n",
    "import tensorflow as tf\n",
    "\n",
    "# tf.enable_eager_execution()\n",
    "\n",
    "import tensorflow.contrib.slim as slim\n",
    "from tensorflow.contrib.slim import add_arg_scope\n",
    "import tensorflow_hub as hub\n",
    "import tensorflow_probability\n",
    "import tensorflow_probability as tfp\n",
    "tfd = tensorflow_probability.distributions\n",
    "tfd = tfp.distributions\n",
    "tfb = tfp.bijectors\n",
    "\n",
    "import numpy as np\n",
    "import matplotlib.pyplot as plt\n",
    "#\n"
   ]
  },
  {
   "cell_type": "code",
   "execution_count": 4,
   "metadata": {},
   "outputs": [],
   "source": [
    "# n = 3\n",
    "# tmpvals = np.random.rand(n,n)\n",
    "# xx = np.arange(0, 2*n, 2)\n",
    "# np.meshgrid(xx, xx, xx)\n",
    "# # indices = []\n",
    "# # for i in range(2*n):\n",
    "# #     for j in range(2*n):\n",
    "# #         for k in range(2*n):\n",
    "            \n",
    "# # sp =tf.SparseTensor(indices=[[0, 0, 0], [1, 2, 1]], values=[1, 2], dense_shape=[3, 4, 2])\n",
    "# # # sp2 = tf.sparse_tensor_to_dense(sp)\n",
    "# # # with tf.Session() as sess:\n",
    "# # #     print(sess.run(sp))\n",
    "# # #     print(sess.run(sp2))\n"
   ]
  },
  {
   "cell_type": "code",
   "execution_count": 5,
   "metadata": {},
   "outputs": [],
   "source": [
    "# tf.reset_default_graph()\n",
    "# def unpool(value, name='unpool'):\n",
    "#     \"\"\"N-dimensional version of the unpooling operation from\n",
    "#     https://www.robots.ox.ac.uk/~vgg/rg/papers/Dosovitskiy_Learning_to_Generate_2015_CVPR_paper.pdf\n",
    "\n",
    "#     :param value: A Tensor of shape [b, d0, d1, ..., dn, ch]\n",
    "#     :return: A Tensor of shape [b, 2*d0, 2*d1, ..., 2*dn, ch]\n",
    "#     \"\"\"\n",
    "#     with tf.name_scope(name) as scope:\n",
    "#         sh = value.get_shape().as_list()\n",
    "#         dim = len(sh[1:-1])\n",
    "#         out = (tf.reshape(value, [-1] + sh[-dim:]))\n",
    "#         for i in range(dim, 0, -1):\n",
    "#             out = tf.concat([out, tf.zeros_like(out)], i)\n",
    "#         out_size = [-1] + [s * 2 for s in sh[1:-1]] + [sh[-1]]\n",
    "#         out = tf.reshape(out, out_size, name=scope)\n",
    "#     return out\n",
    "\n",
    "# a = tf.random_normal([1, 3, 3,  1])\n",
    "# b = unpool(a)\n",
    "# with tf.Session() as sess:\n",
    "#     print(sess.run([a, b]))\n",
    "# #     print(sess.run(b))\n"
   ]
  },
  {
   "cell_type": "code",
   "execution_count": 138,
   "metadata": {},
   "outputs": [
    {
     "name": "stdout",
     "output_type": "stream",
     "text": [
      "[array([[[[ 0.01387946],\n",
      "         [-1.4090097 ]],\n",
      "\n",
      "        [[ 0.10609611],\n",
      "         [ 0.2845958 ]]]], dtype=float32)]\n"
     ]
    }
   ],
   "source": [
    "\n",
    "a = tf.random_normal([1, 4, 4,  1])\n",
    "b = a[:, ::2, ::2, :]\n",
    "with tf.Session() as sess:\n",
    "    print(sess.run([ b]))\n",
    "#     print(sess.run(b))\n"
   ]
  },
  {
   "cell_type": "code",
   "execution_count": 150,
   "metadata": {},
   "outputs": [],
   "source": [
    "\n",
    "a = tf.random_normal([1, 3, 3,  1])\n",
    "b = unpool(a)\n",
    "with tf.Session() as sess:\n",
    "    aa, bb = sess.run([a, b])\n",
    "#     print(sess.run(b))\n"
   ]
  },
  {
   "cell_type": "code",
   "execution_count": 151,
   "metadata": {},
   "outputs": [
    {
     "name": "stdout",
     "output_type": "stream",
     "text": [
      "[[ 0.98298293 -0.66370183  1.2529548 ]\n",
      " [-1.5791045  -1.6466622  -0.36686188]\n",
      " [ 1.1114141  -1.8438816   0.7651039 ]]\n"
     ]
    },
    {
     "data": {
      "text/plain": [
       "array([[ 0.98298293,  0.98298293, -0.66370183, -0.66370183,  1.2529548 ,\n",
       "         1.2529548 ],\n",
       "       [ 0.98298293,  0.98298293, -0.66370183, -0.66370183,  1.2529548 ,\n",
       "         1.2529548 ],\n",
       "       [-1.5791045 , -1.5791045 , -1.6466622 , -1.6466622 , -0.36686188,\n",
       "        -0.36686188],\n",
       "       [-1.5791045 , -1.5791045 , -1.6466622 , -1.6466622 , -0.36686188,\n",
       "        -0.36686188],\n",
       "       [ 1.1114141 ,  1.1114141 , -1.8438816 , -1.8438816 ,  0.7651039 ,\n",
       "         0.7651039 ],\n",
       "       [ 1.1114141 ,  1.1114141 , -1.8438816 , -1.8438816 ,  0.7651039 ,\n",
       "         0.7651039 ]], dtype=float32)"
      ]
     },
     "execution_count": 151,
     "metadata": {},
     "output_type": "execute_result"
    }
   ],
   "source": [
    "print(np.squeeze(aa))\n",
    "np.squeeze(bb)"
   ]
  },
  {
   "cell_type": "markdown",
   "metadata": {},
   "source": [
    "# Pixel CNN 3D"
   ]
  },
  {
   "cell_type": "code",
   "execution_count": 7,
   "metadata": {},
   "outputs": [],
   "source": [
    "from pixelcnn3d import *"
   ]
  },
  {
   "cell_type": "code",
   "execution_count": 8,
   "metadata": {},
   "outputs": [],
   "source": [
    "# import tensorflow as tf\n",
    "# import numpy as np\n",
    "\n",
    "# def get_weights3d(shape, name, orientation, mask_mode='noblind', mask=None):\n",
    "#     weights_initializer = tf.contrib.layers.xavier_initializer()\n",
    "# #     weights_initializer = tf.ones_initializer()\n",
    "#     W = tf.get_variable(name, shape, tf.float32, weights_initializer)\n",
    "\n",
    "#     '''\n",
    "#         Use of masking to hide subsequent pixel values \n",
    "#     '''\n",
    "#     if mask:\n",
    "#         filter_mid_x = shape[0]//2\n",
    "#         filter_mid_y = shape[1]//2\n",
    "#         filter_mid_z = shape[2]//2\n",
    "        \n",
    "#         mask_filter = np.ones(shape, dtype=np.float32)\n",
    "#         if mask_mode == 'noblind':\n",
    "                \n",
    "#             if orientation == 0:\n",
    "#                 if mask == 'a':\n",
    "#                     mask_filter[filter_mid_x:, :, :, :, :] = 0.0\n",
    "#                 else:\n",
    "#                     mask_filter[filter_mid_x+1:, :, :, :, :] = 0.0\n",
    "\n",
    "#             elif orientation == 1 :\n",
    "#                 mask_filter[filter_mid_x+1:, :, :, :, :] = 0.0\n",
    "#                 if mask == 'a':\n",
    "#                     mask_filter[filter_mid_x:, filter_mid_y:, :, :, :] = 0.0\n",
    "#                 else:\n",
    "#                     mask_filter[filter_mid_x:, filter_mid_y+1:, :, :, :] = 0.0\n",
    "\n",
    "#             elif orientation == 2:\n",
    "#                 mask_filter[filter_mid_x+1:, :, :, :, :] = 0.0\n",
    "#                 mask_filter[filter_mid_x:, filter_mid_y+1:, :, :, :] = 0.0\n",
    "#                 mask_filter[filter_mid_x:, filter_mid_y:, filter_mid_z+1:, :, :] = 0.0\n",
    "\n",
    "#             if mask == 'a':\n",
    "#                 # Center must be zero in first layer\n",
    "#                 mask_filter[filter_mid_x, filter_mid_y, filter_mid_z, :, :] = 0.0\n",
    "\n",
    "#         else:\n",
    "#             mask_filter[filter_mid_x, filter_mid_y:, filter_mid_z+1:, :, :] = 0.\n",
    "#             mask_filter[filter_mid_x, filter_mid_y+1:, :, :, :] = 0.\n",
    "#             mask_filter[filter_mid_x+1:, :, :, :, :] = 0.\n",
    "\n",
    "#             if mask == 'a':\n",
    "#                 mask_filter[filter_mid_x, filter_mid_y, filter_mid_z, :, :] = 0.\n",
    "                \n",
    "#         W = W*mask_filter \n",
    "# #         W *= mask_filter\n",
    "# #         W.assign(W * mask_filter)\n",
    "#     return W\n",
    "\n",
    "# def get_bias(shape, name):\n",
    "#     return tf.get_variable(name, shape, tf.float32, tf.zeros_initializer)\n",
    "\n",
    "# def conv_op3d(x, W):\n",
    "#     return tf.nn.conv3d(x, W, strides=[1,1,1,1,1], padding='SAME')\n",
    "\n",
    "\n",
    "\n",
    "# class GatedCNN():\n",
    "#     def __init__(self, W_shape, fan_in, orientation, gated=True, payload=None, mask=None, \n",
    "#                  activation=True, conditional=None, conditional_image=None, cfilter_size=1):\n",
    "#         self.fan_in = fan_in\n",
    "#         in_dim = self.fan_in.get_shape()[-1]\n",
    "#         self.W_shape = [W_shape[0], W_shape[1], W_shape[2], in_dim, W_shape[3]]  \n",
    "#         self.b_shape = W_shape[3]\n",
    "\n",
    "#         self.in_dim = in_dim\n",
    "#         self.payload = payload\n",
    "#         self.mask = mask\n",
    "#         self.activation = activation\n",
    "#         self.conditional = conditional\n",
    "#         self.conditional_image = conditional_image\n",
    "#         self.orientation = orientation\n",
    "#         self.cfilter_size = cfilter_size\n",
    "        \n",
    "#         if gated:\n",
    "#             self.gated_conv()\n",
    "#         else:\n",
    "#             self.simple_conv()\n",
    "\n",
    "\n",
    "#     def gated_conv(self):\n",
    "#         W_f = get_weights3d(self.W_shape, \"v_W\", self.orientation, mask=self.mask)\n",
    "#         W_g = get_weights3d(self.W_shape, \"h_W\", self.orientation, mask=self.mask)\n",
    "\n",
    "#         b_f_total = get_bias(self.b_shape, \"v_b\")\n",
    "#         b_g_total = get_bias(self.b_shape, \"h_b\")\n",
    "\n",
    "#         if self.conditional_image is not None:\n",
    "#             V_f = tf.layers.conv3d(self.conditional_image, self.in_dim, self.cfilter_size, \n",
    "#                                    padding='same', use_bias=False, name=\"ci_f\")\n",
    "#             V_g = tf.layers.conv3d(self.conditional_image, self.in_dim, self.cfilter_size, \n",
    "#                                    padding='same', use_bias=False, name=\"ci_g\")\n",
    "#             b_f_total = b_f_total + V_f\n",
    "#             b_g_total = b_g_total + V_g\n",
    "            \n",
    "#         conv_f = conv_op3d(self.fan_in, W_f)\n",
    "#         conv_g = conv_op3d(self.fan_in, W_g)\n",
    "       \n",
    "#         if self.payload is not None:\n",
    "#             conv_f += self.payload\n",
    "#             conv_g += self.payload\n",
    "\n",
    "#         self.fan_out = tf.multiply(tf.tanh(conv_f + b_f_total), tf.sigmoid(conv_g + b_g_total))\n",
    "# #         self.fan_out = conv_f + b_f_total\n",
    "        \n",
    "        \n",
    "\n",
    "#     def simple_conv(self):\n",
    "#         W = get_weights3d(self.W_shape, \"W\", self.orientation, mask_mode=\"standard\", mask=self.mask)\n",
    "#         b = get_bias(self.b_shape, \"b\")\n",
    "#         conv = conv_op3d(self.fan_in, W)\n",
    "#         if self.activation: \n",
    "#             self.fan_out = tf.nn.leaky_relu(tf.add(conv, b))\n",
    "#         else:\n",
    "#             self.fan_out = tf.add(conv, b)\n",
    "\n",
    "#     def output(self):\n",
    "#         return self.fan_out \n",
    "\n",
    "\n",
    "# class PixelCNN3D(object):\n",
    "#     def __init__(self, X, full_horizontal=True, h=None):\n",
    "#         self.X = X\n",
    "#         self.X_norm = X\n",
    "#         v_stack_in, h_stack_in, d_stack_in = self.X_norm, self.X_norm, self.X_norm\n",
    "#         self.h = None\n",
    "#         self.im = None #X*0 + 1e-1*np.e\n",
    "#         nlayers = 5\n",
    "#         f_map = 8\n",
    "        \n",
    "#         for i in range(nlayers):\n",
    "#             filter_size = 3 if i > 0 else 3\n",
    "#             mask = 'b' if i > 0 else 'a'\n",
    "#             residual = True if i > 0 else False\n",
    "#             i = str(i)\n",
    "#             with tf.variable_scope(\"d_stack\"+i):\n",
    "#                 d_stack = GatedCNN([filter_size, filter_size, filter_size, f_map], \n",
    "#                                    d_stack_in, 0, mask=mask, \n",
    "#                                    conditional=self.h, conditional_image=self.im).output()\n",
    "#                 d_stack_in = d_stack\n",
    "\n",
    "#             with tf.variable_scope(\"d_stack_1\"+i):\n",
    "#                 d_stack_1 = GatedCNN([1, 1, 1, f_map], \n",
    "#                                      d_stack_in, 0, gated=False, mask=None).output()\n",
    "\n",
    "#             with tf.variable_scope(\"v_stack\"+i):\n",
    "#                 v_stack = GatedCNN([filter_size, filter_size, filter_size, f_map], \n",
    "#                                    v_stack_in, 1, payload = d_stack_1, mask=mask, \n",
    "#                                    conditional=self.h, conditional_image=self.im).output()\n",
    "#                 v_stack_in = v_stack\n",
    "\n",
    "#             with tf.variable_scope(\"v_stack_1\"+i):\n",
    "#                 v_stack_1 = GatedCNN([1, 1, 1, f_map], \n",
    "#                                      v_stack_in, 1, gated=False, mask=None).output()\n",
    "                \n",
    "#             with tf.variable_scope(\"h_stack\"+i):\n",
    "#                 f0size = filter_size if full_horizontal else 1\n",
    "#                 h_stack = GatedCNN([f0size, filter_size, filter_size, f_map], \n",
    "#                                    h_stack_in, 2, payload=v_stack_1, mask=mask, \n",
    "#                                    conditional=self.h, conditional_image=self.im).output()\n",
    "\n",
    "#             with tf.variable_scope(\"h_stack_1\"+i):\n",
    "#                 h_stack_1 = GatedCNN([1, 1, 1, f_map],\n",
    "#                                      h_stack, 2, gated=False, mask=None).output()\n",
    "#                 if residual:\n",
    "#                     h_stack_1 += h_stack_in # Residual connection\n",
    "#                 h_stack_in = h_stack_1\n",
    "\n",
    "        \n",
    "#         with tf.variable_scope(\"fc_1\"):\n",
    "#             fc1 = GatedCNN([1, 1, 1, f_map], h_stack_in, orientation=None, gated=False, mask='b').output()\n",
    "\n",
    "#         with tf.variable_scope(\"fc_2\"):\n",
    "#             self.fc2 = GatedCNN([1, 1, 1, 1], fc1, orientation=None, gated=False, mask='b', activation=False).output()\n",
    "#         self.loss = tf.reduce_mean(tf.nn.sigmoid_cross_entropy_with_logits(logits=self.fc2, labels=self.X))\n",
    "#         self.pred = tf.nn.sigmoid(self.fc2)\n",
    "\n",
    "        \n",
    "        \n",
    "# ### Model                                                                                                                       \n",
    "# def PixelCNN3Dlayer(i, X, f_map=8, full_horizontal=True, h=None, filter_size=None, \n",
    "#                     conditional=None, conditional_im=None, cfilter_size=None):\n",
    "\n",
    "#     if len(X) == 1:\n",
    "#         X_norm = X[0]\n",
    "#         d_stack_in, v_stack_in, h_stack_in = X_norm, X_norm, X_norm\n",
    "#     else:\n",
    "#         d_stack_in, v_stack_in, h_stack_in = X\n",
    "\n",
    "#     if filter_size is None:\n",
    "#         filter_size = 3 if i > 0 else 5\n",
    "#     if cfilter_size is None:\n",
    "#         cfilter_size = filter_size\n",
    "#     mask = 'b' if i > 0 else 'a'\n",
    "#     residual = True if i > 0 else False\n",
    "#     i = str(i)\n",
    "#     with tf.variable_scope(\"d_stack\"+i):\n",
    "#         d_stack = GatedCNN([filter_size, filter_size, filter_size, f_map], \n",
    "#                            d_stack_in, 0, mask=mask, conditional=conditional, \n",
    "#                            conditional_image=conditional_im, cfilter_size=cfilter_size).output()\n",
    "        \n",
    "#         d_stack_in = d_stack\n",
    "\n",
    "#     with tf.variable_scope(\"d_stack_1\"+i):\n",
    "#         d_stack_1 = GatedCNN([1, 1, 1, f_map], \n",
    "#                              d_stack_in, 0, gated=False, mask=None).output()\n",
    "\n",
    "#     with tf.variable_scope(\"v_stack\"+i):\n",
    "#         v_stack = GatedCNN([filter_size, filter_size, filter_size, f_map], \n",
    "#                            v_stack_in, 1, payload = d_stack_1, mask=mask, conditional=conditional, \n",
    "#                            conditional_image=conditional_im, cfilter_size=cfilter_size).output()\n",
    "#         v_stack_in = v_stack\n",
    "\n",
    "#     with tf.variable_scope(\"v_stack_1\"+i):\n",
    "#         v_stack_1 = GatedCNN([1, 1, 1, f_map], \n",
    "#                              v_stack_in, 1, gated=False, mask=None).output()\n",
    "\n",
    "#     with tf.variable_scope(\"h_stack\"+i):\n",
    "#         f0size = filter_size if full_horizontal else 1\n",
    "#         h_stack = GatedCNN([f0size, filter_size, filter_size, f_map], \n",
    "#                            h_stack_in, 2, payload=v_stack_1, mask=mask, conditional=conditional, \n",
    "#                            conditional_image=conditional_im, cfilter_size=cfilter_size).output()\n",
    "\n",
    "#     with tf.variable_scope(\"h_stack_1\"+i):\n",
    "#         h_stack_1 = GatedCNN([1, 1, 1, f_map],\n",
    "#                              h_stack, 2, gated=False, mask=None).output()\n",
    "#         if residual:\n",
    "#             h_stack_1 += h_stack_in # Residual connection\n",
    "#         h_stack_in = h_stack_1\n",
    "\n",
    "\n",
    "#     return d_stack_in, v_stack_in, h_stack_in"
   ]
  },
  {
   "cell_type": "code",
   "execution_count": 9,
   "metadata": {},
   "outputs": [],
   "source": [
    "tmp = [1, 3, 44, 21, 4]\n"
   ]
  },
  {
   "cell_type": "code",
   "execution_count": 10,
   "metadata": {},
   "outputs": [
    {
     "data": {
      "text/plain": [
       "4"
      ]
     },
     "execution_count": 10,
     "metadata": {},
     "output_type": "execute_result"
    }
   ],
   "source": [
    "tmp.pop()"
   ]
  },
  {
   "cell_type": "code",
   "execution_count": 13,
   "metadata": {},
   "outputs": [],
   "source": [
    "# tf.reset_default_graph()\n",
    "\n",
    "# W = tf.get_variable('w', (3,3, 1, 1), tf.float32)\n",
    "# X = tf.get_variable('x', (1, 8, 8, 1), tf.float32)\n",
    "# Y = tf.nn.conv2d(X, W, [1,1,1,1], 'SAME')\n",
    "# Z = tf.nn.conv2d(X, W, [1,2,2,1], 'SAME')\n",
    "\n",
    "# stride = [1, 2, 2, 1]\n",
    "# filter_size = list(map(int, W.get_shape()))\n",
    "# num_filters = 1\n",
    "# xs = list(map(int, Z.get_shape()))\n",
    "# print(xs)\n",
    "# target_shape = [xs[0], xs[1]*stride[1], xs[2]*stride[2], 1]\n",
    "# print(target_shape)\n",
    "# # target_shape = [xs[0], xs[1]*stride[0] + filter_size[0]-1, xs[2]*stride[1] + filter_size[1]-1, num_filters]\n",
    "# X2 = tf.nn.conv2d_transpose(Z, W, target_shape, stride, 'SAME')\n",
    "# # X2 = tf.nn.conv2d_transpose(Z, W, strides= stride, padding='SAME')\n",
    "\n",
    "\n",
    "# with tf.Session() as sess:\n",
    "#     sess.run(tf.initializers.global_variables())\n",
    "#     print(sess.run(X).shape)\n",
    "#     print(sess.run(Y).shape)\n",
    "#     print(sess.run(Z).shape)\n",
    "#     print(sess.run(X2).shape)"
   ]
  },
  {
   "cell_type": "code",
   "execution_count": 9,
   "metadata": {},
   "outputs": [],
   "source": [
    "\n",
    "# def pixelcnnmodel(X, Y=None, nlayers=2, cfilter_size=None, f_map=1, dnsample=0):\n",
    "#     \"\"\"                                                                                                                     \n",
    "#     Function building the module                                                                                            \n",
    "#     \"\"\"\n",
    "\n",
    "#     conditional_im = Y\n",
    "#     ul = [[X]]\n",
    "# #     i=0\n",
    "# #     ul.append(PixelCNN3Dlayer(0, ul[0], f_map=f_map, full_horizontal=True, h=None, \n",
    "# #                             conditional_im=conditional_im, cfilter_size=cfilter_size, debug=True))\n",
    "# #     ul.append(PixelCNN3Dlayer_dn(1, ul[1], filter_size=1))\n",
    "# #     ul.append(PixelCNN3Dlayer_up(2, ul[2], filter_size=1))\n",
    "\n",
    "#     count = len(ul)-1\n",
    "#     for i in range(count, count+1):\n",
    "#         ul.append(PixelCNN3Dlayer(i, ul[i], f_map=f_map, full_horizontal=True, h=None, \n",
    "#                             conditional_im=conditional_im, cfilter_size=cfilter_size, debug=True))\n",
    "    \n",
    "#     print(ul[-1])\n",
    "# #     ul.append(PixelCNN3Dlayer_dn(i, ul[i+1]))\n",
    "#     count = len(ul)-1\n",
    "#     for i in range(count, count+1):\n",
    "#         ul.append(PixelCNN3Dlayer(i, ul[i], f_map=f_map, full_horizontal=True, h=None, \n",
    "#                             conditional_im=conditional_im, cfilter_size=cfilter_size, debug=True))\n",
    "            \n",
    "#     print(ul[-1])\n",
    "# #     ul.append(PixelCNN3Dlayer_up(i, ul[-1]))\n",
    "#     count = len(ul)-1\n",
    "#     for i in range(count, count+1):\n",
    "#         ul.append(PixelCNN3Dlayer(i, ul[i], f_map=f_map, full_horizontal=True, h=None, \n",
    "#                            conditional_im=conditional_im, cfilter_size=cfilter_size, debug=True))\n",
    "\n",
    "\n",
    "#     print(ul[-1])    \n",
    "#     h_stack_in = ul[-1][-1]\n",
    "#     with tf.variable_scope(\"fc_1\"):\n",
    "#         fc1 = GatedCNN([1, 1, 1, f_map], h_stack_in, orientation=None, gated=False, mask='b').output()\n",
    "\n",
    "#     with tf.variable_scope(\"fc_2\"):\n",
    "#         fc2 = GatedCNN([1, 1, 1, 1], fc1, orientation=None, gated=False, mask='b', activation=False).output()\n",
    "#     return fc2\n",
    "# #     self.loss = tf.reduce_mean(tf.nn.sigmoid_cross_entropy_with_logits(logits=self.fc2, labels=self.X))\n",
    "# #     self.pred = tf.nn.sigmoid(self.fc2)\n"
   ]
  },
  {
   "cell_type": "code",
   "execution_count": null,
   "metadata": {},
   "outputs": [],
   "source": [
    "#         cfsize = fsize\n",
    "#         d1 = wide_resnet(d00, cfsize, activation_fn=tf.nn.leaky_relu)\n",
    "#         d2 = wide_resnet(d1, cfsize, activation_fn=tf.nn.leaky_relu)\n",
    "#         dd = [d2]\n",
    "#         for i in range(nsub):\n",
    "#             cfsize *= 2\n",
    "#             print(i, cfsize)\n",
    "#             dsub = slim.max_pool3d(dd[-1], kernel_size=3, stride=2, padding='SAME')\n",
    "#             d1 = wide_resnet(dsub, cfsize, activation_fn=tf.nn.leaky_relu)\n",
    "#             d2 = wide_resnet(d1, cfsize, activation_fn=tf.nn.leaky_relu)\n",
    "#             dd.append(d2)\n",
    "\n",
    "#         print(len(dd))\n",
    "#         #upsample                                                                                         \n",
    "#         usub =  dd.pop()\n",
    "#         for i in range(nsub):\n",
    "#             u0 = dynamic_deconv3d('up%d'%i, usub, shape=[3,3,3,cfsize], activation=tf.identity)\n",
    "#             cfsize = cfsize // 2\n",
    "#             print(i, cfsize)\n",
    "#             u0 = slim.conv3d(u0, cfsize, 1, activation_fn=tf.identity, padding='same')\n",
    "#             #u0 = slim.conv3d_transpose(usub, fsize, kernel_size=3, stride=2)                             \n",
    "#             uc = tf.concat([u0, dd.pop()], axis=-1)\n",
    "#             u1 = wide_resnet(uc, cfsize, activation_fn=tf.nn.leaky_relu)\n",
    "#             u2 = wide_resnet(u1, cfsize, activation_fn=tf.nn.leaky_relu)\n",
    "#             usub = u2\n",
    "\n",
    "#         print(len(dd))\n",
    "#         net = slim.conv3d(usub, 1, 3, activation_fn=tf.nn.tanh)\n"
   ]
  },
  {
   "cell_type": "code",
   "execution_count": 154,
   "metadata": {},
   "outputs": [],
   "source": [
    "\n",
    "def pixelcnnmodel(X, Y=None, nlayers=2, cfilter_size=None, f_map=1, nsub=0):\n",
    "    \"\"\"                                                                                                                     \n",
    "    Function building the module                                                                                            \n",
    "    \"\"\"\n",
    "\n",
    "    conditional_im = Y\n",
    "    dl = [[X]]\n",
    "    dres = []\n",
    "    ilayer = 0\n",
    "#     count = len(dl)-1\n",
    "    for i in range(nlayers):\n",
    "        dl.append(PixelCNN3Dlayer(ilayer, dl[i], f_map=f_map, full_horizontal=True, h=None, \n",
    "                            conditional_im=conditional_im, cfilter_size=cfilter_size, debug=True))\n",
    "        ilayer +=1 \n",
    "        \n",
    "    dres.append(dl[-1])\n",
    "    print(dl[-1])    \n",
    "    for n in range(nsub):\n",
    "        dl.append(PixelCNN3Dlayer_dn(i, dl[-1]))\n",
    "        print(dl[-1])    \n",
    "        for i in range(nlayers):\n",
    "            dl.append(PixelCNN3Dlayer(ilayer, dl[-1], f_map=f_map, full_horizontal=True, h=None, \n",
    "                            conditional_im=conditional_im, cfilter_size=cfilter_size, debug=True))\n",
    "            ilayer += 1\n",
    "        dres.append(dl[-1])\n",
    "        print(dl[-1])    \n",
    "\n",
    "    print(len(dl))\n",
    "    print(dl[-1])    \n",
    "    ul = [dres.pop()]\n",
    "    print(ul[-1])\n",
    "\n",
    "    for n in range(nsub):\n",
    "        ul.append(PixelCNN3Dlayer_up(i, ul[-1]))\n",
    "        ul.append(PixelCNN3Dlayer(ilayer, ul[-1], f_map=f_map, full_horizontal=True, h=None, \n",
    "                            conditional_im=conditional_im, cfilter_size=cfilter_size, debug=True, \n",
    "                                  gated=False, filter_size=1))\n",
    "        ilayer +=1 \n",
    "        dcat = dres.pop()\n",
    "        ul.append([tf.concat([ul[-1][j], dcat[j]], axis=-1) for j in range(3)])\n",
    "        \n",
    "        print(ul[-1])\n",
    "        for i in range(nlayers):\n",
    "            ul.append(PixelCNN3Dlayer(ilayer, ul[-1], f_map=f_map, full_horizontal=True, h=None, \n",
    "                            conditional_im=conditional_im, cfilter_size=cfilter_size, debug=True))\n",
    "            ilayer +=1\n",
    "        \n",
    "            \n",
    "        print(ul[-1])\n",
    "    \n",
    "    print('No of layers : ', ilayer)\n",
    "    print(ul[-1])    \n",
    "    h_stack_in = ul[-1][-1]\n",
    "    print(h_stack_in)\n",
    "    with tf.variable_scope(\"fc_1\"):\n",
    "        fc1 = GatedCNN([1, 1, 1, f_map], h_stack_in, orientation=None, gated=False, mask='b').output()\n",
    "\n",
    "    with tf.variable_scope(\"fc_2\"):\n",
    "        fc2 = GatedCNN([1, 1, 1, 1], fc1, orientation=None, gated=False, mask='b', activation=False).output()\n",
    "    return fc2\n",
    "#     self.loss = tf.reduce_mean(tf.nn.sigmoid_cross_entropy_with_logits(logits=self.fc2, labels=self.X))\n",
    "#     self.pred = tf.nn.sigmoid(self.fc2)\n"
   ]
  },
  {
   "cell_type": "code",
   "execution_count": 166,
   "metadata": {},
   "outputs": [
    {
     "name": "stdout",
     "output_type": "stream",
     "text": [
      "(<tf.Tensor 'd_stack1/add:0' shape=(1, 16, 16, 16, 1) dtype=float32>, <tf.Tensor 'v_stack1/add_2:0' shape=(1, 16, 16, 16, 1) dtype=float32>, <tf.Tensor 'h_stack_11/add_1:0' shape=(1, 16, 16, 16, 1) dtype=float32>)\n",
      "(<tf.Tensor 'strided_slice:0' shape=(1, 8, 8, 8, 1) dtype=float32>, <tf.Tensor 'strided_slice_2:0' shape=(1, 8, 8, 8, 1) dtype=float32>, <tf.Tensor 'strided_slice_1:0' shape=(1, 8, 8, 8, 1) dtype=float32>)\n",
      "(<tf.Tensor 'd_stack3/add:0' shape=(1, 8, 8, 8, 1) dtype=float32>, <tf.Tensor 'v_stack3/add_2:0' shape=(1, 8, 8, 8, 1) dtype=float32>, <tf.Tensor 'h_stack_13/add_1:0' shape=(1, 8, 8, 8, 1) dtype=float32>)\n",
      "(<tf.Tensor 'strided_slice_3:0' shape=(1, 4, 4, 4, 1) dtype=float32>, <tf.Tensor 'strided_slice_5:0' shape=(1, 4, 4, 4, 1) dtype=float32>, <tf.Tensor 'strided_slice_4:0' shape=(1, 4, 4, 4, 1) dtype=float32>)\n",
      "(<tf.Tensor 'd_stack5/add:0' shape=(1, 4, 4, 4, 1) dtype=float32>, <tf.Tensor 'v_stack5/add_2:0' shape=(1, 4, 4, 4, 1) dtype=float32>, <tf.Tensor 'h_stack_15/add_1:0' shape=(1, 4, 4, 4, 1) dtype=float32>)\n",
      "9\n",
      "(<tf.Tensor 'd_stack5/add:0' shape=(1, 4, 4, 4, 1) dtype=float32>, <tf.Tensor 'v_stack5/add_2:0' shape=(1, 4, 4, 4, 1) dtype=float32>, <tf.Tensor 'h_stack_15/add_1:0' shape=(1, 4, 4, 4, 1) dtype=float32>)\n",
      "(<tf.Tensor 'd_stack5/add:0' shape=(1, 4, 4, 4, 1) dtype=float32>, <tf.Tensor 'v_stack5/add_2:0' shape=(1, 4, 4, 4, 1) dtype=float32>, <tf.Tensor 'h_stack_15/add_1:0' shape=(1, 4, 4, 4, 1) dtype=float32>)\n",
      "[<tf.Tensor 'concat:0' shape=(1, 8, 8, 8, 2) dtype=float32>, <tf.Tensor 'concat_1:0' shape=(1, 8, 8, 8, 2) dtype=float32>, <tf.Tensor 'concat_2:0' shape=(1, 8, 8, 8, 2) dtype=float32>]\n",
      "(<tf.Tensor 'd_stack8/add:0' shape=(1, 8, 8, 8, 1) dtype=float32>, <tf.Tensor 'v_stack8/add_2:0' shape=(1, 8, 8, 8, 1) dtype=float32>, <tf.Tensor 'h_stack_18/add_1:0' shape=(1, 8, 8, 8, 2) dtype=float32>)\n",
      "[<tf.Tensor 'concat_3:0' shape=(1, 16, 16, 16, 2) dtype=float32>, <tf.Tensor 'concat_4:0' shape=(1, 16, 16, 16, 2) dtype=float32>, <tf.Tensor 'concat_5:0' shape=(1, 16, 16, 16, 3) dtype=float32>]\n",
      "(<tf.Tensor 'd_stack11/add:0' shape=(1, 16, 16, 16, 1) dtype=float32>, <tf.Tensor 'v_stack11/add_2:0' shape=(1, 16, 16, 16, 1) dtype=float32>, <tf.Tensor 'h_stack_111/add_1:0' shape=(1, 16, 16, 16, 3) dtype=float32>)\n",
      "No of layers :  12\n",
      "(<tf.Tensor 'd_stack11/add:0' shape=(1, 16, 16, 16, 1) dtype=float32>, <tf.Tensor 'v_stack11/add_2:0' shape=(1, 16, 16, 16, 1) dtype=float32>, <tf.Tensor 'h_stack_111/add_1:0' shape=(1, 16, 16, 16, 3) dtype=float32>)\n",
      "Tensor(\"h_stack_111/add_1:0\", shape=(1, 16, 16, 16, 3), dtype=float32)\n"
     ]
    },
    {
     "data": {
      "image/png": "[encoded data removed]",
      "text/plain": [
       "<Figure size 1080x288 with 16 Axes>"
      ]
     },
     "metadata": {
      "needs_background": "light"
     },
     "output_type": "display_data"
    },
    {
     "data": {
      "image/png": "[encoded data removed]",
      "text/plain": [
       "<Figure size 1080x288 with 16 Axes>"
      ]
     },
     "metadata": {
      "needs_background": "light"
     },
     "output_type": "display_data"
    },
    {
     "data": {
      "image/png": "[encoded data removed]",
      "text/plain": [
       "<Figure size 1080x288 with 16 Axes>"
      ]
     },
     "metadata": {
      "needs_background": "light"
     },
     "output_type": "display_data"
    }
   ],
   "source": [
    "tf.reset_default_graph()\n",
    "hsize, wsize, dsize = 16, 16, 16\n",
    "X = tf.placeholder(tf.float32, shape=[1, hsize, wsize, dsize, 1])\n",
    "pix3d = pixelcnnmodel(X, nlayers=2, nsub=2)\n",
    "# pix3d = pixelcnnmodel(X, nlayers=5, nsub=0)\n",
    "\n",
    "\n",
    "preds = []\n",
    "with tf.Session() as sess:\n",
    "    sess.run(tf.initializers.global_variables())\n",
    "    \n",
    "    index = np.arange(hsize*wsize*dsize).reshape(hsize, wsize, dsize)\n",
    "    xx = np.ones_like(index)*0.1\n",
    "#     xx = index.copy()\n",
    "\n",
    "    xx5 = xx.reshape(1, hsize, wsize, dsize, 1)\n",
    "    pred0 = sess.run(tf.squeeze(pix3d), {X:xx5})\n",
    "\n",
    "#     print(pred0)\n",
    "    for ii, jj, kk in [[0, 3, 0], [1, 1, 1], [2, 3, 1]]:\n",
    "        xxn = xx5.copy()\n",
    "        xxn[0, ii, jj, kk, 0] = -np.pi*np.e \n",
    "        preds2 = sess.run(tf.squeeze(pix3d), {X:xxn})\n",
    "        diff = (pred0 - preds2).astype(bool)\n",
    "\n",
    "        fig, axar = plt.subplots(1, hsize, figsize = (15, 4), sharex=True, sharey=True)\n",
    "        for i in range(hsize):\n",
    "#             plt.subplot(1, hsize, i+1)\n",
    "            \n",
    "            axar[i].imshow(diff[i], vmin=0, vmax=1)\n",
    "            for ax in plt.gcf().axes: ax.set_yticks(np.arange(hsize))\n",
    "            for ax in plt.gcf().axes: ax.set_xticks(np.arange(hsize))\n",
    "            axar[i].grid()\n",
    "            if i == ii:\n",
    "                axar[i].axhline(jj, color='r')\n",
    "                axar[i].axvline(kk, color='r')    "
   ]
  },
  {
   "cell_type": "code",
   "execution_count": 158,
   "metadata": {},
   "outputs": [
    {
     "name": "stdout",
     "output_type": "stream",
     "text": [
      "(<tf.Tensor 'd_stack1/add:0' shape=(1, 8, 8, 8, 1) dtype=float32>, <tf.Tensor 'v_stack1/add_2:0' shape=(1, 8, 8, 8, 1) dtype=float32>, <tf.Tensor 'h_stack_11/add_1:0' shape=(1, 8, 8, 8, 1) dtype=float32>)\n",
      "(<tf.Tensor 'strided_slice:0' shape=(1, 4, 4, 4, 1) dtype=float32>, <tf.Tensor 'strided_slice_2:0' shape=(1, 4, 4, 4, 1) dtype=float32>, <tf.Tensor 'strided_slice_1:0' shape=(1, 4, 4, 4, 1) dtype=float32>)\n",
      "(<tf.Tensor 'd_stack3/add:0' shape=(1, 4, 4, 4, 1) dtype=float32>, <tf.Tensor 'v_stack3/add_2:0' shape=(1, 4, 4, 4, 1) dtype=float32>, <tf.Tensor 'h_stack_13/add_1:0' shape=(1, 4, 4, 4, 1) dtype=float32>)\n",
      "(<tf.Tensor 'strided_slice_3:0' shape=(1, 2, 2, 2, 1) dtype=float32>, <tf.Tensor 'strided_slice_5:0' shape=(1, 2, 2, 2, 1) dtype=float32>, <tf.Tensor 'strided_slice_4:0' shape=(1, 2, 2, 2, 1) dtype=float32>)\n",
      "(<tf.Tensor 'd_stack5/add:0' shape=(1, 2, 2, 2, 1) dtype=float32>, <tf.Tensor 'v_stack5/add_2:0' shape=(1, 2, 2, 2, 1) dtype=float32>, <tf.Tensor 'h_stack_15/add_1:0' shape=(1, 2, 2, 2, 1) dtype=float32>)\n",
      "9\n",
      "(<tf.Tensor 'd_stack5/add:0' shape=(1, 2, 2, 2, 1) dtype=float32>, <tf.Tensor 'v_stack5/add_2:0' shape=(1, 2, 2, 2, 1) dtype=float32>, <tf.Tensor 'h_stack_15/add_1:0' shape=(1, 2, 2, 2, 1) dtype=float32>)\n",
      "(<tf.Tensor 'd_stack5/add:0' shape=(1, 2, 2, 2, 1) dtype=float32>, <tf.Tensor 'v_stack5/add_2:0' shape=(1, 2, 2, 2, 1) dtype=float32>, <tf.Tensor 'h_stack_15/add_1:0' shape=(1, 2, 2, 2, 1) dtype=float32>)\n",
      "[<tf.Tensor 'concat:0' shape=(1, 4, 4, 4, 2) dtype=float32>, <tf.Tensor 'concat_1:0' shape=(1, 4, 4, 4, 2) dtype=float32>, <tf.Tensor 'concat_2:0' shape=(1, 4, 4, 4, 2) dtype=float32>]\n",
      "(<tf.Tensor 'd_stack8/add:0' shape=(1, 4, 4, 4, 1) dtype=float32>, <tf.Tensor 'v_stack8/add_2:0' shape=(1, 4, 4, 4, 1) dtype=float32>, <tf.Tensor 'h_stack_18/add_1:0' shape=(1, 4, 4, 4, 2) dtype=float32>)\n",
      "[<tf.Tensor 'concat_3:0' shape=(1, 8, 8, 8, 2) dtype=float32>, <tf.Tensor 'concat_4:0' shape=(1, 8, 8, 8, 2) dtype=float32>, <tf.Tensor 'concat_5:0' shape=(1, 8, 8, 8, 3) dtype=float32>]\n",
      "(<tf.Tensor 'd_stack11/add:0' shape=(1, 8, 8, 8, 1) dtype=float32>, <tf.Tensor 'v_stack11/add_2:0' shape=(1, 8, 8, 8, 1) dtype=float32>, <tf.Tensor 'h_stack_111/add_1:0' shape=(1, 8, 8, 8, 3) dtype=float32>)\n",
      "No of layers :  12\n",
      "(<tf.Tensor 'd_stack11/add:0' shape=(1, 8, 8, 8, 1) dtype=float32>, <tf.Tensor 'v_stack11/add_2:0' shape=(1, 8, 8, 8, 1) dtype=float32>, <tf.Tensor 'h_stack_111/add_1:0' shape=(1, 8, 8, 8, 3) dtype=float32>)\n",
      "Tensor(\"h_stack_111/add_1:0\", shape=(1, 8, 8, 8, 3), dtype=float32)\n"
     ]
    }
   ],
   "source": [
    "tf.reset_default_graph()\n",
    "hsize, wsize, dsize = 8, 8, 8\n",
    "X = tf.placeholder(tf.float32, shape=[1, hsize, wsize, dsize, 1])\n",
    "pix3d = pixelcnnmodel(X, nlayers=2, nsub=2)\n",
    "# pix3d = pixelcnnmodel(X, nlayers=5, nsub=0)\n",
    "\n",
    "\n",
    "preds = []\n",
    "with tf.Session() as sess:\n",
    "    sess.run(tf.initializers.global_variables())\n",
    "    \n",
    "    index = np.arange(hsize*wsize*dsize).reshape(hsize, wsize, dsize)\n",
    "    xx = np.ones_like(index)*0.1\n",
    "#     xx = index.copy()\n",
    "\n",
    "    xx5 = xx.reshape(1, hsize, wsize, dsize, 1)\n",
    "    pred0 = sess.run(tf.squeeze(pix3d), {X:xx5})\n",
    "\n",
    "#     print(pred0)\n",
    "    for i in range(hsize):\n",
    "        tmp = []\n",
    "        for j in range(wsize):\n",
    "            tmp2 = []\n",
    "            for k in range(dsize):\n",
    "                xxn = xx5.copy()\n",
    "                xxn[0, i, j, k, 0] = -np.pi*np.e \n",
    "                tmp2.append(sess.run(tf.squeeze(pix3d), {X:xxn}))\n",
    "            tmp.append(tmp2)\n",
    "        preds.append(tmp)\n",
    "        \n",
    "preds = np.array(preds)"
   ]
  },
  {
   "cell_type": "code",
   "execution_count": 159,
   "metadata": {},
   "outputs": [
    {
     "name": "stdout",
     "output_type": "stream",
     "text": [
      "0 3 0 24\n",
      "1 1 1 73\n",
      "2 3 1 153\n"
     ]
    },
    {
     "data": {
      "image/png": "[encoded data removed]",
      "text/plain": [
       "<Figure size 1080x288 with 8 Axes>"
      ]
     },
     "metadata": {
      "needs_background": "light"
     },
     "output_type": "display_data"
    },
    {
     "data": {
      "image/png": "[encoded data removed]",
      "text/plain": [
       "<Figure size 1080x288 with 8 Axes>"
      ]
     },
     "metadata": {
      "needs_background": "light"
     },
     "output_type": "display_data"
    },
    {
     "data": {
      "image/png": "[encoded data removed]",
      "text/plain": [
       "<Figure size 1080x288 with 8 Axes>"
      ]
     },
     "metadata": {
      "needs_background": "light"
     },
     "output_type": "display_data"
    }
   ],
   "source": [
    "ii, jj, kk = 0, 3, 0\n",
    "#\n",
    "# ii, jj, kk = np.random.randint(0, hsize, 3)\n",
    "\n",
    "for ii, jj, kk in [[0, 3, 0], [1, 1, 1], [2, 3, 1]]:\n",
    "    print(ii, jj, kk, index[ii, jj, kk])\n",
    "\n",
    "    diff = (pred0 - preds[ii, jj, kk]).astype(bool)\n",
    "\n",
    "    plt.figure(figsize = (15, 4))\n",
    "    for i in range(hsize):\n",
    "        plt.subplot(1, hsize, i+1)\n",
    "        plt.imshow(diff[i], vmin=0, vmax=1)\n",
    "        for ax in plt.gcf().axes: ax.set_yticks(np.arange(hsize))\n",
    "        for ax in plt.gcf().axes: ax.set_xticks(np.arange(hsize))\n",
    "        plt.grid()\n",
    "        if i == ii:\n",
    "            plt.axhline(jj, color='r')\n",
    "            plt.axvline(kk, color='r')"
   ]
  },
  {
   "cell_type": "code",
   "execution_count": 117,
   "metadata": {},
   "outputs": [
    {
     "name": "stdout",
     "output_type": "stream",
     "text": [
      "0 3 0 24\n",
      "1 1 1 73\n",
      "2 3 1 153\n"
     ]
    },
    {
     "data": {
      "image/png": "[encoded data removed]",
      "text/plain": [
       "<Figure size 1080x288 with 8 Axes>"
      ]
     },
     "metadata": {
      "needs_background": "light"
     },
     "output_type": "display_data"
    },
    {
     "data": {
      "image/png": "[encoded data removed]",
      "text/plain": [
       "<Figure size 1080x288 with 8 Axes>"
      ]
     },
     "metadata": {
      "needs_background": "light"
     },
     "output_type": "display_data"
    },
    {
     "data": {
      "image/png": "[encoded data removed]",
      "text/plain": [
       "<Figure size 1080x288 with 8 Axes>"
      ]
     },
     "metadata": {
      "needs_background": "light"
     },
     "output_type": "display_data"
    }
   ],
   "source": [
    "ii, jj, kk = 0, 3, 0\n",
    "#\n",
    "# ii, jj, kk = np.random.randint(0, hsize, 3)\n",
    "\n",
    "for ii, jj, kk in [[0, 3, 0], [1, 1, 1], [2, 3, 1]]:\n",
    "    print(ii, jj, kk, index[ii, jj, kk])\n",
    "\n",
    "    diff = (pred0 - preds[ii, jj, kk]).astype(bool)\n",
    "\n",
    "    plt.figure(figsize = (15, 4))\n",
    "    for i in range(hsize):\n",
    "        plt.subplot(1, hsize, i+1)\n",
    "        plt.imshow(diff[i], vmin=0, vmax=1)\n",
    "        for ax in plt.gcf().axes: ax.set_yticks(np.arange(hsize))\n",
    "        for ax in plt.gcf().axes: ax.set_xticks(np.arange(hsize))\n",
    "        plt.grid()\n",
    "        if i == ii:\n",
    "            plt.axhline(jj, color='r')\n",
    "            plt.axvline(kk, color='r')"
   ]
  },
  {
   "cell_type": "code",
   "execution_count": 113,
   "metadata": {},
   "outputs": [
    {
     "name": "stdout",
     "output_type": "stream",
     "text": [
      "0 3 0 24\n",
      "1 1 1 73\n",
      "2 3 1 153\n"
     ]
    },
    {
     "data": {
      "image/png": "[encoded data removed]",
      "text/plain": [
       "<Figure size 1080x288 with 8 Axes>"
      ]
     },
     "metadata": {
      "needs_background": "light"
     },
     "output_type": "display_data"
    },
    {
     "data": {
      "image/png": "[encoded data removed]",
      "text/plain": [
       "<Figure size 1080x288 with 8 Axes>"
      ]
     },
     "metadata": {
      "needs_background": "light"
     },
     "output_type": "display_data"
    },
    {
     "data": {
      "image/png": "[encoded data removed]",
      "text/plain": [
       "<Figure size 1080x288 with 8 Axes>"
      ]
     },
     "metadata": {
      "needs_background": "light"
     },
     "output_type": "display_data"
    }
   ],
   "source": [
    "ii, jj, kk = 0, 3, 0\n",
    "#\n",
    "# ii, jj, kk = np.random.randint(0, hsize, 3)\n",
    "\n",
    "for ii, jj, kk in [[0, 3, 0], [1, 1, 1], [2, 3, 1]]:\n",
    "    print(ii, jj, kk, index[ii, jj, kk])\n",
    "\n",
    "    diff = (pred0 - preds[ii, jj, kk]).astype(bool)\n",
    "\n",
    "    plt.figure(figsize = (15, 4))\n",
    "    for i in range(hsize):\n",
    "        plt.subplot(1, hsize, i+1)\n",
    "        plt.imshow(diff[i], vmin=0, vmax=1)\n",
    "        for ax in plt.gcf().axes: ax.set_yticks(np.arange(hsize))\n",
    "        for ax in plt.gcf().axes: ax.set_xticks(np.arange(hsize))\n",
    "        plt.grid()\n",
    "        if i == ii:\n",
    "            plt.axhline(jj, color='r')\n",
    "            plt.axvline(kk, color='r')"
   ]
  },
  {
   "cell_type": "code",
   "execution_count": 111,
   "metadata": {},
   "outputs": [
    {
     "name": "stdout",
     "output_type": "stream",
     "text": [
      "2 3 1 153\n"
     ]
    },
    {
     "data": {
      "image/png": "[encoded data removed]",
      "text/plain": [
       "<Figure size 1080x288 with 8 Axes>"
      ]
     },
     "metadata": {
      "needs_background": "light"
     },
     "output_type": "display_data"
    }
   ],
   "source": [
    "ii, jj, kk = 2, 3, 1\n",
    "#\n",
    "# ii, jj, kk = np.random.randint(0, hsize, 3)\n",
    "print(ii, jj, kk, index[ii, jj, kk])\n",
    "\n",
    "diff = (pred0 - preds[ii, jj, kk]).astype(bool)\n",
    "# expect = np.arange(index[ii, jj, kk]+1, index.size, 1)\n",
    "# changed = index[diff]\n",
    "# print(expect.size, changed.size)\n",
    "# print(expect.min(), changed.min())\n",
    "\n",
    "plt.figure(figsize = (15, 4))\n",
    "for i in range(hsize):\n",
    "    plt.subplot(1, hsize, i+1)\n",
    "    plt.imshow(diff[i], vmin=0, vmax=1)\n",
    "    for ax in plt.gcf().axes: ax.set_yticks(np.arange(hsize))\n",
    "    for ax in plt.gcf().axes: ax.set_xticks(np.arange(hsize))\n",
    "    plt.grid()\n",
    "    if i == ii:\n",
    "        plt.axhline(jj, color='r')\n",
    "        plt.axvline(kk, color='r')"
   ]
  },
  {
   "cell_type": "code",
   "execution_count": 46,
   "metadata": {},
   "outputs": [],
   "source": [
    "\n",
    "for ii in range(hsize):\n",
    "    for jj in range(hsize):\n",
    "        for kk in range(hsize):    \n",
    "            diff = (pred0 - preds[ii, jj, kk]).astype(bool)\n",
    "            expect = np.arange(index[ii, jj, kk]+1, index.size, 1)\n",
    "            changed = index[diff]\n",
    "            if len(set(expect) - set(changed)) > 0: print(ii, jj, kk)\n",
    "            if len(set(changed) - set(expect)) > 0: print(ii, jj, kk)\n",
    "    "
   ]
  },
  {
   "cell_type": "code",
   "execution_count": 47,
   "metadata": {},
   "outputs": [
    {
     "data": {
      "text/plain": [
       "[<matplotlib.lines.Line2D at 0x7fa6646c1978>]"
      ]
     },
     "execution_count": 47,
     "metadata": {},
     "output_type": "execute_result"
    },
    {
     "data": {
      "image/png": "[encoded data removed]",
      "text/plain": [
       "<Figure size 432x288 with 1 Axes>"
      ]
     },
     "metadata": {
      "needs_background": "light"
     },
     "output_type": "display_data"
    }
   ],
   "source": [
    "plt.plot(expect, expect, 'o')\n",
    "plt.plot(changed, changed, 'x')"
   ]
  },
  {
   "cell_type": "markdown",
   "metadata": {},
   "source": [
    "# Data"
   ]
  },
  {
   "cell_type": "code",
   "execution_count": 13,
   "metadata": {},
   "outputs": [
    {
     "name": "stdout",
     "output_type": "stream",
     "text": [
      "All the mesh have been generated for seed = 100\n",
      "For size =  8\n",
      "Length of targets =  1\n",
      "Supplemented by rotation :  0\n",
      "For size =  16\n",
      "Length of targets =  1\n",
      "Supplemented by rotation :  0\n",
      "For size =  32\n",
      "Length of targets =  1\n",
      "Supplemented by rotation :  0\n",
      "For size =  64\n",
      "Length of targets =  1\n",
      "Supplemented by rotation :  0\n",
      "For size =  128\n",
      "All the mesh have been generated for seed = 200\n",
      "For size =  8\n",
      "Length of targets =  1\n",
      "Supplemented by rotation :  0\n",
      "For size =  16\n",
      "Length of targets =  1\n",
      "Supplemented by rotation :  0\n",
      "For size =  32\n",
      "Length of targets =  1\n",
      "Supplemented by rotation :  0\n",
      "For size =  64\n",
      "Length of targets =  1\n",
      "Supplemented by rotation :  0\n",
      "For size =  128\n",
      "All the mesh have been generated for seed = 300\n",
      "For size =  8\n",
      "Length of targets =  1\n",
      "Supplemented by rotation :  0\n",
      "For size =  16\n",
      "Length of targets =  1\n",
      "Supplemented by rotation :  0\n",
      "For size =  32\n",
      "Length of targets =  1\n",
      "Supplemented by rotation :  0\n",
      "For size =  64\n",
      "Length of targets =  1\n",
      "Supplemented by rotation :  0\n",
      "For size =  128\n",
      "All the mesh have been generated for seed = 400\n",
      "For size =  8\n",
      "Length of targets =  1\n",
      "Supplemented by rotation :  0\n",
      "For size =  16\n",
      "Length of targets =  1\n",
      "Supplemented by rotation :  0\n",
      "For size =  32\n",
      "Length of targets =  1\n",
      "Supplemented by rotation :  0\n",
      "For size =  64\n",
      "Length of targets =  1\n",
      "Supplemented by rotation :  0\n",
      "For size =  128\n",
      "(1000, 8, 8, 8, 1) (1000, 8, 8, 8, 1)\n",
      "(500, 16, 16, 16, 1) (500, 16, 16, 16, 1)\n",
      "(248, 32, 32, 32, 1) (248, 32, 32, 32, 1)\n",
      "(124, 64, 64, 64, 1) (124, 64, 64, 64, 1)\n",
      "(4, 128, 128, 128, 1) (4, 128, 128, 128, 1)\n"
     ]
    }
   ],
   "source": [
    "#############################\n",
    "seed_in = 3\n",
    "from numpy.random import seed\n",
    "seed(seed_in)\n",
    "from tensorflow import set_random_seed\n",
    "set_random_seed(seed_in)\n",
    "\n",
    "bs = 400\n",
    "nc, ncf = 128, 512\n",
    "ncp = 128\n",
    "step, stepf = 5, 40\n",
    "# path = '/data2/cosmo4d/'\n",
    "path = '../data/z00/'\n",
    "ftype = 'L%04d_N%04d_S%04d_%02dstep/'\n",
    "numd = 1e-3\n",
    "num = int(numd*bs**3)\n",
    "R1 = 3\n",
    "R2 = 3*1.2\n",
    "kny = np.pi*ncp/bs\n",
    "kk = tools.fftk((ncp, ncp, ncp), bs)\n",
    "seeds = [100, 200, 300, 400]\n",
    "\n",
    "cube_sizes = np.array([8, 16, 32, 64, 128])\n",
    "# cube_sizes = np.array([32])\n",
    "num_cubes= 500#(500*8/cube_sizes).astype('int')\n",
    "pad = 0\n",
    "cube_sizesft = cube_sizes + 2*pad\n",
    "max_offset = ncp - cube_sizes\n",
    "ftname = ['cic']\n",
    "nchannels = len(ftname)\n",
    "rprob = 0.5\n",
    "\n",
    "    \n",
    "    \n",
    "#############################\n",
    "##Read data and generate meshes\n",
    "meshes = {}\n",
    "cube_features, cube_target = [[] for i in range(len(cube_sizes))], [[] for i in range(len(cube_sizes))]\n",
    "\n",
    "for seed in seeds:\n",
    "    mesh = {}\n",
    "    partp = tools.readbigfile(path + ftype%(bs, nc, seed, step) + 'dynamic/1/Position/')\n",
    "    mesh['cic'] = tools.paintcic(partp, bs, ncp)\n",
    "\n",
    "    hmesh = {}\n",
    "    ##Uncomment for galaxies\n",
    "#     hpath = path + ftype%(bs, ncf, seed, stepf) + 'galaxies_n05/galcat/'\n",
    "#     hposd = tools.readbigfile(hpath + 'Position/')\n",
    "#     massd = tools.readbigfile(hpath + 'Mass/').reshape(-1)*1e10\n",
    "#     galtype = tools.readbigfile(hpath + 'gal_type/').reshape(-1).astype(bool)\n",
    "#     hmesh['pnnsat'] = tools.paintnn(hposd[galtype], bs, ncp)\n",
    "#     hmesh['pnncen'] = tools.paintnn(hposd[~galtype], bs, ncp)\n",
    "#     hmesh['pnn'] = tools.paintnn(hposd, bs, ncp)\n",
    "#     targetmesh = [hmesh['pnncen'], hmesh['pnnsat']]\n",
    "    \n",
    "    hposall = tools.readbigfile(path + ftype%(bs, ncf, seed, stepf) + 'FOF/PeakPosition/')[1:]    \n",
    "    hposd = hposall[:num].copy()\n",
    "#     massd = massall[:num].copy()\n",
    "    hmesh['pnn'] = tools.paintnn(hposd, bs, ncp)\n",
    "    targetmesh = [hmesh['pnn']]\n",
    "#     #hmesh['pcic'] = tools.paintcic(hposd, bs, nc)\n",
    "#     #hmesh['mnn'] = tools.paintnn(hposd, bs, ncp, massd)\n",
    "\n",
    "    meshes[seed] = [mesh, hmesh]\n",
    "\n",
    "    print('All the mesh have been generated for seed = %d'%seed)\n",
    "\n",
    "    #Create training voxels\n",
    "    ftlist = [mesh[i].copy() for i in ftname]\n",
    "    ftlistpad = [np.pad(i, pad, 'wrap') for i in ftlist]\n",
    "    ntarget = len(targetmesh)\n",
    "\n",
    "    for i, size in enumerate(cube_sizes):\n",
    "        print('For size = ', size)\n",
    "        if size==nc:\n",
    "            features = [np.stack(ftlistpad, axis=-1)]\n",
    "            target = [np.stack(targetmesh, axis=-1)]\n",
    "        else:\n",
    "            numcubes = int(num_cubes/size*4)\n",
    "            features, target = dtools.randomvoxels(ftlistpad, targetmesh, numcubes, max_offset[i],\n",
    "                                            size, cube_sizesft[i], seed=seed, rprob=0)\n",
    "        cube_features[i] = cube_features[i] + features\n",
    "        cube_target[i] = cube_target[i] + target\n",
    "\n",
    "# #\n",
    "for i in range(cube_sizes.size):\n",
    "    cube_target[i] = np.stack(cube_target[i],axis=0)\n",
    "    cube_features[i] = np.stack(cube_features[i],axis=0)\n",
    "    print(cube_features[i].shape, cube_target[i].shape)\n",
    "\n",
    "    \n"
   ]
  },
  {
   "cell_type": "code",
   "execution_count": 14,
   "metadata": {},
   "outputs": [
    {
     "data": {
      "text/plain": [
       "3"
      ]
     },
     "execution_count": 14,
     "metadata": {},
     "output_type": "execute_result"
    }
   ],
   "source": [
    "np.random.choice(len(cube_sizes), 1, replace=True)[0]"
   ]
  },
  {
   "cell_type": "code",
   "execution_count": 15,
   "metadata": {},
   "outputs": [],
   "source": [
    "batch_size=64\n",
    "rprob = 0.5\n",
    "\n",
    "def mapping_function(inds):\n",
    "    def extract_batch(inds):\n",
    "        #isize = np.random.choice(len(cube_sizes), 1, replace=True)[0]\n",
    "        isize = 2\n",
    "        batch = int(batch_size*8/cube_sizes[isize])\n",
    "        if cube_sizes[isize]==nc : batch = 1\n",
    "        inds = inds[:batch]\n",
    "        trainingsize = cube_features[isize].shape[0]\n",
    "        inds[inds >= trainingsize] =  (inds[inds >= trainingsize])%trainingsize\n",
    "\n",
    "        features = cube_features[isize][inds].astype('float32')\n",
    "        targets = cube_target[isize][inds].astype('float32')\n",
    "\n",
    "        for i in range(batch):\n",
    "            nrotations=0\n",
    "            while (np.random.random() < rprob) & (nrotations < 3):\n",
    "                nrot, ax0, ax1 = np.random.randint(0, 3), *np.random.permutation((0, 1, 2))[:2]\n",
    "                features[i] = np.rot90(features[i], nrot, (ax0, ax1))\n",
    "                targets[i] = np.rot90(targets[i], nrot, (ax0, ax1))\n",
    "                nrotations +=1\n",
    "    #         masks = np.clip(targets, 0, 1)\n",
    "    #         targets = np.concatenate((targets, masks), axis=-1)\n",
    "    #         print(targets.shape)\n",
    "#         return features, targets\n",
    "        return targets, features\n",
    "\n",
    "    ft, tg = tf.py_func(extract_batch, [inds],\n",
    "                        [tf.float32, tf.float32])\n",
    "    return ft, tg\n",
    "\n",
    "\n",
    "def training_input_fn():\n",
    "    \"\"\"Serving input fn for training data\"\"\"\n",
    "\n",
    "    dataset = tf.data.Dataset.range(len(np.array(cube_features)[0]))\n",
    "    dataset = dataset.repeat().shuffle(1000).batch(batch_size)\n",
    "    dataset = dataset.map(mapping_function)\n",
    "    dataset = dataset.prefetch(16)\n",
    "    return dataset\n",
    "\n",
    "\n",
    "def testing_input_fn():\n",
    "    \"\"\"Serving input fn for testing data\"\"\"\n",
    "    dataset = tf.data.Dataset.range(len(cube_features))\n",
    "    dataset = dataset.batch(16)\n",
    "    dataset = dataset.map(mapping_function)\n",
    "    return dataset"
   ]
  },
  {
   "cell_type": "code",
   "execution_count": 16,
   "metadata": {},
   "outputs": [],
   "source": [
    "\n",
    "\n",
    "\n",
    "def _mdn_pixmodel_fn(features, labels, nchannels, n_y, n_mixture, dropout, optimizer, mode, pad, \n",
    "                    cfilter_size=None):\n",
    "\n",
    "    # Check for training mode                                                                                                   \n",
    "    is_training = mode == tf.estimator.ModeKeys.TRAIN\n",
    "\n",
    "    def _module_fn():\n",
    "        \"\"\"                                                                                                                     \n",
    "        Function building the module                                                                                            \n",
    "        \"\"\"\n",
    "\n",
    "        feature_layer = tf.placeholder(tf.float32, shape=[None, None, None, None, nchannels], name='input')\n",
    "        obs_layer = tf.placeholder(tf.float32, shape=[None, None, None, None, n_y], name='observations')\n",
    "\n",
    "        conditional_im = wide_resnet(feature_layer, 16, activation_fn=tf.nn.leaky_relu, \n",
    "                                     keep_prob=dropout, is_training=is_training)\n",
    "#         conditional_im = wide_resnet(conditional_im, 1, activation_fn=tf.nn.leaky_relu, \n",
    "#                                      keep_prob=dropout, is_training=is_training)\n",
    "        inputnet = obs_layer\n",
    "        \n",
    "#         fnet = wide_resnet(feature_layer, 16, activation_fn=tf.nn.leaky_relu, \n",
    "#                                      keep_prob=dropout, is_training=is_training)\n",
    "#         fnet = wide_resnet(fnet, 1, activation_fn=tf.nn.leaky_relu, \n",
    "#                                      keep_prob=dropout, is_training=is_training)\n",
    "        \n",
    "#         inputnet = tf.concat((obs_layer, fnet), axis=-1)\n",
    "#         conditional_im = None\n",
    "        # Builds the neural network                                                                                             \n",
    "        stacks0 = PixelCNN3Dlayer(0, [inputnet], f_map=8, full_horizontal=True, h=None, \n",
    "                                 conditional_im=conditional_im, cfilter_size=cfilter_size)\n",
    "        stacks1 = PixelCNN3Dlayer(1, stacks0, f_map=8, full_horizontal=True, h=None, \n",
    "                                 conditional_im=conditional_im, cfilter_size=cfilter_size)\n",
    "        stacks2 = PixelCNN3Dlayer(2, stacks1, f_map=8, full_horizontal=True, h=None, \n",
    "                                 conditional_im=conditional_im, cfilter_size=cfilter_size)\n",
    "        stacks3 = PixelCNN3Dlayer(3, stacks2, f_map=8, full_horizontal=True, h=cfilter_size, \n",
    "                                 conditional_im=conditional_im, cfilter_size=cfilter_size)\n",
    "        stacks4 = PixelCNN3Dlayer(4, stacks3, f_map=8, full_horizontal=True, h=None, \n",
    "                                 conditional_im=conditional_im, cfilter_size=cfilter_size)\n",
    "        \n",
    "        h_stack_in = stacks4[-1]\n",
    "#         print(h_stack_in)\n",
    "        \n",
    "        with tf.variable_scope(\"fc_1\"):\n",
    "            fc1 = GatedCNN([1, 1, 1, 1], h_stack_in, orientation=None, gated=False, mask='b').output()\n",
    "\n",
    "        with tf.variable_scope(\"fc_2\"):\n",
    "            fc2 = GatedCNN([1, 1, 1, n_mixture*3*n_y], fc1, orientation=None, \n",
    "                                gated=False, mask='b', activation=False).output()\n",
    "\n",
    "        \n",
    "        cube_size = tf.shape(obs_layer)[1]\n",
    "        net = tf.reshape(fc2, [-1, cube_size, cube_size, cube_size, n_y, n_mixture*3])\n",
    "\n",
    "        loc, unconstrained_scale, logits = tf.split(net,\n",
    "                                                    num_or_size_splits=3,\n",
    "                                                    axis=-1)\n",
    "        scale = tf.nn.softplus(unconstrained_scale)\n",
    "\n",
    "        # Form mixture of discretized logistic distributions. Note we shift the                                                 \n",
    "        # logistic distribution by -0.5. This lets the quantization capture \"rounding\"                                          \n",
    "        # intervals, `(x-0.5, x+0.5]`, and not \"ceiling\" intervals, `(x-1, x]`.                                                 \n",
    "#         discretized_logistic_dist = tfd.QuantizedDistribution(\n",
    "#             distribution=tfd.TransformedDistribution(\n",
    "#                 distribution=tfd.Logistic(loc=loc, scale=scale),\n",
    "#                 bijector=tfb.AffineScalar(shift=-0.5)),\n",
    "#             low=0.,\n",
    "#             high=2.**3-1)\n",
    "\n",
    "        mixture_dist = tfd.MixtureSameFamily(\n",
    "            mixture_distribution=tfd.Categorical(logits=logits),\n",
    "            components_distribution=tfd.Normal(loc, scale))\n",
    "\n",
    "        # Define a function for sampling, and a function for estimating the log likelihood                                      \n",
    "        #sample = tf.squeeze(mixture_dist.sample())                                                                             \n",
    "        sample = mixture_dist.sample()\n",
    "        loglik = mixture_dist.log_prob(obs_layer)\n",
    "        hub.add_signature(inputs={'features':feature_layer, 'labels':obs_layer},\n",
    "                          outputs={'sample':sample, 'loglikelihood':loglik,\n",
    "                                   'loc':loc, 'scale':scale, 'logits':logits})\n",
    "\n",
    "    # Create model and register module if necessary                                                                     \n",
    "    spec = hub.create_module_spec(_module_fn)\n",
    "    module = hub.Module(spec, trainable=True)\n",
    "    if isinstance(features,dict):\n",
    "        predictions = module(features, as_dict=True)\n",
    "    else:\n",
    "        predictions = module({'features':features, 'labels':labels}, as_dict=True)\n",
    "\n",
    "    if mode == tf.estimator.ModeKeys.PREDICT:\n",
    "        hub.register_module_for_export(module, \"likelihood\")\n",
    "        return tf.estimator.EstimatorSpec(mode=mode, predictions=predictions)\n",
    "\n",
    "    loglik = predictions['loglikelihood']\n",
    "    # Compute and register loss function                                                                                \n",
    "    neg_log_likelihood = -tf.reduce_sum(loglik, axis=-1)\n",
    "    neg_log_likelihood = tf.reduce_mean(neg_log_likelihood)\n",
    "\n",
    "    tf.losses.add_loss(neg_log_likelihood)\n",
    "    total_loss = tf.losses.get_total_loss(add_regularization_losses=True)\n",
    "\n",
    "    train_op = None\n",
    "    eval_metric_ops = None\n",
    "\n",
    "    # Define optimizer                                                                                                  \n",
    "    if mode == tf.estimator.ModeKeys.TRAIN:\n",
    "        update_ops = tf.get_collection(tf.GraphKeys.UPDATE_OPS)\n",
    "        with tf.control_dependencies(update_ops):\n",
    "            global_step=tf.train.get_global_step()\n",
    "            boundaries = list(np.array([2e3, 5e3, 1e4, 2e4, 3e4]).astype(int))\n",
    "            values = [1e-3, 5e-4, 1e-4, 5e-5, 1e-5, 1e-6]\n",
    "            learning_rate = tf.train.piecewise_constant(global_step, boundaries, values)\n",
    "            train_op = optimizer(learning_rate=learning_rate).minimize(loss=total_loss, global_step=global_step)\n",
    "            tf.summary.scalar('rate', learning_rate)\n",
    "        tf.summary.scalar('loss', neg_log_likelihood)\n",
    "    elif mode == tf.estimator.ModeKeys.EVAL:\n",
    "\n",
    "        eval_metric_ops = { \"log_p\": neg_log_likelihood}\n",
    "\n",
    "    return tf.estimator.EstimatorSpec(mode=mode,\n",
    "                                      predictions=predictions,\n",
    "                                      loss=total_loss,\n",
    "                                      train_op=train_op,\n",
    "                                      eval_metric_ops=eval_metric_ops)\n",
    "\n"
   ]
  },
  {
   "cell_type": "code",
   "execution_count": null,
   "metadata": {},
   "outputs": [],
   "source": [
    "\n",
    "def _mdn_pixmodel_unet_fn(features, labels, nchannels, n_y, n_mixture, dropout, optimizer, mode, pad, \n",
    "                    cfilter_size=None):\n",
    "\n",
    "    # Check for training mode                                                                                                   \n",
    "    is_training = mode == tf.estimator.ModeKeys.TRAIN\n",
    "\n",
    "    def _module_fn():\n",
    "        \"\"\"                                                                                                                     \n",
    "        Function building the module                                                                                            \n",
    "        \"\"\"\n",
    "\n",
    "        feature_layer = tf.placeholder(tf.float32, shape=[None, None, None, None, nchannels], name='input')\n",
    "        obs_layer = tf.placeholder(tf.float32, shape=[None, None, None, None, n_y], name='observations')\n",
    "\n",
    "        conditional_im = wide_resnet(feature_layer, 16, activation_fn=tf.nn.leaky_relu, \n",
    "                                     keep_prob=dropout, is_training=is_training)\n",
    "#         conditional_im = wide_resnet(conditional_im, 1, activation_fn=tf.nn.leaky_relu, \n",
    "#                                      keep_prob=dropout, is_training=is_training)\n",
    "        inputnet = obs_layer\n",
    "        \n",
    "#         fnet = wide_resnet(feature_layer, 16, activation_fn=tf.nn.leaky_relu, \n",
    "#                                      keep_prob=dropout, is_training=is_training)\n",
    "#         fnet = wide_resnet(fnet, 1, activation_fn=tf.nn.leaky_relu, \n",
    "#                                      keep_prob=dropout, is_training=is_training)\n",
    "        \n",
    "#         inputnet = tf.concat((obs_layer, fnet), axis=-1)\n",
    "#         conditional_im = None\n",
    "        # Builds the neural network                                                                                             \n",
    "        stacks0 = PixelCNN3Dlayer(0, [inputnet], f_map=8, full_horizontal=True, h=None, \n",
    "                                 conditional_im=conditional_im, cfilter_size=cfilter_size)\n",
    "        stacks1 = PixelCNN3Dlayer(1, stacks0, f_map=8, full_horizontal=True, h=None, \n",
    "                                 conditional_im=conditional_im, cfilter_size=cfilter_size)\n",
    "        stacks2 = PixelCNN3Dlayer(2, stacks1, f_map=8, full_horizontal=True, h=None, \n",
    "                                 conditional_im=conditional_im, cfilter_size=cfilter_size)\n",
    "        stacks3 = PixelCNN3Dlayer(3, stacks2, f_map=8, full_horizontal=True, h=cfilter_size, \n",
    "                                 conditional_im=conditional_im, cfilter_size=cfilter_size)\n",
    "        stacks4 = PixelCNN3Dlayer(4, stacks3, f_map=8, full_horizontal=True, h=None, \n",
    "                                 conditional_im=conditional_im, cfilter_size=cfilter_size)\n",
    "        \n",
    "        h_stack_in = stacks4[-1]\n",
    "#         print(h_stack_in)\n",
    "        \n",
    "        with tf.variable_scope(\"fc_1\"):\n",
    "            fc1 = GatedCNN([1, 1, 1, 1], h_stack_in, orientation=None, gated=False, mask='b').output()\n",
    "\n",
    "        with tf.variable_scope(\"fc_2\"):\n",
    "            fc2 = GatedCNN([1, 1, 1, n_mixture*3*n_y], fc1, orientation=None, \n",
    "                                gated=False, mask='b', activation=False).output()\n",
    "\n",
    "        \n",
    "        cube_size = tf.shape(obs_layer)[1]\n",
    "        net = tf.reshape(fc2, [-1, cube_size, cube_size, cube_size, n_y, n_mixture*3])\n",
    "\n",
    "        loc, unconstrained_scale, logits = tf.split(net,\n",
    "                                                    num_or_size_splits=3,\n",
    "                                                    axis=-1)\n",
    "        scale = tf.nn.softplus(unconstrained_scale)\n",
    "\n",
    "        # Form mixture of discretized logistic distributions. Note we shift the                                                 \n",
    "        # logistic distribution by -0.5. This lets the quantization capture \"rounding\"                                          \n",
    "        # intervals, `(x-0.5, x+0.5]`, and not \"ceiling\" intervals, `(x-1, x]`.                                                 \n",
    "#         discretized_logistic_dist = tfd.QuantizedDistribution(\n",
    "#             distribution=tfd.TransformedDistribution(\n",
    "#                 distribution=tfd.Logistic(loc=loc, scale=scale),\n",
    "#                 bijector=tfb.AffineScalar(shift=-0.5)),\n",
    "#             low=0.,\n",
    "#             high=2.**3-1)\n",
    "\n",
    "        mixture_dist = tfd.MixtureSameFamily(\n",
    "            mixture_distribution=tfd.Categorical(logits=logits),\n",
    "            components_distribution=tfd.Normal(loc, scale))\n",
    "\n",
    "        # Define a function for sampling, and a function for estimating the log likelihood                                      \n",
    "        #sample = tf.squeeze(mixture_dist.sample())                                                                             \n",
    "        sample = mixture_dist.sample()\n",
    "        loglik = mixture_dist.log_prob(obs_layer)\n",
    "        hub.add_signature(inputs={'features':feature_layer, 'labels':obs_layer},\n",
    "                          outputs={'sample':sample, 'loglikelihood':loglik,\n",
    "                                   'loc':loc, 'scale':scale, 'logits':logits})\n",
    "\n",
    "    # Create model and register module if necessary                                                                     \n",
    "    spec = hub.create_module_spec(_module_fn)\n",
    "    module = hub.Module(spec, trainable=True)\n",
    "    if isinstance(features,dict):\n",
    "        predictions = module(features, as_dict=True)\n",
    "    else:\n",
    "        predictions = module({'features':features, 'labels':labels}, as_dict=True)\n",
    "\n",
    "    if mode == tf.estimator.ModeKeys.PREDICT:\n",
    "        hub.register_module_for_export(module, \"likelihood\")\n",
    "        return tf.estimator.EstimatorSpec(mode=mode, predictions=predictions)\n",
    "\n",
    "    loglik = predictions['loglikelihood']\n",
    "    # Compute and register loss function                                                                                \n",
    "    neg_log_likelihood = -tf.reduce_sum(loglik, axis=-1)\n",
    "    neg_log_likelihood = tf.reduce_mean(neg_log_likelihood)\n",
    "\n",
    "    tf.losses.add_loss(neg_log_likelihood)\n",
    "    total_loss = tf.losses.get_total_loss(add_regularization_losses=True)\n",
    "\n",
    "    train_op = None\n",
    "    eval_metric_ops = None\n",
    "\n",
    "    # Define optimizer                                                                                                  \n",
    "    if mode == tf.estimator.ModeKeys.TRAIN:\n",
    "        update_ops = tf.get_collection(tf.GraphKeys.UPDATE_OPS)\n",
    "        with tf.control_dependencies(update_ops):\n",
    "            global_step=tf.train.get_global_step()\n",
    "            boundaries = list(np.array([2e3, 5e3, 1e4, 2e4, 3e4]).astype(int))\n",
    "            values = [1e-3, 5e-4, 1e-4, 5e-5, 1e-5, 1e-6]\n",
    "            learning_rate = tf.train.piecewise_constant(global_step, boundaries, values)\n",
    "            train_op = optimizer(learning_rate=learning_rate).minimize(loss=total_loss, global_step=global_step)\n",
    "            tf.summary.scalar('rate', learning_rate)\n",
    "        tf.summary.scalar('loss', neg_log_likelihood)\n",
    "    elif mode == tf.estimator.ModeKeys.EVAL:\n",
    "\n",
    "        eval_metric_ops = { \"log_p\": neg_log_likelihood}\n",
    "\n",
    "    return tf.estimator.EstimatorSpec(mode=mode,\n",
    "                                      predictions=predictions,\n",
    "                                      loss=total_loss,\n",
    "                                      train_op=train_op,\n",
    "                                      eval_metric_ops=eval_metric_ops)\n",
    "\n"
   ]
  },
  {
   "cell_type": "code",
   "execution_count": 17,
   "metadata": {},
   "outputs": [],
   "source": [
    "\n",
    "class MDNEstimator(tf.estimator.Estimator):\n",
    "    \"\"\"An estimator for distribution estimation using Mixture Density Networks.\n",
    "    \"\"\"\n",
    "\n",
    "    def __init__(self,\n",
    "                 n_y,\n",
    "                 n_mixture,\n",
    "                 optimizer=tf.train.AdamOptimizer,\n",
    "                 dropout=None,\n",
    "                 model_dir=None,\n",
    "                 config=None):\n",
    "        \"\"\"Initializes a `MDNEstimator` instance.\n",
    "        \"\"\"\n",
    "\n",
    "\n",
    "        def _model_fn(features, labels, mode):\n",
    "            return _mdn_pixmodel_fn(features, labels,\n",
    "                                 nchannels, n_y, n_mixture, dropout,\n",
    "                                               optimizer, mode, pad)\n",
    "\n",
    "        super(self.__class__, self).__init__(model_fn=_model_fn,\n",
    "                                             model_dir=model_dir,\n",
    "                                             config=config)\n",
    "        \n"
   ]
  },
  {
   "cell_type": "markdown",
   "metadata": {},
   "source": [
    "# Train"
   ]
  },
  {
   "cell_type": "code",
   "execution_count": 529,
   "metadata": {},
   "outputs": [
    {
     "name": "stdout",
     "output_type": "stream",
     "text": [
      "maskpos\n",
      "maskpostest\n",
      "mass\n",
      "model0\n",
      "model1\n",
      "model2\n",
      "module0\n",
      "module02\n",
      "module1\n",
      "module2\n",
      "nozero\n",
      "pix3d\n",
      "pix3dcond\n",
      "pix3dcondv2\n",
      "README\n",
      "tmp\n"
     ]
    }
   ],
   "source": [
    "%%bash \n",
    "ls ./models/galmodel\n",
    "# rm -r ./models/galmodel/pix3dcond"
   ]
  },
  {
   "cell_type": "code",
   "execution_count": 18,
   "metadata": {},
   "outputs": [
    {
     "name": "stdout",
     "output_type": "stream",
     "text": [
      "INFO:tensorflow:Using config: {'_model_dir': './models/galmodel/pix3dinv/model/', '_tf_random_seed': None, '_save_summary_steps': 100, '_save_checkpoints_steps': 1000, '_save_checkpoints_secs': None, '_session_config': allow_soft_placement: true\n",
      "graph_options {\n",
      "  rewrite_options {\n",
      "    meta_optimizer_iterations: ONE\n",
      "  }\n",
      "}\n",
      ", '_keep_checkpoint_max': 5, '_keep_checkpoint_every_n_hours': 10000, '_log_step_count_steps': 100, '_train_distribute': None, '_device_fn': None, '_protocol': None, '_eval_distribute': None, '_experimental_distribute': None, '_service': None, '_cluster_spec': <tensorflow.python.training.server_lib.ClusterSpec object at 0x7f63f8628390>, '_task_type': 'worker', '_task_id': 0, '_global_id_in_cluster': 0, '_master': '', '_evaluation_master': '', '_is_chief': True, '_num_ps_replicas': 0, '_num_worker_replicas': 1}\n"
     ]
    }
   ],
   "source": [
    "savepath = './models/galmodel/pix3dinv'\n",
    "\n",
    "run_config = tf.estimator.RunConfig(save_checkpoints_steps = 1000)\n",
    "\n",
    "model =  MDNEstimator(n_y=ntarget, n_mixture=8, dropout=0.95,\n",
    "                      model_dir=savepath + '/model/', config = run_config)\n",
    "#                       model_dir='./tmp/galmodel/model0', config = run_config)"
   ]
  },
  {
   "cell_type": "code",
   "execution_count": 38,
   "metadata": {
    "scrolled": false
   },
   "outputs": [
    {
     "name": "stdout",
     "output_type": "stream",
     "text": [
      "INFO:tensorflow:Calling model_fn.\n"
     ]
    },
    {
     "name": "stderr",
     "output_type": "stream",
     "text": [
      "/usr/local/lib/python3.6/dist-packages/tensorflow/python/util/tf_inspect.py:75: DeprecationWarning: inspect.getargspec() is deprecated, use inspect.signature() or inspect.getfullargspec()\n",
      "  return _inspect.getargspec(target)\n"
     ]
    },
    {
     "name": "stdout",
     "output_type": "stream",
     "text": [
      "INFO:tensorflow:Saver not created because there are no variables in the graph to restore\n",
      "INFO:tensorflow:Done calling model_fn.\n",
      "INFO:tensorflow:Create CheckpointSaverHook.\n",
      "INFO:tensorflow:Graph was finalized.\n",
      "INFO:tensorflow:Restoring parameters from ./models/galmodel/pix3dinv/model/model.ckpt-500\n",
      "INFO:tensorflow:Running local_init_op.\n",
      "INFO:tensorflow:Done running local_init_op.\n",
      "INFO:tensorflow:Saving checkpoints for 500 into ./models/galmodel/pix3dinv/model/model.ckpt.\n",
      "INFO:tensorflow:loss = 0.6908262, step = 500\n",
      "INFO:tensorflow:global_step/sec: 1.39836\n",
      "INFO:tensorflow:loss = 0.644362, step = 600 (71.514 sec)\n",
      "INFO:tensorflow:global_step/sec: 1.42557\n",
      "INFO:tensorflow:loss = 0.5121794, step = 700 (70.147 sec)\n",
      "INFO:tensorflow:global_step/sec: 1.4259\n",
      "INFO:tensorflow:loss = 0.4767241, step = 800 (70.131 sec)\n",
      "INFO:tensorflow:global_step/sec: 1.42595\n",
      "INFO:tensorflow:loss = 0.4626755, step = 900 (70.129 sec)\n",
      "INFO:tensorflow:Saving checkpoints for 1000 into ./models/galmodel/pix3dinv/model/model.ckpt.\n",
      "INFO:tensorflow:Loss for final step: 0.41839847.\n"
     ]
    },
    {
     "data": {
      "text/plain": [
       "<__main__.MDNEstimator at 0x7f63f8628668>"
      ]
     },
     "execution_count": 38,
     "metadata": {},
     "output_type": "execute_result"
    }
   ],
   "source": [
    "model.train(training_input_fn, max_steps=1000)"
   ]
  },
  {
   "cell_type": "code",
   "execution_count": 39,
   "metadata": {},
   "outputs": [
    {
     "name": "stdout",
     "output_type": "stream",
     "text": [
      "INFO:tensorflow:Calling model_fn.\n",
      "INFO:tensorflow:Saver not created because there are no variables in the graph to restore\n",
      "INFO:tensorflow:Done calling model_fn.\n",
      "INFO:tensorflow:Restoring parameters from ./models/galmodel/pix3dinv/model/model.ckpt-1000\n",
      "INFO:tensorflow:Exported TF-Hub module to: b\"./models/galmodel/pix3dinv/module/temp-b'1561694611'/likelihood\"\n"
     ]
    }
   ],
   "source": [
    "# Trying to export\n",
    "features = tf.placeholder(tf.float32, shape=[None, None, None, None, nchannels], name='input')\n",
    "labels = tf.placeholder(tf.float32, shape=[None, None, None, None, ntarget], name='observations')\n",
    "    \n",
    "exporter = hub.LatestModuleExporter(\"tf_hub\", tf.estimator.export.build_raw_serving_input_receiver_fn({'features':features, 'labels':labels},\n",
    "                                                                   default_batch_size=None))\n",
    "\n",
    "modulepath = exporter.export(model, savepath + '/module/', model.latest_checkpoint())\n",
    "modulepath = modulepath.decode(\"utf-8\")\n"
   ]
  },
  {
   "cell_type": "markdown",
   "metadata": {},
   "source": [
    "# Check"
   ]
  },
  {
   "cell_type": "code",
   "execution_count": 40,
   "metadata": {},
   "outputs": [
    {
     "data": {
      "text/plain": [
       "(1000, 8, 8, 8, 1)"
      ]
     },
     "execution_count": 40,
     "metadata": {},
     "output_type": "execute_result"
    }
   ],
   "source": [
    "cube_features[0].shape"
   ]
  },
  {
   "cell_type": "code",
   "execution_count": 41,
   "metadata": {},
   "outputs": [
    {
     "name": "stdout",
     "output_type": "stream",
     "text": [
      "INFO:tensorflow:Saver not created because there are no variables in the graph to restore\n",
      "INFO:tensorflow:Saver not created because there are no variables in the graph to restore\n",
      "(8, 32, 32, 32, 1) (8, 32, 32, 32, 1)\n"
     ]
    }
   ],
   "source": [
    "tf.reset_default_graph()\n",
    "module = hub.Module(modulepath + '/likelihood/')\n",
    "# module = pad4-nozero_maskpos_rewt/module/1554184418\n",
    "# module = hub.Module('../code/models/n10/pad4-nozero_maskpos_rewt/module/1554184418/likelihood/')\n",
    "xx = tf.placeholder(tf.float32, shape=[None, None, None, None, nchannels], name='input')\n",
    "yy = tf.placeholder(tf.float32, shape=[None, None, None, None, ntarget], name='labels')\n",
    "samples = module(dict(features=xx, labels=yy), as_dict=True)['sample']\n",
    "loglik = module(dict(features=xx, labels=yy), as_dict=True)['loglikelihood']\n",
    "# loss = module(dict(features=xx, labels=yy), as_dict=True)['loss']\n",
    "# loss1 = module(dict(features=xx, labels=yy), as_dict=True)['loss1']\n",
    "# loss2 = module(dict(features=xx, labels=yy), as_dict=True)['loss2']\n",
    "# out_masks =  module(dict(features=xx, labels=yy), as_dict=True)['out_mask']\n",
    "# pred_masks =  module(dict(features=xx, labels=yy), as_dict=True)['pred_mask']\n",
    "\n",
    "with tf.Session() as sess:\n",
    "    sess.run(tf.initializers.global_variables())\n",
    "        \n",
    "#     features = cube_features[2][0:8].astype('float32')\n",
    "#     targets = cube_target[2][0:8].astype('float32')\n",
    "    features = cube_target[2][0:8].astype('float32')\n",
    "    targets = cube_features[2][0:8].astype('float32')\n",
    "    xxm = features\n",
    "    yym = targets\n",
    "    \n",
    "    print(xxm.shape, yym.shape)\n",
    "    loss = sess.run(tf.squeeze(loglik), feed_dict={xx:xxm, yy:yym})\n",
    "\n",
    "#     xxn = np.fft.irfftn(np.fft.rfftn(xxm, axes=(1, 2, 3), norm='ortho')/2., axes=(1, 2, 3), norm='ortho')\n",
    "    xxn = np.roll(xxm, 16, 1)\n",
    "    xxn = xxm\n",
    "    yyn = yym\n",
    "    yyn = np.roll(yym, 7, 1)\n",
    "    loss2 = sess.run(tf.squeeze(loglik), feed_dict={xx:xxn, yy:yyn})\n",
    "    \n",
    "\n"
   ]
  },
  {
   "cell_type": "code",
   "execution_count": 42,
   "metadata": {},
   "outputs": [
    {
     "data": {
      "text/plain": [
       "<matplotlib.colorbar.Colorbar at 0x7f6395a049e8>"
      ]
     },
     "execution_count": 42,
     "metadata": {},
     "output_type": "execute_result"
    },
    {
     "data": {
      "image/png": "[encoded data removed]",
      "text/plain": [
       "<Figure size 432x288 with 4 Axes>"
      ]
     },
     "metadata": {
      "needs_background": "light"
     },
     "output_type": "display_data"
    }
   ],
   "source": [
    "plt.subplot(121)\n",
    "plt.imshow(loss[1].sum(axis=0))\n",
    "plt.colorbar()\n",
    "plt.subplot(122)\n",
    "plt.imshow(loss2[1].sum(axis=0))\n",
    "plt.colorbar()\n"
   ]
  },
  {
   "cell_type": "code",
   "execution_count": 51,
   "metadata": {},
   "outputs": [
    {
     "name": "stdout",
     "output_type": "stream",
     "text": [
      "Taken :  654.4292306900024\n"
     ]
    }
   ],
   "source": [
    "start = time()\n",
    "with tf.Session() as sess:\n",
    "    sess.run(tf.initializers.global_variables())\n",
    "        \n",
    "#     features = cube_features[1][0:1].astype('float32')\n",
    "#     targets = cube_target[1][0:1].astype('float32')\n",
    "    features = cube_target[2][0:1].astype('float32')\n",
    "    targets = cube_features[2][0:1].astype('float32')\n",
    "    xxm = features\n",
    "    yym = targets\n",
    "\n",
    "    sample = np.zeros_like(yym)\n",
    "    sample2 = sess.run(samples, feed_dict={xx:xxm, yy:yym*0})\n",
    "    for i in range(yym.shape[1]):\n",
    "        for j in range(yym.shape[2]):\n",
    "            for k in range(yym.shape[3]):\n",
    "                data_dict = {xx:xxm, yy:sample}\n",
    "                next_sample = sess.run(samples, feed_dict=data_dict)\n",
    "                sample[:, i, j, k, :] = next_sample[:, i, j, k, :]\n",
    "    \n",
    "#     print(sess.run(tf.squeeze(loglik), feed_dict={xx:xxm, yy:np.expand_dims(sample, axis=-1)}))\n",
    "    loss = sess.run(tf.squeeze(loglik), feed_dict={xx:xxm, yy:sample})\n",
    "    loss2 = sess.run(tf.squeeze(loglik), feed_dict={xx:xxm, yy:sample2})\n",
    "\n",
    "end = time()\n",
    "print('Taken : ', end-start)"
   ]
  },
  {
   "cell_type": "code",
   "execution_count": 44,
   "metadata": {},
   "outputs": [],
   "source": [
    "# yym = np.squeeze(yym)\n",
    "# sample  = np.squeeze(sample) \n",
    "# sample2 = np.squeeze(sample2) "
   ]
  },
  {
   "cell_type": "code",
   "execution_count": 52,
   "metadata": {},
   "outputs": [
    {
     "data": {
      "text/plain": [
       "<matplotlib.colorbar.Colorbar at 0x7f63619d7048>"
      ]
     },
     "execution_count": 52,
     "metadata": {},
     "output_type": "execute_result"
    },
    {
     "data": {
      "image/png": "[encoded data removed]",
      "text/plain": [
       "<Figure size 432x288 with 4 Axes>"
      ]
     },
     "metadata": {
      "needs_background": "light"
     },
     "output_type": "display_data"
    }
   ],
   "source": [
    "plt.subplot(121)\n",
    "plt.imshow(loss[0,...], vmin=0, vmax=-1)\n",
    "plt.colorbar()\n",
    "plt.subplot(122)\n",
    "plt.imshow(loss2[0,...], vmin=0, vmax=-1)\n",
    "plt.colorbar()\n"
   ]
  },
  {
   "cell_type": "code",
   "execution_count": 53,
   "metadata": {},
   "outputs": [
    {
     "data": {
      "text/plain": [
       "(-12012.756, 5326.3843)"
      ]
     },
     "execution_count": 53,
     "metadata": {},
     "output_type": "execute_result"
    }
   ],
   "source": [
    "loss.sum(), loss2.sum()"
   ]
  },
  {
   "cell_type": "code",
   "execution_count": 54,
   "metadata": {},
   "outputs": [
    {
     "data": {
      "text/plain": [
       "(22396.977, 5847.6606, 28290.008)"
      ]
     },
     "execution_count": 54,
     "metadata": {},
     "output_type": "execute_result"
    }
   ],
   "source": [
    "sample[0].sum(), sample2[0].sum(), yym[0].sum()"
   ]
  },
  {
   "cell_type": "code",
   "execution_count": 55,
   "metadata": {},
   "outputs": [
    {
     "data": {
      "text/plain": [
       "188.83639405122932"
      ]
     },
     "execution_count": 55,
     "metadata": {},
     "output_type": "execute_result"
    }
   ],
   "source": [
    "cube_features[2].max()"
   ]
  },
  {
   "cell_type": "code",
   "execution_count": 60,
   "metadata": {},
   "outputs": [
    {
     "data": {
      "text/plain": [
       "(1.6938311, 1.247058, 0.25131953)"
      ]
     },
     "execution_count": 60,
     "metadata": {},
     "output_type": "execute_result"
    }
   ],
   "source": [
    "yym.std(), sample.std(), sample2.std()"
   ]
  },
  {
   "cell_type": "code",
   "execution_count": 1,
   "metadata": {},
   "outputs": [
    {
     "ename": "NameError",
     "evalue": "name 'plt' is not defined",
     "output_type": "error",
     "traceback": [
      "\u001b[0;31m---------------------------------------------------------------------------\u001b[0m",
      "\u001b[0;31mNameError\u001b[0m                                 Traceback (most recent call last)",
      "\u001b[0;32m<ipython-input-1-0c596817c54b>\u001b[0m in \u001b[0;36m<module>\u001b[0;34m\u001b[0m\n\u001b[0;32m----> 1\u001b[0;31m \u001b[0mplt\u001b[0m\u001b[0;34m.\u001b[0m\u001b[0mhist\u001b[0m\u001b[0;34m(\u001b[0m\u001b[0mnp\u001b[0m\u001b[0;34m.\u001b[0m\u001b[0mlog\u001b[0m\u001b[0;34m(\u001b[0m\u001b[0;36m1\u001b[0m\u001b[0;34m+\u001b[0m\u001b[0myym\u001b[0m\u001b[0;34m.\u001b[0m\u001b[0mflatten\u001b[0m\u001b[0;34m(\u001b[0m\u001b[0;34m)\u001b[0m\u001b[0;34m)\u001b[0m\u001b[0;34m,\u001b[0m \u001b[0mrange\u001b[0m\u001b[0;34m=\u001b[0m\u001b[0;34m(\u001b[0m\u001b[0;34m-\u001b[0m\u001b[0;36m2\u001b[0m\u001b[0;34m,\u001b[0m \u001b[0;36m2\u001b[0m\u001b[0;34m)\u001b[0m\u001b[0;34m)\u001b[0m\u001b[0;34m\u001b[0m\u001b[0;34m\u001b[0m\u001b[0m\n\u001b[0m\u001b[1;32m      2\u001b[0m \u001b[0mplt\u001b[0m\u001b[0;34m.\u001b[0m\u001b[0mhist\u001b[0m\u001b[0;34m(\u001b[0m\u001b[0mnp\u001b[0m\u001b[0;34m.\u001b[0m\u001b[0mlog\u001b[0m\u001b[0;34m(\u001b[0m\u001b[0;36m1\u001b[0m\u001b[0;34m+\u001b[0m\u001b[0msample\u001b[0m\u001b[0;34m.\u001b[0m\u001b[0mflatten\u001b[0m\u001b[0;34m(\u001b[0m\u001b[0;34m)\u001b[0m\u001b[0;34m)\u001b[0m\u001b[0;34m,\u001b[0m \u001b[0malpha\u001b[0m\u001b[0;34m=\u001b[0m\u001b[0;36m0.5\u001b[0m\u001b[0;34m,\u001b[0m \u001b[0mrange\u001b[0m\u001b[0;34m=\u001b[0m\u001b[0;34m(\u001b[0m\u001b[0;34m-\u001b[0m\u001b[0;36m2\u001b[0m\u001b[0;34m,\u001b[0m \u001b[0;36m2\u001b[0m\u001b[0;34m)\u001b[0m\u001b[0;34m)\u001b[0m\u001b[0;34m\u001b[0m\u001b[0;34m\u001b[0m\u001b[0m\n\u001b[1;32m      3\u001b[0m \u001b[0mplt\u001b[0m\u001b[0;34m.\u001b[0m\u001b[0mhist\u001b[0m\u001b[0;34m(\u001b[0m\u001b[0mnp\u001b[0m\u001b[0;34m.\u001b[0m\u001b[0mlog\u001b[0m\u001b[0;34m(\u001b[0m\u001b[0;36m1\u001b[0m\u001b[0;34m+\u001b[0m\u001b[0msample2\u001b[0m\u001b[0;34m.\u001b[0m\u001b[0mflatten\u001b[0m\u001b[0;34m(\u001b[0m\u001b[0;34m)\u001b[0m\u001b[0;34m)\u001b[0m\u001b[0;34m,\u001b[0m \u001b[0malpha\u001b[0m\u001b[0;34m=\u001b[0m\u001b[0;36m0.5\u001b[0m\u001b[0;34m,\u001b[0m \u001b[0mrange\u001b[0m\u001b[0;34m=\u001b[0m\u001b[0;34m(\u001b[0m\u001b[0;34m-\u001b[0m\u001b[0;36m2\u001b[0m\u001b[0;34m,\u001b[0m \u001b[0;36m2\u001b[0m\u001b[0;34m)\u001b[0m\u001b[0;34m)\u001b[0m\u001b[0;34m\u001b[0m\u001b[0;34m\u001b[0m\u001b[0m\n",
      "\u001b[0;31mNameError\u001b[0m: name 'plt' is not defined"
     ]
    }
   ],
   "source": [
    "plt.hist(np.log(1+yym.flatten()), range=(-2, 2))\n",
    "plt.hist(np.log(1+sample.flatten()), alpha=0.5, range=(-2, 2))\n",
    "plt.hist(np.log(1+sample2.flatten()), alpha=0.5, range=(-2, 2))"
   ]
  },
  {
   "cell_type": "code",
   "execution_count": 72,
   "metadata": {},
   "outputs": [
    {
     "data": {
      "text/plain": [
       "<matplotlib.colorbar.Colorbar at 0x7f6360d49b38>"
      ]
     },
     "execution_count": 72,
     "metadata": {},
     "output_type": "execute_result"
    },
    {
     "data": {
      "image/png": "[encoded data removed]",
      "text/plain": [
       "<Figure size 864x288 with 6 Axes>"
      ]
     },
     "metadata": {
      "needs_background": "light"
     },
     "output_type": "display_data"
    }
   ],
   "source": [
    "vmin, vmax = None, None\n",
    "\n",
    "plt.figure(figsize = (12, 4))\n",
    "plt.subplot(131)\n",
    "plt.imshow(yym[0,...,0].sum(axis=0), vmin=vmin, vmax=vmax)\n",
    "plt.colorbar()\n",
    "plt.subplot(132)\n",
    "plt.imshow(sample[0,...,0].sum(axis=0), vmin=vmin, vmax=vmax)\n",
    "plt.colorbar()\n",
    "plt.subplot(133)\n",
    "plt.imshow(sample2[0,...,0].sum(axis=0), vmin=vmin, vmax=vmax)\n",
    "plt.colorbar()\n"
   ]
  },
  {
   "cell_type": "code",
   "execution_count": 62,
   "metadata": {},
   "outputs": [
    {
     "name": "stderr",
     "output_type": "stream",
     "text": [
      "/home/chmodi/.local/lib/python3.6/site-packages/ipykernel_launcher.py:12: RuntimeWarning: invalid value encountered in true_divide\n",
      "  if sys.path[0] == '':\n",
      "/home/chmodi/.local/lib/python3.6/site-packages/ipykernel_launcher.py:13: RuntimeWarning: invalid value encountered in true_divide\n",
      "  del sys.path[0]\n",
      "/home/chmodi/.local/lib/python3.6/site-packages/ipykernel_launcher.py:20: RuntimeWarning: invalid value encountered in true_divide\n",
      "/home/chmodi/.local/lib/python3.6/site-packages/ipykernel_launcher.py:21: RuntimeWarning: invalid value encountered in true_divide\n"
     ]
    },
    {
     "data": {
      "text/plain": [
       "[]"
      ]
     },
     "execution_count": 62,
     "metadata": {},
     "output_type": "execute_result"
    },
    {
     "data": {
      "image/png": "[encoded data removed]",
      "text/plain": [
       "<Figure size 720x288 with 2 Axes>"
      ]
     },
     "metadata": {
      "needs_background": "light"
     },
     "output_type": "display_data"
    }
   ],
   "source": [
    "ii = 0\n",
    "k, ph = tools.power(yym[ii,...,], boxsize=bs/4)\n",
    "k, pp1 = tools.power(sample[ii,...,], boxsize=bs/4)\n",
    "k, pp1x = tools.power(sample[ii,...,], yym[ii,...,], boxsize=bs/4)\n",
    "k, pp2 = tools.power(sample2[ii,...,], boxsize=bs/4)\n",
    "k, pp2x = tools.power(sample2[ii,...,], yym[ii,...,], boxsize=bs/4)\n",
    "\n",
    "\n",
    "plt.figure(figsize = (10, 4))\n",
    "plt.subplot(121)\n",
    "# plt.plot(k, ph, 'C%d-'%ii)\n",
    "plt.plot(k, pp1/ph, 'C%d--'%ii)\n",
    "plt.plot(k, pp2/ph, 'C%d:'%ii)\n",
    "plt.ylim(0, 1.5)\n",
    "plt.grid(which='both')\n",
    "plt.semilogx()\n",
    "# plt.loglog()\n",
    "\n",
    "plt.subplot(122)\n",
    "plt.plot(k, pp1x/(pp1*ph)**0.5, 'C%d--'%ii)\n",
    "plt.plot(k, pp2x/(pp2*ph)**0.5, 'C%d:'%ii)\n",
    "plt.ylim(0, 1)\n",
    "plt.grid(which='both')\n",
    "plt.semilogx()"
   ]
  },
  {
   "cell_type": "code",
   "execution_count": null,
   "metadata": {},
   "outputs": [],
   "source": [
    "plt.plot(*tools.power(yym[0,...,], boxsize=bs), 'C0--')\n",
    "plt.plot(*tools.power(yym[1,...,], boxsize=bs), 'C1--')\n",
    "plt.plot(*tools.power(sample[0,...], boxsize=bs), 'C0-')\n",
    "plt.plot(*tools.power(sample[1,...], boxsize=bs), 'C1-')\n",
    "plt.plot(*tools.power(sample2[0,...], boxsize=bs), 'C0:')\n",
    "plt.plot(*tools.power(sample2[1,...], boxsize=bs), 'C1:')\n",
    "plt.loglog()"
   ]
  },
  {
   "cell_type": "code",
   "execution_count": null,
   "metadata": {},
   "outputs": [],
   "source": []
  }
 ],
 "metadata": {
  "kernelspec": {
   "display_name": "Python 3",
   "language": "python",
   "name": "python3"
  },
  "language_info": {
   "codemirror_mode": {
    "name": "ipython",
    "version": 3
   },
   "file_extension": ".py",
   "mimetype": "text/x-python",
   "name": "python",
   "nbconvert_exporter": "python",
   "pygments_lexer": "ipython3",
   "version": "3.6.8"
  }
 },
 "nbformat": 4,
 "nbformat_minor": 2
}
