{
 "cells": [
  {
   "cell_type": "markdown",
   "metadata": {},
   "source": [
    "https://github.com/artix41/RIM-pytorch/blob/master/rim-toy.ipynb"
   ]
  },
  {
   "cell_type": "markdown",
   "metadata": {},
   "source": [
    "https://github.com/wmorning/DeepClean"
   ]
  },
  {
   "cell_type": "code",
   "execution_count": 1,
   "metadata": {},
   "outputs": [
    {
     "name": "stdout",
     "output_type": "stream",
     "text": [
      "Populating the interactive namespace from numpy and matplotlib\n"
     ]
    }
   ],
   "source": [
    "%pylab inline\n"
   ]
  },
  {
   "cell_type": "code",
   "execution_count": 2,
   "metadata": {},
   "outputs": [],
   "source": [
    "import tensorflow as tf\n",
    "import tensorflow.contrib.slim as slim\n",
    "import os\n",
    "os.environ[\"CUDA_VISIBLE_DEVICES\"] = \"0\"\n"
   ]
  },
  {
   "cell_type": "code",
   "execution_count": 3,
   "metadata": {},
   "outputs": [],
   "source": [
    "colormap = np.array(plt.rcParams['axes.prop_cycle'].by_key()['color'])"
   ]
  },
  {
   "cell_type": "code",
   "execution_count": 4,
   "metadata": {},
   "outputs": [],
   "source": [
    "sys.path.append('../code/utils/')\n",
    "sys.path.append('../code/flowpm/')\n",
    "import tools\n",
    "from background import *\n",
    "import tfpm \n",
    "import tfpmfuncs as tfpf\n",
    "from tfpmconfig import Config\n"
   ]
  },
  {
   "cell_type": "markdown",
   "metadata": {},
   "source": [
    "# PM"
   ]
  },
  {
   "cell_type": "code",
   "execution_count": 5,
   "metadata": {},
   "outputs": [
    {
     "name": "stderr",
     "output_type": "stream",
     "text": [
      "/home/chmodi/.local/lib/python3.6/site-packages/ipykernel_launcher.py:8: DeprecationWarning: Calling np.sum(generator) is deprecated, and in the future will give a different result. Use np.sum(np.from_iter(generator)) or the python sum builtin instead.\n",
      "  \n"
     ]
    }
   ],
   "source": [
    "#Generate DATA\n",
    "\n",
    "pkfile = '../code/flowpm/Planck15_a1p00.txt'\n",
    "stages = numpy.linspace(0.1, 1.0, 2, endpoint=True)\n",
    "config = Config(bs=100, nc=32, seed=0, pkfile=pkfile, stages=stages)\n",
    "bs, nc = config['boxsize'], config['nc']\n",
    "sigma = 0.1**0.5\n",
    "kmesh = sum(kk**2 for kk in config['kvec'])**0.5\n",
    "pkmesh = config['ipklin'](kmesh)\n",
    "priorwt = config['ipklin'](kmesh) * bs ** -3\n"
   ]
  },
  {
   "cell_type": "markdown",
   "metadata": {},
   "source": [
    "# Generate Data"
   ]
  },
  {
   "cell_type": "code",
   "execution_count": 6,
   "metadata": {},
   "outputs": [
    {
     "name": "stdout",
     "output_type": "stream",
     "text": [
      "100\n",
      "200\n",
      "300\n",
      "400\n",
      "500\n",
      "1000\n"
     ]
    }
   ],
   "source": [
    "#config = Config(bs=100, nc=32, seed=200, pkfile=pkfile)                                                                                                                                                                                                                                                                                                                   \n",
    "\n",
    "def pmwhite(config, verbose=False):\n",
    "    g = tf.Graph()\n",
    "    with g.as_default():\n",
    "        xx = tf.placeholder(tf.float32, (nc, nc, nc), name='white')\n",
    "        whitec = tfpf.r2c3d(xx, norm=nc**3)\n",
    "        lineark = tf.multiply(whitec, (pkmesh/bs**3)**0.5)\n",
    "        linear = tfpf.c2r3d(lineark, norm=nc**3, name='linear')\n",
    "        icstate = tfpm.lptinit(linear, config, name='icstate')\n",
    "        fnstate = tfpm.nbody(icstate, config, verbose=False, name='fnstate')\n",
    "#         fnstate = icstate\n",
    "        final = tf.zeros_like(linear)\n",
    "        final = tfpf.cic_paint(final, fnstate[0], boxsize=config['boxsize'], name='final')\n",
    "        tf.add_to_collection('pm', [linear, icstate, fnstate, final])\n",
    "    return g\n",
    "\n",
    "\n",
    "\n",
    "\n",
    "configs = []\n",
    "ntrain, ntest = 500, 50\n",
    "\n",
    "trains, traind, trainmapp = \\\n",
    "    np.zeros((ntrain, nc, nc, nc)), np.zeros((ntrain, nc, nc, nc)), np.zeros((ntrain, nc, nc, nc))\n",
    "tests, testd, testmapp = \\\n",
    "    np.zeros((ntest, nc, nc, nc)), np.zeros((ntest, nc, nc, nc)), np.zeros((ntest, nc, nc, nc))\n",
    "\n",
    "traininit, testinit = np.zeros((ntrain, nc, nc, nc)), np.zeros((ntest, nc, nc, nc)),\n",
    "\n",
    "g = pmwhite(config)\n",
    "\n",
    "with tf.Session(graph = g) as sess:\n",
    "\n",
    "    sess.run(tf.global_variables_initializer())\n",
    "\n",
    "    xx = g.get_tensor_by_name('white:0')\n",
    "    linear = g.get_tensor_by_name('linear:0')\n",
    "    final = g.get_tensor_by_name('final:0')\n",
    "    for i in range(1, ntrain+1):\n",
    "        if i%100 == 0: print(i)\n",
    "        seed = i\n",
    "        np.random.seed(seed)\n",
    "        white = np.random.normal(loc=0, scale=nc**1.5, size=nc**3).reshape(nc, nc, nc)\n",
    "        linmesh, finmesh, = sess.run([linear, final], feed_dict={xx:white})\n",
    "        noise = np.random.normal(loc=0, scale=sigma, size=nc**3).reshape(nc, nc, nc).astype(config['dtype'])\n",
    "        datan = finmesh + noise\n",
    "        trains[i-1] = linmesh\n",
    "        traind[i-1] = finmesh\n",
    "        trainmapp[i-1] = datan\n",
    "        traininit[i-1] = np.random.normal(0, 1, size=nc**3).reshape(nc, nc, nc).astype(config['dtype'])\n",
    "\n",
    "    for i in range(1000, ntest+1000):\n",
    "        if i%100 == 0: print(i)\n",
    "        seed = i\n",
    "        np.random.seed(seed)\n",
    "        white = np.random.normal(loc=0, scale=nc**1.5, size=nc**3).reshape(nc, nc, nc)\n",
    "        linmesh, finmesh, = sess.run([linear, final], feed_dict={xx:white})\n",
    "        noise = np.random.normal(loc=0, scale=sigma, size=nc**3).reshape(nc, nc, nc).astype(config['dtype'])\n",
    "        datan = finmesh + noise\n",
    "        tests[i-1000] = linmesh\n",
    "        testd[i-1000] = finmesh\n",
    "        testmapp[i-1000] = datan\n",
    "        testinit[i-1000] = np.random.normal(0, 1, size=nc**3).reshape(nc, nc, nc).astype(config['dtype'])\n"
   ]
  },
  {
   "cell_type": "code",
   "execution_count": 7,
   "metadata": {},
   "outputs": [
    {
     "data": {
      "text/plain": [
       "<matplotlib.image.AxesImage at 0x7f717c6bc358>"
      ]
     },
     "execution_count": 7,
     "metadata": {},
     "output_type": "execute_result"
    },
    {
     "data": {
      "image/png": "[encoded data removed]",
      "text/plain": [
       "<Figure size 432x288 with 3 Axes>"
      ]
     },
     "metadata": {
      "needs_background": "light"
     },
     "output_type": "display_data"
    }
   ],
   "source": [
    "ii = np.random.choice(ntrain)\n",
    "\n",
    "plt.subplot(131)\n",
    "plt.imshow(trains[ii].sum(axis=0))\n",
    "plt.subplot(132)\n",
    "plt.imshow(traind[ii].sum(axis=0))\n",
    "plt.subplot(133)\n",
    "plt.imshow(trainmapp[ii].sum(axis=0))"
   ]
  },
  {
   "cell_type": "markdown",
   "metadata": {},
   "source": [
    "# Brute force Gradient Descent to check it works"
   ]
  },
  {
   "cell_type": "code",
   "execution_count": 11,
   "metadata": {},
   "outputs": [],
   "source": [
    "tf.reset_default_graph()\n",
    "\n",
    "\n",
    "inchannnels = 1\n",
    "\n",
    "def pm(lin):\n",
    "    icstate = tfpm.lptinit(lin, config, name='icstate')\n",
    "    fnstate = tfpm.nbody(icstate, config, verbose=False, name='fnstate')\n",
    "    final = tf.zeros_like(lin)\n",
    "    final = tfpf.cic_paint(final, fnstate[0], boxsize=bs, name='final')\n",
    "    return final\n",
    "\n",
    "\n",
    "xx = tf.placeholder(tf.float32, [1, nc, nc, nc, inchannnels])\n",
    "xtrue = tf.placeholder(tf.float32, [1, nc, nc, nc, inchannnels])\n",
    "yy = tf.placeholder(tf.float32, [1, nc, nc, nc, inchannnels])\n",
    "\n",
    "\n",
    "linear = tf.get_variable('linmesh', shape=(nc, nc, nc),\n",
    "            initializer=tf.random_normal_initializer(mean=1.0, stddev=0.5), trainable=True)\n",
    "initlin_op = linear.assign(xx[0,..., 0], name='initlin_op')\n",
    "\n",
    "final = pm(linear)\n",
    "\n",
    "lineark = tfpf.r2c3d(linear, norm=nc**3)\n",
    "priormesh = tf.square(tf.cast(tf.abs(lineark), tf.float32))\n",
    "prior = tf.reduce_sum(tf.multiply(priormesh, 1/priorwt))\n",
    "prior = tf.multiply(prior, 1/nc**3, name='prior')\n",
    "\n",
    "likelihood = tf.subtract(final, tf.squeeze(yy))\n",
    "residual = tf.multiply(likelihood, 1/sigma)\n",
    "\n",
    "chisq = tf.multiply(residual, residual)\n",
    "chisq = tf.reduce_sum(chisq)\n",
    "chisq = tf.multiply(chisq, 1/nc**3, name='chisq')\n",
    "\n",
    "logposterior = tf.add(chisq, prior, name='logposterior')\n",
    "\n",
    "# grads = tf.gradients(logposterior, [linear])[0]\n",
    "\n",
    "\n",
    "\n",
    "opt = tf.train.AdamOptimizer(learning_rate=0.1)\n",
    "grads = opt.compute_gradients(logposterior, [linear])\n",
    "applygrads = opt.apply_gradients(grads)\n"
   ]
  },
  {
   "cell_type": "code",
   "execution_count": 12,
   "metadata": {},
   "outputs": [
    {
     "name": "stdout",
     "output_type": "stream",
     "text": [
      "4.757709503173828\n"
     ]
    }
   ],
   "source": [
    "start = time.time()\n",
    "#Train\n",
    "\n",
    "# with tf.Session() as sess:\n",
    "sess = tf.Session()    \n",
    "sess.run(tf.global_variables_initializer())\n",
    "\n",
    "batchsize = 1\n",
    "\n",
    "ind = [0]\n",
    "ixx, ixtrue, iyy = traininit[ind], trains[ind], traind[ind]\n",
    "ixx, ixtrue, iyy = np.expand_dims(ixx, -1), np.expand_dims(ixtrue, -1), np.expand_dims(iyy, -1)\n",
    "\n",
    "for i in range(50):\n",
    "    _ = sess.run(applygrads, {xx:ixx, xtrue:ixtrue, yy:iyy})\n",
    "\n",
    "print(time.time()-start)"
   ]
  },
  {
   "cell_type": "code",
   "execution_count": 13,
   "metadata": {},
   "outputs": [],
   "source": [
    "test = sess.run(linear, {xx:ixx, xtrue:ixtrue, yy:iyy})"
   ]
  },
  {
   "cell_type": "code",
   "execution_count": 14,
   "metadata": {},
   "outputs": [
    {
     "data": {
      "text/plain": [
       "<matplotlib.image.AxesImage at 0x7f6d0c6c6ba8>"
      ]
     },
     "execution_count": 14,
     "metadata": {},
     "output_type": "execute_result"
    },
    {
     "data": {
      "image/png": "[encoded data removed]",
      "text/plain": [
       "<Figure size 432x288 with 1 Axes>"
      ]
     },
     "metadata": {
      "needs_background": "light"
     },
     "output_type": "display_data"
    }
   ],
   "source": [
    "plt.imshow(test.sum(axis=0))"
   ]
  },
  {
   "cell_type": "code",
   "execution_count": 15,
   "metadata": {},
   "outputs": [
    {
     "data": {
      "text/plain": [
       "<matplotlib.image.AxesImage at 0x7f6d0c6af438>"
      ]
     },
     "execution_count": 15,
     "metadata": {},
     "output_type": "execute_result"
    },
    {
     "data": {
      "image/png": "[encoded data removed]",
      "text/plain": [
       "<Figure size 432x288 with 1 Axes>"
      ]
     },
     "metadata": {
      "needs_background": "light"
     },
     "output_type": "display_data"
    }
   ],
   "source": [
    "plt.imshow(trains[ind][0].sum(axis=0))"
   ]
  },
  {
   "cell_type": "markdown",
   "metadata": {},
   "source": [
    "# RIM"
   ]
  },
  {
   "cell_type": "code",
   "execution_count": 16,
   "metadata": {},
   "outputs": [],
   "source": [
    "# https://github.com/kaustubhhiware/LSTM-GRU-from-scratch/blob/80eb6bca2192e40dd718c6c7bd8830119d78a620/module.py\n",
    "    \n",
    "class GRU_cell3D(object):\n",
    "\n",
    "\n",
    "    def __init__(self, name, input_channels, hidden_units, output_channels, kernel=3, strides=1):\n",
    "\n",
    "        self.kernel = kernel\n",
    "        self.strides = [strides, strides, strides, strides, strides]\n",
    "        self.input_channels = input_channels\n",
    "        self.hidden_units = hidden_units\n",
    "        self.output_channels = output_channels\n",
    "        self.name = name\n",
    "        \n",
    "        k_h, k_w, k_z = [kernel]*3\n",
    "        fan_in = k_h * k_w * k_z * input_channels\n",
    "        stddev = tf.sqrt(2. / (fan_in))\n",
    "        n_out = output_channels\n",
    "        print(stddev)\n",
    "        self.initializer = tf.truncated_normal_initializer(stddev=stddev)\n",
    "#         self.initializer = tf.ones_initializer()\n",
    "        self.zeroinitializer = tf.zeros_initializer()\n",
    "#         self.zeroinitializer = tf.truncated_normal_initializer(stddev=stddev)\n",
    "        #\n",
    "        #\n",
    "        self.Wx = tf.get_variable(name=name+'/Wx', \n",
    "                shape = [self.kernel, self.kernel, self.kernel, self.input_channels, self.hidden_units], \n",
    "                initializer =self.zeroinitializer, trainable=True) #maybe 0 init is better?\n",
    "        self.Wr = tf.get_variable(name=name+'/Wr', \n",
    "                shape = [self.kernel, self.kernel, self.kernel, self.input_channels, self.hidden_units], \n",
    "                initializer =self.zeroinitializer, trainable=True) #maybe 0 init is better?\n",
    "        self.Wz = tf.get_variable(name=name+'/Wz', \n",
    "                shape = [self.kernel, self.kernel, self.kernel, self.input_channels, self.hidden_units], \n",
    "                initializer =self.zeroinitializer, trainable=True) #maybe 0 init is better?\n",
    "        self.Wh = tf.get_variable(name=name+'/Wh', \n",
    "                shape = [self.kernel, self.kernel, self.kernel, self.hidden_units, self.hidden_units], \n",
    "                initializer =self.zeroinitializer, trainable=True) #maybe 0 init is better?\n",
    "        self.Wo = tf.get_variable(name=name+'/Wo', \n",
    "                shape = [self.kernel, self.kernel, self.kernel, self.hidden_units, self.output_channels], \n",
    "                initializer =self.initializer, trainable=True) \n",
    "        \n",
    "        self.br = tf.get_variable(name=name+'/br', shape = [self.hidden_units], \n",
    "                initializer =self.initializer, trainable=True)\n",
    "        self.bz = tf.get_variable(name=name+'/bz', shape = [self.hidden_units], \n",
    "                initializer =self.initializer, trainable=True)\n",
    "        self.bo = tf.get_variable(name=name+'/bo', shape = [self.output_channels], \n",
    "                initializer =self.initializer, trainable=True)\n",
    "\n",
    "        \n",
    "        self.initial_hidden = tf.placeholder(name='initialhidden', dtype=tf.float32,\n",
    "                shape=[None, None, None, None, self.hidden_units])\n",
    "\n",
    "        \n",
    "    def Gru(self, previous_hidden_state, x):\n",
    "\n",
    "        z = tf.sigmoid(tf.nn.conv3d(x, self.Wz, strides=self.strides, padding='SAME') + self.bz)\n",
    "        r = tf.sigmoid(tf.nn.conv3d(x, self.Wr, strides=self.strides, padding='SAME') + self.br)\n",
    "\n",
    "        h_ = tf.tanh(tf.nn.conv3d(x, self.Wx, strides=self.strides, padding='SAME') +\n",
    "            tf.nn.conv3d(previous_hidden_state, self.Wh, strides=self.strides,padding='SAME')*r)\n",
    "\n",
    "        current_hidden_state = tf.multiply( (1 - z), h_) + tf.multiply(previous_hidden_state, z)\n",
    "\n",
    "        return current_hidden_state\n",
    "\n",
    "    def get_output(self, hidden_state):\n",
    "#         output = tf.nn.leaky_relu(tf.nn.conv3d(hidden_state, self.Wo, \n",
    "#                                 strides=self.strides, padding='SAME') + self.bo)\n",
    "        output = (tf.nn.conv3d(hidden_state, self.Wo, \n",
    "                                strides=self.strides, padding='SAME') + self.bo)\n",
    "        return output\n",
    "\n"
   ]
  },
  {
   "cell_type": "code",
   "execution_count": null,
   "metadata": {},
   "outputs": [
    {
     "name": "stdout",
     "output_type": "stream",
     "text": [
      "Tensor(\"Sqrt:0\", shape=(), dtype=float32)\n"
     ]
    }
   ],
   "source": [
    "tf.reset_default_graph()\n",
    "\n",
    "\n",
    "def pm(lin):\n",
    "    icstate = tfpm.lptinit(lin, config, name='icstate')\n",
    "    fnstate = tfpm.nbody(icstate, config, verbose=False, name='fnstate')\n",
    "    final = tf.zeros_like(lin)\n",
    "    final = tfpf.cic_paint(final, fnstate[0], boxsize=bs, name='final')\n",
    "    return final\n",
    "\n",
    "inchannnels, outchannels = 1, 8\n",
    "hidden_units = 32\n",
    "\n",
    "\n",
    "xx = tf.placeholder(tf.float32, [1, nc, nc, nc, inchannnels])\n",
    "xtrue = tf.placeholder(tf.float32, [1, nc, nc, nc, inchannnels])\n",
    "yy = tf.placeholder(tf.float32, [1, nc, nc, nc, inchannnels])\n",
    "lr = tf.placeholder(tf.float32)\n",
    "\n",
    "opt = tf.train.GradientDescentOptimizer(learning_rate=lr)\n",
    "\n",
    "mygru3d = GRU_cell3D('mygru', inchannnels*2, hidden_units, outchannels)\n",
    "hidden = mygru3d.initial_hidden\n",
    "\n",
    "losst = tf.get_variable('loss', initializer=0., trainable=False)\n",
    "reset_loss = losst.assign(0)\n",
    "\n",
    "\n",
    "hiter, xiter = [], []\n",
    "xlin = xx\n",
    "losslist = []\n",
    "xiter.append(xlin)\n",
    "hiter.append(hidden)\n",
    "giter = []\n",
    "niter = []\n",
    "\n",
    "W0 = tf.get_variable('W0', shape = [3, 3, 3, 2, 2], trainable=True) \n",
    "W1 = tf.get_variable('W1', shape = [3, 3, 3, outchannels, 1], trainable=True) \n",
    "# W2 = tf.get_variable('W2', shape = [3, 3, 3, outchannels, 1], trainable=True) \n",
    "\n",
    "for i in range(10):\n",
    "\n",
    "    linear = tf.stop_gradient(xlin[0,...,0])\n",
    "    final = pm(linear)\n",
    "    \n",
    "    likelihood = tf.subtract(final, tf.squeeze(yy))\n",
    "    residual = tf.multiply(likelihood, 1/sigma)\n",
    "\n",
    "    chisq = tf.multiply(residual, residual)\n",
    "    chisq = tf.reduce_sum(chisq)\n",
    "    chisq = tf.multiply(chisq, 1/nc**3, name='chisq')\n",
    "\n",
    "    lineark = tfpf.r2c3d(linear, norm=nc**3)\n",
    "    priormesh = tf.square(tf.cast(tf.abs(lineark), tf.float32))\n",
    "    prior = tf.reduce_sum(tf.multiply(priormesh, 1/priorwt))\n",
    "    prior = tf.multiply(prior, 1/nc**3, name='prior')\n",
    "\n",
    "    logposterior = tf.add(chisq, prior, name='logposterior')\n",
    "#     grads = tf.gradients(logposterior, [xlin])[0]\n",
    "    grads = tf.gradients(logposterior, [linear])[0]*10\n",
    "\n",
    "    giter.append(grads)\n",
    "    xcat = tf.concat([xlin, tf.expand_dims(tf.expand_dims(grads, 0), -1)], axis=-1)\n",
    "#     xcat = tf.concat([xlin, grads], axis=-1)\n",
    "    net = tf.nn.conv3d(xcat, W0, strides=(1, 1, 1, 1, 1), padding='SAME')\n",
    "    \n",
    "    hidden = mygru3d.Gru(hidden, net)\n",
    "    hiter.append(hidden)\n",
    "\n",
    "    net = mygru3d.get_output(hidden)\n",
    "    net = tf.nn.tanh(tf.nn.conv3d(net, W1, strides=(1, 1, 1, 1, 1), padding='SAME'))\n",
    "#     net = (tf.nn.conv3d(net, W1, strides=(1, 1, 1, 1, 1), padding='SAME'))\n",
    "    niter.append(net)\n",
    "\n",
    "    xout = xlin + net\n",
    "    iloss = tf.reduce_mean((xout - xtrue)**2)\n",
    "    losslist.append(iloss)\n",
    "    losst = losst + iloss\n",
    "    xlin = xout\n",
    "    xiter.append(xlin)\n",
    "\n",
    "opt_op = opt.minimize(losst)\n"
   ]
  },
  {
   "cell_type": "code",
   "execution_count": null,
   "metadata": {},
   "outputs": [],
   "source": [
    "start = time.time()\n",
    "#Train\n",
    "\n",
    "\n",
    "sess = tf.Session()    \n",
    "sess.run(tf.global_variables_initializer())\n",
    "llist = []\n",
    "\n",
    "batchsize = 1\n",
    "\n",
    "zerohidden = np.zeros((batchsize, nc, nc, nc, hidden_units)).astype(float32)\n",
    "\n",
    "for nb in range(20):\n",
    "\n",
    "    ind = np.random.choice(trains.shape[0], batchsize)\n",
    "#     ind = [0]\n",
    "    sess.run(reset_loss)\n",
    "    ixx, ixtrue, iyy = traininit[ind], trains[ind], traind[ind]\n",
    "    ixx, ixtrue, iyy = np.expand_dims(ixx, -1), np.expand_dims(ixtrue, -1), np.expand_dims(iyy, -1)\n",
    "\n",
    "    _, l, ll, ix, inn, ih, ig = sess.run([opt_op, losst, losslist, xiter, niter, hiter, giter], \n",
    "                                      {xx:ixx, xtrue:ixtrue, yy:iyy, mygru3d.initial_hidden:zerohidden, \n",
    "                                      lr:0.05})\n",
    "\n",
    "    if nb %50 == 0: \n",
    "        print('Step : ', nb, ' Loss : ', l)\n",
    "#     print(l)\n",
    "    llist.append(l)\n",
    "\n",
    "print(time.time()-start)"
   ]
  },
  {
   "cell_type": "code",
   "execution_count": null,
   "metadata": {},
   "outputs": [],
   "source": [
    "plt.plot(llist)\n",
    "plt.loglog()"
   ]
  },
  {
   "cell_type": "code",
   "execution_count": null,
   "metadata": {},
   "outputs": [],
   "source": [
    "plt.imshow(np.squeeze(ix[0]).sum(axis=0))\n",
    "plt.colorbar()\n",
    "plt.show()\n",
    "plt.imshow(np.squeeze(ixtrue).sum(axis=0))\n",
    "plt.colorbar()\n",
    "plt.show()\n"
   ]
  },
  {
   "cell_type": "code",
   "execution_count": null,
   "metadata": {},
   "outputs": [],
   "source": [
    "xsize = len(ix)\n",
    "plt.figure(figsize = (4, xsize*4))\n",
    "for i in range(xsize):\n",
    "    plt.subplot( xsize,1, i+1)\n",
    "    plt.imshow(np.squeeze(ix[i]).sum(axis=0))\n",
    "    plt.colorbar()    "
   ]
  },
  {
   "cell_type": "code",
   "execution_count": null,
   "metadata": {},
   "outputs": [],
   "source": [
    "ix[0]/ixtrue[0]"
   ]
  },
  {
   "cell_type": "code",
   "execution_count": null,
   "metadata": {},
   "outputs": [],
   "source": [
    "ix[0]/ix[-1]"
   ]
  },
  {
   "cell_type": "code",
   "execution_count": null,
   "metadata": {},
   "outputs": [],
   "source": [
    "plt.hist((ix[0]/ix[-1]).flatten())"
   ]
  },
  {
   "cell_type": "markdown",
   "metadata": {},
   "source": [
    "# Toy example"
   ]
  },
  {
   "cell_type": "markdown",
   "metadata": {},
   "source": [
    "# Create the simulator and the data\n",
    "\n",
    "The simulator is defined as $y=Ax + n$ where $A$ is a deterministic matrix and $n \\sim \\mathcal{N}(0,\\sigma^2)$ with $\\sigma$ known. The loss will then be defined to be $\\mathcal{L}(x,y)=\\frac{1}{2} x^T A^T A x - y^T A x$.\n"
   ]
  },
  {
   "cell_type": "code",
   "execution_count": null,
   "metadata": {},
   "outputs": [],
   "source": []
  },
  {
   "cell_type": "code",
   "execution_count": 55,
   "metadata": {},
   "outputs": [],
   "source": [
    "nb_samples = 100\n",
    "batch_size = 16\n",
    "time_max_rim = 30\n",
    "time_max_gd = 60\n",
    "nb_epochs = 2\n",
    "\n",
    "size_train = 1000\n",
    "size_test = 500\n",
    "\n"
   ]
  },
  {
   "cell_type": "code",
   "execution_count": 56,
   "metadata": {},
   "outputs": [],
   "source": [
    "def simulate(x, A, sigma):\n",
    "    return np.dot(A,x) + np.random.normal(0,sigma, (2,))\n",
    "\n",
    "def generate_A():\n",
    "    D = np.diag(np.random.choice([-1,1], (2,)) * np.random.uniform(0.25, 1, (2,)))\n",
    "    theta = np.random.uniform(0,2*np.pi)\n",
    "    P = np.array([[np.cos(theta), -np.sin(theta)], [np.sin(theta), np.cos(theta)]])\n",
    "    return np.linalg.inv(P).dot(D).dot(P)\n",
    "    "
   ]
  },
  {
   "cell_type": "code",
   "execution_count": 57,
   "metadata": {},
   "outputs": [],
   "source": [
    "A_train = np.array([generate_A() for i in range(size_train)])\n",
    "sigma_train = np.array([np.abs(np.random.uniform(0, 1)) for i in range(size_train)])\n",
    "\n",
    "X_train = np.array([np.random.uniform(-5, 5, (2,)) for i in range(size_train)])\n",
    "Y_train = np.array([simulate(x, A, sigma) for (x, A, sigma) in zip(X_train, A_train, sigma_train)])\n",
    "X_min_train = np.array([np.linalg.inv(A).dot(y) for (A,y) in zip(A_train,Y_train)])\n",
    "X0_train = np.array([x_min + np.random.uniform(-10,10,(2,)) for x_min in X_min_train])\n",
    "\n",
    "#\n",
    "A_test = np.array([generate_A() for i in range(size_test)])\n",
    "sigma_test = np.array([np.abs(np.random.uniform(0, 1)) for i in range(size_test)])\n",
    "\n",
    "X_test = np.array([np.random.uniform(-5, 5, (2,)) for i in range(size_test)])\n",
    "Y_test = np.array([simulate(x, A, sigma) for (x, A, sigma) in zip(X_test, A_test, sigma_test)])\n",
    "X_min_test = np.array([np.linalg.inv(A).dot(y) for (A,y) in zip(A_test,Y_test)])\n",
    "X0_test = np.array([x_min + np.random.uniform(-10,10,(2,)) for x_min in X_min_test])\n"
   ]
  },
  {
   "cell_type": "code",
   "execution_count": 58,
   "metadata": {},
   "outputs": [],
   "source": [
    "def loss(x, y, A):\n",
    "    return 0.5 * x.T.dot(A.T).dot(A).dot(x) -  y.T.dot(A).dot(x)\n",
    "\n",
    "def gradient(x, y, A):\n",
    "    return A.T.dot(A.dot(x) - y)\n",
    "\n"
   ]
  },
  {
   "cell_type": "code",
   "execution_count": 59,
   "metadata": {},
   "outputs": [],
   "source": [
    "extent_x, extent_y = 14, 6\n",
    "xx_grid = np.array([np.linspace(x_min[0]-extent_x, x_min[0]+extent_x, 50) for x_min in X_min_test])\n",
    "yy_grid = np.array([np.linspace(x_min[1]-extent_y, x_min[1]+extent_y, 50) for x_min in X_min_test])\n",
    "\n",
    "\n",
    "XY_grid = np.array([np.meshgrid(xx, yy) for (xx,yy) in zip(xx_grid, yy_grid)])\n",
    "X_grid = XY_grid[:,0,:,:]\n",
    "Y_grid = XY_grid[:,1,:,:]\n",
    "grid = np.concatenate([X_grid[:,:,:,np.newaxis], Y_grid[:,:,:,np.newaxis]], axis=3)\n",
    "\n",
    "Z_grid = np.array([np.apply_along_axis(lambda x: loss(x, y, A), 2, g) for (y,A,g) in zip(Y_test, A_test, grid)])\n",
    "\n",
    "\n"
   ]
  },
  {
   "cell_type": "code",
   "execution_count": 60,
   "metadata": {},
   "outputs": [
    {
     "data": {
      "text/plain": [
       "<matplotlib.collections.PathCollection at 0x7f033c5bf978>"
      ]
     },
     "execution_count": 60,
     "metadata": {},
     "output_type": "execute_result"
    },
    {
     "data": {
      "image/png": "[encoded data removed]",
      "text/plain": [
       "<Figure size 1440x504 with 2 Axes>"
      ]
     },
     "metadata": {
      "needs_background": "light"
     },
     "output_type": "display_data"
    }
   ],
   "source": [
    "\n",
    "i_example = 37\n",
    "\n",
    "plt.rcParams['figure.figsize'] = (20,7)\n",
    "plt.axis('equal')\n",
    "\n",
    "plt.contourf(X_grid[i_example], Y_grid[i_example], Z_grid[i_example], 20)\n",
    "plt.colorbar()\n",
    "plt.scatter(X_min_test[i_example][0], X_min_test[i_example][1])\n",
    "plt.scatter(X_test[i_example][0], X_test[i_example][1], color=colormap[2])\n",
    "plt.scatter(X0_test[i_example][0], X0_test[i_example][1])\n",
    "\n",
    "\n"
   ]
  },
  {
   "cell_type": "markdown",
   "metadata": {},
   "source": [
    "# Gradient Descent"
   ]
  },
  {
   "cell_type": "code",
   "execution_count": 61,
   "metadata": {},
   "outputs": [],
   "source": [
    "lr = 0.1\n",
    "list_xt_gd = []\n",
    "\n",
    "for (x0, y, A) in zip(X0_test, Y_test, A_test):\n",
    "# for (x0, y, A) in zip(X0_train, Y_train, A_train):\n",
    "    xt = x0.copy()\n",
    "    list_xt = [x0]\n",
    "    for t in range(1, time_max_gd):\n",
    "        xt = xt - lr * gradient(xt, y, A)\n",
    "        list_xt.append(xt)\n",
    "    list_xt_gd.append(list_xt)\n",
    "list_xt_gd = np.array(list_xt_gd)"
   ]
  },
  {
   "cell_type": "code",
   "execution_count": 62,
   "metadata": {},
   "outputs": [
    {
     "data": {
      "text/plain": [
       "<matplotlib.collections.PathCollection at 0x7f033c5cb4a8>"
      ]
     },
     "execution_count": 62,
     "metadata": {},
     "output_type": "execute_result"
    },
    {
     "data": {
      "image/png": "[encoded data removed]",
      "text/plain": [
       "<Figure size 1440x504 with 2 Axes>"
      ]
     },
     "metadata": {
      "needs_background": "light"
     },
     "output_type": "display_data"
    }
   ],
   "source": [
    "i_example = 37\n",
    "\n",
    "plt.rcParams['figure.figsize'] = (20,7)\n",
    "plt.axis('equal')\n",
    "\n",
    "plt.contourf(X_grid[i_example], Y_grid[i_example], Z_grid[i_example], 20)\n",
    "plt.colorbar()\n",
    "plt.scatter(X_min_test[i_example][0], X_min_test[i_example][1], c=colormap[4])\n",
    "plt.scatter(X0_test[i_example][0], X0_test[i_example][1])\n",
    "# plt.scatter(X_min_train[i_example][0], X_min_train[i_example][1], c=colormap[4])\n",
    "# plt.scatter(X0_train[i_example][0], X0_train[i_example][1])\n",
    "\n",
    "plt.plot(list_xt_gd[i_example,:,0], list_xt_gd[i_example,:,1], color=colormap[1])\n",
    "plt.scatter(list_xt_gd[i_example,:,0], list_xt_gd[i_example,:,1], c=colormap[1])"
   ]
  },
  {
   "cell_type": "markdown",
   "metadata": {},
   "source": [
    "# RIM"
   ]
  },
  {
   "cell_type": "code",
   "execution_count": 63,
   "metadata": {},
   "outputs": [],
   "source": [
    "# https://github.com/kaustubhhiware/LSTM-GRU-from-scratch/blob/80eb6bca2192e40dd718c6c7bd8830119d78a620/module.py\n",
    "    \n",
    "class GRU_cell(object):\n",
    "\n",
    "    def __init__(self, name, input_nodes, hidden_unit, output_nodes):\n",
    "\n",
    "        self.input_nodes = input_nodes\n",
    "        self.hidden_unit = hidden_unit\n",
    "        self.output_nodes = output_nodes\n",
    "        self.name = name\n",
    "        \n",
    "        self.Wx = tf.Variable(tf.zeros([self.input_nodes, self.hidden_unit]), name=name+'/Wx')\n",
    "\n",
    "        self.Wr = tf.Variable(tf.zeros([self.input_nodes, self.hidden_unit]), name=name+'/Wr')\n",
    "        self.br = tf.Variable(tf.truncated_normal([self.hidden_unit], mean=1), name=name+'/br')\n",
    "        \n",
    "        self.Wz = tf.Variable(tf.zeros([self.input_nodes, self.hidden_unit]), name=name+'/Wz')\n",
    "        self.bz = tf.Variable(tf.truncated_normal([self.hidden_unit], mean=1), name=name+'/bx')\n",
    "\n",
    "        self.Wh = tf.Variable(tf.zeros([self.hidden_unit, self.hidden_unit]), name=name+'/Wh')\n",
    "\n",
    "        self.Wo = tf.Variable(tf.truncated_normal([self.hidden_unit, self.output_nodes], \n",
    "                                                  mean=1, stddev=.01), name=name+'/Wo')\n",
    "        self.bo = tf.Variable(tf.truncated_normal([self.output_nodes], \n",
    "                                                  mean=1, stddev=.01), name=name+'/b0')\n",
    "\n",
    "        self._inputs = tf.placeholder(tf.float32, shape=[None, self.input_nodes])\n",
    "        self.initial_hidden = tf.zeros_like(self._inputs)\n",
    "        self.initial_hidden = tf.matmul(self.initial_hidden, tf.zeros([input_nodes, hidden_unit]))\n",
    "\n",
    "        \n",
    "    def Gru(self, previous_hidden_state, x):\n",
    "\n",
    "        z = tf.sigmoid(tf.matmul(x, self.Wz) + self.bz)\n",
    "        r = tf.sigmoid(tf.matmul(x, self.Wr) + self.br)\n",
    "\n",
    "        h_ = tf.tanh(tf.matmul(x, self.Wx) +\n",
    "                     tf.matmul(previous_hidden_state, self.Wh) * r)\n",
    "\n",
    "        current_hidden_state = tf.multiply( (1 - z), h_) + tf.multiply(previous_hidden_state, z)\n",
    "\n",
    "        return current_hidden_state\n",
    "\n",
    "    def get_output(self, hidden_state):\n",
    "#         output = tf.nn.relu(tf.matmul(hidden_state, self.Wo) + self.bo)\n",
    "        output = tf.nn.leaky_relu(tf.matmul(hidden_state, self.Wo) + self.bo)\n",
    "        return output\n",
    "\n"
   ]
  },
  {
   "cell_type": "code",
   "execution_count": 64,
   "metadata": {},
   "outputs": [],
   "source": [
    "# tf.reset_default_graph()\n",
    "\n",
    "\n",
    "# output_size = 2\n",
    "# hidden_size = 10\n",
    "# tsteps = 1\n",
    "# batch_size = None\n",
    "\n",
    "\n",
    "# xtrue = tf.placeholder(shape=[batch_size, output_size], dtype=tf.float32)\n",
    "# xinp = tf.placeholder(shape=[batch_size, output_size], dtype=tf.float32)\n",
    "# AA = tf.placeholder(shape=[batch_size, output_size, output_size], dtype=tf.float32)\n",
    "# yy = tf.placeholder(shape=[batch_size,  output_size], dtype=tf.float32)\n",
    "\n",
    "# #\n",
    "# xx = xinp\n",
    "\n",
    "# # fidloss =  0.5 * tf.einsum(x.T.dot(A.T).dot(A).dot(x) -  y.T.dot(A).dot(x)\n",
    "# fidloss =  0.5 * tf.einsum('bi,bi->b', xx, tf.einsum('bij,bi->bj', AA, tf.einsum('bij,bj->bi', AA, xx)                                                       ))\n",
    "# fidloss = fidloss -  tf.einsum('bi,bi->b', yy, tf.einsum('bij, bj->bi', AA, xx))\n",
    "# xgrad =  tf.einsum('bij,bi->bj', AA, tf.einsum('bij,bj->bi', AA, xx) - yy)\n",
    "# ygrad = tf.gradients(fidloss, xx)\n",
    "\n",
    "# sess = tf.Session()\n",
    "# sess.run(tf.global_variables_initializer())\n",
    "\n",
    "\n",
    "# # ind = np.random.choice(np.arange(10), 10, replace=False)\n",
    "# ind = np.arange(10).astype(int)\n",
    "# print(ind)\n",
    "# ix0, ixx, iyy, iAA = X0_train[ind], X_train[ind], Y_train[ind], A_train[ind]\n",
    "\n",
    "# tmp = sess.run([fidloss, xgrad, ygrad], {xinp:ix0, xtrue:ixx, yy:iyy, AA:iAA})\n"
   ]
  },
  {
   "cell_type": "code",
   "execution_count": 71,
   "metadata": {},
   "outputs": [],
   "source": [
    "tf.reset_default_graph()\n",
    "\n",
    "\n",
    "output_size = 2\n",
    "hidden_size = 10\n",
    "tsteps = 1\n",
    "batch_size = None\n",
    "\n",
    "\n",
    "xtrue = tf.placeholder(shape=[batch_size, output_size], dtype=tf.float32)\n",
    "xinp = tf.placeholder(shape=[batch_size, output_size], dtype=tf.float32)\n",
    "AA = tf.placeholder(shape=[batch_size, output_size, output_size], dtype=tf.float32)\n",
    "yy = tf.placeholder(shape=[batch_size,  output_size], dtype=tf.float32)\n",
    "\n",
    "\n",
    "##\n",
    "losst = tf.get_variable('loss', initializer=0.)\n",
    "reset_loss = losst.assign(0)\n",
    "\n",
    "#\n",
    "mygru = GRU_cell('1', output_size*2, hidden_size, output_size)\n",
    "# h0 = tf.zeros_like(xinp) \n",
    "h0 = mygru.initial_hidden\n",
    "\n",
    "\n",
    "#\n",
    "xx = xinp\n",
    "hidden = h0\n",
    "xiter = [xx]\n",
    "\n",
    "# fidloss =  0.5 * tf.einsum(x.T.dot(A.T).dot(A).dot(x) -  y.T.dot(A).dot(x)\n",
    "\n",
    "for i in range(10):\n",
    "#     xgrad =  tf.einsum('bij,bi->bj', AA, tf.einsum('bij,bj->bi', AA, xx) - yy)\n",
    "    xt = tf.stop_gradient(xx)\n",
    "    fidloss =  0.5 * tf.einsum('bi,bi->b', xt, tf.einsum('bij,bi->bj', AA, tf.einsum('bij,bj->bi', AA, xt))) \\\n",
    "            -  tf.einsum('bi,bi->b', yy, tf.einsum('bij, bj->bi', AA, xt))\n",
    "\n",
    "    xgrad =  tf.gradients(fidloss, [xt])[0]\n",
    "    xcat = tf.concat([xx, xgrad], axis=-1)\n",
    "    hidden = mygru.Gru(hidden, xcat)\n",
    "    out = mygru.get_output(hidden)\n",
    "    xout = xx + out\n",
    "    losst = losst + tf.reduce_sum((xout - xtrue)**2)\n",
    "    xx = xout\n",
    "    xiter.append(xx)\n",
    "\n",
    "opt = tf.train.AdamOptimizer(learning_rate=0.01)\n",
    "opt_op = opt.minimize(losst)"
   ]
  },
  {
   "cell_type": "code",
   "execution_count": 72,
   "metadata": {},
   "outputs": [
    {
     "name": "stdout",
     "output_type": "stream",
     "text": [
      "Step :  0\n",
      "Step :  100\n",
      "Step :  200\n",
      "Step :  300\n",
      "Step :  400\n",
      "Step :  500\n",
      "Step :  600\n",
      "Step :  700\n",
      "Step :  800\n",
      "Step :  900\n",
      "26.183045625686646\n"
     ]
    }
   ],
   "source": [
    "start = time.time()\n",
    "#Train\n",
    "\n",
    "# with tf.Session() as sess:\n",
    "sess = tf.Session()    \n",
    "sess.run(tf.global_variables_initializer())\n",
    "\n",
    "llist = []\n",
    "for nb in range(1000):\n",
    "    if nb %100 == 0: print('Step : ', nb)\n",
    "    ind = np.random.choice(X_train.shape[0], 1024)\n",
    "    ix0, ixx, iyy, iAA = X0_train[ind], X_train[ind], Y_train[ind], A_train[ind]\n",
    "#     ind = np.random.choice(X_test.shape[0], 512)\n",
    "#     ix0, ixx, iyy, iAA = X0_test[ind], X_test[ind], Y_test[ind], A_test[ind]\n",
    "\n",
    "    _, l, ix = sess.run([opt_op, losst, xiter], \n",
    "                                      {xinp:ix0, xtrue:ixx, yy:iyy, AA:iAA,\n",
    "                                       mygru._inputs:np.concatenate([ix0, ix0], axis=1)})\n",
    "    llist.append(l)\n",
    "\n",
    "print(time.time()-start)"
   ]
  },
  {
   "cell_type": "code",
   "execution_count": 73,
   "metadata": {},
   "outputs": [
    {
     "data": {
      "text/plain": [
       "[]"
      ]
     },
     "execution_count": 73,
     "metadata": {},
     "output_type": "execute_result"
    },
    {
     "data": {
      "image/png": "[encoded data removed]",
      "text/plain": [
       "<Figure size 1440x504 with 1 Axes>"
      ]
     },
     "metadata": {
      "needs_background": "light"
     },
     "output_type": "display_data"
    }
   ],
   "source": [
    "plt.plot(llist)\n",
    "plt.loglog()"
   ]
  },
  {
   "cell_type": "code",
   "execution_count": 81,
   "metadata": {},
   "outputs": [
    {
     "name": "stdout",
     "output_type": "stream",
     "text": [
      "453\n"
     ]
    },
    {
     "data": {
      "text/plain": [
       "<matplotlib.collections.PathCollection at 0x7f0305fb1d30>"
      ]
     },
     "execution_count": 81,
     "metadata": {},
     "output_type": "execute_result"
    },
    {
     "data": {
      "image/png": "[encoded data removed]",
      "text/plain": [
       "<Figure size 1440x504 with 2 Axes>"
      ]
     },
     "metadata": {
      "needs_background": "light"
     },
     "output_type": "display_data"
    }
   ],
   "source": [
    "i_example = np.random.choice(X_test.shape[0])\n",
    "print(i_example)\n",
    "\n",
    "checklosses = []\n",
    "checkstates = []\n",
    "\n",
    "ind = np.array([i_example])\n",
    "ix0, ixx, iyy, iAA = X0_test[ind], X_test[ind], Y_test[ind], A_test[ind]\n",
    "# ix0, ixx, iyy, iAA = X0_train[ind], X_train[ind], Y_train[ind], A_train[ind]\n",
    "\n",
    "il = 0 \n",
    "checkstates.append(ix0)\n",
    "_, l, ix = sess.run([opt_op, losst, xiter], \n",
    "                                  {xinp:ix0, xtrue:ixx, yy:iyy, AA:iAA,\n",
    "                                   mygru._inputs:np.concatenate([ix0, ix0], axis=1)})\n",
    "\n",
    "# checkstates = np.squeeze(np.array(checkstates))\n",
    "checkstates = np.concatenate(ix)\n",
    "\n",
    "\n",
    "\n",
    "\n",
    "plt.rcParams['figure.figsize'] = (20,7)\n",
    "plt.axis('equal')\n",
    "\n",
    "plt.contourf(X_grid[i_example], Y_grid[i_example], Z_grid[i_example], 20)\n",
    "plt.colorbar()\n",
    "plt.scatter(X_min_test[i_example][0], X_min_test[i_example][1], c=colormap[4])\n",
    "plt.scatter(X0_test[i_example][0], X0_test[i_example][1], marker='o')\n",
    "# plt.scatter(X_min_train[i_example][0], X_min_train[i_example][1], c=colormap[4])\n",
    "# plt.scatter(X0_train[i_example][0], X0_train[i_example][1])\n",
    "plt.scatter(list_xt_gd[i_example,:,0], list_xt_gd[i_example,:,1], c=colormap[1], marker ='x')\n",
    "\n",
    "plt.plot(checkstates[:,0], checkstates[:,1], c=colormap[2], lw=2)\n",
    "plt.scatter(checkstates[:,0], checkstates[:,1], c=colormap[2], marker ='o')\n",
    "plt.scatter(checkstates[:,0][-1], checkstates[:,1][-1], c=colormap[3], marker ='x')\n",
    "\n",
    "# print(checkstates)"
   ]
  },
  {
   "cell_type": "code",
   "execution_count": null,
   "metadata": {},
   "outputs": [],
   "source": []
  },
  {
   "cell_type": "code",
   "execution_count": null,
   "metadata": {},
   "outputs": [],
   "source": []
  },
  {
   "cell_type": "markdown",
   "metadata": {},
   "source": []
  }
 ],
 "metadata": {
  "kernelspec": {
   "display_name": "Python 3",
   "language": "python",
   "name": "python3"
  },
  "language_info": {
   "codemirror_mode": {
    "name": "ipython",
    "version": 3
   },
   "file_extension": ".py",
   "mimetype": "text/x-python",
   "name": "python",
   "nbconvert_exporter": "python",
   "pygments_lexer": "ipython3",
   "version": "3.6.8"
  }
 },
 "nbformat": 4,
 "nbformat_minor": 2
}
