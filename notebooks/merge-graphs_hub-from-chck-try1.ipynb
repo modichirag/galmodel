{
 "cells": [
  {
   "cell_type": "markdown",
   "metadata": {},
   "source": [
    "Useful links\n",
    "\n",
    "https://stackoverflow.com/questions/39465526/tensorflow-optimize-over-input-with-gradient-descent\n",
    "\n",
    "merging graphs\n",
    "https://gist.github.com/marta-sd/ba47a9626ae2dbcc47094c196669fd59\n",
    "^good one\n",
    "\n",
    "https://engineering.taboola.com/more-than-one-graph-code-reuse-in-tensorflow/\n",
    "\n",
    "https://stackoverflow.com/questions/33748552/tensorflow-how-to-replace-a-node-in-a-calculation-graph\n",
    "\n",
    "https://blog.metaflow.fr/tensorflow-saving-restoring-and-mixing-multiple-models-c4c94d5d7125\n",
    "\n",
    "hub from checkpoint\n",
    "\n",
    "https://groups.google.com/a/tensorflow.org/forum/#!msg/hub/QEjKHfdD4X4/MFvx31XNBwAJ\n",
    "\n",
    "https://github.com/tensorflow/hub/issues/27\n",
    "\n",
    "https://stackoverflow.com/questions/50747981/create-hub-module-from-existing-checkpoint/50764655#50764655"
   ]
  },
  {
   "cell_type": "code",
   "execution_count": 1,
   "metadata": {},
   "outputs": [
    {
     "name": "stdout",
     "output_type": "stream",
     "text": [
      "Populating the interactive namespace from numpy and matplotlib\n"
     ]
    }
   ],
   "source": [
    "import os\n",
    "os.environ[\"CUDA_VISIBLE_DEVICES\"] = \"1\"\n",
    "%pylab inline\n",
    "%load_ext autoreload\n",
    "%autoreload 2"
   ]
  },
  {
   "cell_type": "code",
   "execution_count": 2,
   "metadata": {},
   "outputs": [],
   "source": [
    "import numpy as np\n",
    "import matplotlib.pyplot as plt\n",
    "#\n",
    "import sys\n",
    "sys.path.append('../code/utils/')\n",
    "sys.path.append('../code')\n",
    "import tools\n",
    "from layers import wide_resnet\n",
    "import datalib as dlib\n",
    "import datatools as dtools\n",
    "from time import time\n",
    "#\n",
    "import tensorflow as tf\n",
    "# tf.enable_eager_execution()\n",
    "import tensorflow.contrib.slim as slim\n",
    "from tensorflow.contrib.slim import add_arg_scope\n",
    "import tensorflow_hub as hub\n",
    "import tensorflow_probability\n",
    "tfd = tensorflow_probability.distributions\n",
    "\n",
    "#############################\n",
    "seed_in = 3\n",
    "from numpy.random import seed\n",
    "seed(seed_in)\n",
    "from tensorflow import set_random_seed\n",
    "set_random_seed(seed_in)\n",
    "\n",
    "bs = 400\n",
    "nc, ncf = 128, 512\n",
    "ncp = 128\n",
    "step, stepf = 5, 40\n",
    "path = '../data/z00/'\n",
    "ftype = 'L%04d_N%04d_S%04d_%02dstep/'\n",
    "numd = 1e-3\n",
    "num = int(numd*bs**3)\n",
    "R1 = 3\n",
    "R2 = 3*1.2\n",
    "kny = np.pi*ncp/bs\n",
    "kk = tools.fftk((ncp, ncp, ncp), bs)\n",
    "seeds = [100]\n",
    "rprob = 0.5\n",
    "shape = (nc, nc, nc)"
   ]
  },
  {
   "cell_type": "code",
   "execution_count": 3,
   "metadata": {},
   "outputs": [],
   "source": [
    "tf.reset_default_graph()\n",
    "\n",
    "suff = 'pad2d8regv1'\n",
    "ftname = ['cic']\n",
    "nchannels = len(ftname)\n",
    "\n",
    "\n",
    "cube_size = 32\n",
    "max_offset = ncp - cube_size\n",
    "pad = 2\n",
    "cube_sizeft = cube_size + 2*pad\n",
    "\n",
    "#                                                                                                                                           \n",
    "niter = 9000\n",
    "sess = tf.Session()\n",
    "chkname = suff #+'_it%d'%niter                                                                                                              \n",
    "\n",
    "# saver = tf.train.import_meta_graph('./../code/models/n%02d/%s/%s.meta'%(numd*1e4, suff, chkname))\n"
   ]
  },
  {
   "cell_type": "code",
   "execution_count": 6,
   "metadata": {},
   "outputs": [],
   "source": [
    "\n",
    "# with tf.Graph().as_default() as gnew:\n",
    "#     xop = tf.get_variable('input_image', [1, cube_sizeft, cube_sizeft, cube_sizeft, 1], \n",
    "#                           dtype=tf.float32, trainable=True, initializer=tf.constant_initializer(value=1.0))\n",
    "#     y = tf.placeholder(tf.float32, shape=[1, cube_size, cube_size, cube_size, 1])\n",
    "\n",
    "    \n",
    "#     saver = tf.train.import_meta_graph('./../code/models/n%02d/%s/%s.meta'%(numd*1e4, suff, chkname))\n",
    "#     prediction = gnew.get_tensor_by_name('prediction:0')\n",
    "#     labels = gnew.get_tensor_by_name('labels:0')\n",
    "#     input = gnew.get_tensor_by_name('input:0')\n",
    "#     keepprob = gnew.get_tensor_by_name('keepprob:0')\n",
    "#     loss = gnew.get_collection('losses')[0]\n",
    "#     gdef = tf.GraphDef()\n",
    "    \n",
    "    \n",
    "# #     lossval = gnew.get_tensor_by_name('sigmoid_cross_entropy_loss/value:0')\n",
    "#     #     \n",
    "# #     g = sess.graph\n",
    "# #     gdef = sess.graph_def\n",
    "\n",
    "#     loss = tf.import_graph_def(gdef, {'input:0':xop, 'labels:0':y}, ['sigmoid_cross_entropy_loss/value:0'])\n",
    "#     # NOTE: using identity to get a known name for the output tensor.\n",
    "#     output = tf.identity(loss, name=\"output\")\n",
    "#     newloss = tf.losses.mean_squared_error(prediction, y)\n",
    "# #     newloss2 = tf.losses.mean_squared_error('input:0':xop, y)\n",
    "\n",
    "# #     xim = xop.assign(input)\n",
    "# #     tf.assign(input, xop)\n",
    "    \n",
    "# gdefnew = gnew.as_graph_def()\n",
    "\n",
    "\n",
    "\n"
   ]
  },
  {
   "cell_type": "code",
   "execution_count": 20,
   "metadata": {},
   "outputs": [],
   "source": [
    "# with tf.Session(graph=gnew) as sess2:\n",
    "# #     saver.restore(sess2,'./../code/models/n%02d/%s/%s'%(numd*1e4, suff, chkname))\n",
    "    \n",
    "# #     # check if values were actually restored, not re-initialized\n",
    "# #     lval = sess2.run([loss, newloss], feed_dict={input:xx, keepprob:1, labels:yy, y:yy})\n",
    "# #     print(lval)\n",
    "    "
   ]
  },
  {
   "cell_type": "code",
   "execution_count": 14,
   "metadata": {},
   "outputs": [],
   "source": [
    "# # saver = tf.train.import_meta_graph('./../code/models/n%02d/%s/%s.meta'%(numd*1e4, suff, chkname))\n",
    "# saver.restore(sess,'./../code/models/n%02d/%s/%s'%(numd*1e4, suff, chkname))\n",
    "# g = sess.graph\n",
    "# gdef = sess.graph_def\n",
    "# prediction = g.get_tensor_by_name('prediction:0')\n",
    "# labels = g.get_tensor_by_name('labels:0')\n",
    "# input = g.get_tensor_by_name('input:0')\n",
    "# keepprob = g.get_tensor_by_name('keepprob:0')\n",
    "# loss = g.get_collection('losses')[0]\n",
    "# # loss = g.get_tensor_by_name('loss:0')\n"
   ]
  },
  {
   "cell_type": "code",
   "execution_count": 4,
   "metadata": {},
   "outputs": [
    {
     "name": "stdout",
     "output_type": "stream",
     "text": [
      "All the mesh have been generated for seed = 100\n",
      "Length of targets =  1\n",
      "Supplemented by rotation :  46\n"
     ]
    }
   ],
   "source": [
    "meshes = {}\n",
    "cube_features, cube_target = [], []\n",
    "for seed in seeds:\n",
    "    mesh = {}\n",
    "    partp = tools.readbigfile(path + ftype%(bs, nc, seed, step) + 'dynamic/1/Position/')\n",
    "    mesh['cic'] = tools.paintcic(partp, bs, ncp)\n",
    "    mesh['decic'] = tools.decic(mesh['cic'], kk, kny)\n",
    "    mesh['R1'] = tools.fingauss(mesh['cic'], kk, R1, kny)\n",
    "    mesh['R2'] = tools.fingauss(mesh['cic'], kk, R2, kny)\n",
    "    mesh['GD'] = mesh['R1'] - mesh['R2']\n",
    "    mesh['s'] = tools.readbigfile(path + ftype%(bs, nc, seed, step) + 'mesh/s/')\n",
    "\n",
    "    hmesh = {}\n",
    "    hposall = tools.readbigfile(path + ftype%(bs, ncf, seed, stepf) + 'FOF/PeakPosition/')[1:]\n",
    "    hposd = hposall[:num].copy()\n",
    "    hmesh['pcic'] = tools.paintcic(hposd, bs, nc)\n",
    "    hmesh['pnn'] = tools.paintnn(hposd, bs, ncp)\n",
    "    hmesh['target'] = hmesh['pnn'].copy()\n",
    "\n",
    "    print('All the mesh have been generated for seed = %d'%seed)\n",
    "\n",
    "    #Create training voxels                                                                                                                 \n",
    "    ftlist = [mesh[i].copy() for i in ftname]\n",
    "    ftlistpad = [np.pad(i, pad, 'wrap') for i in ftlist]\n",
    "    targetmesh = hmesh['target']\n",
    "    targetmesh[targetmesh > 1] = 1\n",
    "\n",
    "    ncube = int(ncp/cube_size)\n",
    "    inp = dtools.splitvoxels(ftlistpad, cube_size=cube_sizeft, shift=cube_size, ncube=ncube)\n",
    "#     recp = sess.run(prediction, feed_dict={input:inp, keepprob:1})\n",
    "#     mesh['predict'] = dtools.uncubify(recp[:,:,:,:,0], (nc, nc, nc))\n",
    "    features, target = dtools.randomvoxels(ftlistpad, targetmesh, 100, max_offset,\n",
    "                                           cube_size, cube_sizeft, seed=seed, rprob=rprob)\n",
    "\n",
    "    meshes[seed] = [mesh, hmesh]\n",
    "\n",
    "features = np.stack(features, axis=0)\n",
    "target = np.stack(target, axis=0)\n",
    "\n"
   ]
  },
  {
   "cell_type": "code",
   "execution_count": 59,
   "metadata": {},
   "outputs": [],
   "source": []
  },
  {
   "cell_type": "code",
   "execution_count": 5,
   "metadata": {},
   "outputs": [
    {
     "name": "stderr",
     "output_type": "stream",
     "text": [
      "/home/chmodi/.local/lib/python3.6/site-packages/ipykernel_launcher.py:2: DeprecationWarning: Calling np.sum(generator) is deprecated, and in the future will give a different result. Use np.sum(np.from_iter(generator)) or the python sum builtin instead.\n",
      "  \n",
      "/home/chmodi/.local/lib/python3.6/site-packages/ipykernel_launcher.py:15: RuntimeWarning: invalid value encountered in true_divide\n",
      "  from ipykernel import kernelapp as app\n",
      "/home/chmodi/.local/lib/python3.6/site-packages/ipykernel_launcher.py:16: RuntimeWarning: invalid value encountered in true_divide\n",
      "  app.launch_new_instance()\n",
      "/home/chmodi/.local/lib/python3.6/site-packages/ipykernel_launcher.py:15: RuntimeWarning: invalid value encountered in true_divide\n",
      "  from ipykernel import kernelapp as app\n",
      "/home/chmodi/.local/lib/python3.6/site-packages/ipykernel_launcher.py:16: RuntimeWarning: invalid value encountered in true_divide\n",
      "  app.launch_new_instance()\n"
     ]
    },
    {
     "data": {
      "image/png": "[encoded data removed]",
      "text/plain": [
       "<Figure size 720x288 with 2 Axes>"
      ]
     },
     "metadata": {
      "needs_background": "light"
     },
     "output_type": "display_data"
    }
   ],
   "source": [
    "# kk = tools.fftk(shape, bs)\n",
    "# kmesh = sum(i**2 for i in kk)**0.5\n",
    "\n",
    "\n",
    "# fig, ax = plt.subplots(1, 2, figsize = (10, 4))\n",
    "# for seed in seeds:\n",
    "#     predict, hpmeshd = meshes[seed][0]['predict'], meshes[seed][1]['target'],\n",
    "#     k, pkpred = tools.power(predict/predict.mean(), boxsize=bs, k=kmesh)\n",
    "#     k, pkhd = tools.power(hpmeshd/hpmeshd.mean(), boxsize=bs, k=kmesh)\n",
    "#     k, pkhx = tools.power(hpmeshd/hpmeshd.mean(), predict/predict.mean(), boxsize=bs, k=kmesh)\n",
    "#     #k, pkpredall = tools.power(predictall/predictall.mean(), boxsize=bs, k=kmesh)                                                          \n",
    "#     #k, pkhallx = tools.power(hpmeshd/hpmeshd.mean(), predictall/predictall.mean(), boxsize=bs, k=kmesh)                                    \n",
    "\n",
    "#     ##                                                                                                                                      \n",
    "#     ax[0].semilogx(k, pkpred/pkhd, label=seed)\n",
    "#     ax[1].semilogx(k, pkhx/(pkpred*pkhd)**0.5)\n",
    "#     # plt.plot(k, pkpredall/pkhd)                                                                                                           \n",
    "\n",
    "# ax[0].legend(fontsize=14)\n",
    "# ax[0].set_title('Trasnfer function', fontsize=14)\n",
    "# ax[1].set_title('Cross correlation', fontsize=14)\n",
    "# for axis in ax: axis.set_ylim(0., 1.1)\n",
    "# for axis in ax: axis.set_yticks(np.arange(0, 1.1, 0.1))\n",
    "# for axis in ax: axis.grid(which='both')\n"
   ]
  },
  {
   "cell_type": "markdown",
   "metadata": {},
   "source": [
    "# Module"
   ]
  },
  {
   "cell_type": "code",
   "execution_count": 233,
   "metadata": {},
   "outputs": [
    {
     "data": {
      "text/plain": [
       "(1, 32, 32, 32, 1)"
      ]
     },
     "execution_count": 233,
     "metadata": {},
     "output_type": "execute_result"
    }
   ],
   "source": [
    "xx = features[0:1].copy()\n",
    "yy = target[0:1].copy()\n",
    "\n",
    "xx2 = xx[:, 2:34, 2:34, 2:34, :].copy()\n",
    "xx2.shape"
   ]
  },
  {
   "cell_type": "code",
   "execution_count": 234,
   "metadata": {},
   "outputs": [
    {
     "data": {
      "text/plain": [
       "<matplotlib.image.AxesImage at 0x7f0c07eef4e0>"
      ]
     },
     "execution_count": 234,
     "metadata": {},
     "output_type": "execute_result"
    },
    {
     "data": {
      "image/png": "[encoded data removed]",
      "text/plain": [
       "<Figure size 432x288 with 1 Axes>"
      ]
     },
     "metadata": {
      "needs_background": "light"
     },
     "output_type": "display_data"
    }
   ],
   "source": [
    "plt.imshow(xx2.reshape(32, 32, 32).sum(axis=0))"
   ]
  },
  {
   "cell_type": "code",
   "execution_count": 235,
   "metadata": {},
   "outputs": [
    {
     "data": {
      "text/plain": [
       "<matplotlib.image.AxesImage at 0x7f0c60209fd0>"
      ]
     },
     "execution_count": 235,
     "metadata": {},
     "output_type": "execute_result"
    },
    {
     "data": {
      "image/png": "[encoded data removed]",
      "text/plain": [
       "<Figure size 432x288 with 1 Axes>"
      ]
     },
     "metadata": {
      "needs_background": "light"
     },
     "output_type": "display_data"
    }
   ],
   "source": [
    "plt.imshow(yy.reshape(32, 32, 32).sum(axis=0))"
   ]
  },
  {
   "cell_type": "code",
   "execution_count": 201,
   "metadata": {},
   "outputs": [
    {
     "name": "stdout",
     "output_type": "stream",
     "text": [
      "INFO:tensorflow:Saver not created because there are no variables in the graph to restore\n",
      "INFO:tensorflow:Saver not created because there are no variables in the graph to restore\n"
     ]
    }
   ],
   "source": [
    "tf.reset_default_graph()\n",
    "\n",
    "mm = hub.Module('tfplay2.hub', trainable=False)\n",
    "# xxopt = tf.Variable(name='xxopt', initial_value=np.ones(xx2.shape).astype(float32))\n",
    "xxcheck = tf.placeholder(float32, xx2.shape, name='input')\n",
    "xxopt = tf.get_variable(name='xxopt', shape=xx2.shape, initializer=tf.initializers.ones)\n",
    "yytrue = tf.placeholder(float32, xx2.shape, name='truth')\n",
    "lr = tf.placeholder(float32, name='learningrate')\n",
    "\n",
    "output = mm(dict(inp=xxopt, labs=yytrue))\n",
    "outputcheck = mm(dict(inp=xxcheck, labs=yytrue))\n",
    "# loss = tf.losses.mean_pairwise_squared_error(yytrue, output)\n",
    "loss = tf.losses.sigmoid_cross_entropy(yytrue, output)\n",
    "\n",
    "optimizer = tf.train.GradientDescentOptimizer(learning_rate=lr)\n",
    "opt_op = optimizer.minimize(loss, var_list=[xxopt])\n",
    "# opt_op = optimizer.minimize(tf.reduce_sum(output))\n",
    "\n",
    "\n"
   ]
  },
  {
   "cell_type": "code",
   "execution_count": 203,
   "metadata": {},
   "outputs": [
    {
     "name": "stdout",
     "output_type": "stream",
     "text": [
      "100.0\n",
      "10.0\n",
      "1.0\n",
      "0.1\n",
      "0.01\n",
      "0.001\n"
     ]
    }
   ],
   "source": [
    "session = tf.Session()\n",
    "session.run(tf.initializers.global_variables())\n",
    "\n",
    "valin = session.run(xxopt.value())\n",
    "\n",
    "losses = []\n",
    "outs = []\n",
    "lr0 = 1000\n",
    "nlr = 5000\n",
    "for i in range(30000):\n",
    "    if i%nlr == 0: \n",
    "        lr0 /= 10.\n",
    "        print(lr0)\n",
    "    _, l = session.run([opt_op, loss], feed_dict={yytrue:yy, lr:lr0})\n",
    "#     l, out = session.run([loss, output])\n",
    "    losses.append(l)\n"
   ]
  },
  {
   "cell_type": "code",
   "execution_count": 204,
   "metadata": {},
   "outputs": [
    {
     "data": {
      "text/plain": [
       "[<matplotlib.lines.Line2D at 0x7f0c105f29e8>]"
      ]
     },
     "execution_count": 204,
     "metadata": {},
     "output_type": "execute_result"
    },
    {
     "data": {
      "image/png": "[encoded data removed]",
      "text/plain": [
       "<Figure size 432x288 with 1 Axes>"
      ]
     },
     "metadata": {
      "needs_background": "light"
     },
     "output_type": "display_data"
    }
   ],
   "source": [
    "plt.plot(losses)"
   ]
  },
  {
   "cell_type": "code",
   "execution_count": 205,
   "metadata": {},
   "outputs": [],
   "source": [
    "# val = session.run(xxopt.value())\n",
    "val = session.run(xxopt)"
   ]
  },
  {
   "cell_type": "code",
   "execution_count": 206,
   "metadata": {},
   "outputs": [
    {
     "data": {
      "text/plain": [
       "<matplotlib.image.AxesImage at 0x7f0c10644d30>"
      ]
     },
     "execution_count": 206,
     "metadata": {},
     "output_type": "execute_result"
    },
    {
     "data": {
      "image/png": "[encoded data removed]",
      "text/plain": [
       "<Figure size 432x288 with 1 Axes>"
      ]
     },
     "metadata": {
      "needs_background": "light"
     },
     "output_type": "display_data"
    }
   ],
   "source": [
    "plt.imshow(valin.reshape(32, 32, 32).sum(axis=0))"
   ]
  },
  {
   "cell_type": "code",
   "execution_count": 222,
   "metadata": {},
   "outputs": [
    {
     "data": {
      "text/plain": [
       "<matplotlib.colorbar.Colorbar at 0x7f0c07cba668>"
      ]
     },
     "execution_count": 222,
     "metadata": {},
     "output_type": "execute_result"
    },
    {
     "data": {
      "image/png": "[encoded data removed]",
      "text/plain": [
       "<Figure size 432x288 with 2 Axes>"
      ]
     },
     "metadata": {
      "needs_background": "light"
     },
     "output_type": "display_data"
    }
   ],
   "source": [
    "im = plt.imshow(xx2.reshape(32, 32, 32).sum(axis=0))\n",
    "plt.colorbar(im)"
   ]
  },
  {
   "cell_type": "code",
   "execution_count": 223,
   "metadata": {},
   "outputs": [
    {
     "data": {
      "text/plain": [
       "<matplotlib.colorbar.Colorbar at 0x7f0c07bdc400>"
      ]
     },
     "execution_count": 223,
     "metadata": {},
     "output_type": "execute_result"
    },
    {
     "data": {
      "image/png": "[encoded data removed]",
      "text/plain": [
       "<Figure size 432x288 with 2 Axes>"
      ]
     },
     "metadata": {
      "needs_background": "light"
     },
     "output_type": "display_data"
    }
   ],
   "source": [
    "xx22 = (xx2 - xx2.mean())/xx2.std()\n",
    "im = plt.imshow(xx22.reshape(32, 32, 32).sum(axis=0))\n",
    "plt.colorbar(im)"
   ]
  },
  {
   "cell_type": "code",
   "execution_count": 224,
   "metadata": {},
   "outputs": [
    {
     "data": {
      "text/plain": [
       "<matplotlib.colorbar.Colorbar at 0x7f0c07aff5f8>"
      ]
     },
     "execution_count": 224,
     "metadata": {},
     "output_type": "execute_result"
    },
    {
     "data": {
      "image/png": "[encoded data removed]",
      "text/plain": [
       "<Figure size 432x288 with 2 Axes>"
      ]
     },
     "metadata": {
      "needs_background": "light"
     },
     "output_type": "display_data"
    }
   ],
   "source": [
    "im = plt.imshow(val.reshape(32, 32, 32).sum(axis=0))\n",
    "plt.colorbar(im)"
   ]
  },
  {
   "cell_type": "code",
   "execution_count": 225,
   "metadata": {},
   "outputs": [
    {
     "data": {
      "text/plain": [
       "<matplotlib.colorbar.Colorbar at 0x7f0c07aa42b0>"
      ]
     },
     "execution_count": 225,
     "metadata": {},
     "output_type": "execute_result"
    },
    {
     "data": {
      "image/png": "[encoded data removed]",
      "text/plain": [
       "<Figure size 432x288 with 2 Axes>"
      ]
     },
     "metadata": {
      "needs_background": "light"
     },
     "output_type": "display_data"
    }
   ],
   "source": [
    "im = plt.imshow((xx2- val)[0, :, :, :, 0].sum(axis=-1))\n",
    "plt.colorbar(im)"
   ]
  },
  {
   "cell_type": "code",
   "execution_count": 226,
   "metadata": {},
   "outputs": [
    {
     "data": {
      "text/plain": [
       "<matplotlib.colorbar.Colorbar at 0x7f0c079c6710>"
      ]
     },
     "execution_count": 226,
     "metadata": {},
     "output_type": "execute_result"
    },
    {
     "data": {
      "image/png": "[encoded data removed]",
      "text/plain": [
       "<Figure size 432x288 with 2 Axes>"
      ]
     },
     "metadata": {
      "needs_background": "light"
     },
     "output_type": "display_data"
    }
   ],
   "source": [
    "im = plt.imshow((xx22- val)[0, :, :, :, 0].sum(axis=-1))\n",
    "plt.colorbar(im)"
   ]
  },
  {
   "cell_type": "code",
   "execution_count": 227,
   "metadata": {},
   "outputs": [],
   "source": [
    "out1 = session.run(tf.nn.sigmoid(outputcheck), feed_dict={yytrue:yy, xxcheck:xx2})\n",
    "out2 = session.run(tf.nn.sigmoid(outputcheck), feed_dict={yytrue:yy, xxcheck:val})"
   ]
  },
  {
   "cell_type": "code",
   "execution_count": 228,
   "metadata": {},
   "outputs": [
    {
     "data": {
      "image/png": "[encoded data removed]",
      "text/plain": [
       "<Figure size 432x288 with 1 Axes>"
      ]
     },
     "metadata": {
      "needs_background": "light"
     },
     "output_type": "display_data"
    }
   ],
   "source": [
    "im = plt.imshow(out1[0, :, :, :, 0].sum(axis=-1))"
   ]
  },
  {
   "cell_type": "code",
   "execution_count": 231,
   "metadata": {},
   "outputs": [
    {
     "data": {
      "text/plain": [
       "<matplotlib.colorbar.Colorbar at 0x7f0c07801e80>"
      ]
     },
     "execution_count": 231,
     "metadata": {},
     "output_type": "execute_result"
    },
    {
     "data": {
      "image/png": "[encoded data removed]",
      "text/plain": [
       "<Figure size 432x288 with 2 Axes>"
      ]
     },
     "metadata": {
      "needs_background": "light"
     },
     "output_type": "display_data"
    }
   ],
   "source": [
    "im = plt.imshow(out2[0, :, :, :, 0].sum(axis=-1))\n",
    "plt.colorbar(im)"
   ]
  },
  {
   "cell_type": "code",
   "execution_count": 232,
   "metadata": {},
   "outputs": [
    {
     "data": {
      "text/plain": [
       "<matplotlib.colorbar.Colorbar at 0x7f0c07969898>"
      ]
     },
     "execution_count": 232,
     "metadata": {},
     "output_type": "execute_result"
    },
    {
     "data": {
      "image/png": "[encoded data removed]",
      "text/plain": [
       "<Figure size 432x288 with 2 Axes>"
      ]
     },
     "metadata": {
      "needs_background": "light"
     },
     "output_type": "display_data"
    }
   ],
   "source": [
    "im = plt.imshow(yy.reshape(32, 32, 32).sum(axis=0))\n",
    "plt.colorbar(im)"
   ]
  },
  {
   "cell_type": "code",
   "execution_count": null,
   "metadata": {},
   "outputs": [],
   "source": [
    "plt.imshow(yy.reshape(32, 32, 32).sum(axis=0))"
   ]
  },
  {
   "cell_type": "markdown",
   "metadata": {},
   "source": [
    "# Grad"
   ]
  },
  {
   "cell_type": "code",
   "execution_count": 16,
   "metadata": {},
   "outputs": [
    {
     "name": "stdout",
     "output_type": "stream",
     "text": [
      "INFO:tensorflow:Restoring parameters from ./../code/models/n10/pad2d8regv1/pad2d8regv1\n"
     ]
    }
   ],
   "source": [
    "# with tf.Graph().as_default() as gnew:\n",
    "#     xop = tf.get_variable('input_image', [1, cube_sizeft, cube_sizeft, cube_sizeft, 1], \n",
    "#                           dtype=tf.float32, trainable=True, initializer=tf.constant_initializer(value=1.0))\n",
    "#     y = tf.placeholder(tf.float32, shape=[1, cube_size, cube_size, cube_size, 1])\n",
    "\n",
    "    \n",
    "#     saver = tf.train.import_meta_graph('./../code/models/n%02d/%s/%s.meta'%(numd*1e4, suff, chkname))\n",
    "#     saver.restore(sess,'./../code/models/n%02d/%s/%s'%(numd*1e4, suff, chkname))\n",
    "#     g = sess.graph\n",
    "#     gdef = sess.graph_def\n",
    "\n",
    "#     loss = tf.import_graph_def(gdef, {'input:0':xop, 'labels:0':y}, ['sigmoid_cross_entropy_loss/value:0'])\n",
    "#     # NOTE: using identity to get a known name for the output tensor.\n",
    "#     output = tf.identity(loss, name=\"output\")\n",
    "\n",
    "# gdefnew = gnew.as_graph_def()"
   ]
  },
  {
   "cell_type": "code",
   "execution_count": 22,
   "metadata": {},
   "outputs": [],
   "source": [
    "# #your starting image\n",
    "# start_value = (np.ones((4, 4), dtype=np.float32) + np.eye(4))[None, :, :, None]\n",
    "\n",
    "\n",
    "# # override variable_getter\n",
    "# def nontrainable_getter(getter, *args, **kwargs):\n",
    "#     kwargs['trainable'] = False\n",
    "#     return getter(*args, **kwargs)\n",
    "\n",
    "\n",
    "# # all variables in this scope are not trainable\n",
    "# with tf.variable_scope('myscope', custom_getter=nontrainable_getter):\n",
    "#     x = tf.layers.dense(img_op, 10)\n",
    "#     y = tf.layers.dense(x, 10)\n",
    "\n",
    "# the usual stuff\n",
    "\n",
    "# cost_op = tf.losses.mean_squared_error(prediction, y)\n",
    "# train_op = tf.train.AdamOptimizer(0.1).minimize(cost_op, var_list = [xass])\n",
    "\n",
    "# fire up the training process\n",
    "# with tf.Session() as sess:\n",
    "#     sess.run(tf.global_variables_initializer())\n",
    "#     sess.run(img_assign, {data_pldhr: start_value})\n",
    "\n",
    "#     print(sess.run(img_op))\n",
    "#     for i in range(10):\n",
    "#         _, c = sess.run([train_op, cost_op])\n",
    "#         print(c)\n",
    "#     print(sess.run(img_op))"
   ]
  },
  {
   "cell_type": "code",
   "execution_count": null,
   "metadata": {},
   "outputs": [],
   "source": []
  }
 ],
 "metadata": {
  "kernelspec": {
   "display_name": "Python 3",
   "language": "python",
   "name": "python3"
  },
  "language_info": {
   "codemirror_mode": {
    "name": "ipython",
    "version": 3
   },
   "file_extension": ".py",
   "mimetype": "text/x-python",
   "name": "python",
   "nbconvert_exporter": "python",
   "pygments_lexer": "ipython3",
   "version": "3.6.6"
  }
 },
 "nbformat": 4,
 "nbformat_minor": 2
}
