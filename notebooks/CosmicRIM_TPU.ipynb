{
  "nbformat": 4,
  "nbformat_minor": 0,
  "metadata": {
    "kernelspec": {
      "name": "python3",
      "display_name": "Python 3"
    },
    "language_info": {
      "codemirror_mode": {
        "name": "ipython",
        "version": 3
      },
      "file_extension": ".py",
      "mimetype": "text/x-python",
      "name": "python",
      "nbconvert_exporter": "python",
      "pygments_lexer": "ipython3",
      "version": "3.6.8"
    },
    "colab": {
      "name": "CosmicRIM-TPU.ipynb",
      "provenance": [],
      "collapsed_sections": [
        "vrgmyAIpqBis",
        "V-i6WS01qBiu",
        "x-8u-UUOqBjD",
        "a5LMCIHDqBjM"
      ],
      "machine_shape": "hm",
      "include_colab_link": true
    },
    "accelerator": "TPU"
  },
  "cells": [
    {
      "cell_type": "markdown",
      "metadata": {
        "id": "view-in-github",
        "colab_type": "text"
      },
      "source": [
        "<a href=\"https://colab.research.google.com/github/modichirag/galmodel/blob/u%2FEiffL%2FCosmicRIM/notebooks/CosmicRIM_TPU.ipynb\" target=\"_parent\"><img src=\"https://colab.research.google.com/assets/colab-badge.svg\" alt=\"Open In Colab\"/></a>"
      ]
    },
    {
      "cell_type": "markdown",
      "metadata": {
        "id": "U4choEkMqLoH",
        "colab_type": "text"
      },
      "source": [
        "## Installing dependencies\n"
      ]
    },
    {
      "cell_type": "code",
      "metadata": {
        "id": "QyE4sLClqKKm",
        "colab_type": "code",
        "outputId": "14ef7efa-9ceb-40c0-911f-ddba7a19c718",
        "colab": {
          "base_uri": "https://localhost:8080/",
          "height": 899
        }
      },
      "source": [
        "!pip install git+https://github.com/modichirag/flowpm.git@u/EiffL/TPU\n",
        "!git clone https://github.com/modichirag/flowpm.git\n",
        "!git clone https://github.com/modichirag/galmodel.git -b u/EiffL/CosmicRIM"
      ],
      "execution_count": 1,
      "outputs": [
        {
          "output_type": "stream",
          "text": [
            "Collecting git+https://github.com/modichirag/flowpm.git@u/EiffL/TPU\n",
            "  Cloning https://github.com/modichirag/flowpm.git (to revision u/EiffL/TPU) to /tmp/pip-req-build-duy_z8d1\n",
            "  Running command git clone -q https://github.com/modichirag/flowpm.git /tmp/pip-req-build-duy_z8d1\n",
            "  Running command git checkout -b u/EiffL/TPU --track origin/u/EiffL/TPU\n",
            "  Switched to a new branch 'u/EiffL/TPU'\n",
            "  Branch 'u/EiffL/TPU' set up to track remote branch 'u/EiffL/TPU' from 'origin'.\n",
            "Requirement already satisfied: astropy in /usr/local/lib/python3.6/dist-packages (from flowpm==0.1) (3.0.5)\n",
            "Requirement already satisfied: scipy in /usr/local/lib/python3.6/dist-packages (from flowpm==0.1) (1.3.1)\n",
            "Requirement already satisfied: tensorflow in /usr/local/lib/python3.6/dist-packages (from flowpm==0.1) (1.14.0)\n",
            "Requirement already satisfied: numpy>=1.10.0 in /usr/local/lib/python3.6/dist-packages (from astropy->flowpm==0.1) (1.16.5)\n",
            "Requirement already satisfied: tensorflow-estimator<1.15.0rc0,>=1.14.0rc0 in /usr/local/lib/python3.6/dist-packages (from tensorflow->flowpm==0.1) (1.14.0)\n",
            "Requirement already satisfied: six>=1.10.0 in /usr/local/lib/python3.6/dist-packages (from tensorflow->flowpm==0.1) (1.12.0)\n",
            "Requirement already satisfied: keras-preprocessing>=1.0.5 in /usr/local/lib/python3.6/dist-packages (from tensorflow->flowpm==0.1) (1.1.0)\n",
            "Requirement already satisfied: protobuf>=3.6.1 in /usr/local/lib/python3.6/dist-packages (from tensorflow->flowpm==0.1) (3.7.1)\n",
            "Requirement already satisfied: wheel>=0.26 in /usr/local/lib/python3.6/dist-packages (from tensorflow->flowpm==0.1) (0.33.6)\n",
            "Requirement already satisfied: astor>=0.6.0 in /usr/local/lib/python3.6/dist-packages (from tensorflow->flowpm==0.1) (0.8.0)\n",
            "Requirement already satisfied: grpcio>=1.8.6 in /usr/local/lib/python3.6/dist-packages (from tensorflow->flowpm==0.1) (1.15.0)\n",
            "Requirement already satisfied: absl-py>=0.7.0 in /usr/local/lib/python3.6/dist-packages (from tensorflow->flowpm==0.1) (0.8.0)\n",
            "Requirement already satisfied: wrapt>=1.11.1 in /usr/local/lib/python3.6/dist-packages (from tensorflow->flowpm==0.1) (1.11.2)\n",
            "Requirement already satisfied: keras-applications>=1.0.6 in /usr/local/lib/python3.6/dist-packages (from tensorflow->flowpm==0.1) (1.0.8)\n",
            "Requirement already satisfied: termcolor>=1.1.0 in /usr/local/lib/python3.6/dist-packages (from tensorflow->flowpm==0.1) (1.1.0)\n",
            "Requirement already satisfied: google-pasta>=0.1.6 in /usr/local/lib/python3.6/dist-packages (from tensorflow->flowpm==0.1) (0.1.7)\n",
            "Requirement already satisfied: tensorboard<1.15.0,>=1.14.0 in /usr/local/lib/python3.6/dist-packages (from tensorflow->flowpm==0.1) (1.14.0)\n",
            "Requirement already satisfied: gast>=0.2.0 in /usr/local/lib/python3.6/dist-packages (from tensorflow->flowpm==0.1) (0.2.2)\n",
            "Requirement already satisfied: setuptools in /usr/local/lib/python3.6/dist-packages (from protobuf>=3.6.1->tensorflow->flowpm==0.1) (41.2.0)\n",
            "Requirement already satisfied: h5py in /usr/local/lib/python3.6/dist-packages (from keras-applications>=1.0.6->tensorflow->flowpm==0.1) (2.8.0)\n",
            "Requirement already satisfied: werkzeug>=0.11.15 in /usr/local/lib/python3.6/dist-packages (from tensorboard<1.15.0,>=1.14.0->tensorflow->flowpm==0.1) (0.15.6)\n",
            "Requirement already satisfied: markdown>=2.6.8 in /usr/local/lib/python3.6/dist-packages (from tensorboard<1.15.0,>=1.14.0->tensorflow->flowpm==0.1) (3.1.1)\n",
            "Building wheels for collected packages: flowpm\n",
            "  Building wheel for flowpm (setup.py) ... \u001b[?25l\u001b[?25hdone\n",
            "  Created wheel for flowpm: filename=flowpm-0.1-cp36-none-any.whl size=11318 sha256=bc16c711e9e198241e32855941844a95b684f1dece1d3e6c0bb656c7669b8e93\n",
            "  Stored in directory: /tmp/pip-ephem-wheel-cache-pi6978b_/wheels/7d/45/5d/c6ad7d04527b1275883565247915406a8f7c183ed65572eaf8\n",
            "Successfully built flowpm\n",
            "Installing collected packages: flowpm\n",
            "Successfully installed flowpm-0.1\n",
            "Cloning into 'flowpm'...\n",
            "remote: Enumerating objects: 239, done.\u001b[K\n",
            "remote: Counting objects: 100% (239/239), done.\u001b[K\n",
            "remote: Compressing objects: 100% (169/169), done.\u001b[K\n",
            "remote: Total 239 (delta 137), reused 153 (delta 62), pack-reused 0\u001b[K\n",
            "Receiving objects: 100% (239/239), 156.19 KiB | 4.11 MiB/s, done.\n",
            "Resolving deltas: 100% (137/137), done.\n",
            "Cloning into 'galmodel'...\n",
            "remote: Enumerating objects: 51, done.\u001b[K\n",
            "remote: Counting objects: 100% (51/51), done.\u001b[K\n",
            "remote: Compressing objects: 100% (41/41), done.\u001b[K\n",
            "remote: Total 694 (delta 21), reused 33 (delta 9), pack-reused 643\u001b[K\n",
            "Receiving objects: 100% (694/694), 17.87 MiB | 34.53 MiB/s, done.\n",
            "Resolving deltas: 100% (391/391), done.\n"
          ],
          "name": "stdout"
        }
      ]
    },
    {
      "cell_type": "code",
      "metadata": {
        "id": "W949xI0gZQpg",
        "colab_type": "code",
        "colab": {}
      },
      "source": [
        "import sys\n",
        "sys.path.insert(0,'galmodel/')"
      ],
      "execution_count": 0,
      "outputs": []
    },
    {
      "cell_type": "code",
      "metadata": {
        "id": "wU5T742fq35j",
        "colab_type": "code",
        "colab": {
          "base_uri": "https://localhost:8080/",
          "height": 161
        },
        "outputId": "8d85d6c9-b1be-4aa5-fdbb-65e600555d56"
      },
      "source": [
        "# Authenticate on GCP\n",
        "from google.colab import auth\n",
        "auth.authenticate_user() # Authenticates the backend and also the TPU using your credentials so that they can access your private GCS buckets"
      ],
      "execution_count": 3,
      "outputs": [
        {
          "output_type": "stream",
          "text": [
            "WARNING:tensorflow:\n",
            "The TensorFlow contrib module will not be included in TensorFlow 2.0.\n",
            "For more information, please see:\n",
            "  * https://github.com/tensorflow/community/blob/master/rfcs/20180907-contrib-sunset.md\n",
            "  * https://github.com/tensorflow/addons\n",
            "  * https://github.com/tensorflow/io (for I/O related ops)\n",
            "If you depend on functionality not listed there, please file an issue.\n",
            "\n"
          ],
          "name": "stdout"
        }
      ]
    },
    {
      "cell_type": "code",
      "metadata": {
        "id": "YHR_XaK6q7um",
        "colab_type": "code",
        "colab": {
          "base_uri": "https://localhost:8080/",
          "height": 35
        },
        "outputId": "40d2bb97-f0b4-4a8b-af69-7594ba7393ce"
      },
      "source": [
        "import tensorflow as tf\n",
        "try: # TPU detection\n",
        "  tpu = tf.contrib.cluster_resolver.TPUClusterResolver() # Picks up a connected TPU on Google's Colab, ML Engine, Kubernetes and Deep Learning VMs accessed through the 'ctpu up' utility\n",
        "  #tpu = tf.contrib.cluster_resolver.TPUClusterResolver('MY_TPU_NAME') # If auto-detection does not work, you can pass the name of the TPU explicitly (tip: on a VM created with \"ctpu up\" the TPU has the same name as the VM)\n",
        "  print('Running on TPU ', tpu.cluster_spec().as_dict()['worker'])\n",
        "  master = tpu.get_master()\n",
        "  USE_TPU = True\n",
        "except ValueError:\n",
        "  tpu = None\n",
        "  print(\"Running on GPU or CPU\")\n",
        "  USE_TPU = False"
      ],
      "execution_count": 4,
      "outputs": [
        {
          "output_type": "stream",
          "text": [
            "Running on TPU  ['10.14.19.202:8470']\n"
          ],
          "name": "stdout"
        }
      ]
    },
    {
      "cell_type": "code",
      "metadata": {
        "id": "WBUXAWcCrHw1",
        "colab_type": "code",
        "colab": {}
      },
      "source": [
        "BUCKET = 'gs://cosmic_rim' #@param {type:\"string\"}"
      ],
      "execution_count": 0,
      "outputs": []
    },
    {
      "cell_type": "markdown",
      "metadata": {
        "id": "q5U4M4WJqsPH",
        "colab_type": "text"
      },
      "source": [
        "## Moving on to the main business"
      ]
    },
    {
      "cell_type": "code",
      "metadata": {
        "id": "waisY9rOqBhU",
        "colab_type": "code",
        "outputId": "88456d4e-f8f6-411b-b70d-82f06e023c90",
        "colab": {
          "base_uri": "https://localhost:8080/",
          "height": 35
        }
      },
      "source": [
        "%pylab inline\n",
        "colormap = np.array(plt.rcParams['axes.prop_cycle'].by_key()['color'])"
      ],
      "execution_count": 6,
      "outputs": [
        {
          "output_type": "stream",
          "text": [
            "Populating the interactive namespace from numpy and matplotlib\n"
          ],
          "name": "stdout"
        }
      ]
    },
    {
      "cell_type": "code",
      "metadata": {
        "id": "byJY9g5pqBhd",
        "colab_type": "code",
        "colab": {}
      },
      "source": [
        "import tensorflow as tf\n",
        "\n",
        "import flowpm\n",
        "from scipy.interpolate import InterpolatedUnivariateSpline as iuspline\n",
        "\n",
        "klin = np.loadtxt('flowpm/flowpm/data/Planck15_a1p00.txt').T[0]\n",
        "plin = np.loadtxt('flowpm/flowpm/data/Planck15_a1p00.txt').T[1]\n",
        "\n",
        "ipklin = iuspline(klin, plin)"
      ],
      "execution_count": 0,
      "outputs": []
    },
    {
      "cell_type": "markdown",
      "metadata": {
        "id": "xMmFmn4HqBhq",
        "colab_type": "text"
      },
      "source": [
        "### Build data pipeline"
      ]
    },
    {
      "cell_type": "code",
      "metadata": {
        "id": "lofiTVyqqBhr",
        "colab_type": "code",
        "colab": {}
      },
      "source": [
        "# Parameters of the simulations\n",
        "a0 = 0.1\n",
        "stages = np.linspace(a0, 1.0, 2, endpoint=True)\n",
        "boxsize = 100\n",
        "nc = 32\n",
        "# Local batch size, the global batch size will be 8x that\n",
        "batch_size = 2\n",
        "\n",
        "def sample_sim(dummy):\n",
        "  \"\"\" Draws a batch of realizations of initial cond\n",
        "  \"\"\"\n",
        "  initial_conditions = flowpm.linear_field(nc, boxsize, ipklin, batch_size=batch_size)\n",
        "  state = flowpm.lpt_init(initial_conditions, a0=a0)\n",
        "  final_state = flowpm.nbody(state, stages, nc)\n",
        "  final_field = flowpm.cic_paint(tf.zeros_like(initial_conditions), final_state[0])\n",
        "  # return features, labels\n",
        "  return tf.expand_dims(final_field, axis=-1), tf.expand_dims(initial_conditions, axis=-1)"
      ],
      "execution_count": 0,
      "outputs": []
    },
    {
      "cell_type": "code",
      "metadata": {
        "id": "JZkOEr2UlejE",
        "colab_type": "code",
        "colab": {}
      },
      "source": [
        "# Create the dataset input function\n",
        "def input_fn(params):\n",
        "  dset = tf.data.Dataset.range(100000)\n",
        "  dset = dset.map(sample_sim)\n",
        "  dset = dset.apply(tf.data.experimental.unbatch())\n",
        "  dset = dset.batch(params['batch_size'], drop_remainder=True)\n",
        "  return dset"
      ],
      "execution_count": 0,
      "outputs": []
    },
    {
      "cell_type": "markdown",
      "metadata": {
        "id": "xOg3wTMpl6LL",
        "colab_type": "text"
      },
      "source": [
        "## Build estimator"
      ]
    },
    {
      "cell_type": "code",
      "metadata": {
        "id": "dhbMONzMlepe",
        "colab_type": "code",
        "colab": {}
      },
      "source": [
        "from galmodel.layers.recurrent_inference import ConvRIM3D\n",
        "from galmodel.layers.convolutional_recurrent import ConvLSTM3DCell\n",
        "\n",
        "def pm(lin):\n",
        "  state = flowpm.lpt_init(lin, a0=a0)\n",
        "  final_state = flowpm.nbody(state, stages, nc)\n",
        "  final_field = flowpm.cic_paint(tf.zeros_like(lin), final_state[0])\n",
        "  return final_field\n",
        "\n",
        "def likelihood_fn(inputs, predictions):\n",
        "  \"\"\" Evaluates the data likelihood function through Fast PM\n",
        "  \"\"\"\n",
        "  final_field = pm(predictions[..., 0])\n",
        "  likelihood = tf.reduce_mean((final_field - inputs[...,0])**2, \n",
        "                              axis=[1, 2, 3])\n",
        "  return likelihood\n",
        "\n",
        "\n",
        "def model_fn(features, labels, mode, params):\n",
        "  \"\"\"\n",
        "  Model function for the CosmicRIM.\n",
        "  \"\"\"\n",
        "  \n",
        "  is_training = mode == tf.estimator.ModeKeys.TRAIN\n",
        "  \n",
        "  # Build the RIM\n",
        "  cell = ConvLSTM3DCell(filters=128, kernel_size=3, padding='SAME')\n",
        "  output_layer = tf.keras.layers.Conv3D(filters=1, kernel_size=3, padding='SAME')\n",
        "  \n",
        "  cosmic_rim = ConvRIM3D(cell,\n",
        "                       output_layer,\n",
        "                       likelihood_fn=likelihood_fn,\n",
        "                       niter=10, \n",
        "                       return_sequences=True)\n",
        "\n",
        "  preds = cosmic_rim(features)\n",
        "  predictions = {'preds':tf.transpose(preds, [1,0,2,3,4,5]), \n",
        "                 'fins':pm(preds[-1][...,0]),\n",
        "                 'features': features,\n",
        "                 'labels':labels}\n",
        "  \n",
        "  if mode == tf.estimator.ModeKeys.PREDICT:\n",
        "    return tf.estimator.tpu.TPUEstimatorSpec(mode=mode, \n",
        "                                             predictions=predictions)\n",
        "  \n",
        "  batch_loss = tf.reduce_mean((preds - labels)**2, axis=[0, 2, 3, 4, 5])\n",
        "\n",
        "  loss = tf.reduce_mean(batch_loss)\n",
        "  \n",
        "  \n",
        "  train_op = None\n",
        "   \n",
        "  learning_rate = tf.train.exponential_decay(0.001,\n",
        "        tf.train.get_global_step(),\n",
        "        decay_steps=100000,\n",
        "        decay_rate=0.96)\n",
        "  optimizer=tf.train.AdamOptimizer(learning_rate=learning_rate)\n",
        "  optimizer = tf.tpu.CrossShardOptimizer(optimizer)\n",
        "  \n",
        "  # Define optimizer\n",
        "  if mode == tf.estimator.ModeKeys.TRAIN:\n",
        "    update_ops = tf.get_collection(tf.GraphKeys.UPDATE_OPS)\n",
        "    with tf.control_dependencies(update_ops):\n",
        "      train_op = optimizer.minimize(loss=loss,\n",
        "                                     global_step=tf.train.get_global_step())\n",
        "    \n",
        "  return tf.estimator.tpu.TPUEstimatorSpec(mode=mode,\n",
        "                                      loss=loss,\n",
        "                                      train_op=train_op)"
      ],
      "execution_count": 0,
      "outputs": []
    },
    {
      "cell_type": "code",
      "metadata": {
        "id": "IMJm6_Jurz97",
        "colab_type": "code",
        "colab": {
          "base_uri": "https://localhost:8080/",
          "height": 35
        },
        "outputId": "4a2d6ef8-b72e-49ab-fa39-4d59e8f6e13f"
      },
      "source": [
        "# TPU_REFACTORING: to use all 8 cores, increase the batch size by 8\n",
        "GLOBAL_BATCH_SIZE = batch_size * 8\n",
        "print('Effective batch size:', GLOBAL_BATCH_SIZE)\n",
        "MODEL_DIR = BUCKET+\"/rim/test3\" "
      ],
      "execution_count": 11,
      "outputs": [
        {
          "output_type": "stream",
          "text": [
            "Effective batch size: 16\n"
          ],
          "name": "stdout"
        }
      ]
    },
    {
      "cell_type": "code",
      "metadata": {
        "id": "syM_8y9optRd",
        "colab_type": "code",
        "colab": {
          "base_uri": "https://localhost:8080/",
          "height": 127
        },
        "outputId": "8571168d-b687-48b8-c9e8-f882de03eac0"
      },
      "source": [
        "config = tf.estimator.tpu.RunConfig(\n",
        "    master=master,\n",
        "    model_dir=MODEL_DIR,\n",
        "    save_checkpoints_steps=500,\n",
        "    session_config=tf.ConfigProto(\n",
        "        allow_soft_placement=True, \n",
        "        log_device_placement=True),\n",
        "    tpu_config=tf.estimator.tpu.TPUConfig(100, 8))\n",
        "\n",
        "estimator = tf.estimator.tpu.TPUEstimator(\n",
        "    model_fn=model_fn,\n",
        "    config=config,\n",
        "    use_tpu=True,\n",
        "    train_batch_size=GLOBAL_BATCH_SIZE,\n",
        "    eval_batch_size=GLOBAL_BATCH_SIZE,\n",
        "    predict_batch_size=GLOBAL_BATCH_SIZE\n",
        "  )"
      ],
      "execution_count": 12,
      "outputs": [
        {
          "output_type": "stream",
          "text": [
            "WARNING:tensorflow:Estimator's model_fn (<function model_fn at 0x7f89cb1c47b8>) includes params argument, but params are not passed to Estimator.\n",
            "INFO:tensorflow:Using config: {'_model_dir': 'gs://cosmic_rim/rim/test3', '_tf_random_seed': None, '_save_summary_steps': 100, '_save_checkpoints_steps': 500, '_save_checkpoints_secs': None, '_session_config': allow_soft_placement: true\n",
            "log_device_placement: true\n",
            ", '_keep_checkpoint_max': 5, '_keep_checkpoint_every_n_hours': 10000, '_log_step_count_steps': None, '_train_distribute': None, '_device_fn': None, '_protocol': None, '_eval_distribute': None, '_experimental_distribute': None, '_experimental_max_worker_delay_secs': None, '_service': None, '_cluster_spec': <tensorflow.python.training.server_lib.ClusterSpec object at 0x7f89cb22d6d8>, '_task_type': 'worker', '_task_id': 0, '_global_id_in_cluster': 0, '_master': 'grpc://10.14.19.202:8470', '_evaluation_master': 'grpc://10.14.19.202:8470', '_is_chief': True, '_num_ps_replicas': 0, '_num_worker_replicas': 1, '_tpu_config': TPUConfig(iterations_per_loop=100, num_shards=8, num_cores_per_replica=None, per_host_input_for_training=2, tpu_job_name=None, initial_infeed_sleep_secs=None, input_partition_dims=None, eval_training_input_configuration=2), '_cluster': None}\n",
            "INFO:tensorflow:_TPUContext: eval_on_tpu True\n"
          ],
          "name": "stdout"
        }
      ]
    },
    {
      "cell_type": "code",
      "metadata": {
        "id": "PuNG3lsWtNMV",
        "colab_type": "code",
        "colab": {
          "base_uri": "https://localhost:8080/",
          "height": 955
        },
        "outputId": "e8b6da74-fbd2-49b9-a74c-103377ebae51"
      },
      "source": [
        "estimator.train(input_fn, steps=10000)"
      ],
      "execution_count": 0,
      "outputs": [
        {
          "output_type": "stream",
          "text": [
            "INFO:tensorflow:Querying Tensorflow master (grpc://10.14.19.202:8470) for TPU system metadata.\n",
            "INFO:tensorflow:Found TPU system:\n",
            "INFO:tensorflow:*** Num TPU Cores: 8\n",
            "INFO:tensorflow:*** Num TPU Workers: 1\n",
            "INFO:tensorflow:*** Num TPU Cores Per Worker: 8\n",
            "INFO:tensorflow:*** Available Device: _DeviceAttributes(/job:tpu_worker/replica:0/task:0/device:CPU:0, CPU, -1, 1746218776488241072)\n",
            "INFO:tensorflow:*** Available Device: _DeviceAttributes(/job:tpu_worker/replica:0/task:0/device:TPU:0, TPU, 17179869184, 15266776311301884947)\n",
            "INFO:tensorflow:*** Available Device: _DeviceAttributes(/job:tpu_worker/replica:0/task:0/device:TPU:1, TPU, 17179869184, 17884034267203660143)\n",
            "INFO:tensorflow:*** Available Device: _DeviceAttributes(/job:tpu_worker/replica:0/task:0/device:TPU:2, TPU, 17179869184, 7020095540981684389)\n",
            "INFO:tensorflow:*** Available Device: _DeviceAttributes(/job:tpu_worker/replica:0/task:0/device:TPU:3, TPU, 17179869184, 15382524165773271312)\n",
            "INFO:tensorflow:*** Available Device: _DeviceAttributes(/job:tpu_worker/replica:0/task:0/device:TPU:4, TPU, 17179869184, 5877627623039713494)\n",
            "INFO:tensorflow:*** Available Device: _DeviceAttributes(/job:tpu_worker/replica:0/task:0/device:TPU:5, TPU, 17179869184, 15406441219716361456)\n",
            "INFO:tensorflow:*** Available Device: _DeviceAttributes(/job:tpu_worker/replica:0/task:0/device:TPU:6, TPU, 17179869184, 16593976342414634919)\n",
            "INFO:tensorflow:*** Available Device: _DeviceAttributes(/job:tpu_worker/replica:0/task:0/device:TPU:7, TPU, 17179869184, 14295203509390275620)\n",
            "INFO:tensorflow:*** Available Device: _DeviceAttributes(/job:tpu_worker/replica:0/task:0/device:TPU_SYSTEM:0, TPU_SYSTEM, 8589934592, 16900383241579785941)\n",
            "INFO:tensorflow:*** Available Device: _DeviceAttributes(/job:tpu_worker/replica:0/task:0/device:XLA_CPU:0, XLA_CPU, 17179869184, 14655613948575506311)\n",
            "WARNING:tensorflow:From /usr/local/lib/python3.6/dist-packages/tensorflow/python/training/training_util.py:236: Variable.initialized_value (from tensorflow.python.ops.variables) is deprecated and will be removed in a future version.\n",
            "Instructions for updating:\n",
            "Use Variable.read_value. Variables in 2.X are initialized automatically both in eager and graph (inside tf.defun) contexts.\n",
            "INFO:tensorflow:Calling model_fn.\n",
            "WARNING:tensorflow:From /usr/local/lib/python3.6/dist-packages/flowpm/utils.py:170: The name tf.random_normal is deprecated. Please use tf.random.normal instead.\n",
            "\n",
            "WARNING:tensorflow:From /usr/local/lib/python3.6/dist-packages/tensorflow/python/ops/init_ops.py:1251: calling VarianceScaling.__init__ (from tensorflow.python.ops.init_ops) with dtype is deprecated and will be removed in a future version.\n",
            "Instructions for updating:\n",
            "Call initializer instance with the dtype argument instead of passing it to the constructor\n",
            "WARNING:tensorflow:From /usr/local/lib/python3.6/dist-packages/tensorflow/python/ops/math_grad.py:1205: add_dispatch_support.<locals>.wrapper (from tensorflow.python.ops.array_ops) is deprecated and will be removed in a future version.\n",
            "Instructions for updating:\n",
            "Use tf.where in 2.0, which has the same broadcast rule as np.where\n",
            "Tensor(\"conv_ri_m3d/TensorArrayStack/TensorArrayGatherV3:0\", shape=(?, 2, 32, 32, 32, 128), dtype=float32)\n",
            "INFO:tensorflow:Create CheckpointSaverHook.\n",
            "INFO:tensorflow:Done calling model_fn.\n",
            "INFO:tensorflow:TPU job name tpu_worker\n",
            "INFO:tensorflow:Graph was finalized.\n",
            "INFO:tensorflow:Running local_init_op.\n",
            "INFO:tensorflow:Done running local_init_op.\n",
            "INFO:tensorflow:Saving checkpoints for 0 into gs://cosmic_rim/rim/test3/model.ckpt.\n",
            "WARNING:tensorflow:From /usr/local/lib/python3.6/dist-packages/tensorflow_estimator/python/estimator/tpu/tpu_estimator.py:741: Variable.load (from tensorflow.python.ops.variables) is deprecated and will be removed in a future version.\n",
            "Instructions for updating:\n",
            "Prefer Variable.assign which has equivalent behavior in 2.X.\n",
            "INFO:tensorflow:Initialized dataset iterators in 2 seconds\n",
            "INFO:tensorflow:Installing graceful shutdown hook.\n",
            "INFO:tensorflow:Creating heartbeat manager for ['/job:tpu_worker/replica:0/task:0/device:CPU:0']\n",
            "INFO:tensorflow:Configuring worker heartbeat: shutdown_mode: WAIT_FOR_COORDINATOR\n",
            "\n",
            "INFO:tensorflow:Init TPU system\n",
            "INFO:tensorflow:Initialized TPU in 7 seconds\n",
            "INFO:tensorflow:Starting infeed thread controller.\n",
            "INFO:tensorflow:Starting outfeed thread controller.\n",
            "INFO:tensorflow:Enqueue next (100) batch(es) of data to infeed.\n",
            "INFO:tensorflow:Dequeue next (100) batch(es) of data from outfeed.\n",
            "INFO:tensorflow:Outfeed finished for iteration (0, 0)\n"
          ],
          "name": "stdout"
        }
      ]
    },
    {
      "cell_type": "code",
      "metadata": {
        "id": "lv-J8DiRet8j",
        "colab_type": "code",
        "colab": {}
      },
      "source": [
        "preds = estimator.predict(input_fn=input_fn, yield_single_examples=True)"
      ],
      "execution_count": 0,
      "outputs": []
    },
    {
      "cell_type": "code",
      "metadata": {
        "id": "_-bkLKIHeuHQ",
        "colab_type": "code",
        "colab": {}
      },
      "source": [
        "res = next(preds)"
      ],
      "execution_count": 0,
      "outputs": []
    },
    {
      "cell_type": "code",
      "metadata": {
        "id": "G_8FBiWTghIW",
        "colab_type": "code",
        "colab": {
          "base_uri": "https://localhost:8080/",
          "height": 267
        },
        "outputId": "39c0ee34-c5b2-41af-f478-0299c7b7e0a6"
      },
      "source": [
        "ref = np.squeeze(res['labels']).sum(axis=0)\n",
        "\n",
        "figure(figsize=(30,7))\n",
        "for i in range(10):\n",
        "  subplot(1,11,i+1)\n",
        "  imshow(np.squeeze(res['preds'][i]).sum(axis=0), vmin=ref.min(), vmax=ref.max())\n",
        "  axis('off')\n",
        "  title('step %d'%i)\n",
        "\n",
        "  subplot(1,11,11)\n",
        "  imshow(ref, vmin=ref.min(), vmax=ref.max())\n",
        "  title('truth')\n",
        "  axis('off')"
      ],
      "execution_count": 45,
      "outputs": [
        {
          "output_type": "stream",
          "text": [
            "/usr/local/lib/python3.6/dist-packages/matplotlib/figure.py:98: MatplotlibDeprecationWarning: \n",
            "Adding an axes using the same arguments as a previous axes currently reuses the earlier instance.  In a future version, a new instance will always be created and returned.  Meanwhile, this warning can be suppressed, and the future behavior ensured, by passing a unique label to each axes instance.\n",
            "  \"Adding an axes using the same arguments as a previous axes \"\n"
          ],
          "name": "stderr"
        },
        {
          "output_type": "display_data",
          "data": {
            "image/png": "[encoded data removed]",
            "text/plain": [
              "<Figure size 2160x504 with 11 Axes>"
            ]
          },
          "metadata": {
            "tags": []
          }
        }
      ]
    },
    {
      "cell_type": "code",
      "metadata": {
        "id": "TucT1Qwkgg8j",
        "colab_type": "code",
        "colab": {
          "base_uri": "https://localhost:8080/",
          "height": 535
        },
        "outputId": "d1321aac-4b9c-4f78-ea14-e17cd0a9c77e"
      },
      "source": [
        "figure(figsize=(10,4))\n",
        "subplot(121)\n",
        "imshow(np.squeeze(res['fins']).sum(axis=0))\n",
        "title('initial condition')\n",
        "\n",
        "colorbar()\n",
        "subplot(122)\n",
        "imshow(np.squeeze(res['preds'][-1]).sum(axis=0))\n",
        "colorbar()\n",
        "\n",
        "title('final field')\n",
        "\n",
        "figure(figsize=(10,4))\n",
        "subplot(121)\n",
        "imshow(np.squeeze(res['labels']).sum(axis=0))\n",
        "colorbar()\n",
        "title('initial condition')\n",
        "\n",
        "subplot(122)\n",
        "imshow(np.squeeze(res['features']).sum(axis=0))\n",
        "colorbar()\n",
        "title('final field')"
      ],
      "execution_count": 41,
      "outputs": [
        {
          "output_type": "execute_result",
          "data": {
            "text/plain": [
              "Text(0.5, 1.0, 'final field')"
            ]
          },
          "metadata": {
            "tags": []
          },
          "execution_count": 41
        },
        {
          "output_type": "display_data",
          "data": {
            "image/png": "[encoded data removed]",
            "text/plain": [
              "<Figure size 720x288 with 4 Axes>"
            ]
          },
          "metadata": {
            "tags": []
          }
        },
        {
          "output_type": "display_data",
          "data": {
            "image/png": "[encoded data removed]",
            "text/plain": [
              "<Figure size 720x288 with 4 Axes>"
            ]
          },
          "metadata": {
            "tags": []
          }
        }
      ]
    }
  ]
}