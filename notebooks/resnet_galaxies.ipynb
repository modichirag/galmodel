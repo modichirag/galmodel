{
 "cells": [
  {
   "cell_type": "code",
   "execution_count": 1,
   "metadata": {},
   "outputs": [
    {
     "name": "stdout",
     "output_type": "stream",
     "text": [
      "Populating the interactive namespace from numpy and matplotlib\n"
     ]
    }
   ],
   "source": [
    "import os\n",
    "os.environ[\"CUDA_VISIBLE_DEVICES\"] = \"1\"\n",
    "%pylab inline\n",
    "%load_ext autoreload\n",
    "%autoreload 2"
   ]
  },
  {
   "cell_type": "code",
   "execution_count": 2,
   "metadata": {},
   "outputs": [],
   "source": [
    "import numpy as np\n",
    "import matplotlib.pyplot as plt\n",
    "#\n",
    "import sys\n",
    "sys.path.append('../code/utils/')\n",
    "sys.path.append('../code')\n",
    "import tools\n",
    "from layers import wide_resnet\n",
    "import datalib as dlib\n",
    "import datatools as dtools\n",
    "from time import time\n",
    "#\n",
    "import tensorflow as tf\n",
    "# tf.enable_eager_execution()\n",
    "import tensorflow.contrib.slim as slim\n",
    "from tensorflow.contrib.slim import add_arg_scope\n",
    "import tensorflow_probability\n",
    "tfd = tensorflow_probability.distributions\n",
    "\n",
    "#############################\n",
    "seed_in = 3\n",
    "from numpy.random import seed\n",
    "seed(seed_in)\n",
    "from tensorflow import set_random_seed\n",
    "set_random_seed(seed_in)\n",
    "\n",
    "bs = 400\n",
    "nc, ncf = 128, 512\n",
    "ncp = 128\n",
    "step, stepf = 5, 40\n",
    "path = '../data/z00/'\n",
    "ftype = 'L%04d_N%04d_S%04d_%02dstep/'\n",
    "numd = 1e-3\n",
    "num = int(numd*bs**3)\n",
    "R1 = 3\n",
    "R2 = 3*1.2\n",
    "kny = np.pi*ncp/bs\n",
    "kk = tools.fftk((ncp, ncp, ncp), bs)\n",
    "seeds = [100, 200]\n",
    "rprob = 0.5\n"
   ]
  },
  {
   "cell_type": "code",
   "execution_count": 3,
   "metadata": {},
   "outputs": [],
   "source": [
    "suff = '-pad2'\n",
    "num_cubes= 500\n",
    "cube_size = 32\n",
    "pad = 2\n",
    "cube_sizeft = cube_size + 2*pad\n",
    "max_offset = ncp - cube_size\n",
    "ftname = ['cic']\n",
    "nchannels = len(ftname)"
   ]
  },
  {
   "cell_type": "code",
   "execution_count": 4,
   "metadata": {},
   "outputs": [],
   "source": [
    "# gm = tfd.MixtureSameFamily(\n",
    "#   mixture_distribution=tfd.Categorical(\n",
    "#       probs=[0.3, 0.7]),\n",
    "#   components_distribution=tfd.Normal(\n",
    "#     loc=[-1., 1],       # One for each component.\n",
    "#     scale=[0.1, 0.5]))  # And same here.\n",
    "\n",
    "# # with tf.Session():\n",
    "# #     print(gm.mean().eval())\n",
    "# gm.mean().numpy()\n",
    "\n",
    "# xx = np.linspace(-2., 3., int(1e4), dtype=np.float32)\n",
    "# plt.plot(xx, gm.prob(xx).numpy());\n",
    "\n",
    "# pm = tfd.MixtureSameFamily(\n",
    "#   mixture_distribution=tfd.Categorical(\n",
    "#       probs=[0.3, 0.7]),\n",
    "#   components_distribution=tfd.Poisson(rate = [1., 7.]))\n",
    "\n",
    "\n",
    "# # with tf.Session():\n",
    "# #     print(gm.mean().eval())\n",
    "# pm.mean().numpy()\n",
    "\n",
    "# # xx = np.linspace(-2., 10., int(1e4), dtype=np.float32)\n",
    "# xx = np.arange(-1., 20., 1).astype(float32)\n",
    "# plt.plot(xx, pm.prob(xx).numpy(), 'o')\n",
    "# plt.show()\n",
    "# plt.plot(xx, tfd.Poisson(5.).prob(xx).numpy(), 'o')\n"
   ]
  },
  {
   "cell_type": "markdown",
   "metadata": {},
   "source": [
    "# Training data set"
   ]
  },
  {
   "cell_type": "code",
   "execution_count": 5,
   "metadata": {},
   "outputs": [
    {
     "name": "stdout",
     "output_type": "stream",
     "text": [
      "All the mesh have been generated for seed = 100\n",
      "Length of targets =  2\n",
      "Supplemented by rotation :  248\n",
      "All the mesh have been generated for seed = 200\n",
      "Length of targets =  2\n",
      "Supplemented by rotation :  231\n",
      "(32, 32, 32, 2)\n",
      "(36, 36, 36, 1)\n",
      "Training size is =  1479\n"
     ]
    }
   ],
   "source": [
    "#############################\n",
    "##Read data and generate meshes\n",
    "#mesh = tools.readbigfile(path + ftype%(bs, nc, seed, step) + 'mesh/d/')\n",
    "meshes = {}\n",
    "cube_features, cube_target = [], []\n",
    "\n",
    "for seed in seeds:\n",
    "    mesh = {}\n",
    "    partp = tools.readbigfile(path + ftype%(bs, nc, seed, step) + 'dynamic/1/Position/')\n",
    "    mesh['cic'] = tools.paintcic(partp, bs, ncp)\n",
    "    #mesh['decic'] = tools.decic(mesh['cic'], kk, kny)\n",
    "    mesh['R1'] = tools.fingauss(mesh['cic'], kk, R1, kny)\n",
    "    #mesh['R2'] = tools.fingauss(mesh['cic'], kk, R2, kny)\n",
    "    #mesh['GD'] = mesh['R1'] - mesh['R2']\n",
    "\n",
    "    hmesh = {}\n",
    "    hpath = path + ftype%(bs, ncf, seed, stepf) + 'galaxies_n05/galcat/'\n",
    "    hposd = tools.readbigfile(hpath + 'Position/')\n",
    "    massd = tools.readbigfile(hpath + 'Mass/').reshape(-1)*1e10\n",
    "    galtype = tools.readbigfile(hpath + 'gal_type/').reshape(-1).astype(bool)\n",
    "    #hposall = tools.readbigfile(path + ftype%(bs, ncf, seed, stepf) + 'FOF/PeakPosition/')[1:]    \n",
    "    #hposd = hposall[:num].copy()\n",
    "    #massd = massall[:num].copy()\n",
    "    #hmesh['pcic'] = tools.paintcic(hposd, bs, nc)\n",
    "    hmesh['pnn'] = tools.paintnn(hposd, bs, ncp)\n",
    "    #hmesh['mnn'] = tools.paintnn(hposd, bs, ncp, massd)\n",
    "    hmesh['pnnsat'] = tools.paintnn(hposd[galtype], bs, ncp)\n",
    "    hmesh['pnncen'] = tools.paintnn(hposd[~galtype], bs, ncp)\n",
    "\n",
    "    meshes[seed] = [mesh, hmesh]\n",
    "\n",
    "    print('All the mesh have been generated for seed = %d'%seed)\n",
    "\n",
    "    #Create training voxels\n",
    "    ftlist = [mesh[i].copy() for i in ftname]\n",
    "    ftlistpad = [np.pad(i, pad, 'wrap') for i in ftlist]\n",
    "    targetmesh = [hmesh['pnncen'], hmesh['pnnsat']]\n",
    "    ntarget = len(targetmesh)\n",
    "    \n",
    "    features, target = dtools.randomvoxels(ftlistpad, targetmesh, num_cubes, max_offset, cube_size, cube_sizeft,\n",
    "                                           seed=seed, rprob=rprob)\n",
    "    cube_features = cube_features + features\n",
    "    cube_target = cube_target + target\n",
    "\n",
    "#\n",
    "cube_target = np.stack(cube_target,axis=0).reshape((-1,cube_size,cube_size,cube_size, ntarget))\n",
    "cube_features = np.stack(cube_features,axis=0).reshape((-1,cube_sizeft,cube_sizeft,cube_sizeft,nchannels))\n",
    "print(cube_target[0].shape)\n",
    "print(cube_features[0].shape)\n",
    "trainingsize = cube_features.shape[0]\n",
    "print('Training size is = ', trainingsize)\n"
   ]
  },
  {
   "cell_type": "code",
   "execution_count": 6,
   "metadata": {},
   "outputs": [
    {
     "data": {
      "image/png": "[encoded data removed]",
      "text/plain": [
       "<Figure size 576x360 with 3 Axes>"
      ]
     },
     "metadata": {
      "needs_background": "light"
     },
     "output_type": "display_data"
    }
   ],
   "source": [
    "fig, ax = plt.subplots(1, nchannels+ntarget, figsize = (nchannels*4+4, 5))\n",
    "n = 10\n",
    "for i in range(nchannels):\n",
    "    ax[i].imshow(cube_features[n][:,:,:,i].sum(axis=0))\n",
    "    ax[i].set_title(ftname[i])\n",
    "for j in range(ntarget):\n",
    "    ax[i+j+1].imshow(cube_target[n][:,:,:,j].sum(axis=0))\n",
    "    ax[i+j+1].set_title('Target %d'%j)\n",
    "# ax[-1].imshow(cube_target[n][:,:,:,0].sum(axis=0))\n",
    "# ax[-1].set_title('Target')"
   ]
  },
  {
   "cell_type": "code",
   "execution_count": 7,
   "metadata": {},
   "outputs": [
    {
     "data": {
      "image/png": "[encoded data removed]",
      "text/plain": [
       "<Figure size 432x288 with 1 Axes>"
      ]
     },
     "metadata": {
      "needs_background": "light"
     },
     "output_type": "display_data"
    }
   ],
   "source": [
    "hist(cube_target[n][:,:,:,0].sum(axis=0).flatten(),100);\n",
    "hist(cube_target[n][:,:,:,1].sum(axis=0).flatten(),100);"
   ]
  },
  {
   "cell_type": "code",
   "execution_count": 8,
   "metadata": {},
   "outputs": [
    {
     "data": {
      "text/plain": [
       "(array([0., 1., 2., 3.]), array([32739,    23,     5,     1]))"
      ]
     },
     "execution_count": 8,
     "metadata": {},
     "output_type": "execute_result"
    }
   ],
   "source": [
    "tmp = cube_target[0][:, :, :, 1]\n",
    "np.unique(tmp, return_counts=True)"
   ]
  },
  {
   "cell_type": "code",
   "execution_count": 9,
   "metadata": {},
   "outputs": [],
   "source": [
    "# pm = tfd.MixtureSameFamily(\n",
    "#   mixture_distribution=tfd.Categorical(\n",
    "#       probs=[0.2, 0.2, 0.2, 0.2, 0.2]),\n",
    "#   components_distribution=tfd.Poisson(rate = [0.1, 1., 2., 3., 4.]))\n",
    "\n",
    "\n",
    "# np.unique(pm.log_prob(tmp.astype(float32)), return_counts=True)"
   ]
  },
  {
   "cell_type": "markdown",
   "metadata": {},
   "source": [
    "# Model"
   ]
  },
  {
   "cell_type": "code",
   "execution_count": 10,
   "metadata": {},
   "outputs": [
    {
     "data": {
      "text/plain": [
       "((array([1., 2., 3.]), array([560878,  13260,    282])),\n",
       " (array([0., 1., 2., 3., 4., 5., 6., 7., 9.]),\n",
       "  array([534196,  30903,   6478,   1819,    603,    241,    101,     54,\n",
       "             25])))"
      ]
     },
     "execution_count": 10,
     "metadata": {},
     "output_type": "execute_result"
    }
   ],
   "source": [
    "mmask = cube_target[:, :, :, :, 0].astype(bool)\n",
    "np.unique(cube_target[mmask][:, 0], return_counts=True), np.unique(cube_target[mmask][:, 1], return_counts=True)"
   ]
  },
  {
   "cell_type": "code",
   "execution_count": 94,
   "metadata": {},
   "outputs": [],
   "source": [
    "# Define the network\n",
    "tf.reset_default_graph()\n",
    "\n",
    "x = tf.placeholder(tf.float32, shape=[None, cube_sizeft, cube_sizeft, cube_sizeft, nchannels], name='input')\n",
    "ycen = tf.placeholder(tf.float32, shape=[None, cube_size, cube_size, cube_size, 1], name='centrals')\n",
    "ysat = tf.placeholder(tf.float32, shape=[None, cube_size, cube_size, cube_size, 1], name='satellites')\n",
    "ywt = tf.placeholder(tf.float32, shape=[None, cube_size, cube_size, cube_size], name='weights')\n",
    "# x = tf.placeholder(tf.float32, shape=[None, cube_sizeft, cube_sizeft, cube_sizeft, nchannels], name='input')\n",
    "# y = tf.placeholder(tf.float32, shape=[None, cube_size, cube_size, cube_size, 1], name='labels')\n",
    "# m = tf.placeholder(tf.float32, shape=[None, cube_size, cube_size, cube_size], name='mask')\n",
    "\n",
    "lr = tf.placeholder(tf.float32, name='learningrate')\n",
    "\n",
    "net = slim.conv3d(x, 16, 5, activation_fn=tf.nn.leaky_relu, padding='valid')\n",
    "# net = slim.conv3d(net, 32, 5, activation_fn=None, padding='valid')\n",
    "net = wide_resnet(net, 32, activation_fn=tf.nn.leaky_relu)\n",
    "net = wide_resnet(net, 32, activation_fn=tf.nn.leaky_relu)\n",
    "# net = wide_resnet(net, 32, activation_fn=tf.nn.leaky_relu)\n",
    "net = slim.conv3d(net, 16, 1, activation_fn=tf.nn.relu6) #relu6. relu leads to high rates. Sigmoid to bad mask\n",
    "\n",
    "\n",
    "# Create mixture components from network output\n",
    "#Trying different initializers here\n",
    "# out_rate = slim.conv3d(net, 1, 1, activation_fn=tf.nn.relu, \n",
    "# #                        weights_initializer=tf.initializers.random_uniform(minval=0.1, maxval=1))\n",
    "#                        weights_initializer=tf.initializers.random_normal(mean=0.5, stddev=0.2))\n",
    "out_rate = slim.conv3d(net, 1, 1, activation_fn=tf.nn.relu)\n",
    "out_rate = tf.math.add(out_rate, 1e-6, name='rate')\n",
    "\n",
    "\n",
    "# Predicted mask\n",
    "out_mask = slim.conv3d(net, 1, 1, activation_fn=None)\n",
    "pred_mask = tf.nn.sigmoid(out_mask, name='prediction')\n",
    "\n",
    "pdf = tfd.Poisson(rate=out_rate)\n",
    "\n",
    "# loss = - tf.reduce_mean(pdf.log_prob(y) * m) + \\\n",
    "#     tf.reduce_mean(tf.nn.sigmoid_cross_entropy_with_logits(logits=out_mask,labels=tf.expand_dims(m,-1)))\n",
    "loss0 = - tf.reduce_mean(pdf.log_prob(ysat) * ywt, name='loss0') \n",
    "loss1 = tf.reduce_mean(tf.nn.sigmoid_cross_entropy_with_logits(logits=out_mask,labels=ycen), name='loss1') \n",
    "loss = tf.math.add(loss0, loss1)\n",
    "\n",
    "optimizer = tf.train.AdamOptimizer(learning_rate=lr, name='optimizer')\n",
    "\n",
    "opt_op = optimizer.minimize(loss, name='minimize')"
   ]
  },
  {
   "cell_type": "markdown",
   "metadata": {},
   "source": [
    "# Train"
   ]
  },
  {
   "cell_type": "code",
   "execution_count": 95,
   "metadata": {},
   "outputs": [
    {
     "name": "stdout",
     "output_type": "stream",
     "text": [
      "(1479, 32, 32, 32)\n"
     ]
    }
   ],
   "source": [
    "##Setup\n",
    "\n",
    "cube_centrals = cube_target[:, :, :, :, 0:1].copy()\n",
    "cube_centrals[cube_centrals > 1] = 1\n",
    "\n",
    "cube_satellites = cube_target[:, :, :, :, 1:].copy()\n",
    "\n",
    "mmask = cube_target[:, :, :, :, 0].astype(bool)\n",
    "np.unique(cube_target[mmask][:, 0], return_counts=True), \n",
    "nsat = np.unique(cube_target[mmask][:, 1], return_counts=True)\n",
    "\n",
    "#Try different weightings for satellites.\n",
    "wts = cube_target[:, :, :, :, 1].copy()\n",
    "for i, ns in enumerate(nsat[0]):\n",
    "    wts[wts == ns] = 1/nsat[1][i]**0.5\n",
    "#     wts[wts == ns] = 1\n",
    "    \n",
    "wts *= mmask\n",
    "print(np.unique(wts, return_counts=True))"
   ]
  },
  {
   "cell_type": "code",
   "execution_count": 96,
   "metadata": {},
   "outputs": [
    {
     "data": {
      "text/plain": [
       "(1092.2939612136486, 574420.0)"
      ]
     },
     "execution_count": 96,
     "metadata": {},
     "output_type": "execute_result"
    }
   ],
   "source": [
    "wts.sum(), cube_centrals.sum()"
   ]
  },
  {
   "cell_type": "code",
   "execution_count": 97,
   "metadata": {},
   "outputs": [
    {
     "data": {
      "text/plain": [
       "(array([0., 1., 2., 3.]), array([0., 1.]))"
      ]
     },
     "execution_count": 97,
     "metadata": {},
     "output_type": "execute_result"
    }
   ],
   "source": [
    "np.unique(cube_target[:, :, :, :, 0]), np.unique(cube_centrals[:, :, :, :, 0])"
   ]
  },
  {
   "cell_type": "code",
   "execution_count": 98,
   "metadata": {},
   "outputs": [],
   "source": [
    "sess = tf.Session()\n",
    "# sess.reset(sess)\n",
    "sess.run(tf.global_variables_initializer())\n",
    "losses = []\n",
    "\n",
    "niter= 3000\n",
    "nprint = 100\n",
    "batch_size=32\n"
   ]
  },
  {
   "cell_type": "code",
   "execution_count": null,
   "metadata": {},
   "outputs": [
    {
     "name": "stdout",
     "output_type": "stream",
     "text": [
      "Iteration 0 of 3000 \n",
      "Loss =  0.010389361381530762\n",
      "Time taken for last batch = 0.627, Total time elapsed = 0.627\n",
      "Iteration 100 of 3000 \n",
      "Loss =  0.040861631110310555\n",
      "Time taken for last batch = 26.923, Total time elapsed = 27.551\n",
      "Iteration 200 of 3000 \n",
      "Loss =  0.02736209562048316\n",
      "Time taken for last batch = 26.902, Total time elapsed = 54.452\n",
      "Iteration 300 of 3000 \n",
      "Loss =  0.026101063825190066\n",
      "Time taken for last batch = 26.869, Total time elapsed = 81.321\n",
      "Iteration 400 of 3000 \n",
      "Loss =  0.025558534301817416\n",
      "Time taken for last batch = 26.847, Total time elapsed = 108.168\n",
      "Iteration 500 of 3000 \n",
      "Loss =  0.02502354556694627\n",
      "Time taken for last batch = 26.869, Total time elapsed = 135.037\n",
      "Iteration 600 of 3000 \n",
      "Loss =  0.024591118171811102\n",
      "Time taken for last batch = 26.816, Total time elapsed = 161.853\n",
      "Iteration 700 of 3000 \n",
      "Loss =  0.024063247665762903\n",
      "Time taken for last batch = 26.864, Total time elapsed = 188.717\n",
      "Iteration 800 of 3000 \n",
      "Loss =  0.023566984627395867\n",
      "Time taken for last batch = 26.916, Total time elapsed = 215.632\n",
      "Iteration 900 of 3000 \n",
      "Loss =  0.023123164270073174\n",
      "Time taken for last batch = 26.842, Total time elapsed = 242.474\n",
      "Iteration 1000 of 3000 \n",
      "Loss =  0.022470515817403794\n",
      "Time taken for last batch = 26.895, Total time elapsed = 269.369\n",
      "Iteration 1100 of 3000 \n",
      "Loss =  0.021800978425890207\n",
      "Time taken for last batch = 26.880, Total time elapsed = 296.249\n",
      "Iteration 1200 of 3000 \n",
      "Loss =  0.021130645573139192\n",
      "Time taken for last batch = 26.866, Total time elapsed = 323.115\n",
      "Iteration 1300 of 3000 \n",
      "Loss =  0.020590040571987628\n",
      "Time taken for last batch = 26.903, Total time elapsed = 350.018\n",
      "Iteration 1400 of 3000 \n",
      "Loss =  0.019910009782761334\n",
      "Time taken for last batch = 26.874, Total time elapsed = 376.891\n",
      "Iteration 1500 of 3000 \n",
      "Loss =  0.019133011642843485\n",
      "Time taken for last batch = 26.855, Total time elapsed = 403.747\n",
      "Iteration 1600 of 3000 \n",
      "Loss =  0.01866242190822959\n",
      "Time taken for last batch = 26.882, Total time elapsed = 430.629\n",
      "Iteration 1700 of 3000 \n",
      "Loss =  0.01798163157887757\n",
      "Time taken for last batch = 26.871, Total time elapsed = 457.500\n",
      "Iteration 1800 of 3000 \n",
      "Loss =  0.017928854543715716\n",
      "Time taken for last batch = 26.921, Total time elapsed = 484.421\n",
      "Iteration 1900 of 3000 \n",
      "Loss =  0.01707332015968859\n",
      "Time taken for last batch = 26.860, Total time elapsed = 511.281\n",
      "reduce learning rate by half. New learning rate = 1.00e-04\n",
      "Iteration 2000 of 3000 \n",
      "Loss =  0.016633659852668643\n",
      "Time taken for last batch = 26.861, Total time elapsed = 538.142\n",
      "Iteration 2100 of 3000 \n",
      "Loss =  0.016126653524115683\n",
      "Time taken for last batch = 26.892, Total time elapsed = 565.034\n",
      "Iteration 2200 of 3000 \n",
      "Loss =  0.015950028654187917\n",
      "Time taken for last batch = 26.880, Total time elapsed = 591.914\n",
      "Iteration 2300 of 3000 \n",
      "Loss =  0.015547907827422023\n",
      "Time taken for last batch = 26.838, Total time elapsed = 618.752\n",
      "Iteration 2400 of 3000 \n",
      "Loss =  0.015818834602832794\n",
      "Time taken for last batch = 26.895, Total time elapsed = 645.647\n",
      "Iteration 2500 of 3000 \n",
      "Loss =  0.015680703008547424\n",
      "Time taken for last batch = 26.889, Total time elapsed = 672.536\n",
      "Iteration 2600 of 3000 \n",
      "Loss =  0.015398716572672128\n",
      "Time taken for last batch = 26.869, Total time elapsed = 699.405\n",
      "Iteration 2700 of 3000 \n",
      "Loss =  0.015274457866325974\n",
      "Time taken for last batch = 26.924, Total time elapsed = 726.328\n"
     ]
    }
   ],
   "source": [
    "#\n",
    "\n",
    "start = time()\n",
    "curr = time()\n",
    "lr0, nlr = 0.001, int(2000)\n",
    "lacc = 0 \n",
    "for it in range(niter):\n",
    "    inds = np.random.choice(int(trainingsize), batch_size, replace=False)\n",
    "#     _, l = sess.run([opt_op, loss], feed_dict={lr:lr0, x:cube_features[inds], y:cube_satellites[inds],\n",
    "#                                                m:1.*(squeeze(cube_centrals[inds])>0) })\n",
    "    _, l = sess.run([opt_op, loss], feed_dict={lr:lr0, x:cube_features[inds], ysat:cube_satellites[inds],\n",
    "                                               ywt:wts[inds], ycen:cube_centrals[inds] })\n",
    "    lacc += l\n",
    "    if it % nlr == nlr-1:\n",
    "        lr0 /= 10\n",
    "        print('reduce learning rate by half. New learning rate = %0.2e'%lr0)        \n",
    "    if it % nprint == 0:\n",
    "        print('Iteration %d of %d'%(it, niter), '\\nLoss = ', lacc/nprint)\n",
    "        end = time()\n",
    "        print('Time taken for last batch = %0.3f, Total time elapsed = %0.3f'%(end-curr, end - start))\n",
    "        lacc=0\n",
    "        curr = end\n",
    "    losses.append(l)"
   ]
  },
  {
   "cell_type": "code",
   "execution_count": null,
   "metadata": {},
   "outputs": [],
   "source": [
    "# #\n",
    "# start = time()\n",
    "# curr = time()\n",
    "# lr0, nlr = 0.00001, int(2000)\n",
    "# lacc = 0 \n",
    "# for it in range(niter):\n",
    "#     inds = np.random.choice(int(trainingsize), batch_size, replace=False)\n",
    "#     _, l = sess.run([opt_op, loss], feed_dict={lr:lr0, x:cube_features[inds], y:cube_target[inds], m:1.*(squeeze(cube_target[inds])>0) })\n",
    "#     lacc += l\n",
    "#     if it % nlr == nlr-1:\n",
    "#         lr0 /= 10\n",
    "#         print('reduce learning rate by half. New learning rate = %0.2e'%lr0)        \n",
    "#     if it % nprint == 0:\n",
    "#         print('Iteration %d of %d'%(it, niter), '\\nLoss = ', lacc/nprint)\n",
    "#         end = time()\n",
    "#         print('Time taken for last batch = %0.3f, Total time elapsed = %0.3f'%(end-curr, end - start))\n",
    "#         lacc=0\n",
    "#         curr = end\n",
    "#     losses.append(l)"
   ]
  },
  {
   "cell_type": "markdown",
   "metadata": {},
   "source": [
    "### Diagnostics"
   ]
  },
  {
   "cell_type": "code",
   "execution_count": null,
   "metadata": {},
   "outputs": [],
   "source": [
    "plot(losses)\n",
    "yscale('log')\n"
   ]
  },
  {
   "cell_type": "code",
   "execution_count": null,
   "metadata": {},
   "outputs": [],
   "source": [
    "inds = np.random.choice(int(trainingsize), batch_size, replace=False)\n",
    "input = cube_features[inds]\n",
    "ploss0, ploss1 = sess.run([loss0, loss1], feed_dict={x:input, ysat:cube_satellites[inds],\n",
    "                                               ywt:wts[inds], ycen:cube_centrals[inds] })\n",
    "\n",
    "print('Loss sat, loss cen :', ploss0, ploss1)\n",
    "\n",
    "# ind = 10\n",
    "# recp, recm, rates = sess.run([pdf.sample(), pred_mask, out_rate], feed_dict={x:input.reshape(1, *input.shape)})\n",
    "recp, recm, rates = sess.run([pdf.sample(), pred_mask, out_rate], feed_dict={x:input})\n",
    "\n",
    "ind = 10 \n",
    "fig, axar = plt.subplots(2, 2, figsize=(10,10))\n",
    "ax = axar[0]\n",
    "ax[0].imshow(recm[ind, 0,:,:,0] );\n",
    "ax[0].set_title('predict mask')\n",
    "im = ax[1].imshow(recp[ind,0,:,:,0] );\n",
    "plt.colorbar(im, ax=ax[1])\n",
    "ax[1].set_title('predict sats')\n",
    "ax = axar[1]\n",
    "ax[0].imshow(cube_target[inds][ind,0,:,:,0]);\n",
    "ax[0].set_title('target cen')\n",
    "im = ax[1].imshow(cube_target[inds][ind,0,:,:,1]);\n",
    "plt.colorbar(im, ax=ax[1])\n",
    "ax[1].set_title('target sat')\n",
    "plt.show()\n",
    "\n",
    "#Rates\n",
    "plt.hist(rates.flatten(), log=True, histtype='step')\n",
    "plt.hist(cube_satellites[ind].flatten(), log=True)\n",
    "plt.show()"
   ]
  },
  {
   "cell_type": "markdown",
   "metadata": {},
   "source": [
    "# Prediction"
   ]
  },
  {
   "cell_type": "code",
   "execution_count": null,
   "metadata": {},
   "outputs": [],
   "source": [
    "input = x\n",
    "#############################\n",
    "samplesat = pdf.sample()\n",
    "\n",
    "# meshes = {}\n",
    "tseeds = [100,  500]\n",
    "\n",
    "for seed in tseeds:\n",
    "    mesh = {}\n",
    "    partp = tools.readbigfile(path + ftype%(bs, nc, seed, step) + 'dynamic/1/Position/')\n",
    "    mesh['cic'] = tools.paintcic(partp, bs, ncp)\n",
    "    #mesh['decic'] = tools.decic(mesh['cic'], kk, kny)\n",
    "    mesh['R1'] = tools.fingauss(mesh['cic'], kk, R1, kny)\n",
    "    #mesh['R2'] = tools.fingauss(mesh['cic'], kk, R2, kny)\n",
    "    #mesh['GD'] = mesh['R1'] - mesh['R2']\n",
    "\n",
    "    hmesh = {}\n",
    "    hpath = path + ftype%(bs, ncf, seed, stepf) + 'galaxies_n05/galcat/'\n",
    "    hposd = tools.readbigfile(hpath + 'Position/')\n",
    "    massd = tools.readbigfile(hpath + 'Mass/').reshape(-1)\n",
    "    galtype = tools.readbigfile(hpath + 'gal_type/').reshape(-1).astype(bool)\n",
    "    hmesh['pnn'] = tools.paintnn(hposd, bs, ncp)\n",
    "    hmesh['pnnsat'] = tools.paintnn(hposd[galtype], bs, ncp)\n",
    "    hmesh['pnncen'] = tools.paintnn(hposd[~galtype], bs, ncp)\n",
    "    hmesh['mnnsat'] = tools.paintnn(hposd[galtype], bs, ncp, massd[galtype])\n",
    "    hmesh['mnncen'] = tools.paintnn(hposd[~galtype], bs, ncp, massd[~galtype])\n",
    "\n",
    "    meshes[seed] = [mesh, hmesh]\n",
    "\n",
    "    print('All the mesh have been generated for seed = %d'%seed)\n",
    "\n",
    "    #Create training voxels\n",
    "    ftlist = [mesh[i].copy() for i in ftname]\n",
    "    ftlistpad = [np.pad(i, pad, 'wrap') for i in ftlist]\n",
    "    targetmesh = [hmesh['pnncen'], hmesh['pnnsat']]\n",
    "    ntarget = len(targetmesh)\n",
    "\n",
    "    ncube = int(ncp/cube_size)\n",
    "    inp = dtools.splitvoxels(ftlistpad, cube_size=cube_sizeft, shift=cube_size, ncube=ncube)\n",
    "    satmesh,cenmesh, rates = sess.run([samplesat, pred_mask, out_rate], feed_dict={input:inp})\n",
    "    mesh['predictsat'] = dtools.uncubify(satmesh[:,:,:,:,0], [nc,nc,nc])\n",
    "    mesh['predictcen'] = dtools.uncubify(cenmesh[:,:,:,:,0], [nc,nc,nc])\n",
    "    mesh['predict'] = mesh['predictcen'] + mesh['predictsat']\n",
    "    mesh['rates'] =  dtools.uncubify(rates[:,:,:,:,0], [nc,nc,nc])\n",
    "    meshes[seed] = [mesh, hmesh]\n",
    " "
   ]
  },
  {
   "cell_type": "code",
   "execution_count": null,
   "metadata": {},
   "outputs": [],
   "source": [
    "\n",
    "##############################\n",
    "##Power spectrum\n",
    "shape = [nc,nc,nc]\n",
    "kk = tools.fftk(shape, bs)\n",
    "kmesh = sum(i**2 for i in kk)**0.5\n",
    "\n",
    "\n",
    "fig, ax = plt.subplots(2, 3, figsize = (12, 8))\n",
    "for seed in tseeds:\n",
    "    for i, key in enumerate(['', 'cen', 'sat']):\n",
    "        predict, hpmeshd = meshes[seed][0]['predict%s'%key] , meshes[seed][1]['pnn%s'%key], \n",
    "        k, pkpred = tools.power(predict/predict.mean(), boxsize=bs, k=kmesh)\n",
    "        k, pkhd = tools.power(hpmeshd/hpmeshd.mean(), boxsize=bs, k=kmesh)\n",
    "        k, pkhx = tools.power(hpmeshd/hpmeshd.mean(), predict/predict.mean(), boxsize=bs, k=kmesh)    \n",
    "    ##\n",
    "        ax[0, i].semilogx(k[1:], pkpred[1:]/pkhd[1:], label=seed)\n",
    "        ax[1, i].semilogx(k[1:], pkhx[1:]/(pkpred[1:]*pkhd[1:])**0.5)\n",
    "        ax[0, i].set_title(key, fontsize=12)\n",
    "    predict, hpmeshd = meshes[seed][0]['rates'] , meshes[seed][1]['pnnsat'],\n",
    "    k, pkpred = tools.power(predict/predict.mean(), boxsize=bs, k=kmesh)\n",
    "    k, pkhd = tools.power(hpmeshd/hpmeshd.mean(), boxsize=bs, k=kmesh)\n",
    "    k, pkhx = tools.power(hpmeshd/hpmeshd.mean(), predict/predict.mean(), boxsize=bs, k=kmesh)    \n",
    "##\n",
    "    ax[0, i].semilogx(k[1:], pkpred[1:]/pkhd[1:], label=seed, ls='--')\n",
    "    ax[1, i].semilogx(k[1:], pkhx[1:]/(pkpred[1:]*pkhd[1:])**0.5, ls='--')\n",
    "    \n",
    "    \n",
    "for axis in ax.flatten():\n",
    "    axis.legend(fontsize=14)\n",
    "    axis.set_yticks(np.arange(0, 1.1, 0.1))\n",
    "    axis.grid(which='both')\n",
    "    axis.set_ylim(0.,1.1)\n",
    "ax[0, 0].set_title('All Gal', fontsize=15)\n",
    "ax[0, 0].set_ylabel('Transfer function', fontsize=14)\n",
    "ax[1, 0].set_ylabel('Cross correlation', fontsize=14)\n",
    "#plt.savefig('./figs/n%02d/2ptpredict%s.png'%(numd*1e4, suff))\n",
    "# ax[1].set_ylim(0.2,1.1)\n",
    "plt.show()\n",
    "\n",
    "# ##################################################\n",
    "fig, ax = plt.subplots(2, 3, figsize=(12,8))\n",
    "\n",
    "for i, key in enumerate(['', 'cen', 'sat']):\n",
    "    predict, hpmeshd = meshes[seed][0]['predict%s'%key] , meshes[seed][1]['pnn%s'%key], \n",
    "    vmin, vmax = 0, (hpmeshd[:, :, :].sum(axis=0)).max()\n",
    "    im = ax[0, i].imshow(predict[:, :, :].sum(axis=0), vmin=vmin, vmax=vmax)\n",
    "#     plt.colorbar(im, ax=ax[0, i])\n",
    "    im = ax[1, i].imshow(hpmeshd[:, :, :].sum(axis=0), vmin=vmin, vmax=vmax)\n",
    "#     plt.colorbar(im, ax=ax[1, i])\n",
    "    ax[0, i].set_title(key, fontsize=15)\n",
    "ax[0, 0].set_title('All Gal', fontsize=15)\n",
    "ax[0, 0].set_ylabel('Prediction', fontsize=15)\n",
    "ax[1, 0].set_ylabel('Truth', fontsize=15)\n",
    "plt.show()\n"
   ]
  },
  {
   "cell_type": "code",
   "execution_count": null,
   "metadata": {},
   "outputs": [],
   "source": [
    "im = plt.imshow(meshes[100][0]['rates'].sum(axis=0))\n",
    "plt.colorbar(im)"
   ]
  },
  {
   "cell_type": "code",
   "execution_count": null,
   "metadata": {},
   "outputs": [],
   "source": [
    "im = plt.imshow(meshes[100][1]['pnnsat'].sum(axis=0))\n",
    "plt.colorbar(im)"
   ]
  },
  {
   "cell_type": "code",
   "execution_count": null,
   "metadata": {},
   "outputs": [],
   "source": [
    "cenmask = (meshes[100][1]['mnncen'] > 0)\n",
    "satmask = (meshes[100][1]['mnnsat'] > 0)\n",
    "meshes[100][1]['mnncen'][cenmask]"
   ]
  },
  {
   "cell_type": "code",
   "execution_count": null,
   "metadata": {},
   "outputs": [],
   "source": [
    "plt.hist(np.random.poisson(3.25, 10000), normed=True)"
   ]
  },
  {
   "cell_type": "code",
   "execution_count": null,
   "metadata": {},
   "outputs": [],
   "source": [
    "plt.plot(meshes[100][1]['pnnsat'][satmask], meshes[100][0]['rates'][satmask], '.')"
   ]
  },
  {
   "cell_type": "code",
   "execution_count": null,
   "metadata": {},
   "outputs": [],
   "source": [
    "plt.hist(meshes[100][0]['rates'][satmask], log=True)\n",
    "plt.hist(meshes[100][0]['rates'].flatten(), log=True, histtype='step')\n",
    "plt.show()"
   ]
  },
  {
   "cell_type": "code",
   "execution_count": 93,
   "metadata": {},
   "outputs": [
    {
     "data": {
      "text/plain": [
       "(7994.0, 3012.0)"
      ]
     },
     "execution_count": 93,
     "metadata": {},
     "output_type": "execute_result"
    }
   ],
   "source": [
    "satmesh.sum(), meshes[100][1]['pnnsat'].sum()"
   ]
  }
 ],
 "metadata": {
  "kernelspec": {
   "display_name": "Python 3",
   "language": "python",
   "name": "python3"
  },
  "language_info": {
   "codemirror_mode": {
    "name": "ipython",
    "version": 3
   },
   "file_extension": ".py",
   "mimetype": "text/x-python",
   "name": "python",
   "nbconvert_exporter": "python",
   "pygments_lexer": "ipython3",
   "version": "3.6.6"
  }
 },
 "nbformat": 4,
 "nbformat_minor": 2
}
