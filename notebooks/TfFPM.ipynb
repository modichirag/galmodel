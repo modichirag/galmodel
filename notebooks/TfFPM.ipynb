{
 "cells": [
  {
   "cell_type": "code",
   "execution_count": 1,
   "metadata": {},
   "outputs": [
    {
     "name": "stderr",
     "output_type": "stream",
     "text": [
      "/global/homes/c/chmodi/.conda/envs/fastpm/lib/python3.6/site-packages/dask/context.py:23: UserWarning: The dask.set_options function has been deprecated. Please use dask.config.set instead\n",
      "  warnings.warn(\"The dask.set_options function has been deprecated. \"\n"
     ]
    }
   ],
   "source": [
    "import numpy as np\n",
    "import numpy\n",
    "from nbodykit.lab import BigFileMesh, BigFileCatalog\n",
    "from pmesh.pm import ParticleMesh\n",
    "import os, sys\n",
    "import matplotlib.pyplot as plt\n",
    "%matplotlib inline\n",
    "%load_ext autoreload\n",
    "%autoreload 2\n"
   ]
  },
  {
   "cell_type": "code",
   "execution_count": 2,
   "metadata": {},
   "outputs": [],
   "source": [
    "import tensorflow as tf\n",
    "# tf.enable_eager_execution()"
   ]
  },
  {
   "cell_type": "code",
   "execution_count": 3,
   "metadata": {},
   "outputs": [],
   "source": [
    "sys.path.append('/global/homes/c/chmodi/Programs/cosmo4d/train_nets-tflow/')\n",
    "import tools \n",
    "\n",
    "sys.path.append('/global/homes/c/chmodi/Programs/cosmo4d/train_nets/')\n",
    "import features as ft\n",
    "\n"
   ]
  },
  {
   "cell_type": "code",
   "execution_count": 4,
   "metadata": {},
   "outputs": [],
   "source": [
    "# bs = 16\n",
    "# nc = 4\n",
    "# step = 5\n",
    "# pm = ParticleMesh(BoxSize=bs, Nmesh = [nc, nc, nc], dtype='f4')\n",
    "\n",
    "# nparticle = 2\n",
    "# pos = bs*np.random.random(3*nparticle).reshape(-1, 3).astype(np.float32)\n",
    "\n",
    "# mesh = pm.paint(pos)\n",
    "\n"
   ]
  },
  {
   "cell_type": "markdown",
   "metadata": {},
   "source": [
    "# Paint and readout"
   ]
  },
  {
   "cell_type": "code",
   "execution_count": 6,
   "metadata": {},
   "outputs": [],
   "source": [
    "\n",
    "def cic_paint(mesh, part, weight=None, cube_size=None):\n",
    "    \"\"\"\n",
    "        - mesh is a cube\n",
    "        - part is a list of particles (:, 3), positions in mesh units\n",
    "        - weight is a list of weights (:)\n",
    "        - cube_size is the size of the cube in mesh units\n",
    "    \"\"\"\n",
    "\n",
    "    # Create a variable to store the input mesh\n",
    "    var = tf.Variable(0, dtype=tf.float32)\n",
    "    var = tf.assign(var, mesh, validate_shape=False)\n",
    "#     var = mesh\n",
    "    if weight is None: weight = np.ones(part.shape[0], dtype=part.dtype)\n",
    "    if cube_size is None: cube_size = mesh.shape[0].value\n",
    "    \n",
    "    # Extract the indices of all the mesh points affected by each particles\n",
    "    i000 = tf.cast(tf.floor(part), dtype=tf.int32)\n",
    "    i100 = i000 + tf.constant([1, 0, 0])\n",
    "    i010 = i000 + tf.constant([0, 1, 0])\n",
    "    i001 = i000 + tf.constant([0, 0, 1])\n",
    "    i110 = i000 + tf.constant([1, 1, 0])\n",
    "    i101 = i000 + tf.constant([1, 0, 1])\n",
    "    i011 = i000 + tf.constant([0, 1, 1])\n",
    "    i111 = i000 + tf.constant([1, 1, 1])\n",
    "    neighboor_coords = tf.stack([i000, i100, i010, i001,\n",
    "                                 i110, i101, i011, i111], axis=1)\n",
    "    kernel = 1. - tf.abs(tf.expand_dims(part, axis=1) - tf.cast(neighboor_coords, tf.float32))\n",
    "    kernel = tf.reduce_prod(kernel, axis=-1, keepdims=False)\n",
    "    kernel = tf.expand_dims(weight, axis=1) * kernel\n",
    "        \n",
    "#     if cube_size is not None:\n",
    "    neighboor_coords = neighboor_coords % cube_size\n",
    "\n",
    "    updated_mesh = tf.scatter_nd_add(var, tf.reshape(neighboor_coords, (-1, 3)),\n",
    "                                     tf.reshape(kernel, (-1,)))\n",
    "    return updated_mesh\n",
    "\n",
    "\n",
    "\n",
    "\n",
    "def cic_readout(mesh, part, cube_size=None):\n",
    "    \"\"\"\n",
    "        - mesh is a cube\n",
    "        - part is a list of particles (:, 3), positions in mesh units\n",
    "        - cube_size is the size of the cube in mesh units\n",
    "    \"\"\"\n",
    "\n",
    "    if cube_size is None: cube_size = mesh.shape[0].value\n",
    "    # Extract the indices of all the mesh points affected by each particles\n",
    "    i000 = tf.cast(tf.floor(part), dtype=tf.int32)\n",
    "    i100 = i000 + tf.constant([1, 0, 0])\n",
    "    i010 = i000 + tf.constant([0, 1, 0])\n",
    "    i001 = i000 + tf.constant([0, 0, 1])\n",
    "    i110 = i000 + tf.constant([1, 1, 0])\n",
    "    i101 = i000 + tf.constant([1, 0, 1])\n",
    "    i011 = i000 + tf.constant([0, 1, 1])\n",
    "    i111 = i000 + tf.constant([1, 1, 1])\n",
    "    neighboor_coords = tf.stack([i000, i100, i010, i001,\n",
    "                                 i110, i101, i011, i111], axis=1)\n",
    "    kernel = 1. - tf.abs(tf.expand_dims(part, axis=1) - tf.cast(neighboor_coords, tf.float32))\n",
    "    kernel = tf.reduce_prod(kernel, axis=-1, keepdims=False)\n",
    "    \n",
    "#     if cube_size is not None:\n",
    "    neighboor_coords = neighboor_coords % cube_size\n",
    "\n",
    "    meshvals = tf.gather_nd(mesh, neighboor_coords)\n",
    "    weightedvals = tf.multiply(meshvals, kernel)\n",
    "    value = tf.reduce_sum(weightedvals, axis=1)\n",
    "    return value\n",
    "\n",
    "\n",
    "def checkpaint():\n",
    "    bs = 50\n",
    "    nc = 16\n",
    "    pm = ParticleMesh(BoxSize=bs, Nmesh = [nc, nc, nc], dtype='f4')\n",
    "    nparticle = 100\n",
    "    pos = bs*np.random.random(3*nparticle).reshape(-1, 3).astype(np.float32)\n",
    "    wts = np.random.random(nparticle).astype(np.float32)\n",
    "    \n",
    "    pmmesh = pm.paint(pos, mass=wts)\n",
    "    \n",
    "    tfmesh = tf.zeros((nc, nc, nc), dtype=tf.float32)\n",
    "    with tf.Session() as sess:\n",
    "        sess.run(tf.global_variables_initializer())\n",
    "        tfmesh = sess.run(cic_paint(tfmesh, pos*nc/bs, weight=wts))\n",
    "    \n",
    "    print(abs(pmmesh[...] - tfmesh).sum())\n",
    "\n",
    "\n",
    "def checkreadout():\n",
    "    bs = 50\n",
    "    nc = 16\n",
    "    pm = ParticleMesh(BoxSize=bs, Nmesh = [nc, nc, nc], dtype='f4')\n",
    "    nparticle = 100\n",
    "    pos = bs*np.random.random(3*nparticle).reshape(-1, 3).astype(np.float32)\n",
    "    base = 100*np.random.random(nc**3).reshape(nc, nc, nc).astype(np.float32)\n",
    "    \n",
    "    pmmesh = pm.create(mode='real', value=base)    \n",
    "    pmread = pmmesh.readout(pos)\n",
    "    \n",
    "    tfmesh = tf.constant(base, dtype=tf.float32)\n",
    "    with tf.Session() as sess:\n",
    "        sess.run(tf.global_variables_initializer())\n",
    "        tfread = sess.run(cic_readout(tfmesh, pos*nc/bs))\n",
    "    \n",
    "    print(abs((pmread[...] - tfread)/pmread).sum())\n",
    "#     print(abs(pmread[...] - tfread).sum()"
   ]
  },
  {
   "cell_type": "code",
   "execution_count": 7,
   "metadata": {},
   "outputs": [
    {
     "name": "stdout",
     "output_type": "stream",
     "text": [
      "3.1113985e-05\n",
      "1.7280922164567113e-05\n"
     ]
    },
    {
     "name": "stderr",
     "output_type": "stream",
     "text": [
      "/global/homes/c/chmodi/.conda/envs/fastpm/lib/python3.6/site-packages/ipykernel/__main__.py:99: DeprecationWarning: argument mode is deprecated. use type=real instead\n"
     ]
    }
   ],
   "source": [
    "checkpaint()\n",
    "checkreadout()"
   ]
  },
  {
   "cell_type": "markdown",
   "metadata": {},
   "source": [
    "# LPT"
   ]
  },
  {
   "cell_type": "code",
   "execution_count": 8,
   "metadata": {},
   "outputs": [],
   "source": [
    "def laplace(k, v):\n",
    "    kk = sum(ki ** 2 for ki in k)\n",
    "    mask = (kk == 0).nonzero()\n",
    "    kk[mask] = 1\n",
    "    b = v / kk\n",
    "    b[mask] = 0\n",
    "    return b\n",
    "\n",
    "def gradient(dir, order=1):\n",
    "    if order == 0:\n",
    "        def kernel(k, v):\n",
    "            # clear the nyquist to ensure field is real\n",
    "            mask = v.i[dir] != v.Nmesh[dir] // 2\n",
    "            return v * (1j * k[dir]) * mask\n",
    "    if order == 1:\n",
    "        def kernel(k, v):\n",
    "            cellsize = (v.BoxSize[dir] / v.Nmesh[dir])\n",
    "            w = k[dir] * cellsize\n",
    "\n",
    "            a = 1 / (6.0 * cellsize) * (8 * numpy.sin(w) - numpy.sin(2 * w))\n",
    "            # a is already zero at the nyquist to ensure field is real\n",
    "            return v * (1j * a)\n",
    "    return kernel\n",
    "\n",
    "\n",
    "def lpt1(dlin_k, q, resampler='cic'):\n",
    "    \"\"\" Run first order LPT on linear density field, returns displacements of particles\n",
    "        reading out at q. The result has the same dtype as q.\n",
    "    \"\"\"\n",
    "    basepm = dlin_k.pm\n",
    "        \n",
    "    ndim = len(basepm.Nmesh)\n",
    "    delta_k = basepm.create('complex', value=1)\n",
    "\n",
    "    \n",
    "    layout = basepm.decompose(q)\n",
    "    local_q = layout.exchange(q)\n",
    "\n",
    "    source = numpy.zeros((len(q), ndim), dtype=q.dtype)\n",
    "    toret = []\n",
    "    for d in range(len(basepm.Nmesh)):\n",
    "        disp = dlin_k.apply(laplace) \\\n",
    "                    .apply(gradient(d), out=Ellipsis) \\\n",
    "                    .c2r(out=Ellipsis)\n",
    "#         toret.append(dlin_k.apply(laplace).apply(gradient(d), out=Ellipsis))\n",
    "        toret.append(disp)\n",
    "\n",
    "        local_disp = disp.readout(local_q, resampler=resampler)\n",
    "        source[..., d] = layout.gather(local_disp)\n",
    "#     return toret\n",
    "    return source\n",
    "\n",
    "\n",
    "\n",
    "\n",
    "def tflaplace(v, gdict):\n",
    "    kvec = gdict['kvec']\n",
    "    kk = sum(ki**2 for ki in kvec)\n",
    "    mask = (kk == 0).nonzero()\n",
    "    kk[mask] = 1\n",
    "    imask = (~(kk==0)).astype(int)\n",
    "    b = tf.multiply(v, 1/kk)\n",
    "    b = tf.multiply(b, imask)\n",
    "    return b \n",
    "\n",
    "\n",
    "def tfgradient(v, dir, gdict):\n",
    "    kvec = gdict['kvec']\n",
    "    bs, nc = gdict['bs'], gdict['nc']\n",
    "    cellsize = bs/nc\n",
    "    w = kvec[dir] * cellsize\n",
    "    a = 1 / (6.0 * cellsize) * (8 * numpy.sin(w) - numpy.sin(2 * w))\n",
    "    ac = a*1j\n",
    "    # a is already zero at the nyquist to ensure field is real\n",
    "    return tf.multiply(v , ac)\n",
    "    \n",
    "\n",
    "def tflpt1(dlin_k, pos, gdict):\n",
    "    \"\"\" Run first order LPT on linear density field, returns displacements of particles\n",
    "        reading out at q. The result has the same dtype as q.\n",
    "    \"\"\"\n",
    "    bs, nc = gdict['bs'], gdict['nc']        \n",
    "#     kvec = tools.fftk((nc, nc, nc), bs)\n",
    "#     gdict['kvec'] = kvec\n",
    "    \n",
    "    ones = tf.ones_like(dlin_k)\n",
    "    lap = tflaplace(ones, gdict)\n",
    "    \n",
    "    displacement = tf.zeros_like(pos)\n",
    "    displacement = []\n",
    "    for d in range(3):\n",
    "        kweight = tf.multiply(tfgradient(ones, d, gdict), lap)\n",
    "        dispc = tf.multiply(kweight, dlin_k)\n",
    "        disp = tf.multiply(tf.spectral.irfft3d(dispc), nc**3)\n",
    "        displacement.append(cic_readout(disp, pos))\n",
    "\n",
    "    return tf.stack(displacement, axis=1)\n"
   ]
  },
  {
   "cell_type": "code",
   "execution_count": 86,
   "metadata": {},
   "outputs": [
    {
     "name": "stderr",
     "output_type": "stream",
     "text": [
      "/global/homes/c/chmodi/.conda/envs/fastpm/lib/python3.6/site-packages/ipykernel/__main__.py:9: DeprecationWarning: mode argument is deprecated, use type\n"
     ]
    }
   ],
   "source": [
    "bs = 16\n",
    "nc = 4\n",
    "pm = ParticleMesh(BoxSize=bs, Nmesh = [nc, nc, nc], dtype='f4')\n",
    "kvec = tools.fftk((nc, nc, nc), bs)\n",
    "gdict = {'bs':bs, 'nc':nc, 'kvec':kvec}\n",
    "nparticle = 2\n",
    "pos = bs*np.random.random(3*nparticle).reshape(-1, 3).astype(np.float32)\n",
    "\n",
    "white = pm.generate_whitenoise(100, mode='real')\n",
    "whitec = white.r2c()\n",
    "#\n",
    "tmp = lpt1(whitec, pos)\n",
    "\n"
   ]
  },
  {
   "cell_type": "code",
   "execution_count": 87,
   "metadata": {},
   "outputs": [],
   "source": [
    "# #Check here in lazy mode\n",
    "\n",
    "#\n",
    "# twhite = tf.constant(white[...])\n",
    "# twhitec = tf.spectral.rfft3d(twhite)/tf.reduce_prod(twhite.shape).numpy()\n",
    "# ttmp = tflpt1(twhitec, pos*nc/bs, gdict)\n",
    "\n",
    "# print(tmp, ttmp.numpy())\n",
    "\n",
    "# # ii = 1\n",
    "# # jj = 2\n",
    "# # for jj in [0, 1, 2]:\n",
    "# # #     print(tmp[ii][jj].real/ ttmp.numpy()[ii][jj].real)\n",
    "# #     print(tmp[ii][jj].imag - ttmp.numpy()[ii][jj].imag)"
   ]
  },
  {
   "cell_type": "code",
   "execution_count": 89,
   "metadata": {},
   "outputs": [
    {
     "name": "stdout",
     "output_type": "stream",
     "text": [
      "[[ 2.4192107   1.0869882   7.2817807 ]\n",
      " [-1.7688123   0.74984986 -1.0023885 ]]\n",
      "[[ 2.4192107  1.0869882  7.2817802]\n",
      " [-1.7688122  0.7498498 -1.0023887]]\n"
     ]
    }
   ],
   "source": [
    "##Check here in sess run mode \n",
    "\n",
    "#\n",
    "twhite = tf.constant(white[...])\n",
    "twhitec = tf.multiply(tf.spectral.rfft3d(twhite), 1/nc**3)\n",
    "with tf.Session() as sess:\n",
    "    sess.run(tf.global_variables_initializer())\n",
    "    ttmp = sess.run(tflpt1(twhitec, pos*nc/bs, gdict))\n",
    "\n",
    "print(tmp)\n",
    "print(ttmp)\n",
    "\n"
   ]
  },
  {
   "cell_type": "markdown",
   "metadata": {},
   "source": [
    "## lpt 2"
   ]
  },
  {
   "cell_type": "code",
   "execution_count": 24,
   "metadata": {},
   "outputs": [],
   "source": [
    "\n",
    "def lpt2source(dlin_k):\n",
    "    \"\"\" Generate the second order LPT source term.  \"\"\"\n",
    "    source = dlin_k.pm.create('real')\n",
    "    source[...] = 0\n",
    "    if dlin_k.ndim != 3: # only for 3d\n",
    "        return source.r2c(out=Ellipsis)\n",
    "\n",
    "    D1 = [1, 2, 0]\n",
    "    D2 = [2, 0, 1]\n",
    "\n",
    "    phi_ii = []\n",
    "\n",
    "    # diagnoal terms\n",
    "    for d in range(dlin_k.ndim):\n",
    "        phi_ii_d = dlin_k.apply(laplace) \\\n",
    "                     .apply(gradient(d), out=Ellipsis) \\\n",
    "                     .apply(gradient(d), out=Ellipsis) \\\n",
    "                     .c2r(out=Ellipsis)\n",
    "        phi_ii.append(phi_ii_d)\n",
    "\n",
    "    for d in range(3):\n",
    "        source[...] += phi_ii[D1[d]].value * phi_ii[D2[d]].value\n",
    "\n",
    "#     return source\n",
    "\n",
    "    # free memory\n",
    "    phi_ii = []\n",
    "\n",
    "    phi_ij = []\n",
    "    # off-diag terms\n",
    "    for d in range(dlin_k.ndim):\n",
    "        phi_ij_d = dlin_k.apply(laplace) \\\n",
    "                 .apply(gradient(D1[d]), out=Ellipsis) \\\n",
    "                 .apply(gradient(D2[d]), out=Ellipsis) \\\n",
    "                 .c2r(out=Ellipsis)\n",
    "\n",
    "        source[...] -= phi_ij_d[...] ** 2\n",
    "\n",
    "    # this ensures x = x0 + dx1(t) + d2(t) for 2LPT\n",
    "\n",
    "    source[...] *= 3.0 / 7\n",
    "#     return source\n",
    "    return source.r2c(out=Ellipsis)\n",
    "\n",
    "\n",
    "\n",
    "\n",
    "def tflpt2source(dlin_k, gdict):\n",
    "    \"\"\" Generate the second order LPT source term.  \"\"\"\n",
    "\n",
    "    bs, nc = gdict['bs'], gdict['nc']\n",
    "    source = tf.zeros((nc, nc, nc))\n",
    "    ones = tf.ones_like(dlin_k)\n",
    "    \n",
    "    D1 = [1, 2, 0]\n",
    "    D2 = [2, 0, 1]\n",
    "\n",
    "    phi_ii = []\n",
    "\n",
    "    # diagnoal terms\n",
    "    lap = tflaplace(ones, gdict)\n",
    "    \n",
    "    for d in range(3):\n",
    "        grad = tfgradient(ones, d, gdict)\n",
    "        kweight = tf.multiply(grad, grad)\n",
    "        kweight = tf.multiply(kweight, lap)\n",
    "        phic = tf.multiply(kweight, dlin_k)\n",
    "        phi_ii.append(tf.multiply(tf.spectral.irfft3d(phic), nc**3))\n",
    "\n",
    "\n",
    "    for d in range(3):\n",
    "        source = tf.add(source, tf.multiply(phi_ii[D1[d]], phi_ii[D2[d]]))\n",
    "    \n",
    "#     return source\n",
    "    # free memory\n",
    "    phi_ii = []\n",
    "\n",
    "    # off-diag terms\n",
    "    for d in range(3):\n",
    "        gradi = tfgradient(ones, D1[d], gdict)\n",
    "        gradj = tfgradient(ones, D2[d], gdict)\n",
    "        kweight = tf.multiply(gradi, gradj)\n",
    "        kweight = tf.multiply(kweight, lap)\n",
    "        phic = tf.multiply(kweight, dlin_k)\n",
    "        phi = tf.multiply(tf.spectral.irfft3d(phic), nc**3)\n",
    "        source = tf.subtract(source, tf.multiply(phi, phi))\n",
    "\n",
    "    source = tf.multiply(source, 3.0/7.)\n",
    "#     return source\n",
    "    return tf.multiply(tf.spectral.rfft3d(source), 1/nc**3)\n",
    "\n",
    "\n"
   ]
  },
  {
   "cell_type": "code",
   "execution_count": 25,
   "metadata": {},
   "outputs": [
    {
     "name": "stderr",
     "output_type": "stream",
     "text": [
      "/global/homes/c/chmodi/.conda/envs/fastpm/lib/python3.6/site-packages/ipykernel/__main__.py:10: DeprecationWarning: mode argument is deprecated, use type\n"
     ]
    }
   ],
   "source": [
    "bs = 16\n",
    "nc = 4\n",
    "pm = ParticleMesh(BoxSize=bs, Nmesh = [nc, nc, nc], dtype='f4')\n",
    "kvec = tools.fftk((nc, nc, nc), bs)\n",
    "gdict = {'bs':bs, 'nc':nc, 'kvec':kvec}\n",
    "nparticle = 2\n",
    "pos = bs*np.random.random(3*nparticle).reshape(-1, 3).astype(np.float32)\n",
    "\n",
    "#\n",
    "white = pm.generate_whitenoise(100, mode='real')\n",
    "whitec = white.r2c()\n",
    "tmp = lpt2source(whitec)\n",
    "\n"
   ]
  },
  {
   "cell_type": "code",
   "execution_count": 26,
   "metadata": {},
   "outputs": [],
   "source": [
    "# #Check here in lazy mode\n",
    "# twhite = tf.constant(white[...])\n",
    "# twhitec = tf.spectral.rfft3d(twhite)/tf.reduce_prod(twhite.shape).numpy()\n",
    "# ttmp = tflpt2source(twhitec, gdict)\n",
    "\n",
    "# ii = 1\n",
    "# jj = 2\n",
    "# for jj in [0, 1, 2]:\n",
    "#     print(tmp[ii][jj].real/ ttmp.numpy()[ii][jj].real)\n",
    "#     print(tmp[ii][jj].imag / ttmp.numpy()[ii][jj].imag)"
   ]
  },
  {
   "cell_type": "code",
   "execution_count": 30,
   "metadata": {},
   "outputs": [
    {
     "name": "stdout",
     "output_type": "stream",
     "text": [
      "[0.99999976 0.9999999  1.        ]\n",
      "[0.99999976 0.99999976 0.9999994 ]\n",
      "[0.9999962 0.9999999 1.0000007]\n",
      "[1.0000004  1.0000045  0.99999976]\n",
      "[0.99999994 1.0000001  1.0000012 ]\n",
      "[0.9999994  0.99999994 0.9999988 ]\n"
     ]
    }
   ],
   "source": [
    "# Check here in sess run mode\n",
    "twhite = tf.constant(white[...])\n",
    "twhitec = tf.multiply(tf.spectral.rfft3d(twhite), 1/nc**3)\n",
    "with tf.Session() as sess:\n",
    "    sess.run(tf.global_variables_initializer())\n",
    "    ttmp = sess.run(tflpt2source(twhitec, gdict))\n",
    "\n",
    "ii = 1\n",
    "jj = 2\n",
    "for jj in [0, 1, 2]:\n",
    "    print(tmp[ii][jj].real/ ttmp[ii][jj].real)\n",
    "    print(tmp[ii][jj].imag / ttmp[ii][jj].imag)"
   ]
  },
  {
   "cell_type": "markdown",
   "metadata": {},
   "source": [
    "## lpt 2nd order\n"
   ]
  },
  {
   "cell_type": "code",
   "execution_count": 31,
   "metadata": {},
   "outputs": [],
   "source": [
    "def lpt( lineark, Q, a=1, order=2):\n",
    "    \"\"\" This computes the 'force' from LPT as well. \"\"\"\n",
    "\n",
    "#     state = StateVector(self, Q)\n",
    "#     pt = PerturbationGrowth(self.cosmology, a=[a], a_normalize=self.a_linear)\n",
    "#     DX1 = pt.D1(a) * lpt1(lineark, Q)\n",
    "    DX1 = 1 * lpt1(lineark, Q)\n",
    "\n",
    "#     V1 = a ** 2 * pt.f1(a) * pt.E(a) * DX1\n",
    "    if order == 2:\n",
    "        DX2 = 1 * lpt1(lpt2source(lineark), Q)\n",
    "#         DX2 = pt.D2(a) * lpt1(lpt2source(linear), Q)\n",
    "#         V2 = a ** 2 * pt.f2(a) * pt.E(a) * DX2\n",
    "#         state.S[...] = DX1 + DX2\n",
    "#         state.P[...] = V1 + V2\n",
    "#         state.F[...] = a ** 2 * pt.E(a) * (pt.gf(a) / pt.D1(a) * DX1 + pt.gf2(a) / pt.D2(a) * DX2)\n",
    "    else:\n",
    "        DX2 = 0\n",
    "#         state.S[...] = DX1\n",
    "#         state.P[...] = V1\n",
    "#         state.F[...] = a ** 2 * pt.E(a) * (pt.gf(a) / pt.D1(a) * DX1)\n",
    "\n",
    "#     return state\n",
    "    return DX1 + DX2\n",
    "\n",
    "\n",
    "def tflpt(lineark, Q, gdict, a=1, order=2):\n",
    "    \n",
    "    bs, nc = gdict['bs'], gdict['nc']\n",
    "    pos = Q*nc/bs\n",
    "    \n",
    "    DX1 = 1 * tflpt1(lineark, pos, gdict)\n",
    "    DX2 = 1 * tflpt1(tflpt2source(lineark, gdict), pos, gdict)\n",
    "    return tf.add(DX1 , DX2)\n",
    "    "
   ]
  },
  {
   "cell_type": "code",
   "execution_count": 35,
   "metadata": {},
   "outputs": [
    {
     "name": "stderr",
     "output_type": "stream",
     "text": [
      "/global/homes/c/chmodi/.conda/envs/fastpm/lib/python3.6/site-packages/ipykernel/__main__.py:9: DeprecationWarning: mode argument is deprecated, use type\n"
     ]
    }
   ],
   "source": [
    "bs = 16\n",
    "nc = 4\n",
    "pm = ParticleMesh(BoxSize=bs, Nmesh = [nc, nc, nc], dtype='f4')\n",
    "kvec = tools.fftk((nc, nc, nc), bs)\n",
    "gdict = {'bs':bs, 'nc':nc, 'kvec':kvec}\n",
    "nparticle = 2\n",
    "pos = bs*np.random.random(3*nparticle).reshape(-1, 3).astype(np.float32)\n",
    "#\n",
    "white = pm.generate_whitenoise(100, mode='real')\n",
    "whitec = white.r2c()\n",
    "tmp = lpt(whitec, pos)\n",
    "#\n",
    "\n",
    "\n"
   ]
  },
  {
   "cell_type": "code",
   "execution_count": 32,
   "metadata": {},
   "outputs": [],
   "source": [
    "# # Check here in lazy mode\n",
    "\n",
    "# twhite = tf.constant(white[...])\n",
    "# twhitec = tf.spectral.rfft3d(twhite)/tf.reduce_prod(twhite.shape).numpy()\n",
    "# ttmp = tflpt(twhitec, pos, gdict)\n",
    "\n",
    "# print(tmp, ttmp.numpy())\n"
   ]
  },
  {
   "cell_type": "code",
   "execution_count": 38,
   "metadata": {},
   "outputs": [
    {
     "name": "stdout",
     "output_type": "stream",
     "text": [
      "[[-0.68384343 -3.223581   -5.472161  ]\n",
      " [ 0.10872422 -0.44272685  3.7768142 ]]\n",
      "[[-0.6838432  -3.223581   -5.4721613 ]\n",
      " [ 0.10872419 -0.4427268   3.776814  ]]\n"
     ]
    }
   ],
   "source": [
    "# Check here in sess run mode\n",
    "twhite = tf.constant(white[...])\n",
    "twhitec = tf.multiply(tf.spectral.rfft3d(twhite), 1/nc**3)\n",
    "with tf.Session() as sess:\n",
    "    sess.run(tf.global_variables_initializer())\n",
    "    ttmp = sess.run(tflpt(twhitec, pos, gdict))\n",
    "\n",
    "print(tmp)\n",
    "print(ttmp)\n",
    "\n",
    "# ii = 1\n",
    "# jj = 2\n",
    "# for jj in [0, 1, 2]:\n",
    "#     print(tmp[ii][jj].real/ ttmp[ii][jj].real)\n",
    "#     print(tmp[ii][jj].imag / ttmp[ii][jj].imag)"
   ]
  },
  {
   "cell_type": "markdown",
   "metadata": {},
   "source": [
    "## lpt figure"
   ]
  },
  {
   "cell_type": "code",
   "execution_count": 39,
   "metadata": {},
   "outputs": [],
   "source": [
    "from nbodykit.cosmology import Cosmology, EHPower, Planck15"
   ]
  },
  {
   "cell_type": "code",
   "execution_count": 41,
   "metadata": {},
   "outputs": [],
   "source": [
    "bs = 100\n",
    "nc = 32\n",
    "pm = ParticleMesh(BoxSize=bs, Nmesh = [nc, nc, nc], dtype='f4')\n",
    "grid = pm.generate_uniform_particle_grid(shift=0).astype(np.float32)\n",
    "kvec = tools.fftk((nc, nc, nc), bs)\n",
    "gdict = {'bs':bs, 'nc':nc, 'kvec':kvec}\n",
    "\n",
    "\n"
   ]
  },
  {
   "cell_type": "code",
   "execution_count": 64,
   "metadata": {},
   "outputs": [
    {
     "name": "stderr",
     "output_type": "stream",
     "text": [
      "/global/homes/c/chmodi/.conda/envs/fastpm/lib/python3.6/site-packages/ipykernel/__main__.py:1: DeprecationWarning: mode argument is deprecated, use type\n",
      "  if __name__ == '__main__':\n"
     ]
    }
   ],
   "source": [
    "whitec = pm.generate_whitenoise(100, mode='complex', unitary=False)\n",
    "lineark = whitec.apply(lambda k, v:Planck15.get_pklin(sum(ki ** 2 for ki in k)**0.5, 0) ** 0.5 * v / v.BoxSize.prod() ** 0.5)\n",
    "linear = lineark.c2r()\n",
    "\n",
    "lptdisp = lpt(lineark, grid, order=2)\n",
    "lptpos = grid + lptdisp\n",
    "lptmesh =  pm.paint(lptpos)\n"
   ]
  },
  {
   "cell_type": "code",
   "execution_count": 69,
   "metadata": {},
   "outputs": [],
   "source": [
    "# #\n",
    "tlinear = tf.constant(linear[...])\n",
    "tlineark = tf.multiply(tf.spectral.rfft3d(tlinear), 1/nc**3)\n",
    "tlptmesh = tf.zeros_like(tlinear)\n",
    "wt = tf.ones(nc**3)\n",
    "tlptdisp = tflpt(tlineark, grid, gdict)\n",
    "tlptpos = tf.add(grid, tlptdisp)\n",
    "tlptmesh = cic_paint(tlptmesh, tf.multiply(tlptpos, nc/bs), weight=wt)\n",
    "\n",
    "with tf.Session() as sess:\n",
    "    sess.run(tf.global_variables_initializer())\n",
    "    tflptpos, tflptmesh = sess.run([tlptpos, tlptmesh])"
   ]
  },
  {
   "cell_type": "code",
   "execution_count": 70,
   "metadata": {},
   "outputs": [
    {
     "data": {
      "text/plain": [
       "array([[1.0000017 , 1.0000002 , 0.9999997 ],\n",
       "       [1.0000014 , 1.0000001 , 0.99999976],\n",
       "       [0.99999976, 0.99999946, 0.99999994],\n",
       "       ...,\n",
       "       [1.        , 1.        , 1.0000001 ],\n",
       "       [1.        , 1.        , 1.0000001 ],\n",
       "       [1.        , 1.        , 1.        ]], dtype=float32)"
      ]
     },
     "execution_count": 70,
     "metadata": {},
     "output_type": "execute_result"
    }
   ],
   "source": [
    "tflptpos/lptpos"
   ]
  },
  {
   "cell_type": "code",
   "execution_count": 84,
   "metadata": {},
   "outputs": [
    {
     "data": {
      "text/plain": [
       "Text(0.5,1,'Yu 2LPT')"
      ]
     },
     "execution_count": 84,
     "metadata": {},
     "output_type": "execute_result"
    },
    {
     "data": {
      "image/png": "[encoded data removed]",
      "text/plain": [
       "<Figure size 792x792 with 8 Axes>"
      ]
     },
     "metadata": {
      "needs_background": "light"
     },
     "output_type": "display_data"
    }
   ],
   "source": [
    "fig, axar = plt.subplots(2, 2, figsize = (11, 11))\n",
    "ax = axar[0]\n",
    "im = ax[0].imshow(linear[...].sum(axis=0))\n",
    "plt.colorbar(im, ax=ax[0])\n",
    "ax[0].set_title('Linear')\n",
    "im = ax[1].imshow((lptmesh-tflptmesh)[...].sum(axis=0))\n",
    "plt.colorbar(im, ax=ax[1])\n",
    "ax[1].set_title('Difference 2LPT')\n",
    "ax = axar[1]\n",
    "im = ax[0].imshow(tflptmesh[...].sum(axis=0))\n",
    "plt.colorbar(im, ax=ax[0])\n",
    "ax[0].set_title('TF 2LPT')\n",
    "im = ax[1].imshow(lptmesh[...].sum(axis=0))\n",
    "plt.colorbar(im, ax=ax[1])\n",
    "ax[1].set_title('Yu 2LPT')\n",
    "\n"
   ]
  }
 ],
 "metadata": {
  "kernelspec": {
   "display_name": "Python [conda env:fastpm]",
   "language": "python",
   "name": "conda-env-fastpm-py"
  },
  "language_info": {
   "codemirror_mode": {
    "name": "ipython",
    "version": 3
   },
   "file_extension": ".py",
   "mimetype": "text/x-python",
   "name": "python",
   "nbconvert_exporter": "python",
   "pygments_lexer": "ipython3",
   "version": "3.6.6"
  }
 },
 "nbformat": 4,
 "nbformat_minor": 2
}
