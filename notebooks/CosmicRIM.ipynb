{
  "nbformat": 4,
  "nbformat_minor": 0,
  "metadata": {
    "kernelspec": {
      "name": "python3",
      "display_name": "Python 3"
    },
    "language_info": {
      "codemirror_mode": {
        "name": "ipython",
        "version": 3
      },
      "file_extension": ".py",
      "mimetype": "text/x-python",
      "name": "python",
      "nbconvert_exporter": "python",
      "pygments_lexer": "ipython3",
      "version": "3.6.8"
    },
    "colab": {
      "name": "CosmicRIM.ipynb",
      "provenance": [],
      "collapsed_sections": [
        "vrgmyAIpqBis",
        "V-i6WS01qBiu",
        "x-8u-UUOqBjD",
        "a5LMCIHDqBjM"
      ],
      "machine_shape": "hm",
      "include_colab_link": true
    },
    "accelerator": "GPU"
  },
  "cells": [
    {
      "cell_type": "markdown",
      "metadata": {
        "id": "view-in-github",
        "colab_type": "text"
      },
      "source": [
        "<a href=\"https://colab.research.google.com/github/modichirag/galmodel/blob/u%2FEiffL%2FCosmicRIM/notebooks/CosmicRIM.ipynb\" target=\"_parent\"><img src=\"https://colab.research.google.com/assets/colab-badge.svg\" alt=\"Open In Colab\"/></a>"
      ]
    },
    {
      "cell_type": "markdown",
      "metadata": {
        "id": "LVrLa_o7qBhL",
        "colab_type": "text"
      },
      "source": [
        "https://github.com/artix41/RIM-pytorch/blob/master/rim-toy.ipynb"
      ]
    },
    {
      "cell_type": "markdown",
      "metadata": {
        "id": "urnsg7sGqBhQ",
        "colab_type": "text"
      },
      "source": [
        "https://github.com/wmorning/DeepClean"
      ]
    },
    {
      "cell_type": "markdown",
      "metadata": {
        "id": "U4choEkMqLoH",
        "colab_type": "text"
      },
      "source": [
        "## Installing dependencies\n"
      ]
    },
    {
      "cell_type": "code",
      "metadata": {
        "id": "QyE4sLClqKKm",
        "colab_type": "code",
        "outputId": "7492fa9b-2a02-4eac-e17d-4f9bc25e351b",
        "colab": {
          "base_uri": "https://localhost:8080/",
          "height": 919
        }
      },
      "source": [
        "!pip install git+https://github.com/modichirag/flowpm.git@u/EiffL/ops\n",
        "!git clone https://github.com/modichirag/flowpm.git \n",
        "!git clone https://github.com/modichirag/galmodel.git -b u/EiffL/CosmicRIM"
      ],
      "execution_count": 1,
      "outputs": [
        {
          "output_type": "stream",
          "text": [
            "Collecting git+https://github.com/modichirag/flowpm.git@u/EiffL/ops\n",
            "  Cloning https://github.com/modichirag/flowpm.git (to revision u/EiffL/ops) to /tmp/pip-req-build-zx76zh9u\n",
            "  Running command git clone -q https://github.com/modichirag/flowpm.git /tmp/pip-req-build-zx76zh9u\n",
            "  Running command git checkout -b u/EiffL/ops --track origin/u/EiffL/ops\n",
            "  Switched to a new branch 'u/EiffL/ops'\n",
            "  Branch 'u/EiffL/ops' set up to track remote branch 'u/EiffL/ops' from 'origin'.\n",
            "Requirement already satisfied: astropy in /usr/local/lib/python3.6/dist-packages (from flowpm==0.1) (3.0.5)\n",
            "Requirement already satisfied: scipy in /usr/local/lib/python3.6/dist-packages (from flowpm==0.1) (1.3.1)\n",
            "Requirement already satisfied: tensorflow in /usr/local/lib/python3.6/dist-packages (from flowpm==0.1) (1.14.0)\n",
            "Requirement already satisfied: numpy>=1.10.0 in /usr/local/lib/python3.6/dist-packages (from astropy->flowpm==0.1) (1.16.5)\n",
            "Requirement already satisfied: google-pasta>=0.1.6 in /usr/local/lib/python3.6/dist-packages (from tensorflow->flowpm==0.1) (0.1.7)\n",
            "Requirement already satisfied: astor>=0.6.0 in /usr/local/lib/python3.6/dist-packages (from tensorflow->flowpm==0.1) (0.8.0)\n",
            "Requirement already satisfied: tensorflow-estimator<1.15.0rc0,>=1.14.0rc0 in /usr/local/lib/python3.6/dist-packages (from tensorflow->flowpm==0.1) (1.14.0)\n",
            "Requirement already satisfied: termcolor>=1.1.0 in /usr/local/lib/python3.6/dist-packages (from tensorflow->flowpm==0.1) (1.1.0)\n",
            "Requirement already satisfied: absl-py>=0.7.0 in /usr/local/lib/python3.6/dist-packages (from tensorflow->flowpm==0.1) (0.8.0)\n",
            "Requirement already satisfied: wheel>=0.26 in /usr/local/lib/python3.6/dist-packages (from tensorflow->flowpm==0.1) (0.33.6)\n",
            "Requirement already satisfied: gast>=0.2.0 in /usr/local/lib/python3.6/dist-packages (from tensorflow->flowpm==0.1) (0.2.2)\n",
            "Requirement already satisfied: wrapt>=1.11.1 in /usr/local/lib/python3.6/dist-packages (from tensorflow->flowpm==0.1) (1.11.2)\n",
            "Requirement already satisfied: tensorboard<1.15.0,>=1.14.0 in /usr/local/lib/python3.6/dist-packages (from tensorflow->flowpm==0.1) (1.14.0)\n",
            "Requirement already satisfied: protobuf>=3.6.1 in /usr/local/lib/python3.6/dist-packages (from tensorflow->flowpm==0.1) (3.7.1)\n",
            "Requirement already satisfied: keras-applications>=1.0.6 in /usr/local/lib/python3.6/dist-packages (from tensorflow->flowpm==0.1) (1.0.8)\n",
            "Requirement already satisfied: six>=1.10.0 in /usr/local/lib/python3.6/dist-packages (from tensorflow->flowpm==0.1) (1.12.0)\n",
            "Requirement already satisfied: keras-preprocessing>=1.0.5 in /usr/local/lib/python3.6/dist-packages (from tensorflow->flowpm==0.1) (1.1.0)\n",
            "Requirement already satisfied: grpcio>=1.8.6 in /usr/local/lib/python3.6/dist-packages (from tensorflow->flowpm==0.1) (1.15.0)\n",
            "Requirement already satisfied: setuptools>=41.0.0 in /usr/local/lib/python3.6/dist-packages (from tensorboard<1.15.0,>=1.14.0->tensorflow->flowpm==0.1) (41.2.0)\n",
            "Requirement already satisfied: markdown>=2.6.8 in /usr/local/lib/python3.6/dist-packages (from tensorboard<1.15.0,>=1.14.0->tensorflow->flowpm==0.1) (3.1.1)\n",
            "Requirement already satisfied: werkzeug>=0.11.15 in /usr/local/lib/python3.6/dist-packages (from tensorboard<1.15.0,>=1.14.0->tensorflow->flowpm==0.1) (0.15.6)\n",
            "Requirement already satisfied: h5py in /usr/local/lib/python3.6/dist-packages (from keras-applications>=1.0.6->tensorflow->flowpm==0.1) (2.8.0)\n",
            "Building wheels for collected packages: flowpm\n",
            "  Building wheel for flowpm (setup.py) ... \u001b[?25l\u001b[?25hdone\n",
            "  Created wheel for flowpm: filename=flowpm-0.1-cp36-none-any.whl size=11269 sha256=9d72253fdf775b3cb3c98195f0a450bced9f2b002f4d3f028d395a0d644bd895\n",
            "  Stored in directory: /tmp/pip-ephem-wheel-cache-0jbp0hgs/wheels/a7/cf/46/38a5d061a8e3218031be48fd77d3c4c096624b1b1497197fe3\n",
            "Successfully built flowpm\n",
            "Installing collected packages: flowpm\n",
            "Successfully installed flowpm-0.1\n",
            "Cloning into 'flowpm'...\n",
            "remote: Enumerating objects: 227, done.\u001b[K\n",
            "remote: Counting objects: 100% (227/227), done.\u001b[K\n",
            "remote: Compressing objects: 100% (160/160), done.\u001b[K\n",
            "remote: Total 227 (delta 128), reused 147 (delta 59), pack-reused 0\u001b[K\n",
            "Receiving objects: 100% (227/227), 155.22 KiB | 873.00 KiB/s, done.\n",
            "Resolving deltas: 100% (128/128), done.\n",
            "Cloning into 'galmodel'...\n",
            "remote: Enumerating objects: 43, done.\u001b[K\n",
            "remote: Counting objects: 100% (43/43), done.\u001b[K\n",
            "remote: Compressing objects: 100% (34/34), done.\u001b[K\n",
            "remote: Total 686 (delta 18), reused 29 (delta 8), pack-reused 643\u001b[K\n",
            "Receiving objects: 100% (686/686), 17.78 MiB | 16.04 MiB/s, done.\n",
            "Resolving deltas: 100% (388/388), done.\n"
          ],
          "name": "stdout"
        }
      ]
    },
    {
      "cell_type": "code",
      "metadata": {
        "id": "W949xI0gZQpg",
        "colab_type": "code",
        "colab": {}
      },
      "source": [
        "import sys\n",
        "sys.path.insert(0,'galmodel/')"
      ],
      "execution_count": 0,
      "outputs": []
    },
    {
      "cell_type": "markdown",
      "metadata": {
        "id": "q5U4M4WJqsPH",
        "colab_type": "text"
      },
      "source": [
        "## Moving on to the main business"
      ]
    },
    {
      "cell_type": "code",
      "metadata": {
        "id": "waisY9rOqBhU",
        "colab_type": "code",
        "outputId": "f921ad3b-0913-497a-f421-f3b4188ab115",
        "colab": {
          "base_uri": "https://localhost:8080/",
          "height": 35
        }
      },
      "source": [
        "%pylab inline\n",
        "colormap = np.array(plt.rcParams['axes.prop_cycle'].by_key()['color'])"
      ],
      "execution_count": 2,
      "outputs": [
        {
          "output_type": "stream",
          "text": [
            "Populating the interactive namespace from numpy and matplotlib\n"
          ],
          "name": "stdout"
        }
      ]
    },
    {
      "cell_type": "code",
      "metadata": {
        "id": "byJY9g5pqBhd",
        "colab_type": "code",
        "colab": {}
      },
      "source": [
        "import tensorflow as tf\n",
        "\n",
        "import flowpm\n",
        "from scipy.interpolate import InterpolatedUnivariateSpline as iuspline\n",
        "\n",
        "klin = np.loadtxt('flowpm/flowpm/data/Planck15_a1p00.txt').T[0]\n",
        "plin = np.loadtxt('flowpm/flowpm/data/Planck15_a1p00.txt').T[1]\n",
        "\n",
        "ipklin = iuspline(klin, plin)"
      ],
      "execution_count": 0,
      "outputs": []
    },
    {
      "cell_type": "markdown",
      "metadata": {
        "id": "xMmFmn4HqBhq",
        "colab_type": "text"
      },
      "source": [
        "### Build data pipeline"
      ]
    },
    {
      "cell_type": "code",
      "metadata": {
        "id": "lofiTVyqqBhr",
        "colab_type": "code",
        "outputId": "2492350d-defa-4699-e88b-82b99549aa96",
        "colab": {
          "base_uri": "https://localhost:8080/",
          "height": 145
        }
      },
      "source": [
        "# Parameters of the simulations\n",
        "a0 = 0.1\n",
        "stages = np.linspace(a0, 1.0, 2, endpoint=True)\n",
        "boxsize = 100\n",
        "nc = 16\n",
        "batch_size = 16\n",
        "\n",
        "def sample_sim(dummy):\n",
        "  \"\"\" Draws a batch of realizations of initial cond\n",
        "  \"\"\"\n",
        "  initial_conditions = flowpm.linear_field(nc, boxsize, ipklin, batch_size=batch_size)\n",
        "  state = flowpm.lpt_init(initial_conditions, a0=a0)\n",
        "  final_state = flowpm.nbody(state, stages, nc)\n",
        "  final_field = flowpm.cic_paint(tf.zeros_like(initial_conditions), final_state[0])\n",
        "  return initial_conditions, final_field\n",
        "\n",
        "dset = tf.data.Dataset.range(10)\n",
        "dset = dset.map(sample_sim)\n",
        "dset = dset.apply(tf.data.experimental.unbatch())\n",
        "dset = dset.prefetch(-1)"
      ],
      "execution_count": 4,
      "outputs": [
        {
          "output_type": "stream",
          "text": [
            "WARNING:tensorflow:From /usr/local/lib/python3.6/dist-packages/flowpm/utils.py:158: The name tf.random_normal is deprecated. Please use tf.random.normal instead.\n",
            "\n",
            "WARNING:tensorflow:From /usr/local/lib/python3.6/dist-packages/flowpm/utils.py:123: The name tf.spectral.fft3d is deprecated. Please use tf.signal.fft3d instead.\n",
            "\n",
            "WARNING:tensorflow:From /usr/local/lib/python3.6/dist-packages/flowpm/utils.py:149: The name tf.spectral.ifft3d is deprecated. Please use tf.signal.ifft3d instead.\n",
            "\n"
          ],
          "name": "stdout"
        }
      ]
    },
    {
      "cell_type": "code",
      "metadata": {
        "id": "bU3NTfNZwNa4",
        "colab_type": "code",
        "outputId": "5a4c1ecd-46ca-4348-ca98-2da18e9571df",
        "colab": {
          "base_uri": "https://localhost:8080/",
          "height": 91
        }
      },
      "source": [
        "it = dset.make_initializable_iterator()"
      ],
      "execution_count": 5,
      "outputs": [
        {
          "output_type": "stream",
          "text": [
            "WARNING:tensorflow:From <ipython-input-5-f4a085a13b20>:1: DatasetV1.make_initializable_iterator (from tensorflow.python.data.ops.dataset_ops) is deprecated and will be removed in a future version.\n",
            "Instructions for updating:\n",
            "Use `for ... in dataset:` to iterate over a dataset. If using `tf.estimator`, return the `Dataset` object directly from your input function. As a last resort, you can use `tf.compat.v1.data.make_initializable_iterator(dataset)`.\n"
          ],
          "name": "stdout"
        }
      ]
    },
    {
      "cell_type": "code",
      "metadata": {
        "id": "CPrBd7nUwNfc",
        "colab_type": "code",
        "colab": {}
      },
      "source": [
        "sess = tf.Session()\n",
        "sess.run(it.initializer)"
      ],
      "execution_count": 0,
      "outputs": []
    },
    {
      "cell_type": "code",
      "metadata": {
        "id": "Y_aayv4ywNVq",
        "colab_type": "code",
        "colab": {}
      },
      "source": [
        "res = sess.run(it.get_next())"
      ],
      "execution_count": 0,
      "outputs": []
    },
    {
      "cell_type": "code",
      "metadata": {
        "id": "tUm6024Lw8HC",
        "colab_type": "code",
        "outputId": "c8f45665-06be-4405-c437-c316662ade2f",
        "colab": {
          "base_uri": "https://localhost:8080/",
          "height": 222
        }
      },
      "source": [
        "subplot(121)\n",
        "imshow(res[0].sum(axis=0))\n",
        "subplot(122)\n",
        "imshow(res[1].sum(axis=0))"
      ],
      "execution_count": 8,
      "outputs": [
        {
          "output_type": "execute_result",
          "data": {
            "text/plain": [
              "<matplotlib.image.AxesImage at 0x7fe40420a0f0>"
            ]
          },
          "metadata": {
            "tags": []
          },
          "execution_count": 8
        },
        {
          "output_type": "display_data",
          "data": {
            "image/png": "[encoded data removed]",
            "text/plain": [
              "<Figure size 432x288 with 2 Axes>"
            ]
          },
          "metadata": {
            "tags": []
          }
        }
      ]
    },
    {
      "cell_type": "markdown",
      "metadata": {
        "id": "mJMpwUpMqBh4",
        "colab_type": "text"
      },
      "source": [
        "# Brute force Gradient Descent to check it works"
      ]
    },
    {
      "cell_type": "code",
      "metadata": {
        "id": "9LBVKj_WqBh5",
        "colab_type": "code",
        "colab": {}
      },
      "source": [
        "sigma=1.0\n",
        "tf.reset_default_graph()\n",
        "\n",
        "def pm(lin):\n",
        "  state = flowpm.lpt_init(lin, a0=a0)\n",
        "  final_state = flowpm.nbody(state, stages, nc)\n",
        "  final_field = flowpm.cic_paint(tf.zeros_like(lin), final_state[0])\n",
        "  return final_field\n",
        "\n",
        "xx = tf.placeholder(tf.float32, [1, nc, nc, nc])\n",
        "yy = tf.placeholder(tf.float32, [1, nc, nc, nc])\n",
        "\n",
        "linear = tf.get_variable('linmesh', shape=(1, nc, nc, nc),\n",
        "            initializer=tf.random_normal_initializer(mean=1.0, stddev=0.5), trainable=True)\n",
        "initlin_op = linear.assign(xx, name='initlin_op')\n",
        "\n",
        "final = pm(linear)\n",
        "\n",
        "likelihood = tf.subtract(final, tf.squeeze(yy))\n",
        "residual = tf.multiply(likelihood, 1./sigma)\n",
        "chisq = tf.multiply(residual, residual)\n",
        "chisq = tf.reduce_sum(chisq)\n",
        "chisq = tf.multiply(chisq, 1/nc**3, name='chisq')\n",
        "\n",
        "logposterior = chisq\n",
        "# grads = tf.gradients(logposterior, [linear])[0]\n",
        "\n",
        "opt = tf.train.AdamOptimizer(learning_rate=0.1)\n",
        "grads = opt.compute_gradients(logposterior, [linear])\n",
        "applygrads = opt.apply_gradients(grads)"
      ],
      "execution_count": 0,
      "outputs": []
    },
    {
      "cell_type": "code",
      "metadata": {
        "id": "RPrwgxsDqBh-",
        "colab_type": "code",
        "outputId": "8aa24f15-afa9-4d8c-81ce-a6cebb1999ce",
        "colab": {
          "base_uri": "https://localhost:8080/",
          "height": 35
        }
      },
      "source": [
        "start = time.time()\n",
        "#Train\n",
        "\n",
        "# with tf.Session() as sess:\n",
        "sess = tf.Session()    \n",
        "sess.run(tf.global_variables_initializer())\n",
        "\n",
        "dset = tf.data.Dataset.range(10)\n",
        "dset = dset.map(sample_sim)\n",
        "dset = dset.apply(tf.data.experimental.unbatch())\n",
        "dset = dset.prefetch(-1)\n",
        "it = dset.make_initializable_iterator()\n",
        "sess.run(it.initializer)\n",
        "\n",
        "batchsize = 1\n",
        "ixx, iyy = sess.run(it.get_next())\n",
        "\n",
        "for i in range(100):\n",
        "    _ = sess.run(applygrads, {xx:ixx.reshape((1, nc,nc,nc)),\n",
        "                              yy:iyy.reshape((1, nc,nc,nc))})\n",
        "\n",
        "print(time.time()-start)"
      ],
      "execution_count": 0,
      "outputs": [
        {
          "output_type": "stream",
          "text": [
            "21.36795926094055\n"
          ],
          "name": "stdout"
        }
      ]
    },
    {
      "cell_type": "code",
      "metadata": {
        "id": "QkRy4GkPqBiA",
        "colab_type": "code",
        "colab": {}
      },
      "source": [
        "test = sess.run(linear, {xx:ixx.reshape((1, nc,nc,nc)), \n",
        "                         yy:iyy.reshape((1, nc,nc,nc))})"
      ],
      "execution_count": 0,
      "outputs": []
    },
    {
      "cell_type": "code",
      "metadata": {
        "id": "MZGfi1SKqBiF",
        "colab_type": "code",
        "outputId": "c507f02e-365b-4083-c496-9de656978473",
        "colab": {
          "base_uri": "https://localhost:8080/",
          "height": 287
        }
      },
      "source": [
        "plt.imshow(test[0].sum(axis=0)); colorbar()"
      ],
      "execution_count": 0,
      "outputs": [
        {
          "output_type": "execute_result",
          "data": {
            "text/plain": [
              "<matplotlib.colorbar.Colorbar at 0x7f87d199cc50>"
            ]
          },
          "metadata": {
            "tags": []
          },
          "execution_count": 35
        },
        {
          "output_type": "display_data",
          "data": {
            "image/png": "[encoded data removed]",
            "text/plain": [
              "<Figure size 432x288 with 2 Axes>"
            ]
          },
          "metadata": {
            "tags": []
          }
        }
      ]
    },
    {
      "cell_type": "code",
      "metadata": {
        "id": "dJKyfb0GqBiI",
        "colab_type": "code",
        "outputId": "a08b1390-43d2-483d-cb1f-ea5f8cfca614",
        "colab": {
          "base_uri": "https://localhost:8080/",
          "height": 287
        }
      },
      "source": [
        "plt.imshow(ixx.sum(axis=0)); colorbar()"
      ],
      "execution_count": 0,
      "outputs": [
        {
          "output_type": "execute_result",
          "data": {
            "text/plain": [
              "<matplotlib.colorbar.Colorbar at 0x7f87d1938898>"
            ]
          },
          "metadata": {
            "tags": []
          },
          "execution_count": 36
        },
        {
          "output_type": "display_data",
          "data": {
            "image/png": "[encoded data removed]",
            "text/plain": [
              "<Figure size 432x288 with 2 Axes>"
            ]
          },
          "metadata": {
            "tags": []
          }
        }
      ]
    },
    {
      "cell_type": "markdown",
      "metadata": {
        "id": "xOHM2sseqBiL",
        "colab_type": "text"
      },
      "source": [
        "# RIM"
      ]
    },
    {
      "cell_type": "code",
      "metadata": {
        "id": "Du3rFn5dqBiN",
        "colab_type": "code",
        "colab": {}
      },
      "source": [
        "from galmodel.layers.recurrent_inference import ConvRIM3D\n",
        "from galmodel.layers.convolutional_recurrent import ConvLSTM3DCell\n",
        "\n",
        "def pm(lin):\n",
        "  state = flowpm.lpt_init(lin, a0=a0)\n",
        "  final_state = flowpm.nbody(state, stages, nc)\n",
        "  final_field = flowpm.cic_paint(tf.zeros_like(lin), final_state[0])\n",
        "  return final_field\n",
        "\n",
        "def likelihood_fn(inputs, predictions):\n",
        "  \"\"\" Evaluates the data likelihood function through Fast PM\n",
        "  \"\"\"\n",
        "  final_field = pm(predictions[..., 0])\n",
        "  likelihood = tf.reduce_mean((final_field - inputs[...,0])**2/sigma**2, \n",
        "                              axis=[1, 2, 3])\n",
        "  return likelihood"
      ],
      "execution_count": 0,
      "outputs": []
    },
    {
      "cell_type": "code",
      "metadata": {
        "id": "xSVUEwQvZ4AA",
        "colab_type": "code",
        "colab": {}
      },
      "source": [
        "tf.reset_default_graph()\n",
        "\n",
        "sigma=1.0/nc**3\n",
        "\n",
        "# Building blocks of the RIM\n",
        "cell = ConvLSTM3DCell(filters=128, kernel_size=3, padding='SAME')\n",
        "output_layer = tf.keras.layers.Conv3D(filters=1, kernel_size=3, padding='SAME')\n",
        "\n",
        "\n",
        "# Instantiate the cosmic rim\n",
        "cosmic_rim = ConvRIM3D(cell,\n",
        "                       output_layer,\n",
        "                       likelihood_fn=likelihood_fn,\n",
        "                       niter=10, \n",
        "                       return_sequences=True)"
      ],
      "execution_count": 0,
      "outputs": []
    },
    {
      "cell_type": "code",
      "metadata": {
        "id": "Vi4Am0bUqBiP",
        "colab_type": "code",
        "outputId": "b31dc3b4-b5ff-45e5-9794-d5d5b15239e3",
        "colab": {
          "base_uri": "https://localhost:8080/",
          "height": 109
        }
      },
      "source": [
        "xx = tf.placeholder(tf.float32, [batch_size, nc, nc, nc, 1])\n",
        "yy = tf.placeholder(tf.float32, [batch_size, nc, nc, nc, 1])\n",
        "lr = tf.placeholder(tf.float32)\n",
        "\n",
        "# axis 0 is the iteration number\n",
        "preds = cosmic_rim(yy)\n",
        "\n",
        "# Compute the final field at the end of the reconstruction\n",
        "fin = pm(preds[-1,...,0])\n",
        "\n",
        "batch_loss = tf.reduce_mean((preds - xx)**2, axis=[0, 2, 3, 4, 5])\n",
        "\n",
        "loss = tf.reduce_mean(batch_loss)\n",
        "\n",
        "opt = tf.train.GradientDescentOptimizer(learning_rate=lr)\n",
        "\n",
        "opt_op = opt.minimize(loss)"
      ],
      "execution_count": 15,
      "outputs": [
        {
          "output_type": "stream",
          "text": [
            "WARNING:tensorflow:From /usr/local/lib/python3.6/dist-packages/tensorflow/python/ops/math_grad.py:1205: add_dispatch_support.<locals>.wrapper (from tensorflow.python.ops.array_ops) is deprecated and will be removed in a future version.\n",
            "Instructions for updating:\n",
            "Use tf.where in 2.0, which has the same broadcast rule as np.where\n",
            "Tensor(\"conv_ri_m3d/TensorArrayStack/TensorArrayGatherV3:0\", shape=(?, 16, 16, 16, 16, 128), dtype=float32)\n"
          ],
          "name": "stdout"
        }
      ]
    },
    {
      "cell_type": "code",
      "metadata": {
        "id": "u4GlErPT6uqa",
        "colab_type": "code",
        "colab": {}
      },
      "source": [
        "dset = tf.data.Dataset.range(10000)\n",
        "dset = dset.map(sample_sim)\n",
        "dset = dset.apply(tf.data.experimental.unbatch())\n",
        "# dset = dset.cache()\n",
        "# dset = dset.repeat()\n",
        "# dset = dset.shuffle(1000)\n",
        "dset = dset.batch(16)\n",
        "dset = dset.prefetch(-1)\n",
        "it = dset.make_initializable_iterator()\n",
        "infield, outfield = it.get_next()"
      ],
      "execution_count": 0,
      "outputs": []
    },
    {
      "cell_type": "code",
      "metadata": {
        "id": "s78dotUcqBiS",
        "colab_type": "code",
        "outputId": "089d7264-6e88-4ba2-c58b-2edb83bad050",
        "colab": {
          "base_uri": "https://localhost:8080/",
          "height": 71
        }
      },
      "source": [
        "start = time.time()\n",
        "\n",
        "sess = tf.Session()    \n",
        "sess.run(tf.global_variables_initializer())\n",
        "sess.run(it.initializer)\n",
        "\n",
        "llist = []\n",
        "\n",
        "for nb in range(2):\n",
        "  ixx, iyy = sess.run([infield, outfield])\n",
        "  _, l,  = sess.run([opt_op, loss], {xx:ixx.reshape((batch_size, nc, nc, nc, 1)),\n",
        "                                      yy:iyy.reshape((batch_size, nc, nc, nc, 1)),\n",
        "                                      lr:0.001})\n",
        "  print('Step : ', nb, ' Loss : ', l)\n",
        "  llist.append(l)\n",
        "\n",
        "print(time.time()-start)"
      ],
      "execution_count": 17,
      "outputs": [
        {
          "output_type": "stream",
          "text": [
            "Step :  0  Loss :  2.3681746\n",
            "Step :  1  Loss :  2.125667\n",
            "21.766587257385254\n"
          ],
          "name": "stdout"
        }
      ]
    },
    {
      "cell_type": "code",
      "metadata": {
        "id": "m_flHyY8MJLV",
        "colab_type": "code",
        "outputId": "7d0ee668-ad8f-4589-c458-d7c4515d663d",
        "colab": {
          "base_uri": "https://localhost:8080/",
          "height": 1000
        }
      },
      "source": [
        "for nb in range(500):\n",
        "  ixx, iyy = sess.run([infield, outfield])\n",
        "  _, l,  = sess.run([opt_op, loss], {xx:ixx.reshape((batch_size, nc, nc, nc, 1)),\n",
        "                                      yy:iyy.reshape((batch_size, nc, nc, nc, 1)),\n",
        "                                      lr:0.0002})\n",
        "  print('Step : ', nb, ' Loss : ', l)\n",
        "    \n",
        "  llist.append(l)\n",
        "\n",
        "print(time.time()-start)"
      ],
      "execution_count": 65,
      "outputs": [
        {
          "output_type": "stream",
          "text": [
            "Step :  0  Loss :  1.5457795\n",
            "Step :  1  Loss :  1.526641\n",
            "Step :  2  Loss :  1.5632703\n",
            "Step :  3  Loss :  1.5288588\n",
            "Step :  4  Loss :  1.5492523\n",
            "Step :  5  Loss :  1.5676928\n",
            "Step :  6  Loss :  1.5711246\n",
            "Step :  7  Loss :  1.589958\n",
            "Step :  8  Loss :  1.5642594\n",
            "Step :  9  Loss :  1.5559726\n",
            "Step :  10  Loss :  1.5477997\n",
            "Step :  11  Loss :  1.51882\n",
            "Step :  12  Loss :  1.5479525\n",
            "Step :  13  Loss :  1.5423504\n",
            "Step :  14  Loss :  1.5498736\n",
            "Step :  15  Loss :  1.5961416\n",
            "Step :  16  Loss :  1.5647224\n",
            "Step :  17  Loss :  1.5017972\n",
            "Step :  18  Loss :  1.554409\n",
            "Step :  19  Loss :  1.551606\n",
            "Step :  20  Loss :  1.5725749\n",
            "Step :  21  Loss :  1.5540048\n",
            "Step :  22  Loss :  1.5755386\n",
            "Step :  23  Loss :  1.5604669\n",
            "Step :  24  Loss :  1.565875\n",
            "Step :  25  Loss :  1.5393236\n",
            "Step :  26  Loss :  1.5537381\n",
            "Step :  27  Loss :  1.5223681\n",
            "Step :  28  Loss :  1.5688207\n",
            "Step :  29  Loss :  1.5024948\n",
            "Step :  30  Loss :  1.5234137\n",
            "Step :  31  Loss :  1.5362023\n",
            "Step :  32  Loss :  1.5232278\n",
            "Step :  33  Loss :  1.5745857\n",
            "Step :  34  Loss :  1.5453851\n",
            "Step :  35  Loss :  1.520658\n",
            "Step :  36  Loss :  1.5558192\n",
            "Step :  37  Loss :  1.534619\n",
            "Step :  38  Loss :  1.5810386\n",
            "Step :  39  Loss :  1.5850877\n",
            "Step :  40  Loss :  1.5344954\n",
            "Step :  41  Loss :  1.5648171\n",
            "Step :  42  Loss :  1.506141\n",
            "Step :  43  Loss :  1.5411284\n",
            "Step :  44  Loss :  1.5579681\n",
            "Step :  45  Loss :  1.5375023\n",
            "Step :  46  Loss :  1.5640658\n",
            "Step :  47  Loss :  1.5832818\n",
            "Step :  48  Loss :  1.5673069\n",
            "Step :  49  Loss :  1.5683191\n",
            "Step :  50  Loss :  1.520335\n",
            "Step :  51  Loss :  1.5349832\n",
            "Step :  52  Loss :  1.5131834\n",
            "Step :  53  Loss :  1.5033373\n",
            "Step :  54  Loss :  1.5224128\n",
            "Step :  55  Loss :  1.5446521\n",
            "Step :  56  Loss :  1.4890656\n",
            "Step :  57  Loss :  1.5559881\n",
            "Step :  58  Loss :  1.5417701\n",
            "Step :  59  Loss :  1.5327833\n",
            "Step :  60  Loss :  1.5766035\n",
            "Step :  61  Loss :  1.5371603\n",
            "Step :  62  Loss :  1.5294807\n",
            "Step :  63  Loss :  1.5394471\n",
            "Step :  64  Loss :  1.5718336\n",
            "Step :  65  Loss :  1.5490149\n",
            "Step :  66  Loss :  1.5605736\n",
            "Step :  67  Loss :  1.5705401\n",
            "Step :  68  Loss :  1.5327902\n",
            "Step :  69  Loss :  1.5634084\n",
            "Step :  70  Loss :  1.5312059\n",
            "Step :  71  Loss :  1.5695438\n",
            "Step :  72  Loss :  1.540922\n",
            "Step :  73  Loss :  1.5336607\n",
            "Step :  74  Loss :  1.5329118\n",
            "Step :  75  Loss :  1.5478166\n",
            "Step :  76  Loss :  1.5370858\n",
            "Step :  77  Loss :  1.5214951\n",
            "Step :  78  Loss :  1.5418799\n",
            "Step :  79  Loss :  1.523665\n",
            "Step :  80  Loss :  1.5697918\n",
            "Step :  81  Loss :  1.5562234\n",
            "Step :  82  Loss :  1.5296826\n",
            "Step :  83  Loss :  1.5665951\n",
            "Step :  84  Loss :  1.563803\n",
            "Step :  85  Loss :  1.546227\n",
            "Step :  86  Loss :  1.5377362\n",
            "Step :  87  Loss :  1.5455489\n",
            "Step :  88  Loss :  1.5393856\n",
            "Step :  89  Loss :  1.5380876\n",
            "Step :  90  Loss :  1.5133963\n",
            "Step :  91  Loss :  1.522867\n",
            "Step :  92  Loss :  1.5683669\n",
            "Step :  93  Loss :  1.5113398\n",
            "Step :  94  Loss :  1.5574856\n",
            "Step :  95  Loss :  1.5475929\n",
            "Step :  96  Loss :  1.5356938\n",
            "Step :  97  Loss :  1.5380037\n",
            "Step :  98  Loss :  1.5209191\n",
            "Step :  99  Loss :  1.5656862\n",
            "Step :  100  Loss :  1.5428302\n",
            "Step :  101  Loss :  1.5391417\n",
            "Step :  102  Loss :  1.5119262\n",
            "Step :  103  Loss :  1.5664109\n",
            "Step :  104  Loss :  1.5690985\n",
            "Step :  105  Loss :  1.5503283\n",
            "Step :  106  Loss :  1.5147334\n",
            "Step :  107  Loss :  1.533257\n",
            "Step :  108  Loss :  1.4901054\n",
            "Step :  109  Loss :  1.5701953\n",
            "Step :  110  Loss :  1.5597007\n",
            "Step :  111  Loss :  1.5391222\n",
            "Step :  112  Loss :  1.5294019\n",
            "Step :  113  Loss :  1.5310857\n",
            "Step :  114  Loss :  1.5363184\n",
            "Step :  115  Loss :  1.5376148\n",
            "Step :  116  Loss :  1.5277908\n",
            "Step :  117  Loss :  1.5385336\n",
            "Step :  118  Loss :  1.5179942\n",
            "Step :  119  Loss :  1.5311549\n",
            "Step :  120  Loss :  1.5294964\n",
            "Step :  121  Loss :  1.5724175\n",
            "Step :  122  Loss :  1.5588369\n",
            "Step :  123  Loss :  1.5145973\n",
            "Step :  124  Loss :  1.5573344\n",
            "Step :  125  Loss :  1.5577652\n",
            "Step :  126  Loss :  1.5555711\n",
            "Step :  127  Loss :  1.5563362\n",
            "Step :  128  Loss :  1.4894085\n",
            "Step :  129  Loss :  1.5227907\n",
            "Step :  130  Loss :  1.5672711\n",
            "Step :  131  Loss :  1.5448651\n",
            "Step :  132  Loss :  1.5522267\n",
            "Step :  133  Loss :  1.5003296\n",
            "Step :  134  Loss :  1.5684738\n",
            "Step :  135  Loss :  1.5364196\n",
            "Step :  136  Loss :  1.5365528\n",
            "Step :  137  Loss :  1.569174\n",
            "Step :  138  Loss :  1.5236936\n",
            "Step :  139  Loss :  1.5472088\n",
            "Step :  140  Loss :  1.5572703\n",
            "Step :  141  Loss :  1.5264692\n",
            "Step :  142  Loss :  1.5502894\n",
            "Step :  143  Loss :  1.5037333\n",
            "Step :  144  Loss :  1.5334924\n",
            "Step :  145  Loss :  1.541758\n",
            "Step :  146  Loss :  1.523756\n",
            "Step :  147  Loss :  1.5621258\n",
            "Step :  148  Loss :  1.5797956\n",
            "Step :  149  Loss :  1.5779309\n",
            "Step :  150  Loss :  1.5628304\n",
            "Step :  151  Loss :  1.5448928\n",
            "Step :  152  Loss :  1.5543575\n",
            "Step :  153  Loss :  1.5316347\n",
            "Step :  154  Loss :  1.5303583\n",
            "Step :  155  Loss :  1.5121441\n",
            "Step :  156  Loss :  1.5320413\n",
            "Step :  157  Loss :  1.5348517\n",
            "Step :  158  Loss :  1.5550784\n",
            "Step :  159  Loss :  1.5247543\n",
            "Step :  160  Loss :  1.5900002\n",
            "Step :  161  Loss :  1.5464797\n",
            "Step :  162  Loss :  1.5530562\n",
            "Step :  163  Loss :  1.5781847\n",
            "Step :  164  Loss :  1.536916\n",
            "Step :  165  Loss :  1.5332038\n",
            "Step :  166  Loss :  1.5889415\n",
            "Step :  167  Loss :  1.5254418\n",
            "Step :  168  Loss :  1.5579163\n",
            "Step :  169  Loss :  1.5129488\n",
            "Step :  170  Loss :  1.5130322\n",
            "Step :  171  Loss :  1.5829035\n",
            "Step :  172  Loss :  1.5063314\n",
            "Step :  173  Loss :  1.4973907\n",
            "Step :  174  Loss :  1.5211513\n",
            "Step :  175  Loss :  1.5409441\n",
            "Step :  176  Loss :  1.4917749\n",
            "Step :  177  Loss :  1.5127778\n",
            "Step :  178  Loss :  1.526061\n",
            "Step :  179  Loss :  1.5231689\n",
            "Step :  180  Loss :  1.5279435\n",
            "Step :  181  Loss :  1.5363061\n",
            "Step :  182  Loss :  1.4974535\n",
            "Step :  183  Loss :  1.5573277\n",
            "Step :  184  Loss :  1.5607617\n",
            "Step :  185  Loss :  1.550899\n",
            "Step :  186  Loss :  1.5757732\n",
            "Step :  187  Loss :  1.5519896\n",
            "Step :  188  Loss :  1.5280395\n",
            "Step :  189  Loss :  1.5225322\n",
            "Step :  190  Loss :  1.5651681\n",
            "Step :  191  Loss :  1.5490754\n",
            "Step :  192  Loss :  1.5090859\n",
            "Step :  193  Loss :  1.5484372\n",
            "Step :  194  Loss :  1.5288959\n",
            "Step :  195  Loss :  1.5423824\n",
            "Step :  196  Loss :  1.5501279\n",
            "Step :  197  Loss :  1.528151\n",
            "Step :  198  Loss :  1.5431147\n",
            "Step :  199  Loss :  1.4966421\n",
            "Step :  200  Loss :  1.564616\n",
            "Step :  201  Loss :  1.4997866\n",
            "Step :  202  Loss :  1.522969\n",
            "Step :  203  Loss :  1.5521778\n",
            "Step :  204  Loss :  1.5752707\n",
            "Step :  205  Loss :  1.5177394\n",
            "Step :  206  Loss :  1.5473354\n",
            "Step :  207  Loss :  1.5602677\n",
            "Step :  208  Loss :  1.5690551\n",
            "Step :  209  Loss :  1.529991\n",
            "Step :  210  Loss :  1.5358458\n",
            "Step :  211  Loss :  1.5124128\n",
            "Step :  212  Loss :  1.542474\n",
            "Step :  213  Loss :  1.5632311\n",
            "Step :  214  Loss :  1.531091\n",
            "Step :  215  Loss :  1.5319113\n",
            "Step :  216  Loss :  1.5621004\n",
            "Step :  217  Loss :  1.5259556\n",
            "Step :  218  Loss :  1.5435799\n",
            "Step :  219  Loss :  1.5385503\n",
            "Step :  220  Loss :  1.513721\n",
            "Step :  221  Loss :  1.5541135\n",
            "Step :  222  Loss :  1.5383928\n",
            "Step :  223  Loss :  1.5406145\n",
            "Step :  224  Loss :  1.5710316\n",
            "Step :  225  Loss :  1.5211445\n",
            "Step :  226  Loss :  1.5680599\n",
            "Step :  227  Loss :  1.5336772\n",
            "Step :  228  Loss :  1.5389338\n",
            "Step :  229  Loss :  1.5112349\n",
            "Step :  230  Loss :  1.5021031\n",
            "Step :  231  Loss :  1.5680788\n",
            "Step :  232  Loss :  1.5612018\n",
            "Step :  233  Loss :  1.5392159\n",
            "Step :  234  Loss :  1.5097926\n",
            "Step :  235  Loss :  1.5879492\n",
            "Step :  236  Loss :  1.5694294\n",
            "Step :  237  Loss :  1.5550278\n",
            "Step :  238  Loss :  1.4875329\n",
            "Step :  239  Loss :  1.5227067\n",
            "Step :  240  Loss :  1.5167209\n",
            "Step :  241  Loss :  1.5561543\n",
            "Step :  242  Loss :  1.5614818\n",
            "Step :  243  Loss :  1.5214761\n",
            "Step :  244  Loss :  1.5261974\n",
            "Step :  245  Loss :  1.5489748\n",
            "Step :  246  Loss :  1.494024\n",
            "Step :  247  Loss :  1.5500915\n",
            "Step :  248  Loss :  1.5187991\n",
            "Step :  249  Loss :  1.5384618\n",
            "Step :  250  Loss :  1.547569\n",
            "Step :  251  Loss :  1.5036681\n",
            "Step :  252  Loss :  1.5215418\n",
            "Step :  253  Loss :  1.5505308\n",
            "Step :  254  Loss :  1.5008156\n",
            "Step :  255  Loss :  1.5434606\n",
            "Step :  256  Loss :  1.5596371\n",
            "Step :  257  Loss :  1.5467124\n",
            "Step :  258  Loss :  1.5209459\n",
            "Step :  259  Loss :  1.5461133\n",
            "Step :  260  Loss :  1.5260065\n",
            "Step :  261  Loss :  1.497777\n",
            "Step :  262  Loss :  1.5283937\n",
            "Step :  263  Loss :  1.5177553\n",
            "Step :  264  Loss :  1.5551947\n",
            "Step :  265  Loss :  1.5242171\n",
            "Step :  266  Loss :  1.5733308\n",
            "Step :  267  Loss :  1.5205314\n",
            "Step :  268  Loss :  1.5193734\n",
            "Step :  269  Loss :  1.5376167\n",
            "Step :  270  Loss :  1.535002\n",
            "Step :  271  Loss :  1.5080624\n",
            "Step :  272  Loss :  1.546319\n",
            "Step :  273  Loss :  1.5254248\n",
            "Step :  274  Loss :  1.5437543\n",
            "Step :  275  Loss :  1.5446727\n",
            "Step :  276  Loss :  1.5097735\n",
            "Step :  277  Loss :  1.5115969\n",
            "Step :  278  Loss :  1.5450072\n",
            "Step :  279  Loss :  1.499366\n",
            "Step :  280  Loss :  1.5349866\n",
            "Step :  281  Loss :  1.5174602\n",
            "Step :  282  Loss :  1.5473957\n",
            "Step :  283  Loss :  1.516988\n",
            "Step :  284  Loss :  1.5634394\n",
            "Step :  285  Loss :  1.5746443\n",
            "Step :  286  Loss :  1.5453494\n",
            "Step :  287  Loss :  1.5336077\n",
            "Step :  288  Loss :  1.5012114\n",
            "Step :  289  Loss :  1.5172777\n",
            "Step :  290  Loss :  1.514854\n",
            "Step :  291  Loss :  1.5278077\n",
            "Step :  292  Loss :  1.5756636\n",
            "Step :  293  Loss :  1.5216104\n",
            "Step :  294  Loss :  1.5286677\n",
            "Step :  295  Loss :  1.5956597\n",
            "Step :  296  Loss :  1.5229615\n",
            "Step :  297  Loss :  1.5231886\n",
            "Step :  298  Loss :  1.5539985\n",
            "Step :  299  Loss :  1.5670769\n",
            "Step :  300  Loss :  1.4988426\n",
            "Step :  301  Loss :  1.5296329\n",
            "Step :  302  Loss :  1.5183684\n",
            "Step :  303  Loss :  1.5560255\n",
            "Step :  304  Loss :  1.5424106\n",
            "Step :  305  Loss :  1.5610473\n",
            "Step :  306  Loss :  1.542002\n",
            "Step :  307  Loss :  1.5313597\n",
            "Step :  308  Loss :  1.5411899\n",
            "Step :  309  Loss :  1.5235568\n",
            "Step :  310  Loss :  1.552778\n",
            "Step :  311  Loss :  1.5327246\n",
            "Step :  312  Loss :  1.5255882\n",
            "Step :  313  Loss :  1.5428365\n",
            "Step :  314  Loss :  1.5142945\n",
            "Step :  315  Loss :  1.5426527\n",
            "Step :  316  Loss :  1.5101922\n",
            "Step :  317  Loss :  1.5108726\n",
            "Step :  318  Loss :  1.5168731\n",
            "Step :  319  Loss :  1.5572529\n",
            "Step :  320  Loss :  1.5572445\n",
            "Step :  321  Loss :  1.5252874\n",
            "Step :  322  Loss :  1.5048095\n",
            "Step :  323  Loss :  1.5354786\n",
            "Step :  324  Loss :  1.5309346\n",
            "Step :  325  Loss :  1.5181121\n",
            "Step :  326  Loss :  1.5699342\n",
            "Step :  327  Loss :  1.5421515\n",
            "Step :  328  Loss :  1.5534289\n",
            "Step :  329  Loss :  1.5319743\n",
            "Step :  330  Loss :  1.5156347\n",
            "Step :  331  Loss :  1.5671351\n",
            "Step :  332  Loss :  1.5177691\n",
            "Step :  333  Loss :  1.4980215\n",
            "Step :  334  Loss :  1.5395538\n",
            "Step :  335  Loss :  1.5098053\n",
            "Step :  336  Loss :  1.5576154\n",
            "Step :  337  Loss :  1.532356\n",
            "Step :  338  Loss :  1.5087979\n",
            "Step :  339  Loss :  1.5292219\n",
            "Step :  340  Loss :  1.5428126\n",
            "Step :  341  Loss :  1.5053694\n",
            "Step :  342  Loss :  1.5168386\n",
            "Step :  343  Loss :  1.5231097\n",
            "Step :  344  Loss :  1.4902426\n",
            "Step :  345  Loss :  1.4868982\n",
            "Step :  346  Loss :  1.5568765\n",
            "Step :  347  Loss :  1.498541\n",
            "Step :  348  Loss :  1.5250115\n",
            "Step :  349  Loss :  1.5486076\n",
            "Step :  350  Loss :  1.5241661\n",
            "Step :  351  Loss :  1.5014884\n",
            "Step :  352  Loss :  1.5534021\n",
            "Step :  353  Loss :  1.5549004\n",
            "Step :  354  Loss :  1.5312976\n",
            "Step :  355  Loss :  1.5192634\n",
            "Step :  356  Loss :  1.493998\n",
            "Step :  357  Loss :  1.5161543\n",
            "Step :  358  Loss :  1.5400877\n",
            "Step :  359  Loss :  1.5231631\n",
            "Step :  360  Loss :  1.5062284\n",
            "Step :  361  Loss :  1.5586605\n",
            "Step :  362  Loss :  1.5059121\n",
            "Step :  363  Loss :  1.4877033\n",
            "Step :  364  Loss :  1.5445547\n",
            "Step :  365  Loss :  1.5218756\n",
            "Step :  366  Loss :  1.4905946\n",
            "Step :  367  Loss :  1.514153\n",
            "Step :  368  Loss :  1.5291998\n",
            "Step :  369  Loss :  1.5691853\n",
            "Step :  370  Loss :  1.4893501\n",
            "Step :  371  Loss :  1.5155547\n",
            "Step :  372  Loss :  1.5347505\n",
            "Step :  373  Loss :  1.5298114\n",
            "Step :  374  Loss :  1.5319521\n",
            "Step :  375  Loss :  1.5050915\n",
            "Step :  376  Loss :  1.5172529\n",
            "Step :  377  Loss :  1.5042553\n",
            "Step :  378  Loss :  1.5134981\n",
            "Step :  379  Loss :  1.54475\n",
            "Step :  380  Loss :  1.5129085\n",
            "Step :  381  Loss :  1.5022883\n",
            "Step :  382  Loss :  1.5025924\n",
            "Step :  383  Loss :  1.507238\n",
            "Step :  384  Loss :  1.5636977\n",
            "Step :  385  Loss :  1.5110223\n",
            "Step :  386  Loss :  1.5173564\n",
            "Step :  387  Loss :  1.5151407\n",
            "Step :  388  Loss :  1.5082438\n",
            "Step :  389  Loss :  1.5365223\n",
            "Step :  390  Loss :  1.548165\n",
            "Step :  391  Loss :  1.5151958\n",
            "Step :  392  Loss :  1.520921\n",
            "Step :  393  Loss :  1.5474964\n",
            "Step :  394  Loss :  1.4821689\n",
            "Step :  395  Loss :  1.4935441\n",
            "Step :  396  Loss :  1.4833978\n",
            "Step :  397  Loss :  1.5465609\n",
            "Step :  398  Loss :  1.5038515\n",
            "Step :  399  Loss :  1.4975283\n",
            "Step :  400  Loss :  1.5518656\n",
            "Step :  401  Loss :  1.5239463\n",
            "Step :  402  Loss :  1.5099779\n",
            "Step :  403  Loss :  1.48927\n",
            "Step :  404  Loss :  1.5171642\n",
            "Step :  405  Loss :  1.5144536\n",
            "Step :  406  Loss :  1.5307429\n",
            "Step :  407  Loss :  1.5142906\n",
            "Step :  408  Loss :  1.5190701\n",
            "Step :  409  Loss :  1.5261455\n",
            "Step :  410  Loss :  1.5059305\n",
            "Step :  411  Loss :  1.5223145\n",
            "Step :  412  Loss :  1.5389118\n",
            "Step :  413  Loss :  1.4773084\n",
            "Step :  414  Loss :  1.5243964\n",
            "Step :  415  Loss :  1.4971507\n",
            "Step :  416  Loss :  1.4522212\n",
            "Step :  417  Loss :  1.5661334\n",
            "Step :  418  Loss :  1.5086744\n",
            "Step :  419  Loss :  1.5228131\n",
            "Step :  420  Loss :  1.5459585\n",
            "Step :  421  Loss :  1.5188658\n",
            "Step :  422  Loss :  1.5245178\n",
            "Step :  423  Loss :  1.517705\n",
            "Step :  424  Loss :  1.5308325\n",
            "Step :  425  Loss :  1.5057415\n",
            "Step :  426  Loss :  1.5251185\n",
            "Step :  427  Loss :  1.5177522\n",
            "Step :  428  Loss :  1.5337911\n",
            "Step :  429  Loss :  1.5451772\n",
            "Step :  430  Loss :  1.496326\n",
            "Step :  431  Loss :  1.547187\n",
            "Step :  432  Loss :  1.5584311\n",
            "Step :  433  Loss :  1.5340482\n",
            "Step :  434  Loss :  1.5645074\n",
            "Step :  435  Loss :  1.5250697\n",
            "Step :  436  Loss :  1.5150484\n",
            "Step :  437  Loss :  1.5192643\n",
            "Step :  438  Loss :  1.5330359\n",
            "Step :  439  Loss :  1.500468\n",
            "Step :  440  Loss :  1.5263171\n",
            "Step :  441  Loss :  1.4912521\n",
            "Step :  442  Loss :  1.5668255\n",
            "Step :  443  Loss :  1.534869\n",
            "Step :  444  Loss :  1.488921\n",
            "Step :  445  Loss :  1.5377967\n",
            "Step :  446  Loss :  1.5297593\n",
            "Step :  447  Loss :  1.5153296\n",
            "Step :  448  Loss :  1.5289125\n",
            "Step :  449  Loss :  1.5195673\n",
            "Step :  450  Loss :  1.5865872\n",
            "Step :  451  Loss :  1.5328012\n",
            "Step :  452  Loss :  1.5225922\n",
            "Step :  453  Loss :  1.5090624\n",
            "Step :  454  Loss :  1.4911807\n",
            "Step :  455  Loss :  1.5206778\n",
            "Step :  456  Loss :  1.5050236\n",
            "Step :  457  Loss :  1.5310879\n",
            "Step :  458  Loss :  1.502968\n",
            "Step :  459  Loss :  1.5387287\n",
            "Step :  460  Loss :  1.514923\n",
            "Step :  461  Loss :  1.5221734\n",
            "Step :  462  Loss :  1.5135713\n",
            "Step :  463  Loss :  1.5078479\n",
            "Step :  464  Loss :  1.4886922\n",
            "Step :  465  Loss :  1.5040014\n",
            "Step :  466  Loss :  1.5629729\n",
            "Step :  467  Loss :  1.5320497\n",
            "Step :  468  Loss :  1.5565481\n",
            "Step :  469  Loss :  1.5834751\n",
            "Step :  470  Loss :  1.5331266\n",
            "Step :  471  Loss :  1.5240097\n",
            "Step :  472  Loss :  1.539988\n",
            "Step :  473  Loss :  1.5330392\n",
            "Step :  474  Loss :  1.512391\n",
            "Step :  475  Loss :  1.5064718\n",
            "Step :  476  Loss :  1.5367868\n",
            "Step :  477  Loss :  1.5018468\n",
            "Step :  478  Loss :  1.5085105\n",
            "Step :  479  Loss :  1.5240782\n",
            "Step :  480  Loss :  1.527118\n",
            "Step :  481  Loss :  1.5361731\n",
            "Step :  482  Loss :  1.5059321\n",
            "Step :  483  Loss :  1.5168794\n",
            "Step :  484  Loss :  1.5177692\n",
            "Step :  485  Loss :  1.5409784\n",
            "Step :  486  Loss :  1.5262402\n",
            "Step :  487  Loss :  1.51339\n",
            "Step :  488  Loss :  1.5199699\n",
            "Step :  489  Loss :  1.5066597\n",
            "Step :  490  Loss :  1.5769298\n",
            "Step :  491  Loss :  1.5287032\n",
            "Step :  492  Loss :  1.5336196\n",
            "Step :  493  Loss :  1.5095526\n",
            "Step :  494  Loss :  1.5265455\n",
            "Step :  495  Loss :  1.5068581\n",
            "Step :  496  Loss :  1.5852747\n",
            "Step :  497  Loss :  1.5172796\n",
            "Step :  498  Loss :  1.5489264\n",
            "Step :  499  Loss :  1.4548936\n",
            "2838.098819732666\n"
          ],
          "name": "stdout"
        }
      ]
    },
    {
      "cell_type": "code",
      "metadata": {
        "id": "dVJF3Rr-qBiX",
        "colab_type": "code",
        "outputId": "23b440e1-6929-4c95-c6d0-26a18f0d0fb7",
        "colab": {
          "base_uri": "https://localhost:8080/",
          "height": 287
        }
      },
      "source": [
        "plt.plot(llist[2:])"
      ],
      "execution_count": 66,
      "outputs": [
        {
          "output_type": "execute_result",
          "data": {
            "text/plain": [
              "[<matplotlib.lines.Line2D at 0x7fe457a4ecf8>]"
            ]
          },
          "metadata": {
            "tags": []
          },
          "execution_count": 66
        },
        {
          "output_type": "display_data",
          "data": {
            "image/png": "[encoded data removed]",
            "text/plain": [
              "<Figure size 432x288 with 1 Axes>"
            ]
          },
          "metadata": {
            "tags": []
          }
        }
      ]
    },
    {
      "cell_type": "code",
      "metadata": {
        "id": "EWl2dqAoiDAe",
        "colab_type": "code",
        "colab": {}
      },
      "source": [
        "ixx, iyy = sess.run([infield, outfield])\n",
        "steps, rec = sess.run([preds, fin], {xx:ixx.reshape((batch_size, nc, nc, nc, 1)),\n",
        "                        yy:iyy.reshape((batch_size, nc, nc, nc, 1)),\n",
        "                                      lr:0.001})"
      ],
      "execution_count": 0,
      "outputs": []
    },
    {
      "cell_type": "code",
      "metadata": {
        "id": "huvw0XJniMz1",
        "colab_type": "code",
        "colab": {
          "base_uri": "https://localhost:8080/",
          "height": 224
        },
        "outputId": "a4c12df0-6a7d-46e9-ed5f-bc11a7c01ad8"
      },
      "source": [
        "ii = 4\n",
        "ref = np.squeeze(ixx[ii]).sum(axis=0)\n",
        "\n",
        "figure(figsize=(20,4))\n",
        "for i in range(10):\n",
        "  subplot(1,11,i+1)\n",
        "  imshow(np.squeeze(steps[i][ii]).sum(axis=0), vmin=ref.min(), vmax=ref.max())\n",
        "  axis('off')\n",
        "  title('step %d'%i)\n",
        "\n",
        "  subplot(1,11,11)\n",
        "  imshow(ref, vmin=ref.min(), vmax=ref.max())\n",
        "  title('truth')\n",
        "  axis('off')"
      ],
      "execution_count": 68,
      "outputs": [
        {
          "output_type": "stream",
          "text": [
            "/usr/local/lib/python3.6/dist-packages/matplotlib/figure.py:98: MatplotlibDeprecationWarning: \n",
            "Adding an axes using the same arguments as a previous axes currently reuses the earlier instance.  In a future version, a new instance will always be created and returned.  Meanwhile, this warning can be suppressed, and the future behavior ensured, by passing a unique label to each axes instance.\n",
            "  \"Adding an axes using the same arguments as a previous axes \"\n"
          ],
          "name": "stderr"
        },
        {
          "output_type": "display_data",
          "data": {
            "image/png": "[encoded data removed]",
            "text/plain": [
              "<Figure size 1440x288 with 11 Axes>"
            ]
          },
          "metadata": {
            "tags": []
          }
        }
      ]
    },
    {
      "cell_type": "code",
      "metadata": {
        "id": "ITbPaoUiieAk",
        "colab_type": "code",
        "colab": {
          "base_uri": "https://localhost:8080/",
          "height": 535
        },
        "outputId": "bea80a27-cf02-456e-844d-908288b471b1"
      },
      "source": [
        "figure(figsize=(10,4))\n",
        "subplot(121)\n",
        "imshow(np.squeeze(steps[-1][ii]).sum(axis=0))\n",
        "title('initial condition')\n",
        "\n",
        "colorbar()\n",
        "subplot(122)\n",
        "imshow(np.squeeze(rec[ii]).sum(axis=0))\n",
        "colorbar()\n",
        "\n",
        "title('final field')\n",
        "\n",
        "figure(figsize=(10,4))\n",
        "subplot(121)\n",
        "imshow(np.squeeze(ixx[ii]).sum(axis=0))\n",
        "colorbar()\n",
        "title('initial condition')\n",
        "\n",
        "subplot(122)\n",
        "imshow(np.squeeze(iyy[ii]).sum(axis=0))\n",
        "colorbar()\n",
        "title('final field')"
      ],
      "execution_count": 69,
      "outputs": [
        {
          "output_type": "execute_result",
          "data": {
            "text/plain": [
              "Text(0.5, 1.0, 'final field')"
            ]
          },
          "metadata": {
            "tags": []
          },
          "execution_count": 69
        },
        {
          "output_type": "display_data",
          "data": {
            "image/png": "[encoded data removed]",
            "text/plain": [
              "<Figure size 720x288 with 4 Axes>"
            ]
          },
          "metadata": {
            "tags": []
          }
        },
        {
          "output_type": "display_data",
          "data": {
            "image/png": "[encoded data removed]",
            "text/plain": [
              "<Figure size 720x288 with 4 Axes>"
            ]
          },
          "metadata": {
            "tags": []
          }
        }
      ]
    },
    {
      "cell_type": "code",
      "metadata": {
        "id": "dadEuoPFnXc5",
        "colab_type": "code",
        "colab": {}
      },
      "source": [
        ""
      ],
      "execution_count": 0,
      "outputs": []
    }
  ]
}